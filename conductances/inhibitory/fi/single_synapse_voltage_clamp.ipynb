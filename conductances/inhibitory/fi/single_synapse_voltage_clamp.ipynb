{
 "cells": [
  {
   "cell_type": "code",
   "execution_count": 1,
   "id": "0bc4ac19-50ab-4356-9816-8a77c0ec8e1e",
   "metadata": {},
   "outputs": [],
   "source": [
    "import sys\n",
    "import os\n",
    "import pandas as pd\n",
    "import numpy as np\n",
    "import json\n",
    "import matplotlib.pyplot as plt\n",
    "sys.path.append(os.environ[\"CODE_REPOSITORY\"])"
   ]
  },
  {
   "cell_type": "code",
   "execution_count": 2,
   "id": "34ba7932-456c-4912-a95c-10dd49584576",
   "metadata": {
    "scrolled": true,
    "tags": []
   },
   "outputs": [
    {
     "name": "stdout",
     "output_type": "stream",
     "text": [
      "ln: failed to create symbolic link './mechanisms': File exists\n",
      "/home/jofrony/Documents/Repositories/current_bgd/conductance/inhibitory/fi\n",
      "ls: cannot access 'mechanisms//*.inc': No such file or directory\n",
      "mechanisms//bk_ch.mod mechanisms//bk_fs.mod mechanisms//bk_ms.mod mechanisms//ca_ch.mod mechanisms//cadyn_fs.mod mechanisms//cadyn_ms.mod mechanisms//cal12_ms.mod mechanisms//cal13_ms.mod mechanisms//cal_ch.mod mechanisms//caldyn_ms.mod mechanisms//can_fs.mod mechanisms//can_ms.mod mechanisms//cap_ch.mod mechanisms//caq_fs.mod mechanisms//caq_ms.mod mechanisms//car_fs.mod mechanisms//car_ms.mod mechanisms//cat32_ms.mod mechanisms//cat33_ms.mod mechanisms//concACh.mod mechanisms//concDA.mod mechanisms//hcn12_ch.mod mechanisms//hd_lts.mod mechanisms//im_lts.mod mechanisms//Im_ms.mod mechanisms//it_lts.mod mechanisms//kaf_fs.mod mechanisms//kaf_lts.mod mechanisms//kaf_ms.mod mechanisms//kas_fs.mod mechanisms//kas_ms.mod mechanisms//kcnq_ch.mod mechanisms//kdb_lts.mod mechanisms//kdrb_lts.mod mechanisms//kdr_fs.mod mechanisms//kdr_lts.mod mechanisms//kdr_ms.mod mechanisms//kir23_ch.mod mechanisms//kir23_lts.mod mechanisms//kir2_ch.mod mechanisms//kir_fs.mod mechanisms//kir_ms.mod mechanisms//kv2_ch.mod mechanisms//kv4_ch.mod mechanisms//na2_ch.mod mechanisms//na3_lts.mod mechanisms//na_ch.mod mechanisms//naf_fs.mod mechanisms//naf_lts.mod mechanisms//naf_ms.mod mechanisms//NO.mod mechanisms//par_ggap.mod mechanisms//sk_ch.mod mechanisms//sk_fs.mod mechanisms//sk_ms.mod mechanisms//tmgabaa.mod mechanisms//tmglut_double.mod mechanisms//tmglut_M1RH_D1.mod mechanisms//tmglut.mod mechanisms//vecevent.mod\n",
      "bk_ch.mod bk_fs.mod bk_ms.mod ca_ch.mod cadyn_fs.mod cadyn_ms.mod cal12_ms.mod cal13_ms.mod cal_ch.mod caldyn_ms.mod can_fs.mod can_ms.mod cap_ch.mod caq_fs.mod caq_ms.mod car_fs.mod car_ms.mod cat32_ms.mod cat33_ms.mod concACh.mod concDA.mod hcn12_ch.mod hd_lts.mod im_lts.mod Im_ms.mod it_lts.mod kaf_fs.mod kaf_lts.mod kaf_ms.mod kas_fs.mod kas_ms.mod kcnq_ch.mod kdb_lts.mod kdrb_lts.mod kdr_fs.mod kdr_lts.mod kdr_ms.mod kir23_ch.mod kir23_lts.mod kir2_ch.mod kir_fs.mod kir_ms.mod kv2_ch.mod kv4_ch.mod na2_ch.mod na3_lts.mod na_ch.mod naf_fs.mod naf_lts.mod naf_ms.mod NO.mod par_ggap.mod sk_ch.mod sk_fs.mod sk_ms.mod tmgabaa.mod tmglut_double.mod tmglut_M1RH_D1.mod tmglut.mod vecevent.mod\n",
      "\"/usr/local/nrn/share/nrn/libtool\" --tag=CC --mode=compile mpicc -DHAVE_CONFIG_H  -I. -I.. -I\"/usr/local/nrn/include/nrn\" -I\"/usr/local/nrn/x86_64/lib\"      -g -O2 -c -o mod_func.lo mod_func.c\n",
      "libtool: compile:  mpicc -DHAVE_CONFIG_H -I. -I.. -I/usr/local/nrn/include/nrn -I/usr/local/nrn/x86_64/lib -g -O2 -c mod_func.c  -fPIC -DPIC -o .libs/mod_func.o\n",
      "\"/usr/local/nrn/share/nrn/libtool\" --tag=CC --mode=link mpicc -module  -g -O2    -o libnrnmech.la -rpath \"/usr/local/nrn/x86_64/lib\"  bk_ch.lo bk_fs.lo bk_ms.lo ca_ch.lo cadyn_fs.lo cadyn_ms.lo cal12_ms.lo cal13_ms.lo cal_ch.lo caldyn_ms.lo can_fs.lo can_ms.lo cap_ch.lo caq_fs.lo caq_ms.lo car_fs.lo car_ms.lo cat32_ms.lo cat33_ms.lo concACh.lo concDA.lo hcn12_ch.lo hd_lts.lo im_lts.lo Im_ms.lo it_lts.lo kaf_fs.lo kaf_lts.lo kaf_ms.lo kas_fs.lo kas_ms.lo kcnq_ch.lo kdb_lts.lo kdrb_lts.lo kdr_fs.lo kdr_lts.lo kdr_ms.lo kir23_ch.lo kir23_lts.lo kir2_ch.lo kir_fs.lo kir_ms.lo kv2_ch.lo kv4_ch.lo na2_ch.lo na3_lts.lo na_ch.lo naf_fs.lo naf_lts.lo naf_ms.lo NO.lo par_ggap.lo sk_ch.lo sk_fs.lo sk_ms.lo tmgabaa.lo tmglut_double.lo tmglut_M1RH_D1.lo tmglut.lo vecevent.lo mod_func.lo  -L\"/usr/local/nrn/x86_64/lib\" -lnrnoc -loc -lmemacs -lnrnmpi -lscopmath -lsparse13 -lreadline -lncurses -ltinfo -L\"/usr/local/nrn/x86_64/lib\" -lnrniv -livoc -lneuron_gnu -lmeschach -lsundials       -lm -ldl\n",
      "libtool: link: rm -fr  .libs/libnrnmech.la .libs/libnrnmech.lai .libs/libnrnmech.so .libs/libnrnmech.so.0 .libs/libnrnmech.so.0.0.0\n",
      "libtool: link: mpicc -shared  -fPIC -DPIC  .libs/bk_ch.o .libs/bk_fs.o .libs/bk_ms.o .libs/ca_ch.o .libs/cadyn_fs.o .libs/cadyn_ms.o .libs/cal12_ms.o .libs/cal13_ms.o .libs/cal_ch.o .libs/caldyn_ms.o .libs/can_fs.o .libs/can_ms.o .libs/cap_ch.o .libs/caq_fs.o .libs/caq_ms.o .libs/car_fs.o .libs/car_ms.o .libs/cat32_ms.o .libs/cat33_ms.o .libs/concACh.o .libs/concDA.o .libs/hcn12_ch.o .libs/hd_lts.o .libs/im_lts.o .libs/Im_ms.o .libs/it_lts.o .libs/kaf_fs.o .libs/kaf_lts.o .libs/kaf_ms.o .libs/kas_fs.o .libs/kas_ms.o .libs/kcnq_ch.o .libs/kdb_lts.o .libs/kdrb_lts.o .libs/kdr_fs.o .libs/kdr_lts.o .libs/kdr_ms.o .libs/kir23_ch.o .libs/kir23_lts.o .libs/kir2_ch.o .libs/kir_fs.o .libs/kir_ms.o .libs/kv2_ch.o .libs/kv4_ch.o .libs/na2_ch.o .libs/na3_lts.o .libs/na_ch.o .libs/naf_fs.o .libs/naf_lts.o .libs/naf_ms.o .libs/NO.o .libs/par_ggap.o .libs/sk_ch.o .libs/sk_fs.o .libs/sk_ms.o .libs/tmgabaa.o .libs/tmglut_double.o .libs/tmglut_M1RH_D1.o .libs/tmglut.o .libs/vecevent.o .libs/mod_func.o   -Wl,-rpath -Wl,/usr/local/nrn/x86_64/lib -Wl,-rpath -Wl,/usr/local/nrn/x86_64/lib -L/usr/local/nrn/x86_64/lib /usr/local/nrn/x86_64/lib/libnrnoc.so /usr/local/nrn/x86_64/lib/liboc.so -lX11 /usr/local/nrn/x86_64/lib/libmemacs.so /usr/local/nrn/x86_64/lib/libnrnmpi.so /usr/local/nrn/x86_64/lib/libscopmath.so /usr/local/nrn/x86_64/lib/libsparse13.so /usr/local/nrn/x86_64/lib/libreadline.so -lncurses -ltinfo /usr/local/nrn/x86_64/lib/libnrniv.so /usr/local/nrn/x86_64/lib/libivoc.so /usr/local/nrn/x86_64/lib/libneuron_gnu.so /usr/local/nrn/x86_64/lib/libmeschach.so /usr/local/nrn/x86_64/lib/libsundials.so -lm -ldl  -g -O2   -Wl,-soname -Wl,libnrnmech.so.0 -o .libs/libnrnmech.so.0.0.0\n",
      "libtool: link: (cd \".libs\" && rm -f \"libnrnmech.so.0\" && ln -s \"libnrnmech.so.0.0.0\" \"libnrnmech.so.0\")\n",
      "libtool: link: (cd \".libs\" && rm -f \"libnrnmech.so\" && ln -s \"libnrnmech.so.0.0.0\" \"libnrnmech.so\")\n",
      "libtool: link: ( cd \".libs\" && rm -f \"libnrnmech.la\" && ln -s \"../libnrnmech.la\" \"libnrnmech.la\" )\n",
      "Successfully created x86_64/special\n"
     ]
    }
   ],
   "source": [
    "!ln -s $BASALGANGLIADATA/neurons/mechanisms/       \n",
    "!nrnivmodl mechanisms/ "
   ]
  },
  {
   "cell_type": "code",
   "execution_count": 3,
   "id": "d6bf9f68-791d-43ec-b239-d4c310b89087",
   "metadata": {},
   "outputs": [],
   "source": [
    "name = \"PlanertFitting-FI-tmgaba-fit.json\"\n",
    "synapses = os.path.join(os.environ[\"BASALGANGLIADATA\"], \"synapses\", \"striatum\", name)\n",
    "with open(synapses, \"r\") as f:\n",
    "    synapse_data = json.load(f)"
   ]
  },
  {
   "cell_type": "code",
   "execution_count": 4,
   "id": "9ca45236-6418-4a82-8857-97da0bd83a40",
   "metadata": {},
   "outputs": [],
   "source": [
    "parameters = { 'U': synapse_data['34']['synapse']['U'],\\\n",
    "                'tauR': synapse_data['34']['synapse']['tauR'] * 1e3,\\\n",
    "              'tauF': synapse_data['34']['synapse']['tauF'] * 1e3,\\\n",
    "              'tau': synapse_data['34']['synapse']['tau'] * 1e3,\\\n",
    "              'e' : 0 }\n",
    "conductance = np.mean([1.1e-9, 1.5e-9]) #nS\n",
    "start_time = 500 # mS\n",
    "holding_voltage = -70 #mV\n",
    "simulation_time = 3000 # mS"
   ]
  },
  {
   "cell_type": "code",
   "execution_count": 5,
   "id": "3496c381-1136-4b36-89cb-89b3ca837030",
   "metadata": {},
   "outputs": [],
   "source": [
    "from code_repository.inhibitory_input.single_synapse_vclamp import test_single_synapse"
   ]
  },
  {
   "cell_type": "code",
   "execution_count": 6,
   "id": "c7689d90-78fe-4dad-aea9-35f72e36c9ed",
   "metadata": {},
   "outputs": [
    {
     "name": "stdout",
     "output_type": "stream",
     "text": [
      "Warning: No synaptic input file given!\n",
      "Loading 4 neurons with 26 synapses and 0 gap junctions\n",
      "Loading 4 neurons with 26 synapses and 0 gap junctions\n"
     ]
    },
    {
     "name": "stderr",
     "output_type": "stream",
     "text": [
      "/home/jofrony/miniconda3/envs/py37/lib/python3.7/site-packages/bluepyopt/ephys/simulators.py:89: UserWarning: Unable to find Neuron hoc shared library in /usr/local/nrn/lib/python/neuron, not disabling banner\n",
      "  'not disabling banner' % nrnpy_path)\n"
     ]
    },
    {
     "name": "stdout",
     "output_type": "stream",
     "text": [
      "Running simulation for 3.0 s\n",
      "Running Neuron simulator 3000 ms, with dt=0.025\n",
      "1% done. Elapsed: 1.5 s, estimated time left: 152.1 s\n",
      "49% done. Elapsed: 101.9 s, estimated time left: 106.1 s\n",
      "97% done. Elapsed: 202.2 s, estimated time left: 6.3 s\n",
      "Neuron simulation finished\n",
      "Simulation run time: 209.0 s\n",
      "Writing network output to networks/ispn_network/simulation/network-voltage-vclamp.hdf5\n"
     ]
    }
   ],
   "source": [
    "test_single_synapse(network_path=os.path.join(\"networks\",\"ispn_network\"), start_time=start_time , conductance=conductance, parameters=parameters,holding_voltage=holding_voltage, simulation_time=simulation_time)"
   ]
  },
  {
   "cell_type": "code",
   "execution_count": null,
   "id": "6f3b47b1-8b8e-4fe9-9835-22c0e40adf55",
   "metadata": {},
   "outputs": [],
   "source": []
  }
 ],
 "metadata": {
  "kernelspec": {
   "display_name": "Python 3",
   "language": "python",
   "name": "python3"
  },
  "language_info": {
   "codemirror_mode": {
    "name": "ipython",
    "version": 3
   },
   "file_extension": ".py",
   "mimetype": "text/x-python",
   "name": "python",
   "nbconvert_exporter": "python",
   "pygments_lexer": "ipython3",
   "version": "3.7.10"
  }
 },
 "nbformat": 4,
 "nbformat_minor": 5
}
