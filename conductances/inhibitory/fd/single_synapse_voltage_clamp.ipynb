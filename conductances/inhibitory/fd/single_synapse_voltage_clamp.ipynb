{
 "cells": [
  {
   "cell_type": "code",
   "execution_count": null,
   "id": "0bc4ac19-50ab-4356-9816-8a77c0ec8e1e",
   "metadata": {},
   "outputs": [],
   "source": [
    "import sys\n",
    "import os\n",
    "import pandas as pd\n",
    "import numpy as np\n",
    "import json\n",
    "import matplotlib.pyplot as plt\n",
    "sys.path.append(os.environ[\"CODE_REPOSITORY\"])"
   ]
  },
  {
   "cell_type": "code",
   "execution_count": null,
   "id": "34ba7932-456c-4912-a95c-10dd49584576",
   "metadata": {
    "scrolled": true,
    "tags": []
   },
   "outputs": [],
   "source": [
    "!ln -s $BASALGANGLIADATA/neurons/mechanisms/       \n",
    "!nrnivmodl mechanisms/ "
   ]
  },
  {
   "cell_type": "code",
   "execution_count": null,
   "id": "d6bf9f68-791d-43ec-b239-d4c310b89087",
   "metadata": {},
   "outputs": [],
   "source": [
    "name = \"PlanertFitting-FD-tmgaba-fit.json\"\n",
    "synapses = os.path.join(os.environ[\"BASALGANGLIADATA\"], \"synapses\", \"striatum\", name)\n",
    "with open(synapses, \"r\") as f:\n",
    "    synapse_data = json.load(f)"
   ]
  },
  {
   "cell_type": "code",
   "execution_count": null,
   "id": "9ca45236-6418-4a82-8857-97da0bd83a40",
   "metadata": {},
   "outputs": [],
   "source": [
    "parameters = { 'U': synapse_data['10']['synapse']['U'],\\\n",
    "                'tauR': synapse_data['10']['synapse']['tauR'] * 1e3,\\\n",
    "              'tauF': synapse_data['10']['synapse']['tauF'] * 1e3,\\\n",
    "              'tau': synapse_data['10']['synapse']['tau'] * 1e3,\\\n",
    "              'e' : 0 }\n",
    "conductance = np.mean([1.1e-9, 1.5e-9]) #nS\n",
    "start_time = 500 # mS\n",
    "holding_voltage = -70 #mV\n",
    "simulation_time = 3000 # mS"
   ]
  },
  {
   "cell_type": "code",
   "execution_count": null,
   "id": "3496c381-1136-4b36-89cb-89b3ca837030",
   "metadata": {},
   "outputs": [],
   "source": [
    "from code_repository.inhibitory_input.single_synapse_vclamp import test_single_synapse"
   ]
  },
  {
   "cell_type": "code",
   "execution_count": null,
   "id": "c7689d90-78fe-4dad-aea9-35f72e36c9ed",
   "metadata": {},
   "outputs": [],
   "source": [
    "test_single_synapse(network_path=os.path.join(\"networks\",\"dspn_network\"), start_time=start_time , conductance=conductance, parameters=parameters,holding_voltage=holding_voltage, simulation_time=simulation_time)"
   ]
  },
  {
   "cell_type": "code",
   "execution_count": null,
   "id": "6f3b47b1-8b8e-4fe9-9835-22c0e40adf55",
   "metadata": {},
   "outputs": [],
   "source": []
  }
 ],
 "metadata": {
  "kernelspec": {
   "display_name": "Python 3",
   "language": "python",
   "name": "python3"
  },
  "language_info": {
   "codemirror_mode": {
    "name": "ipython",
    "version": 3
   },
   "file_extension": ".py",
   "mimetype": "text/x-python",
   "name": "python",
   "nbconvert_exporter": "python",
   "pygments_lexer": "ipython3",
   "version": "3.7.10"
  }
 },
 "nbformat": 4,
 "nbformat_minor": 5
}
