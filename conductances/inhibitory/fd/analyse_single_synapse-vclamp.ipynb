{
 "cells": [
  {
   "cell_type": "code",
   "execution_count": null,
   "id": "bd9ecc5c-ce93-429b-8f65-fec2c91a9462",
   "metadata": {},
   "outputs": [],
   "source": [
    "import os\n",
    "import sys\n",
    "import glob\n",
    "import matplotlib.pyplot as plt\n",
    "import numpy as np\n",
    "import json\n",
    "sys.path.append(os.environ[\"CODE_REPOSITORY\"])\n",
    "from snudda.utils.load_network_simulation import SnuddaLoadNetworkSimulation\n",
    "from code_repository.extract_amplitude.extract_event_amplitude import extract_event_amplitude"
   ]
  },
  {
   "cell_type": "code",
   "execution_count": null,
   "id": "bac3b6e2-3dc2-492e-aa63-5d7445bdd15b",
   "metadata": {},
   "outputs": [],
   "source": [
    "mean_num_synapses = 5 # Mean number of synapses between FS-dSPN"
   ]
  },
  {
   "cell_type": "code",
   "execution_count": null,
   "id": "af74151b-f611-49c6-a7aa-a83ef7c8df90",
   "metadata": {},
   "outputs": [],
   "source": [
    "network_path = os.path.join(\"networks\", \"dspn_network\")\n",
    "network_file = os.path.join(network_path, \"network-synapses.hdf5\")"
   ]
  },
  {
   "cell_type": "code",
   "execution_count": null,
   "id": "e0467851-bc05-4e19-b133-4650baa14847",
   "metadata": {},
   "outputs": [],
   "source": [
    "simulations = dict()"
   ]
  },
  {
   "cell_type": "code",
   "execution_count": null,
   "id": "0a296ea1-cf04-4741-95d0-3e8970ca983d",
   "metadata": {},
   "outputs": [],
   "source": [
    "\n",
    "for g in glob.glob(os.path.join(network_path, \"simulation\", \"vclamp.json\")):\n",
    "\n",
    "    name = os.path.basename(g).split(\".\")[0]\n",
    "    with open(g, \"r\") as f:\n",
    "        d = json.load(f)\n",
    "    simulations.update({name : d})\n",
    "   "
   ]
  },
  {
   "cell_type": "code",
   "execution_count": null,
   "id": "f254c4b5-53fb-44dd-80f0-4db82c4539b7",
   "metadata": {},
   "outputs": [],
   "source": [
    "%%time\n",
    "for r, k in enumerate(simulations.keys()):\n",
    "    for cell_no in range(4):\n",
    "\n",
    "\n",
    "        d = simulations[k][str(cell_no)]\n",
    "    \n",
    "        m = np.mean(np.array(d[10000:15000])*1e3)\n",
    "        corr = np.array(d)*1e3 - m\n",
    "        plt.figure()\n",
    "        plt.title(\"at soma\")\n",
    "        plt.plot(corr[15000:])\n",
    "        plt.plot(np.ones_like(d) * m)\n",
    "\n",
    "        plt.ylabel(\"CURRENT (pA)\")\n",
    "        plt.ylim(-100,10)\n",
    "plt.show()"
   ]
  },
  {
   "cell_type": "code",
   "execution_count": null,
   "id": "a3895105-0af5-4cf8-b8db-e54c70bcd3af",
   "metadata": {},
   "outputs": [],
   "source": []
  },
  {
   "cell_type": "code",
   "execution_count": null,
   "id": "6d11b662-9bb3-4414-8fa9-3a423c75dd90",
   "metadata": {
    "scrolled": true,
    "tags": []
   },
   "outputs": [],
   "source": [
    "%%time\n",
    "amplitudes = dict()\n",
    "for r, k in enumerate(simulations.keys()):\n",
    "    for cell_no in range(4):\n",
    "\n",
    "\n",
    "        d = simulations[k][str(cell_no)]\n",
    "    \n",
    "        m = np.mean(np.array(d[10000:15000])*1e3)\n",
    "        corr = np.array(d)*1e3 - m\n",
    "        a = extract_event_amplitude(corr[15000:], threshold=-0.5, interval=40)\n",
    "        amplitudes.update({cell_no : a })"
   ]
  },
  {
   "cell_type": "code",
   "execution_count": null,
   "id": "a14f587b-9610-4d91-b01e-dc2c0e2b8fec",
   "metadata": {},
   "outputs": [],
   "source": [
    "mean = np.mean([np.abs(np.max(a[:50])) for n, a in amplitudes.items()]) "
   ]
  },
  {
   "cell_type": "code",
   "execution_count": null,
   "id": "1c3fc429-3026-4e57-b9e6-2a304e507353",
   "metadata": {},
   "outputs": [],
   "source": [
    "print(f\" Mmedian amplitude of single synapse {mean} pA\")"
   ]
  },
  {
   "cell_type": "code",
   "execution_count": null,
   "id": "2a904cee-a180-459a-a6bc-e11a192cdb2b",
   "metadata": {},
   "outputs": [],
   "source": [
    "print(f\" Mean amplitude of single synapse {(mean * mean_num_synapses)} pA\")"
   ]
  },
  {
   "cell_type": "code",
   "execution_count": null,
   "id": "28f8d1c4-a89e-4ea7-bb76-281d6cce1c12",
   "metadata": {},
   "outputs": [],
   "source": [
    "num_pair_synapse = 5\n",
    "for n, amps in amplitudes.items():\n",
    "    plt.figure()\n",
    "    plt.hist(np.abs(amps) * num_pair_synapse, bins=20)"
   ]
  },
  {
   "cell_type": "code",
   "execution_count": null,
   "id": "574c8a9a-df19-4e9a-890e-d985ff0a84ff",
   "metadata": {},
   "outputs": [],
   "source": [
    "num_pair_synapse = 10\n",
    "for n, amps in amplitudes.items():\n",
    "    plt.figure()\n",
    "    plt.hist(np.abs(amps) * num_pair_synapse, bins=20)"
   ]
  },
  {
   "cell_type": "code",
   "execution_count": null,
   "id": "06e1d94b-50a0-4562-808d-ebedca8e9321",
   "metadata": {},
   "outputs": [],
   "source": []
  },
  {
   "cell_type": "code",
   "execution_count": null,
   "id": "1a1d1bfc-9388-400e-8ef0-ab05be876c03",
   "metadata": {},
   "outputs": [],
   "source": []
  },
  {
   "cell_type": "code",
   "execution_count": null,
   "id": "6f40f2e4-7fb0-4665-a83f-1074a619e26b",
   "metadata": {},
   "outputs": [],
   "source": []
  }
 ],
 "metadata": {
  "kernelspec": {
   "display_name": "Python 3",
   "language": "python",
   "name": "python3"
  },
  "language_info": {
   "codemirror_mode": {
    "name": "ipython",
    "version": 3
   },
   "file_extension": ".py",
   "mimetype": "text/x-python",
   "name": "python",
   "nbconvert_exporter": "python",
   "pygments_lexer": "ipython3",
   "version": "3.7.10"
  }
 },
 "nbformat": 4,
 "nbformat_minor": 5
}
