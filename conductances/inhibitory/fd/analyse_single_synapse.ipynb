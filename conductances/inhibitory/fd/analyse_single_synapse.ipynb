{
 "cells": [
  {
   "cell_type": "code",
   "execution_count": null,
   "id": "bd9ecc5c-ce93-429b-8f65-fec2c91a9462",
   "metadata": {},
   "outputs": [],
   "source": [
    "import os\n",
    "import sys\n",
    "import glob\n",
    "import matplotlib.pyplot as plt\n",
    "import numpy as np\n",
    "import json\n",
    "from snudda.utils.load_network_simulation import SnuddaLoadNetworkSimulation"
   ]
  },
  {
   "cell_type": "code",
   "execution_count": null,
   "id": "af74151b-f611-49c6-a7aa-a83ef7c8df90",
   "metadata": {},
   "outputs": [],
   "source": [
    "network_path = os.path.join(\"networks\", \"dspn_network\")\n",
    "network_file = os.path.join(network_path, \"network-synapses.hdf5\")"
   ]
  },
  {
   "cell_type": "code",
   "execution_count": null,
   "id": "e0467851-bc05-4e19-b133-4650baa14847",
   "metadata": {},
   "outputs": [],
   "source": [
    "simulations = dict()"
   ]
  },
  {
   "cell_type": "code",
   "execution_count": null,
   "id": "0a296ea1-cf04-4741-95d0-3e8970ca983d",
   "metadata": {},
   "outputs": [],
   "source": [
    "\n",
    "for g in glob.glob(os.path.join(network_path, \"simulation\", \"network-voltage.hdf5\")):\n",
    "\n",
    "    name = os.path.basename(g).split(\".\")[0]\n",
    "    print(g)\n",
    "    sns = SnuddaLoadNetworkSimulation(network_simulation_output_file=g, network_path=network_path)\n",
    "    simulations.update({name : sns})\n",
    "time = sns.get_time()    "
   ]
  },
  {
   "cell_type": "code",
   "execution_count": null,
   "id": "06e1d94b-50a0-4562-808d-ebedca8e9321",
   "metadata": {},
   "outputs": [],
   "source": [
    "%%time\n",
    "for cell_no in range(4):\n",
    "    \n",
    "    \n",
    "    for r, k in enumerate(simulations.keys()):\n",
    "        sns = simulations[k]\n",
    "        \n",
    "        vs = sns.get_voltage(cell_no).T\n",
    "        v = vs[0]\n",
    "        plt.figure()\n",
    "        plt.title(f\"{sns.get_neuron_name([cell_no])} at soma\")\n",
    "        start = 300\n",
    "        plt.plot(time[start:]*1e3,v[start:]*1e3)  \n",
    "plt.show()"
   ]
  },
  {
   "cell_type": "code",
   "execution_count": null,
   "id": "e3550bea-0aec-4d7f-88f5-f11fe726836c",
   "metadata": {},
   "outputs": [],
   "source": [
    "%%time\n",
    "for cell_no in range(4):\n",
    "    \n",
    "    \n",
    "    for r, k in enumerate(simulations.keys()):\n",
    "        sns = simulations[k]\n",
    "        \n",
    "        vs = sns.get_voltage(cell_no).T\n",
    "        sec_id = sns.network_simulation_file['neurons'][str(cell_no)]['voltage']['sec_id'][()]\n",
    "        for i, v in enumerate(vs):\n",
    "            plt.figure()\n",
    "            plt.title(f\"{sns.get_neuron_name([cell_no])} at sec id {sec_id[i]}\")\n",
    "            plt.plot(time*1e3,v)  \n",
    "plt.show()"
   ]
  },
  {
   "cell_type": "code",
   "execution_count": null,
   "id": "dc6c0a26-1bce-4c54-b497-af6ea674b982",
   "metadata": {},
   "outputs": [],
   "source": []
  }
 ],
 "metadata": {
  "kernelspec": {
   "display_name": "Python 3",
   "language": "python",
   "name": "python3"
  },
  "language_info": {
   "codemirror_mode": {
    "name": "ipython",
    "version": 3
   },
   "file_extension": ".py",
   "mimetype": "text/x-python",
   "name": "python",
   "nbconvert_exporter": "python",
   "pygments_lexer": "ipython3",
   "version": "3.7.10"
  }
 },
 "nbformat": 4,
 "nbformat_minor": 5
}
