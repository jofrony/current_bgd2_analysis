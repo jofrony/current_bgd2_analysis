{
 "cells": [
  {
   "cell_type": "code",
   "execution_count": 1,
   "id": "f8f1acd6-3c5f-4ad7-9d35-d783c8177ae2",
   "metadata": {},
   "outputs": [],
   "source": [
    "import sys\n",
    "import os\n",
    "import json\n",
    "sys.path.append(os.environ[\"CODE_REPOSITORY\"])\n",
    "from code_repository.hotones.thetools import *\n",
    "import matplotlib.pyplot as plt"
   ]
  },
  {
   "cell_type": "code",
   "execution_count": 2,
   "id": "a1f28076-7641-4be3-bd29-b9e1c601beae",
   "metadata": {},
   "outputs": [],
   "source": [
    "external = os.path.join(\"/media\",\"jofrony\",\"2TB\", \n",
    "                        \"dardel\", \"current_bgd2\",\"branch_inhibition\", \n",
    "                        \"supercomputer\", \"networks\")\n",
    "repository = os.path.join(\"/home\",\"jofrony\",\"Documents\",\n",
    "                          \"Repositories\",\"current_bgd2\",\n",
    "                          \"branch_inhibition\",\"supercomputer\",\"networks\")"
   ]
  },
  {
   "cell_type": "code",
   "execution_count": 3,
   "id": "11b76ebd-97bf-458a-bfc3-b53d2b6fec92",
   "metadata": {},
   "outputs": [],
   "source": [
    "folder = \"frequency\""
   ]
  },
  {
   "cell_type": "code",
   "execution_count": 4,
   "id": "377958de-308c-43b0-924b-d8152464ac73",
   "metadata": {},
   "outputs": [],
   "source": [
    "parameters = {\"start\": 0.5, \"end\": 2.5}"
   ]
  },
  {
   "cell_type": "code",
   "execution_count": 5,
   "id": "8a8e68ee-30a3-420a-91e1-acfd60d509f8",
   "metadata": {},
   "outputs": [],
   "source": [
    "plateau_ids = os.path.join(repository,\n",
    "                           \"pdc_network_2022-10-25\",\n",
    "                          \"cell_ids_plateaus.json\")\n",
    "with open(plateau_ids) as f:\n",
    "    plateau_ids = json.load(f)"
   ]
  },
  {
   "cell_type": "code",
   "execution_count": 6,
   "id": "e7461638-8a2d-4ea5-981f-d10326480f02",
   "metadata": {},
   "outputs": [],
   "source": [
    "current_ids = os.path.join(repository,\n",
    "                           \"pdc_network_2022-10-25\",\n",
    "                           \"cell_ids_current_injection_dardel_2022-10-25-16-58-26_plateau_inhibition_p1.json\")\n",
    "with open(current_ids) as f:\n",
    "    current_ids = json.load(f)"
   ]
  },
  {
   "cell_type": "code",
   "execution_count": 7,
   "id": "de857e37-cc21-4ae8-ad8b-fe003c76e680",
   "metadata": {},
   "outputs": [
    {
     "data": {
      "text/plain": [
       "{'plateaus_without_inhibition': {'color': 'black',\n",
       "  'label': 'plateaus without inhibition',\n",
       "  'network': 'network-synapses.hdf5',\n",
       "  'path': '/media/jofrony/2TB/dardel/current_bgd2/branch_inhibition/supercomputer/networks/pdc_network_2022-10-25',\n",
       "  'output': 'network_output_modified_GABA_90mV_external-whole-network-plateaus-2022-10-25-16-56-46_no_inhibition.hdf5'},\n",
       " 'plateaus_with_inhibition': {'color': 'red',\n",
       "  'label': 'plateaus with inhibition',\n",
       "  'network': 'network-synapses.hdf5',\n",
       "  'path': '/media/jofrony/2TB/dardel/current_bgd2/branch_inhibition/supercomputer/networks/pdc_network_2022-10-25',\n",
       "  'output': 'network_output_modified_GABA_90mV_external-whole-network-plateaus-2022-10-25-16-56-46_cell_ids_current_injection_dardel_2022-10-25-16-58-26_plateau_inhibition_p1.hdf5'}}"
      ]
     },
     "execution_count": 7,
     "metadata": {},
     "output_type": "execute_result"
    }
   ],
   "source": [
    "e = Experiments()\n",
    "e.add_experiment(name=\"plateaus_without_inhibition\",\n",
    "                 color=\"black\",\n",
    "                 label=\"plateaus without inhibition\",\n",
    "                 network=\"network-synapses.hdf5\",\n",
    "                 path=os.path.join(external, \"pdc_network_2022-10-25\"),\n",
    "                 output=\"network_output_modified_GABA_90mV_external-whole-network-plateaus-2022-10-25-16-56-46_no_inhibition.hdf5\")\n",
    "e.add_experiment(name=\"plateaus_with_inhibition\",\n",
    "                 color=\"red\",\n",
    "                 label=\"plateaus with inhibition\",\n",
    "                 network=\"network-synapses.hdf5\",\n",
    "                 path=os.path.join(external, \"pdc_network_2022-10-25\"),\n",
    "                 output=\"network_output_modified_GABA_90mV_external-whole-network-plateaus-2022-10-25-16-56-46_cell_ids_current_injection_dardel_2022-10-25-16-58-26_plateau_inhibition_p1.hdf5\")\n",
    "\n",
    "e.experiments     "
   ]
  },
  {
   "cell_type": "code",
   "execution_count": 8,
   "id": "f40b817f-f844-419f-b157-2f3f70c86653",
   "metadata": {},
   "outputs": [
    {
     "name": "stdout",
     "output_type": "stream",
     "text": [
      "Loading 40000 neurons with 35040256 synapses and 2531 gap junctions\n",
      "Loading /media/jofrony/2TB/dardel/current_bgd2/branch_inhibition/supercomputer/networks/pdc_network_2022-10-25/simulation/network_output_modified_GABA_90mV_external-whole-network-plateaus-2022-10-25-16-56-46_no_inhibition.hdf5\n",
      "Loading 40000 neurons with 35040256 synapses and 2531 gap junctions\n",
      "Loading /media/jofrony/2TB/dardel/current_bgd2/branch_inhibition/supercomputer/networks/pdc_network_2022-10-25/simulation/network_output_modified_GABA_90mV_external-whole-network-plateaus-2022-10-25-16-56-46_cell_ids_current_injection_dardel_2022-10-25-16-58-26_plateau_inhibition_p1.hdf5\n"
     ]
    }
   ],
   "source": [
    "sl = LoadSimulations(experiments=e)\n",
    "sl.load_network_file(load_synapses=False)"
   ]
  },
  {
   "cell_type": "code",
   "execution_count": 9,
   "id": "68f70fd1-ef11-4c04-8edb-3c9ed608425f",
   "metadata": {},
   "outputs": [],
   "source": [
    "sample_ids = [int(k) for k in current_ids][::100]\n",
    "current_ids_per_exp = {k:sample_ids for k in e.experiments}"
   ]
  },
  {
   "cell_type": "code",
   "execution_count": 10,
   "id": "a841d4f0-5f51-4002-b88c-f0bd55c29db9",
   "metadata": {},
   "outputs": [
    {
     "name": "stdout",
     "output_type": "stream",
     "text": [
      "CPU times: user 315 ms, sys: 67.2 ms, total: 383 ms\n",
      "Wall time: 4.88 s\n"
     ]
    }
   ],
   "source": [
    "%%time\n",
    "neuron_type = \"SPN\"\n",
    "frequency_analysis_dict = frequency_analysis(data_obj=sl, neuron_type=neuron_type, trace_ids=current_ids_per_exp, parameters=parameters)\n"
   ]
  },
  {
   "cell_type": "code",
   "execution_count": 11,
   "id": "f8c2cb8c-7581-457d-ac39-f18dff2088fc",
   "metadata": {},
   "outputs": [],
   "source": [
    "colors = {\"plateaus_without_inhibition\": 'black', \n",
    "      \"plateaus_with_inhibition\": 'red'}\n",
    "bins=10"
   ]
  },
  {
   "cell_type": "code",
   "execution_count": 12,
   "id": "5b55e58b-6142-4eb5-94d0-3dc73fd5e360",
   "metadata": {},
   "outputs": [
    {
     "data": {
      "image/png": "[encoded data removed]",
      "text/plain": [
       "<Figure size 432x288 with 1 Axes>"
      ]
     },
     "metadata": {
      "needs_background": "light"
     },
     "output_type": "display_data"
    }
   ],
   "source": [
    "fig_name = f\"{neuron_type}_above_0Hz\"\n",
    "plot_histogram_frequency(frequency_dict=frequency_analysis_dict, experiment_names=e,\n",
    "                         fig_name=fig_name, \n",
    "                         colors=colors,bins=bins,\n",
    "                         parameters={plt.xlim: (0,100)},\n",
    "                         folder=folder, save=True)"
   ]
  },
  {
   "cell_type": "code",
   "execution_count": 13,
   "id": "199374c9-2a48-4c83-942e-b7d4a0dfdbe7",
   "metadata": {},
   "outputs": [
    {
     "data": {
      "image/png": "[encoded data removed]",
      "text/plain": [
       "<Figure size 432x288 with 1 Axes>"
      ]
     },
     "metadata": {
      "needs_background": "light"
     },
     "output_type": "display_data"
    }
   ],
   "source": [
    "fig_name = f\"{neuron_type}_above_0Hz\"\n",
    "plot_histogram_frequency_step(frequency_dict=frequency_analysis_dict, experiment_names=e,\n",
    "                         fig_name=fig_name, \n",
    "                         colors=colors,bins=bins,\n",
    "                         parameters={plt.xlim: (0,80)},\n",
    "                         folder=folder, save=True)"
   ]
  },
  {
   "cell_type": "code",
   "execution_count": 14,
   "id": "fcd30611-2e3d-46ff-9353-962cdfe11b97",
   "metadata": {},
   "outputs": [
    {
     "name": "stderr",
     "output_type": "stream",
     "text": [
      "/home/jofrony/miniconda3/envs/py37/lib/python3.7/site-packages/numpy/core/fromnumeric.py:3335: RuntimeWarning: Mean of empty slice.\n",
      "  out=out, **kwargs)\n",
      "/home/jofrony/miniconda3/envs/py37/lib/python3.7/site-packages/numpy/core/_methods.py:161: RuntimeWarning: invalid value encountered in double_scalars\n",
      "  ret = ret.dtype.type(ret / rcount)\n"
     ]
    }
   ],
   "source": [
    "mean_frequency_dict = mean_frequency(dictionary=frequency_analysis_dict, parameters={\"interval\": [0,60]})"
   ]
  },
  {
   "cell_type": "code",
   "execution_count": 15,
   "id": "297de867-b635-46bb-983b-342ca1b3b248",
   "metadata": {},
   "outputs": [
    {
     "data": {
      "image/png": "[encoded data removed]",
      "text/plain": [
       "<Figure size 432x288 with 1 Axes>"
      ]
     },
     "metadata": {
      "needs_background": "light"
     },
     "output_type": "display_data"
    }
   ],
   "source": [
    "plot_mean_frequency(mean_frequency_dict = mean_frequency_dict, folder=folder,colors=colors, experiment_names=e)"
   ]
  },
  {
   "cell_type": "code",
   "execution_count": null,
   "id": "738fa22a-cb9c-4368-83e0-c95377e7a570",
   "metadata": {},
   "outputs": [],
   "source": []
  }
 ],
 "metadata": {
  "kernelspec": {
   "display_name": "Python 3",
   "language": "python",
   "name": "python3"
  },
  "language_info": {
   "codemirror_mode": {
    "name": "ipython",
    "version": 3
   },
   "file_extension": ".py",
   "mimetype": "text/x-python",
   "name": "python",
   "nbconvert_exporter": "python",
   "pygments_lexer": "ipython3",
   "version": "3.7.10"
  }
 },
 "nbformat": 4,
 "nbformat_minor": 5
}
