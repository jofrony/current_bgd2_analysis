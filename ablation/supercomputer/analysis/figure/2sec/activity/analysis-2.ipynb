{
 "cells": [
  {
   "cell_type": "code",
   "execution_count": 1,
   "id": "b05c0fd4-504b-4a52-8e2a-415c03cec679",
   "metadata": {},
   "outputs": [],
   "source": [
    "import sys\n",
    "import os\n",
    "sys.path.append(os.environ[\"CODE_REPOSITORY\"])\n",
    "from code_repository.hotones.thetools import *\n",
    "from code_repository.load.load_simulations import LoadSimulations"
   ]
  },
  {
   "cell_type": "code",
   "execution_count": 2,
   "id": "e9e0f7ae-563e-4fa8-a408-6b2343a679bc",
   "metadata": {},
   "outputs": [],
   "source": [
    "external = os.path.join(\"/media\",\"jofrony\",\"2TB\", \n",
    "                        \"dardel\", \"current_bgd2\",\"ablation\", \n",
    "                        \"supercomputer\", \"networks\")\n",
    "repository = os.path.join(\"/home\",\"jofrony\",\"Documents\",\n",
    "                          \"Repositories\",\"current_bgd2\",\n",
    "                          \"ablation\",\"supercomputer\",\"networks\")"
   ]
  },
  {
   "cell_type": "code",
   "execution_count": 3,
   "id": "f5a06f3c-45ca-4f5e-980b-5b423e90f61e",
   "metadata": {},
   "outputs": [],
   "source": [
    "name = \"current_injection\"\n",
    "folder = \"ratio\""
   ]
  },
  {
   "cell_type": "code",
   "execution_count": 4,
   "id": "4c9c5a39-8eb9-4eb2-9709-575cd3834373",
   "metadata": {},
   "outputs": [
    {
     "data": {
      "text/plain": [
       "{'current_injection-all': {'color': 'black',\n",
       "  'label': '2 sec simulation',\n",
       "  'network': 'network-synapses.hdf5',\n",
       "  'path': '/media/jofrony/2TB/dardel/current_bgd2/ablation/supercomputer/networks/pdc_network_2022-08-24',\n",
       "  'output': 'network_output_2s_ablations-all-network-synapses_cell_ids_current_injection_dardel_2022-09-19-13-01-25.hdf5'},\n",
       " 'current_injection-SPN': {'color': 'black',\n",
       "  'label': '2 sec simulation',\n",
       "  'network': 'network-synapses.hdf5',\n",
       "  'path': '/media/jofrony/2TB/dardel/current_bgd2/ablation/supercomputer/networks/pdc_network_2022-08-24',\n",
       "  'output': 'network_output_2s_ablations-SPN-network-synapses_cell_ids_current_injection_dardel_2022-09-19-13-01-25.hdf5'},\n",
       " 'current_injection-FS': {'color': 'black',\n",
       "  'label': '2 sec simulation',\n",
       "  'network': 'network-synapses.hdf5',\n",
       "  'path': '/media/jofrony/2TB/dardel/current_bgd2/ablation/supercomputer/networks/pdc_network_2022-08-24',\n",
       "  'output': 'network_output_2s_ablations-FS-network-synapses_cell_ids_current_injection_dardel_2022-09-19-13-01-25.hdf5'},\n",
       " 'current_injection': {'color': 'black',\n",
       "  'label': '2 sec stimulation',\n",
       "  'network': 'network-synapses.hdf5',\n",
       "  'path': '/media/jofrony/2TB/dardel/current_bgd2/ablation/supercomputer/networks/pdc_network_2022-08-24',\n",
       "  'output': 'network_output_2s_network-synapses_cell_ids_current_injection_dardel_2022-09-19-13-01-25.hdf5'}}"
      ]
     },
     "execution_count": 4,
     "metadata": {},
     "output_type": "execute_result"
    }
   ],
   "source": [
    "e = Experiments()\n",
    "e.add_experiment(name=\"current_injection-all\",\n",
    "                 color=\"black\",\n",
    "                 label=\"2 sec simulation\",\n",
    "                 network=\"network-synapses.hdf5\",\n",
    "                 path=os.path.join(external, \"pdc_network_2022-08-24\"),\n",
    "                 output=\"network_output_2s_ablations-all-network-synapses_cell_ids_current_injection_dardel_2022-09-19-13-01-25.hdf5\")\n",
    "e.add_experiment(name=\"current_injection-SPN\",\n",
    "                 color=\"black\",\n",
    "                 label=\"2 sec simulation\",\n",
    "                 network=\"network-synapses.hdf5\",\n",
    "                 path=os.path.join(external, \"pdc_network_2022-08-24\"),\n",
    "                 output=\"network_output_2s_ablations-SPN-network-synapses_cell_ids_current_injection_dardel_2022-09-19-13-01-25.hdf5\")\n",
    "e.add_experiment(name=\"current_injection-FS\",\n",
    "                 color=\"black\",\n",
    "                 label=\"2 sec simulation\",\n",
    "                 network=\"network-synapses.hdf5\",\n",
    "                 path=os.path.join(external, \"pdc_network_2022-08-24\"),\n",
    "                 output=\"network_output_2s_ablations-FS-network-synapses_cell_ids_current_injection_dardel_2022-09-19-13-01-25.hdf5\")  \n",
    "e.add_experiment(name=\"current_injection\",\n",
    "                 color=\"black\",\n",
    "                 label=\"2 sec stimulation\",\n",
    "                 network=\"network-synapses.hdf5\",\n",
    "                 path=os.path.join(external, \"pdc_network_2022-08-24\"),\n",
    "                 output=\"network_output_2s_network-synapses_cell_ids_current_injection_dardel_2022-09-19-13-01-25.hdf5\")\n",
    "e.experiments     "
   ]
  },
  {
   "cell_type": "code",
   "execution_count": 7,
   "id": "b43935ab-4e69-4d95-bb2d-f8bd0b34fd84",
   "metadata": {},
   "outputs": [
    {
     "name": "stdout",
     "output_type": "stream",
     "text": [
      "Loading 20000 neurons with 15856878 synapses and 2434 gap junctions\n",
      "Loading /media/jofrony/2TB/dardel/current_bgd2/ablation/supercomputer/networks/pdc_network_2022-08-24/simulation/network_output_2s_ablations-all-network-synapses_cell_ids_current_injection_dardel_2022-09-19-13-01-25.hdf5\n",
      "Loading 20000 neurons with 15856878 synapses and 2434 gap junctions\n",
      "Loading /media/jofrony/2TB/dardel/current_bgd2/ablation/supercomputer/networks/pdc_network_2022-08-24/simulation/network_output_2s_ablations-SPN-network-synapses_cell_ids_current_injection_dardel_2022-09-19-13-01-25.hdf5\n",
      "Loading 20000 neurons with 15856878 synapses and 2434 gap junctions\n",
      "Loading /media/jofrony/2TB/dardel/current_bgd2/ablation/supercomputer/networks/pdc_network_2022-08-24/simulation/network_output_2s_ablations-FS-network-synapses_cell_ids_current_injection_dardel_2022-09-19-13-01-25.hdf5\n",
      "Loading 20000 neurons with 15856878 synapses and 2434 gap junctions\n",
      "Loading /media/jofrony/2TB/dardel/current_bgd2/ablation/supercomputer/networks/pdc_network_2022-08-24/simulation/network_output_2s_network-synapses_cell_ids_current_injection_dardel_2022-09-19-13-01-25.hdf5\n",
      " Identifying spiking neurons within the network \n",
      "Analysing current_injection-all\n",
      "Analysing current_injection-SPN\n",
      "Analysing current_injection-FS\n",
      "Analysing current_injection\n",
      "CPU times: user 6min 2s, sys: 12.8 s, total: 6min 15s\n",
      "Wall time: 25min 6s\n"
     ]
    }
   ],
   "source": [
    "%%time\n",
    "neuron_type = \"dSPN\"\n",
    "sl = LoadSimulations(experiments=e)\n",
    "sl.load_network_file(load_synapses=False)\n",
    "spiking_analysis_dict = spiking_analysis(data_obj=sl, neuron_type=neuron_type)\n"
   ]
  },
  {
   "cell_type": "code",
   "execution_count": 8,
   "id": "9ebe78cc-5764-4c1a-a9bd-d7c6a32a803d",
   "metadata": {},
   "outputs": [],
   "source": [
    "p = calculate_ratio(dictionary=spiking_analysis_dict)\n",
    "n = normalized_prp(dictionary=p, normalized=\"current_injection\")"
   ]
  },
  {
   "cell_type": "code",
   "execution_count": 9,
   "id": "d225723a-1d01-49e7-8f21-6e485501c95d",
   "metadata": {},
   "outputs": [
    {
     "data": {
      "image/png": "[encoded data removed]",
      "text/plain": [
       "<Figure size 576x288 with 1 Axes>"
      ]
     },
     "metadata": {
      "needs_background": "light"
     },
     "output_type": "display_data"
    }
   ],
   "source": [
    "plot_ratio_normalized_spiking(ratio_dict=n, experiment_names=e, fig_name=neuron_type, folder=folder, save=True, max_ratio=1.2)"
   ]
  },
  {
   "cell_type": "code",
   "execution_count": null,
   "id": "c54f56de-d58b-4d79-8f75-86b18f37cb6a",
   "metadata": {},
   "outputs": [
    {
     "name": "stdout",
     "output_type": "stream",
     "text": [
      "Loading 20000 neurons with 15856878 synapses and 2434 gap junctions\n",
      "Loading /media/jofrony/2TB/dardel/current_bgd2/ablation/supercomputer/networks/pdc_network_2022-08-24/simulation/network_output_2s_ablations-all-network-synapses_cell_ids_current_injection_dardel_2022-09-19-13-01-25.hdf5\n",
      "Loading 20000 neurons with 15856878 synapses and 2434 gap junctions\n",
      "Loading /media/jofrony/2TB/dardel/current_bgd2/ablation/supercomputer/networks/pdc_network_2022-08-24/simulation/network_output_2s_ablations-SPN-network-synapses_cell_ids_current_injection_dardel_2022-09-19-13-01-25.hdf5\n",
      "Loading 20000 neurons with 15856878 synapses and 2434 gap junctions\n",
      "Loading /media/jofrony/2TB/dardel/current_bgd2/ablation/supercomputer/networks/pdc_network_2022-08-24/simulation/network_output_2s_ablations-FS-network-synapses_cell_ids_current_injection_dardel_2022-09-19-13-01-25.hdf5\n",
      "Loading 20000 neurons with 15856878 synapses and 2434 gap junctions\n",
      "Loading /media/jofrony/2TB/dardel/current_bgd2/ablation/supercomputer/networks/pdc_network_2022-08-24/simulation/network_output_2s_network-synapses_cell_ids_current_injection_dardel_2022-09-19-13-01-25.hdf5\n",
      " Identifying spiking neurons within the network \n",
      "Analysing current_injection-all\n",
      "Analysing current_injection-SPN\n"
     ]
    }
   ],
   "source": [
    "%%time\n",
    "neuron_type = \"iSPN\"\n",
    "sl = LoadSimulations(experiments=e)\n",
    "sl.load_network_file(load_synapses=False)\n",
    "spiking_analysis_dict = spiking_analysis(data_obj=sl, neuron_type=neuron_type)\n"
   ]
  },
  {
   "cell_type": "code",
   "execution_count": null,
   "id": "f89ce30c-2aaa-4e9c-a1d3-03f749fd4bc4",
   "metadata": {},
   "outputs": [],
   "source": [
    "p = calculate_ratio(dictionary=spiking_analysis_dict)\n",
    "n = normalized_prp(dictionary=p, normalized=\"current_injection\")"
   ]
  },
  {
   "cell_type": "code",
   "execution_count": null,
   "id": "fd4d5182-04c9-4eb1-92a5-7aa03e2ead13",
   "metadata": {},
   "outputs": [],
   "source": [
    "plot_ratio_normalized_spiking(ratio_dict=n, experiment_names=e, fig_name=neuron_type, folder=folder, save=True, max_ratio=1.2)"
   ]
  },
  {
   "cell_type": "code",
   "execution_count": null,
   "id": "e0bc9061-a531-4cbe-b928-c309e591788f",
   "metadata": {},
   "outputs": [],
   "source": []
  }
 ],
 "metadata": {
  "kernelspec": {
   "display_name": "Python 3",
   "language": "python",
   "name": "python3"
  },
  "language_info": {
   "codemirror_mode": {
    "name": "ipython",
    "version": 3
   },
   "file_extension": ".py",
   "mimetype": "text/x-python",
   "name": "python",
   "nbconvert_exporter": "python",
   "pygments_lexer": "ipython3",
   "version": "3.7.10"
  }
 },
 "nbformat": 4,
 "nbformat_minor": 5
}
