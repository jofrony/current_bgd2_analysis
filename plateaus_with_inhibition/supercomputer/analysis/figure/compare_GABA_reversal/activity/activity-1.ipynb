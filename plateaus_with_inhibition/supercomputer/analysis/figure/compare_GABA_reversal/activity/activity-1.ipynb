{
 "cells": [
  {
   "cell_type": "code",
   "execution_count": null,
   "id": "26941a84-d0b1-41b4-abae-77f85332c24e",
   "metadata": {},
   "outputs": [],
   "source": []
  },
  {
   "cell_type": "code",
   "execution_count": 1,
   "id": "76677881-ca59-4c48-9367-d23b86d8202a",
   "metadata": {},
   "outputs": [],
   "source": [
    "import sys\n",
    "import os\n",
    "import matplotlib.pyplot as plt\n",
    "import json\n",
    "sys.path.append(os.environ[\"CODE_REPOSITORY\"])\n",
    "from code_repository.hotones.thetools import *"
   ]
  },
  {
   "cell_type": "code",
   "execution_count": 2,
   "id": "0a60d2c8-2649-49ff-b239-cd48b6bc6152",
   "metadata": {},
   "outputs": [],
   "source": [
    "external = os.path.join(\"/media\",\"jofrony\",\"2TB\", \n",
    "                        \"dardel\", \"current_bgd2\",\"plateaus_with_inhibition\", \n",
    "                        \"supercomputer\", \"networks\")\n",
    "repository = os.path.join(\"/home\",\"jofrony\",\"Documents\",\n",
    "                          \"Repositories\",\"current_bgd2\",\n",
    "                          \"plateaus_with_inhibition\",\"supercomputer\",\"networks\")"
   ]
  },
  {
   "cell_type": "code",
   "execution_count": 3,
   "id": "e481bbec-92f5-43c3-8424-e98418d7c856",
   "metadata": {},
   "outputs": [],
   "source": [
    "folder = \"dendrite_traces\""
   ]
  },
  {
   "cell_type": "code",
   "execution_count": 4,
   "id": "f21eaf38-1e7f-4afa-b357-402aec32feec",
   "metadata": {},
   "outputs": [],
   "source": [
    "plateau_ids = os.path.join(repository,\n",
    "                           \"pdc_network_2022-10-04\",\n",
    "                          \"cell_ids_plateaus.json\")\n",
    "with open(plateau_ids) as f:\n",
    "    plateau_ids = json.load(f)"
   ]
  },
  {
   "cell_type": "code",
   "execution_count": 5,
   "id": "cca81f90-de21-4e36-af52-f53048a7830c",
   "metadata": {},
   "outputs": [
    {
     "data": {
      "text/plain": [
       "{'plateaus_without_inhibition_65mV': {'color': 'black',\n",
       "  'external_input_file': 'external-whole-network-plateaus-2022-10-04-18-05-10.hdf5',\n",
       "  'label': 'plateaus without inhibition',\n",
       "  'network': 'network-synapses.hdf5',\n",
       "  'path': '/media/jofrony/2TB/dardel/current_bgd2/plateaus_with_inhibition/supercomputer/networks/pdc_network_2022-10-04',\n",
       "  'output': 'network_output_external-whole-network-plateaus-2022-10-04-18-05-10_no_inhibition.hdf5'},\n",
       " 'plateaus_with_inhibition_65mV': {'color': 'red',\n",
       "  'external_input_file': 'external-whole-network-plateaus-2022-10-04-18-05-10.hdf5',\n",
       "  'label': 'plateaus with inhibition',\n",
       "  'network': 'network-synapses.hdf5',\n",
       "  'path': '/media/jofrony/2TB/dardel/current_bgd2/plateaus_with_inhibition/supercomputer/networks/pdc_network_2022-10-04',\n",
       "  'output': 'network_output_external-whole-network-plateaus-2022-10-04-18-05-10_cell_ids_current_injection_dardel_2022-10-04-18-10-06_plateau_inhibition_p1.hdf5'},\n",
       " 'plateaus_without_inhibition_80mV': {'color': 'black',\n",
       "  'external_input_file': 'external-whole-network-plateaus-2022-10-04-18-05-10.hdf5',\n",
       "  'label': 'plateaus without inhibition',\n",
       "  'network': 'network-synapses.hdf5',\n",
       "  'path': '/media/jofrony/2TB/dardel/current_bgd2/plateaus_with_inhibition/supercomputer/networks/pdc_network_2022-10-04',\n",
       "  'output': 'network_output_modified_GABA_input-spikes_no_inhibition.hdf5'},\n",
       " 'plateaus_with_inhibition_80mV': {'color': 'red',\n",
       "  'external_input_file': 'external-whole-network-plateaus-2022-10-04-18-05-10.hdf5',\n",
       "  'label': 'plateaus with inhibition',\n",
       "  'network': 'network-synapses.hdf5',\n",
       "  'path': '/media/jofrony/2TB/dardel/current_bgd2/plateaus_with_inhibition/supercomputer/networks/pdc_network_2022-10-04',\n",
       "  'output': 'network_output_modified_GABA_input-spikes_cell_ids_current_injection_dardel_2022-10-04-18-10-06_plateau_inhibition_p1.hdf5'},\n",
       " 'plateaus_without_inhibition_90mV': {'color': 'black',\n",
       "  'external_input_file': 'external-whole-network-plateaus-2022-10-04-18-05-10.hdf5',\n",
       "  'label': 'plateaus without inhibition',\n",
       "  'network': 'network-synapses.hdf5',\n",
       "  'path': '/media/jofrony/2TB/dardel/current_bgd2/plateaus_with_inhibition/supercomputer/networks/pdc_network_2022-10-04',\n",
       "  'output': 'network_output_modified_GABA_90mV_input-spikes_no_inhibition.hdf5'},\n",
       " 'plateaus_with_inhibition_90mV': {'color': 'red',\n",
       "  'external_input_file': 'external-whole-network-plateaus-2022-10-04-18-05-10.hdf5',\n",
       "  'label': 'plateaus with inhibition',\n",
       "  'network': 'network-synapses.hdf5',\n",
       "  'path': '/media/jofrony/2TB/dardel/current_bgd2/plateaus_with_inhibition/supercomputer/networks/pdc_network_2022-10-04',\n",
       "  'output': 'network_output_modified_GABA_90mV_input-spikes_cell_ids_current_injection_dardel_2022-10-04-18-10-06_plateau_inhibition_p1.hdf5'}}"
      ]
     },
     "execution_count": 5,
     "metadata": {},
     "output_type": "execute_result"
    }
   ],
   "source": [
    "e = Experiments()\n",
    "e.add_experiment(name=\"plateaus_without_inhibition_65mV\",\n",
    "                 color=\"black\",\n",
    "                 external_input_file=\"external-whole-network-plateaus-2022-10-04-18-05-10.hdf5\",\n",
    "                 label=\"plateaus without inhibition\",\n",
    "                 network=\"network-synapses.hdf5\",\n",
    "                 path=os.path.join(external, \"pdc_network_2022-10-04\"),\n",
    "                 output=\"network_output_external-whole-network-plateaus-2022-10-04-18-05-10_no_inhibition.hdf5\")\n",
    "e.add_experiment(name=\"plateaus_with_inhibition_65mV\",\n",
    "                 color=\"red\",\n",
    "                 external_input_file=\"external-whole-network-plateaus-2022-10-04-18-05-10.hdf5\",\n",
    "                 label=\"plateaus with inhibition\",\n",
    "                 network=\"network-synapses.hdf5\",\n",
    "                 path=os.path.join(external, \"pdc_network_2022-10-04\"),\n",
    "                 output=\"network_output_external-whole-network-plateaus-2022-10-04-18-05-10_cell_ids_current_injection_dardel_2022-10-04-18-10-06_plateau_inhibition_p1.hdf5\")\n",
    "e.add_experiment(name=\"plateaus_without_inhibition_80mV\",\n",
    "                 color=\"black\",\n",
    "                 external_input_file=\"external-whole-network-plateaus-2022-10-04-18-05-10.hdf5\",\n",
    "                 label=\"plateaus without inhibition\",\n",
    "                 network=\"network-synapses.hdf5\",\n",
    "                 path=os.path.join(external, \"pdc_network_2022-10-04\"),\n",
    "                 output=\"network_output_modified_GABA_input-spikes_no_inhibition.hdf5\")\n",
    "e.add_experiment(name=\"plateaus_with_inhibition_80mV\",\n",
    "                 color=\"red\",\n",
    "                 external_input_file=\"external-whole-network-plateaus-2022-10-04-18-05-10.hdf5\",\n",
    "                 label=\"plateaus with inhibition\",\n",
    "                 network=\"network-synapses.hdf5\",\n",
    "                 path=os.path.join(external, \"pdc_network_2022-10-04\"),\n",
    "                 output=\"network_output_modified_GABA_input-spikes_cell_ids_current_injection_dardel_2022-10-04-18-10-06_plateau_inhibition_p1.hdf5\")\n",
    "e.add_experiment(name=\"plateaus_without_inhibition_90mV\",\n",
    "                 color=\"black\",\n",
    "                 external_input_file=\"external-whole-network-plateaus-2022-10-04-18-05-10.hdf5\",\n",
    "                 label=\"plateaus without inhibition\",\n",
    "                 network=\"network-synapses.hdf5\",\n",
    "                 path=os.path.join(external, \"pdc_network_2022-10-04\"),\n",
    "                 output=\"network_output_modified_GABA_90mV_input-spikes_no_inhibition.hdf5\")\n",
    "e.add_experiment(name=\"plateaus_with_inhibition_90mV\",\n",
    "                 color=\"red\",\n",
    "                 external_input_file=\"external-whole-network-plateaus-2022-10-04-18-05-10.hdf5\",\n",
    "                 label=\"plateaus with inhibition\",\n",
    "                 network=\"network-synapses.hdf5\",\n",
    "                 path=os.path.join(external, \"pdc_network_2022-10-04\"),\n",
    "                 output=\"network_output_modified_GABA_90mV_input-spikes_cell_ids_current_injection_dardel_2022-10-04-18-10-06_plateau_inhibition_p1.hdf5\")\n",
    "\n",
    "e.experiments            "
   ]
  },
  {
   "cell_type": "code",
   "execution_count": 6,
   "id": "4f1609bb-c785-4fe2-bc86-c10088ae6048",
   "metadata": {},
   "outputs": [
    {
     "name": "stdout",
     "output_type": "stream",
     "text": [
      "Loading 40000 neurons with 35040256 synapses and 2531 gap junctions\n",
      "Loading /media/jofrony/2TB/dardel/current_bgd2/plateaus_with_inhibition/supercomputer/networks/pdc_network_2022-10-04/simulation/network_output_external-whole-network-plateaus-2022-10-04-18-05-10_no_inhibition.hdf5\n",
      "Loading 40000 neurons with 35040256 synapses and 2531 gap junctions\n",
      "Loading /media/jofrony/2TB/dardel/current_bgd2/plateaus_with_inhibition/supercomputer/networks/pdc_network_2022-10-04/simulation/network_output_external-whole-network-plateaus-2022-10-04-18-05-10_cell_ids_current_injection_dardel_2022-10-04-18-10-06_plateau_inhibition_p1.hdf5\n",
      "Loading 40000 neurons with 35040256 synapses and 2531 gap junctions\n",
      "Loading /media/jofrony/2TB/dardel/current_bgd2/plateaus_with_inhibition/supercomputer/networks/pdc_network_2022-10-04/simulation/network_output_modified_GABA_input-spikes_no_inhibition.hdf5\n",
      "Loading 40000 neurons with 35040256 synapses and 2531 gap junctions\n",
      "Loading /media/jofrony/2TB/dardel/current_bgd2/plateaus_with_inhibition/supercomputer/networks/pdc_network_2022-10-04/simulation/network_output_modified_GABA_input-spikes_cell_ids_current_injection_dardel_2022-10-04-18-10-06_plateau_inhibition_p1.hdf5\n",
      "Loading 40000 neurons with 35040256 synapses and 2531 gap junctions\n",
      "Loading /media/jofrony/2TB/dardel/current_bgd2/plateaus_with_inhibition/supercomputer/networks/pdc_network_2022-10-04/simulation/network_output_modified_GABA_90mV_input-spikes_no_inhibition.hdf5\n",
      "Loading 40000 neurons with 35040256 synapses and 2531 gap junctions\n",
      "Loading /media/jofrony/2TB/dardel/current_bgd2/plateaus_with_inhibition/supercomputer/networks/pdc_network_2022-10-04/simulation/network_output_modified_GABA_90mV_input-spikes_cell_ids_current_injection_dardel_2022-10-04-18-10-06_plateau_inhibition_p1.hdf5\n"
     ]
    }
   ],
   "source": [
    "sl = LoadSimulations(experiments=e)\n",
    "sl.load_network_file(load_synapses=False)"
   ]
  },
  {
   "cell_type": "code",
   "execution_count": 7,
   "id": "cbca81eb-4ae8-41ab-b589-3fee3a5aab9d",
   "metadata": {},
   "outputs": [],
   "source": [
    "sample_ids = plateau_ids['plateaus']\n",
    "sample_ids_per_exp = {k:sample_ids for k in e.experiments}"
   ]
  },
  {
   "cell_type": "code",
   "execution_count": 8,
   "id": "000e5de6-7736-470a-8656-156118c73dbe",
   "metadata": {},
   "outputs": [
    {
     "name": "stdout",
     "output_type": "stream",
     "text": [
      "CPU times: user 12min 58s, sys: 43.6 s, total: 13min 42s\n",
      "Wall time: 22min 49s\n"
     ]
    }
   ],
   "source": [
    "%%time\n",
    "neuron_type = \"SPN\"\n",
    "dvoltage_synapse = dendrite_voltage_synapse_location(data_obj=sl, neuron_type=neuron_type, external_input_name=\"cortical_signal_100\",\n",
    "                                        specific_trace_ids=sample_ids_per_exp, interval=[0.5, 2.5], dt_step=0.5)"
   ]
  },
  {
   "cell_type": "code",
   "execution_count": 10,
   "id": "71812772-2a78-4c33-86c5-886b59ce482c",
   "metadata": {},
   "outputs": [],
   "source": [
    "import numpy as np\n",
    "def change_dendrite(dvoltage_synase,control,specific_trace_ids, dx, parameters):\n",
    "\n",
    "    tmp = dict()\n",
    "    for s in specific_trace_ids:\n",
    "        per_cell = dict()\n",
    "        for experiment in dvoltage_synapse:\n",
    "            for sec_id in dvoltage_synapse[control][s]:\n",
    "                vc = dvoltage_synapse[control][s][sec_id]['voltage']\n",
    "                v = dvoltage_synapse[experiment][s][sec_id]['voltage']\n",
    "                \n",
    "                start = int(parameters[\"start\"] / dx)\n",
    "                stop = int(parameters[\"stop\"] / dx)\n",
    "                \n",
    "                v_diff = (v - np.mean(v[:start])) - (vc - np.mean(vc[:start]))\n",
    "                v_section = v_diff[start:stop]\n",
    "                auc = AUC(v_section, dx)\n",
    "                plt.plot(v_section)\n",
    "                per_cell.update({experiment: {sec_id: auc}})\n",
    "        tmp.update({s: per_cell})\n",
    "    return tmp\n"
   ]
  },
  {
   "cell_type": "code",
   "execution_count": 40,
   "id": "93c71c38-bc2e-434e-a32e-310efe41600a",
   "metadata": {},
   "outputs": [],
   "source": [
    "import numpy as np\n",
    "def resting_membrane_dendrite(dvoltage_synase,control,specific_trace_ids, dx, parameters):\n",
    "\n",
    "    tmp = dict()\n",
    "    for s in specific_trace_ids:\n",
    "        per_cell = dict()\n",
    "        for experiment in dvoltage_synapse:\n",
    "            for sec_id in dvoltage_synapse[control][s]:\n",
    "                v = dvoltage_synapse[experiment][s][sec_id]['voltage']\n",
    "                \n",
    "                start = int(parameters[\"start\"] / dx)\n",
    "                stop = int(parameters[\"stop\"] / dx)\n",
    "                \n",
    "                mean_v = np.mean(v[start:stop])\n",
    "                per_cell.update({experiment: {sec_id: mean_v}})\n",
    "        tmp.update({s: per_cell})\n",
    "    return tmp"
   ]
  },
  {
   "cell_type": "code",
   "execution_count": 41,
   "id": "c1e9e030-6d2a-420d-9245-3f570f9299ed",
   "metadata": {},
   "outputs": [],
   "source": [
    "tmp_rest = dict()\n",
    "for k in [\"65\",\"80\",\"90\"]:\n",
    "    c = f\"plateaus_without_inhibition_{k}mV\"\n",
    "    t = f\"plateaus_with_inhibition_{k}mV\"\n",
    "    sub_sample = {c:dvoltage_synapse[c], t: dvoltage_synapse[t]}\n",
    "    rmd = resting_membrane_dendrite(dvoltage_synase=sub_sample, control=c, \n",
    "                         specific_trace_ids=sample_ids, dx=0.5e-3, parameters={\"start\": 0.1, \"stop\":0.45})\n",
    "    \n",
    "    tmp_rest.update({f\"{k}mV\": rmd})"
   ]
  },
  {
   "cell_type": "code",
   "execution_count": 14,
   "id": "bc6fc3f7-c0f6-4549-9907-b8b1d4a2346e",
   "metadata": {},
   "outputs": [
    {
     "data": {
      "text/plain": [
       "<Figure size 432x288 with 0 Axes>"
      ]
     },
     "metadata": {},
     "output_type": "display_data"
    },
    {
     "data": {
      "text/plain": [
       "<Figure size 432x288 with 0 Axes>"
      ]
     },
     "metadata": {},
     "output_type": "display_data"
    },
    {
     "data": {
      "text/plain": [
       "<Figure size 432x288 with 0 Axes>"
      ]
     },
     "metadata": {},
     "output_type": "display_data"
    }
   ],
   "source": [
    "tmp = dict()\n",
    "for k in [\"65\",\"80\",\"90\"]:\n",
    "    c = f\"plateaus_without_inhibition_{k}mV\"\n",
    "    t = f\"plateaus_with_inhibition_{k}mV\"\n",
    "    plt.figure()\n",
    "    sub_sample = {c:dvoltage_synapse[c], t: dvoltage_synapse[t]}\n",
    "    change = change_dendrite(dvoltage_synase=sub_sample, control=c, \n",
    "                         specific_trace_ids=sample_ids, dx=0.5e-3, parameters={\"start\": 0.5, \"stop\":0.75})\n",
    "    \n",
    "    tmp.update({f\"{k}mV\": change})\n",
    "plt.show()"
   ]
  },
  {
   "cell_type": "code",
   "execution_count": 21,
   "id": "0abcb179-0b87-48e1-8778-1cc75cf80d0f",
   "metadata": {},
   "outputs": [
    {
     "data": {
      "image/png": "[encoded data removed]",
      "text/plain": [
       "<Figure size 432x288 with 1 Axes>"
      ]
     },
     "metadata": {
      "needs_background": "light"
     },
     "output_type": "display_data"
    }
   ],
   "source": [
    "fig = plt.figure()\n",
    "ax = fig.add_subplot(1, 1, 1)\n",
    "for r in [\"65\",\"80\",\"90\"]:\n",
    "    \n",
    "    changes = tmp[f\"{k}mV\"]\n",
    "    changes = [[*change[k][f\"plateaus_with_inhibition_{r}mV\"].values()][0] for k in change]\n",
    "    csfont = {\"fontname\": \"Arial\",\n",
    "              'fontsize': 22}\n",
    "    plt.title(\"Changes following addition of inhibition\", **csfont)\n",
    "    ax.hist(changes, bins=20, histtype=\"step\", label=f\"{r}mV\")\n",
    "    plt.xlabel(\"AUC difference\", **csfont)\n",
    "    ax.tick_params(axis='both', which='major', labelsize=22)\n",
    "    ax.tick_params(axis='both', which='minor', labelsize=22)\n",
    "    plt.legend()\n",
    "plt.savefig(os.path.join(\"auc\",\"histogram_changes_dendrite_potential.svg\"))\n"
   ]
  },
  {
   "cell_type": "code",
   "execution_count": 49,
   "id": "b2cadaa6-ea95-448f-ba40-f3f408097873",
   "metadata": {},
   "outputs": [],
   "source": [
    "tmp = dict()\n",
    "tmp_sides = dict()\n",
    "tmp_min = dict()\n",
    "\n",
    "for r in [\"65\",\"80\",\"90\"]:\n",
    "    \n",
    "    expected_tmp = dict(plateau_inhibited_by= [\n",
    "        i  for i in change if [*change[i][f\"plateaus_with_inhibition_{r}mV\"].values()][0] < 0])\n",
    "    rs = {\"inhibited\": [\n",
    "        i  for i in change if [*change[i][f\"plateaus_with_inhibition_{r}mV\"].values()][0] < 0],\n",
    "          \"excited\":[\n",
    "        i  for i in change if [*change[i][f\"plateaus_with_inhibition_{r}mV\"].values()][0] > 0]}\n",
    "    tmp_sides.update({f\"{r}mV\": rs})\n",
    "    degree = len(expected_tmp['plateau_inhibited_by'])/2e3\n",
    "    tmp.update({f\"{r}mV\": degree})\n",
    "    tmp_min.update({f\"{r}mV\": min([[*change[i][f\"plateaus_with_inhibition_{r}mV\"].values()][0] for i in change])})\n",
    "    "
   ]
  },
  {
   "cell_type": "code",
   "execution_count": 57,
   "id": "a5c06474-ba3d-4f92-8875-caa0bf26fdce",
   "metadata": {},
   "outputs": [
    {
     "data": {
      "image/png": "[encoded data removed]",
      "text/plain": [
       "<Figure size 432x288 with 1 Axes>"
      ]
     },
     "metadata": {
      "needs_background": "light"
     },
     "output_type": "display_data"
    }
   ],
   "source": [
    "fig = plt.figure()\n",
    "ax = fig.add_subplot(1, 1, 1)\n",
    "for i, k in enumerate(tmp_min):\n",
    "    plt.bar([i],[tmp_min[k]])\n",
    "plt.xticks([0,1,2],[\"-65 mV\", \"-80 mV\", \"-90 mV\"])\n",
    "ax.tick_params(axis='both', which='major', labelsize=22)\n",
    "ax.tick_params(axis='both', which='minor', labelsize=22)\n",
    "plt.ylim(-15,0)\n",
    "plt.savefig(os.path.join(\"auc\", \"min_change_AUC.svg\"))"
   ]
  },
  {
   "cell_type": "code",
   "execution_count": 43,
   "id": "290eb036-98c4-4bb5-8f14-c8552bd069a3",
   "metadata": {},
   "outputs": [
    {
     "data": {
      "image/png": "[encoded data removed]",
      "text/plain": [
       "<Figure size 432x288 with 1 Axes>"
      ]
     },
     "metadata": {
      "needs_background": "light"
     },
     "output_type": "display_data"
    }
   ],
   "source": [
    "fig = plt.figure()\n",
    "ax = fig.add_subplot(1, 1, 1)\n",
    "p = 0\n",
    "labels = []\n",
    "xticks = []\n",
    "csfont = {\"fontname\": \"Arial\",\n",
    "          'fontsize': 22}\n",
    "for k in tmp_sides:\n",
    "    for r in tmp_sides[k]:\n",
    "        labels.append(f\"-{k}_{r}\")\n",
    "        xticks.append(p)\n",
    "        vs = list()\n",
    "        for i in tmp_sides[k][r]:\n",
    "            v = [*tmp_rest[k][i][f\"plateaus_without_inhibition_{k}\"].values()][0]\n",
    "            vs.append(v)\n",
    "        v_m = np.mean(vs)\n",
    "        e = np.std(vs)\n",
    "        plt.scatter([p] ,v_m, s = 100, c=\"black\")\n",
    "        plt.errorbar([p] ,v_m, e, fmt='o', c=\"black\", capsize=5)\n",
    "        p+=1\n",
    "plt.xticks(xticks,labels, rotation=90, **csfont)\n",
    "plt.ylabel(\"resting membrane level (mV)\",**csfont)\n",
    "ax.tick_params(axis='both', which='major', labelsize=22)\n",
    "ax.tick_params(axis='both', which='minor', labelsize=22)\n",
    "plt.savefig(os.path.join(\"auc\", \"resting_membrane_in_each_group.svg\"))"
   ]
  },
  {
   "cell_type": "code",
   "execution_count": 39,
   "id": "d1a615bf-e4a7-4a99-95ec-a6b03b395fb5",
   "metadata": {},
   "outputs": [
    {
     "data": {
      "image/png": "[encoded data removed]",
      "text/plain": [
       "<Figure size 432x288 with 1 Axes>"
      ]
     },
     "metadata": {
      "needs_background": "light"
     },
     "output_type": "display_data"
    }
   ],
   "source": [
    "fig = plt.figure()\n",
    "ax = fig.add_subplot(1, 1, 1)\n",
    "csfont = {\"fontname\": \"Arial\",\n",
    "              'fontsize': 22}\n",
    "for i, r in enumerate(tmp):\n",
    "    plt.bar([i],tmp[r]*1e2)\n",
    "    plt.xticks([0,1,2],[\"-65 mV\", \"-80 mV\", \"-90 mV\"], **csfont)\n",
    "    ax.tick_params(axis='both', which='major', labelsize=22)\n",
    "    ax.tick_params(axis='both', which='minor', labelsize=22)\n",
    "    plt.ylabel(\"Percentage inhibited plateaus (%)\", **csfont)\n",
    "    plt.ylim(0,80)\n",
    "    plt.savefig(os.path.join(\"auc\", \"percentage_inhibited.svg\"))\n",
    "    \n"
   ]
  },
  {
   "cell_type": "code",
   "execution_count": null,
   "id": "aff3c856-081a-42a4-b20e-62aa20262456",
   "metadata": {},
   "outputs": [],
   "source": []
  }
 ],
 "metadata": {
  "kernelspec": {
   "display_name": "Python 3",
   "language": "python",
   "name": "python3"
  },
  "language_info": {
   "codemirror_mode": {
    "name": "ipython",
    "version": 3
   },
   "file_extension": ".py",
   "mimetype": "text/x-python",
   "name": "python",
   "nbconvert_exporter": "python",
   "pygments_lexer": "ipython3",
   "version": "3.7.10"
  }
 },
 "nbformat": 4,
 "nbformat_minor": 5
}
