{
 "cells": [
  {
   "cell_type": "code",
   "execution_count": null,
   "id": "737b0eba-b7d2-401a-b318-e334144e9174",
   "metadata": {},
   "outputs": [],
   "source": []
  },
  {
   "cell_type": "code",
   "execution_count": 2,
   "id": "9e05772b-8f1f-4e2d-b30b-39082998fc60",
   "metadata": {},
   "outputs": [],
   "source": [
    "import os\n",
    "from snudda import SnuddaInit\n",
    "from snudda import SnuddaPlace\n",
    "from snudda import SnuddaDetect\n",
    "from snudda import SnuddaPrune\n",
    "from snudda.input import SnuddaInput"
   ]
  },
  {
   "cell_type": "code",
   "execution_count": 3,
   "id": "64c907cb-97b8-4bd3-95bb-c388c0e9e0b9",
   "metadata": {},
   "outputs": [],
   "source": [
    "os.environ[\"SNUDDA_DATA\"] = os.environ[\"BASALGANGLIADATA\"]"
   ]
  },
  {
   "cell_type": "code",
   "execution_count": 4,
   "id": "863f835c-821e-46b2-81a0-1de547348cc3",
   "metadata": {},
   "outputs": [],
   "source": [
    "seed=12345"
   ]
  },
  {
   "cell_type": "code",
   "execution_count": 5,
   "id": "19ed8bc2-2407-4566-bef1-451c6f7057ec",
   "metadata": {},
   "outputs": [],
   "source": [
    "local = os.path.join(\"/home\", \"jofrony\", \"Documents\", \"Repositories\", \"current_bgd2\", \n",
    "                     \"network_visualisation\", \"local\", \"analysis\", \"visualisation\") \n",
    "network_path = os.path.join(local, \"networks/striatum\")"
   ]
  },
  {
   "cell_type": "code",
   "execution_count": 7,
   "id": "b4267821-c583-403c-b7ca-20c761a1d2d9",
   "metadata": {
    "scrolled": true,
    "tags": []
   },
   "outputs": [
    {
     "name": "stdout",
     "output_type": "stream",
     "text": [
      "Using cube for striatum\n",
      "Neurons for striatum read from /home/jofrony/Dropbox/Repositories/BasalGangliaData/data/neurons/striatum\n",
      "Adding neurons: FS from dir /home/jofrony/Dropbox/Repositories/BasalGangliaData/data/neurons/striatum/fs\n",
      "Adding neurons: dSPN from dir /home/jofrony/Dropbox/Repositories/BasalGangliaData/data/neurons/striatum/dspn\n",
      "Adding neurons: iSPN from dir /home/jofrony/Dropbox/Repositories/BasalGangliaData/data/neurons/striatum/ispn\n",
      "Adding neurons: ChIN from dir /home/jofrony/Dropbox/Repositories/BasalGangliaData/data/neurons/striatum/chin\n",
      "Writing /home/jofrony/Documents/Repositories/current_bgd2/network_visualisation/local/analysis/visualisation/networks/striatum/network-config.json\n",
      "No d_view specified, running distribute neurons in serial\n",
      "Processing hyper voxel : 25/80 (50 neurons)\n",
      "Processing hyper voxel : 5/80 (50 neurons)\n",
      "Processing hyper voxel : 24/80 (49 neurons)\n",
      "Processing hyper voxel : 21/80 (44 neurons)\n",
      "Processing hyper voxel : 29/80 (42 neurons)\n",
      "Processing hyper voxel : 4/80 (30 neurons)\n",
      "Processing hyper voxel : 1/80 (29 neurons)\n",
      "Processing hyper voxel : 26/80 (29 neurons)\n",
      "Processing hyper voxel : 45/80 (22 neurons)\n",
      "Processing hyper voxel : 9/80 (22 neurons)\n",
      "Processing hyper voxel : 20/80 (22 neurons)\n",
      "Processing hyper voxel : 28/80 (18 neurons)\n",
      "Processing hyper voxel : 22/80 (16 neurons)\n",
      "Processing hyper voxel : 6/80 (15 neurons)\n",
      "Processing hyper voxel : 30/80 (11 neurons)\n",
      "Processing hyper voxel : 41/80 (7 neurons)\n",
      "Processing hyper voxel : 0/80 (7 neurons)\n",
      "Processing hyper voxel : 49/80 (7 neurons)\n",
      "Processing hyper voxel : 10/80 (6 neurons)\n",
      "Processing hyper voxel : 44/80 (6 neurons)\n",
      "Processing hyper voxel : 46/80 (6 neurons)\n",
      "Processing hyper voxel : 8/80 (5 neurons)\n",
      "Processing hyper voxel : 2/80 (5 neurons)\n",
      "Processing hyper voxel : 50/80 (4 neurons)\n",
      "Processing hyper voxel : 40/80 (2 neurons)\n",
      "Processing hyper voxel : 48/80 (2 neurons)\n",
      "Processing hyper voxel : 33/80 (1 neurons)\n",
      "Processing hyper voxel : 42/80 (1 neurons)\n",
      "Read 35839 out of total 35839 synapses\n"
     ]
    }
   ],
   "source": [
    "si = SnuddaInit(network_path=network_path, random_seed=seed)\n",
    "si.define_striatum(num_neurons=50,volume_type=\"cube\", neurons_dir=\"$DATA/neurons\")\n",
    "si.write_json()\n",
    "sp = SnuddaPlace(network_path=network_path)\n",
    "sp.place()\n",
    "sd = SnuddaDetect(network_path=network_path)\n",
    "sd.detect()\n",
    "sp = SnuddaPrune(network_path=network_path);\n",
    "sp.prune()"
   ]
  },
  {
   "cell_type": "code",
   "execution_count": null,
   "id": "2f952bc7-562d-4de6-ba51-c74b2dca717e",
   "metadata": {},
   "outputs": [],
   "source": []
  }
 ],
 "metadata": {
  "kernelspec": {
   "display_name": "Python 3 (ipykernel)",
   "language": "python",
   "name": "python3"
  },
  "language_info": {
   "codemirror_mode": {
    "name": "ipython",
    "version": 3
   },
   "file_extension": ".py",
   "mimetype": "text/x-python",
   "name": "python",
   "nbconvert_exporter": "python",
   "pygments_lexer": "ipython3",
   "version": "3.10.4"
  }
 },
 "nbformat": 4,
 "nbformat_minor": 5
}
