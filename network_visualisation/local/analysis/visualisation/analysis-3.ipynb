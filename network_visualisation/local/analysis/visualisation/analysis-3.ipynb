{
 "cells": [
  {
   "cell_type": "code",
   "execution_count": 1,
   "id": "06b98690-76c7-4c77-a0f8-f6e3eb98958f",
   "metadata": {},
   "outputs": [],
   "source": [
    "import os\n",
    "from snudda.plotting.Blender.visualisation.visualise_network import VisualiseNetwork"
   ]
  },
  {
   "cell_type": "code",
   "execution_count": 2,
   "id": "31056514-260d-443f-9858-cd85fe51f45e",
   "metadata": {},
   "outputs": [],
   "source": [
    "local = os.path.join(\"/home\", \"jofrony\", \"Documents\", \"Repositories\", \"current_bgd2\", \n",
    "                     \"network_visualisation\", \"local\", \"analysis\", \"visualisation\") \n",
    "network_path = os.path.join(local, \"networks/striatum\")"
   ]
  },
  {
   "cell_type": "code",
   "execution_count": 3,
   "id": "ff380754-7af7-4e45-8247-73dfd458f20e",
   "metadata": {
    "scrolled": true,
    "tags": []
   },
   "outputs": [
    {
     "name": "stdout",
     "output_type": "stream",
     "text": [
      "Loading 50 neurons with 1691 synapses and 0 gap junctions\n",
      "Cleaning the scene.\n",
      "Info: Deleted 3 object(s)\n",
      "/home/jofrony/Dropbox/Repositories/BasalGangliaData/data/neurons/striatum/ispn/str-ispn-e150917_c11_D2-mWT-MSN1-v20211026/morphology/WT-MSN1-cor-rep-ax-res3-var8.swc\n",
      "Adding soma [1.0, 0.0, 0.0, 0.0, 5.61785, -1]\n",
      "Setting neuron 0 (iSPN_1) position: [0.00470278 0.00394067 0.00769257]\n",
      "Color......\n",
      "/home/jofrony/Dropbox/Repositories/BasalGangliaData/data/neurons/striatum/fs/str-fs-e161024_FS16-mDR-rat-Mar-13-08-1-536-R-v20210210/morphology/DR-rat-Mar-13-08-1-536-R-cor-rep-res3-var4.swc\n",
      "Adding soma [1.0, 0.0, 0.0, 0.0, 5.7253, -1]\n",
      "Setting neuron 1 (FS_1) position: [0.0047161  0.00394076 0.00770437]\n",
      "Color......\n",
      "Adding synapses...\n",
      "nSynapses = 5\n",
      "(  0.0001 sec |   0.0001 sec) Importing OBJ '/home/jofrony/Documents/Repositories/current_bgd2/network_visualisation/local/analysis/visualisation/networks/striatum/mesh/Striatum-cube-mesh-8.532141342733388e-05.obj'...\n",
      "  (  0.0007 sec |   0.0003 sec) Parsing OBJ file...\n",
      "    (  0.0055 sec |   0.0001 sec) Done, loading materials and images...\n",
      "    (  0.0112 sec |   0.0058 sec) Done, building geometries (verts:8 faces:12 materials: 1 smoothgroups:0) ...\n",
      "    (  0.0577 sec |   0.0523 sec) Done.\n",
      "  (  0.0629 sec |   0.0624 sec) Finished importing: '/home/jofrony/Documents/Repositories/current_bgd2/network_visualisation/local/analysis/visualisation/networks/striatum/mesh/Striatum-cube-mesh-8.532141342733388e-05.obj'\n",
      "Progress: 100.00%\n",
      "\n",
      "[bpy.data.objects['Camera']]\n",
      "Info: Saved \"visualise-network.blend\"\n",
      "Rendering image.\n",
      "CPU times: user 1min, sys: 217 ms, total: 1min 1s\n",
      "Wall time: 8.83 s\n"
     ]
    }
   ],
   "source": [
    "%%time\n",
    "blender_output_image = os.path.join(network_path, \"neuron-rendering.png\")\n",
    "\n",
    "vn = VisualiseNetwork(network_path=network_path, blender_output_image=blender_output_image)\n",
    "vn.visualise(neuron_id=[0,1],blender_output_image=blender_output_image, show_synapses=True)"
   ]
  },
  {
   "cell_type": "code",
   "execution_count": null,
   "id": "49c369a7-b2ac-4b8c-8f1a-0ef66a8a4a55",
   "metadata": {},
   "outputs": [],
   "source": []
  }
 ],
 "metadata": {
  "kernelspec": {
   "display_name": "blender",
   "language": "python",
   "name": "blender"
  },
  "language_info": {
   "codemirror_mode": {
    "name": "ipython",
    "version": 3
   },
   "file_extension": ".py",
   "mimetype": "text/x-python",
   "name": "python",
   "nbconvert_exporter": "python",
   "pygments_lexer": "ipython3",
   "version": "3.7.7"
  }
 },
 "nbformat": 4,
 "nbformat_minor": 5
}
