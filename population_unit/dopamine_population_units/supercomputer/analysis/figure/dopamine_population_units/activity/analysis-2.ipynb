{
 "cells": [
  {
   "cell_type": "code",
   "execution_count": null,
   "id": "9d2655b4-7448-436b-af93-4d0f163880d5",
   "metadata": {},
   "outputs": [],
   "source": []
  },
  {
   "cell_type": "code",
   "execution_count": null,
   "id": "20d0f89d-c4af-4460-8d68-308e9e3ca048",
   "metadata": {},
   "outputs": [],
   "source": [
    "import sys\n",
    "import os\n",
    "import json\n",
    "sys.path.append(os.environ[\"CODE_REPOSITORY\"])\n",
    "from code_repository.hotones.thetools import *\n",
    "from code_repository.load.load_simulations import LoadSimulations\n",
    "import matplotlib.pyplot as plt"
   ]
  },
  {
   "cell_type": "code",
   "execution_count": null,
   "id": "f3afe385-3048-4169-9f86-3cb81b86f4f8",
   "metadata": {},
   "outputs": [],
   "source": [
    "external = os.path.join(\"/media\",\"jofrony\", \"2TB\", \"dardel\",\"current_bgd2\",\"population_unit\", \"dopamine\", \"supercomputer\", \"networks\")\n",
    "repository = os.path.join(\"/home\",\"jofrony\",\"Documents\",\n",
    "                          \"Repositories\",\"current_bgd2\",\n",
    "                          \"population_unit\", \"dopamine\",\"supercomputer\",\"networks\")"
   ]
  },
  {
   "cell_type": "code",
   "execution_count": null,
   "id": "38120e0a-33a5-46ce-a3e1-89d3d1a19154",
   "metadata": {},
   "outputs": [],
   "source": [
    "folder = \"rates\""
   ]
  },
  {
   "cell_type": "code",
   "execution_count": null,
   "id": "44a394a3-17ff-4987-b097-c17dd4598450",
   "metadata": {},
   "outputs": [],
   "source": [
    "e = Experiments()\n",
    "e.add_experiment(name=\"p1_noDA\",\n",
    "                 color=\"black\",\n",
    "                 label=\"2500 ms stimulation\",\n",
    "                 network=\"network-synapses.hdf5\",\n",
    "                 path=os.path.join(external, \"pdc_network_2022-11-27\"),\n",
    "                 output=\"network_output_external-input-dardel-2022-11-28-10-21-49-p1_no_DA.hdf5\")\n",
    "e.add_experiment(name=\"p1_DA\",\n",
    "                 color=\"red\",\n",
    "                 label=\"2500 ms stimulation\",\n",
    "                 network=\"network-synapses.hdf5\",\n",
    "                 path=os.path.join(external, \"pdc_network_2022-11-27\"),\n",
    "                 output=\"network_output_external-input-dardel-2022-11-28-10-21-49-p1_dopamine_modulation_with_receptors_method_alpha_background_tstart_1000_tonic_0.2_gmax_increase_0.5_tau_500.hdf5\")\n",
    "\n",
    "\n",
    "\n",
    "   "
   ]
  },
  {
   "cell_type": "code",
   "execution_count": null,
   "id": "8fd5d071-f25b-4bb2-b9e6-3d75af97e8d4",
   "metadata": {},
   "outputs": [],
   "source": [
    "sl = LoadSimulations(experiments=e)\n",
    "sl.load_network_file(load_synapses=False)"
   ]
  },
  {
   "cell_type": "code",
   "execution_count": null,
   "id": "1581e121-a39a-4e0d-bd85-7780399c8bf5",
   "metadata": {},
   "outputs": [],
   "source": [
    "%%time\n",
    "neuron_type = \"dSPN\"\n",
    "trace_ids = sl.get_population_units(neuron_type=\"dSPN\", population_unit=1)\n",
    "tmp = dict()\n",
    "for name in e.experiments:\n",
    "    spikes = sl.get_spikes(name=name, trace_ids=trace_ids[name])\n",
    "    sub_spikes = {r:s for r,s in spikes.items() if len(s)>0}\n",
    "    tmp.update({name: sub_spikes})\n"
   ]
  },
  {
   "cell_type": "code",
   "execution_count": null,
   "id": "4b1321c5-2616-4e94-b10b-061d3968c019",
   "metadata": {},
   "outputs": [],
   "source": [
    "colors = {\"p1_noDA\": striatum_colour_code[neuron_type],\n",
    "         \"p1_DA\": \"red\"}"
   ]
  },
  {
   "cell_type": "code",
   "execution_count": null,
   "id": "e08edcde-e339-4fad-8c2e-5407df7fe45f",
   "metadata": {},
   "outputs": [],
   "source": [
    "fig_name = f\"{neuron_type}_dSPN\"\n",
    "time_histogram(spike_train_dict=tmp, experiment_names=e,colors=colors,fig_name=fig_name,bin_size=50e-3, t_stop=3, parameters={plt.xlim: (0,3), plt.ylim: (0,60)}, save=True, folder=folder)"
   ]
  },
  {
   "cell_type": "code",
   "execution_count": null,
   "id": "815778f6-ef6c-47a4-92a8-d19f7067d834",
   "metadata": {},
   "outputs": [],
   "source": [
    "fig_name = f\"{neuron_type}_dSPN\"\n",
    "instantaneous_rate(spike_train_dict=tmp, experiment_names=[*e.experiments.keys()],colors=colors, t_stop=3, fig_name=fig_name,folder=folder,parameters={plt.xlim: (0,3), plt.ylim: (0,30)}, save=True,kernel_s=5e-2)"
   ]
  },
  {
   "cell_type": "code",
   "execution_count": null,
   "id": "227ddbff-8ca7-4895-83bb-bbff1623c386",
   "metadata": {},
   "outputs": [],
   "source": []
  },
  {
   "cell_type": "code",
   "execution_count": null,
   "id": "1c8477ae-69a0-40ed-8e40-db6e71a729f9",
   "metadata": {},
   "outputs": [],
   "source": [
    "%%time\n",
    "neuron_type = \"iSPN\"\n",
    "trace_ids = sl.get_population_units(neuron_type=\"iSPN\", population_unit=1)\n",
    "tmp = dict()\n",
    "for name in e.experiments:\n",
    "    spikes = sl.get_spikes(name=name, trace_ids=trace_ids[name])\n",
    "    sub_spikes = {r:s for r,s in spikes.items() if len(s)>0}\n",
    "    tmp.update({name: sub_spikes})\n"
   ]
  },
  {
   "cell_type": "code",
   "execution_count": null,
   "id": "1fdfbcdf-5bae-4d2b-825e-f4d0362b24a1",
   "metadata": {},
   "outputs": [],
   "source": [
    "colors = {\"p1_noDA\": striatum_colour_code[neuron_type],\n",
    "         \"p1_DA\": \"red\"}"
   ]
  },
  {
   "cell_type": "code",
   "execution_count": null,
   "id": "1925878b-9f12-4f8a-89dc-612ab689a884",
   "metadata": {},
   "outputs": [],
   "source": [
    "fig_name = f\"{neuron_type}_iSPN\"\n",
    "time_histogram(spike_train_dict=tmp, experiment_names=e,colors=colors,fig_name=fig_name,bin_size=50e-3, t_stop=3, parameters={plt.xlim: (0,3), plt.ylim: (0,30)}, save=True, folder=folder)"
   ]
  },
  {
   "cell_type": "code",
   "execution_count": null,
   "id": "4a6dc8f7-b567-47e2-98c6-4f1b2e50e5de",
   "metadata": {},
   "outputs": [],
   "source": [
    "fig_name = f\"{neuron_type}_iSPN\"\n",
    "instantaneous_rate(spike_train_dict=tmp, experiment_names=[*e.experiments.keys()],colors=colors, t_stop=3, fig_name=fig_name,folder=folder,parameters={plt.xlim: (0,3), plt.ylim: (0,30)}, save=True,kernel_s=5e-2)"
   ]
  },
  {
   "cell_type": "code",
   "execution_count": null,
   "id": "762154cc-9785-4c49-b3f0-aa094b84e310",
   "metadata": {},
   "outputs": [],
   "source": []
  }
 ],
 "metadata": {
  "kernelspec": {
   "display_name": "Python 3",
   "language": "python",
   "name": "python3"
  },
  "language_info": {
   "codemirror_mode": {
    "name": "ipython",
    "version": 3
   },
   "file_extension": ".py",
   "mimetype": "text/x-python",
   "name": "python",
   "nbconvert_exporter": "python",
   "pygments_lexer": "ipython3",
   "version": "3.7.10"
  }
 },
 "nbformat": 4,
 "nbformat_minor": 5
}
