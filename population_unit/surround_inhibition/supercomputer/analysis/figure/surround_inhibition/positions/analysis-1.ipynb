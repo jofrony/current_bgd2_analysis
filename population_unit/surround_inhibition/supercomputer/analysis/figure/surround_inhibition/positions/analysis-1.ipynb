{
 "cells": [
  {
   "cell_type": "code",
   "execution_count": 12,
   "id": "f6bf5210-eca3-4f47-acb3-886eb58e27d1",
   "metadata": {},
   "outputs": [],
   "source": [
    "import sys\n",
    "import os\n",
    "sys.path.append(os.environ[\"CODE_REPOSITORY\"])\n",
    "from code_repository.hotones.thetools import *\n",
    "from snudda.utils.load import SnuddaLoad\n",
    "from snudda.neurons.neuron_morphology import NeuronMorphology"
   ]
  },
  {
   "cell_type": "code",
   "execution_count": 2,
   "id": "c556d4a7-df4c-474d-89db-18be91f32973",
   "metadata": {},
   "outputs": [],
   "source": [
    "external = os.path.join(\"/media\",\"jofrony\",\"2TB\",\"dardel\", \"current_bgd2\",\"population_unit\", \"surround_inhibition\", \"supercomputer\", \n",
    "                        \"networks\", \"pdc_network_2022-08-31\")\n",
    "network_path = os.path.join(external,\"network-synapses.hdf5\")"
   ]
  },
  {
   "cell_type": "code",
   "execution_count": 4,
   "id": "130ab8c3-1b64-4a2d-bc6d-d2bea8851597",
   "metadata": {},
   "outputs": [
    {
     "name": "stdout",
     "output_type": "stream",
     "text": [
      "Loading 40000 neurons with 35040256 synapses and 2531 gap junctions\n"
     ]
    }
   ],
   "source": [
    "network_data = SnuddaLoad(network_file=network_path)"
   ]
  },
  {
   "cell_type": "code",
   "execution_count": 23,
   "id": "1894f02f-79f8-4205-bdc1-c24ffb0df605",
   "metadata": {},
   "outputs": [],
   "source": [
    "neuron_types = network_data.get_neuron_types()\n",
    "soma_positions = network_data.data[\"neuronPositions\"]\n",
    "population_units = network_data.data[\"populationUnit\"]\n",
    "population_unit_colour = {0: \"grey\", 1 : \"blue\", 2: \"blue\"}\n",
    "remove_grids = True\n",
    "step_size = 10\n",
    "scale_position_x = 5.2e-3"
   ]
  },
  {
   "cell_type": "code",
   "execution_count": null,
   "id": "15b06b7b-07b7-4f66-958d-482e830a2e4d",
   "metadata": {
    "scrolled": true,
    "tags": []
   },
   "outputs": [],
   "source": [
    "%%time\n",
    "plot_position_3D(soma_positions=soma_positions, \n",
    "                     neuron_types=neuron_types, \n",
    "                     colour=striatum_colour_code, \n",
    "                     remove_grids=remove_grids,\n",
    "                     step_size=step_size,\n",
    "                     scale_position_x=scale_position_x)"
   ]
  },
  {
   "cell_type": "code",
   "execution_count": null,
   "id": "d59add0a-a4fb-45a6-a92f-bfac0533141f",
   "metadata": {},
   "outputs": [],
   "source": [
    "%%time\n",
    "plot_position_3D(soma_positions=soma_positions, \n",
    "                     neuron_types=neuron_types, \n",
    "                     colour=striatum_colour_code_rgb, \n",
    "                     remove_grids=remove_grids,\n",
    "                     step_size=step_size,\n",
    "                     scale_position_x=scale_position_x)"
   ]
  },
  {
   "cell_type": "code",
   "execution_count": null,
   "id": "cf24effd-45e2-4f83-b3cf-80fa3f422a2f",
   "metadata": {},
   "outputs": [],
   "source": [
    "%%time\n",
    "plot_position_3D_population_unit(soma_positions=soma_positions, \n",
    "                     population_units=population_units, \n",
    "                     colour=population_unit_colour, \n",
    "                     remove_grids=remove_grids,\n",
    "                     step_size=step_size,\n",
    "                     scale_position_x=scale_position_x)"
   ]
  },
  {
   "cell_type": "code",
   "execution_count": null,
   "id": "73ac4139-9b11-4c50-8a70-453205a5870f",
   "metadata": {},
   "outputs": [],
   "source": []
  }
 ],
 "metadata": {
  "kernelspec": {
   "display_name": "Python 3",
   "language": "python",
   "name": "python3"
  },
  "language_info": {
   "codemirror_mode": {
    "name": "ipython",
    "version": 3
   },
   "file_extension": ".py",
   "mimetype": "text/x-python",
   "name": "python",
   "nbconvert_exporter": "python",
   "pygments_lexer": "ipython3",
   "version": "3.7.10"
  }
 },
 "nbformat": 4,
 "nbformat_minor": 5
}
