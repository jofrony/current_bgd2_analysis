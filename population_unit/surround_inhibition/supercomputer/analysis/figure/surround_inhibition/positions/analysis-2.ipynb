{
 "cells": [
  {
   "cell_type": "code",
   "execution_count": 1,
   "id": "32e48f5c-89d9-431f-992a-4bd5de0b07d6",
   "metadata": {},
   "outputs": [],
   "source": [
    "import sys\n",
    "import os\n",
    "sys.path.append(os.environ[\"CODE_REPOSITORY\"])\n",
    "from code_repository.hotones.thetools import *\n",
    "from snudda.utils.load import SnuddaLoad\n",
    "from snudda.neurons.neuron_morphology import NeuronMorphology"
   ]
  },
  {
   "cell_type": "code",
   "execution_count": 2,
   "id": "8fd3f0bd-6928-4aac-8ea9-1cc2767bf598",
   "metadata": {},
   "outputs": [],
   "source": [
    "external = os.path.join(\"/media\",\"jofrony\",\"2TB\",\"dardel\", \"current_bgd2\",\"population_unit\", \"surround_inhibition\", \"supercomputer\", \n",
    "                        \"networks\", \"pdc_network_2022-08-31\")\n",
    "network_path = os.path.join(external,\"network-synapses.hdf5\")"
   ]
  },
  {
   "cell_type": "code",
   "execution_count": 3,
   "id": "8a86a868-580a-4eb0-9393-fd73a84d8b11",
   "metadata": {},
   "outputs": [
    {
     "name": "stdout",
     "output_type": "stream",
     "text": [
      "Loading 40000 neurons with 35040256 synapses and 2531 gap junctions\n"
     ]
    }
   ],
   "source": [
    "network_data = SnuddaLoad(network_file=network_path)"
   ]
  },
  {
   "cell_type": "code",
   "execution_count": 15,
   "id": "1e18b09f-61d1-4cca-a156-43807e10a25c",
   "metadata": {},
   "outputs": [],
   "source": [
    "neuron_types = network_data.get_neuron_types()\n",
    "soma_positions = network_data.data[\"neuronPositions\"]\n",
    "population_units = network_data.data[\"populationUnit\"]\n",
    "population_unit_colour = {0: \"grey\", 1 : \"red\"}\n",
    "remove_grids = True\n",
    "step_size = 10\n",
    "scale_position_x = 5.2e-3"
   ]
  },
  {
   "cell_type": "code",
   "execution_count": 5,
   "id": "59d967f4-e609-452e-8e15-06bc4fc80976",
   "metadata": {},
   "outputs": [],
   "source": [
    "BGD = os.environ[\"BASALGANGLIADATA\"]"
   ]
  },
  {
   "cell_type": "code",
   "execution_count": 6,
   "id": "b63caf39-6e97-4384-94ec-2a5a7f0af788",
   "metadata": {},
   "outputs": [],
   "source": [
    "config_path = os.path.join(external,\"network-config.json\")"
   ]
  },
  {
   "cell_type": "code",
   "execution_count": 7,
   "id": "336cee21-2e64-47f2-866e-6c8240fedddd",
   "metadata": {},
   "outputs": [],
   "source": [
    "import json\n",
    "import matplotlib.pyplot as plt\n",
    "import numpy as np\n",
    "with open(config_path) as f:\n",
    "    jsl = json.load(f)"
   ]
  },
  {
   "cell_type": "code",
   "execution_count": 8,
   "id": "ee62a539-e378-441c-96e2-7af8cefefa98",
   "metadata": {},
   "outputs": [],
   "source": [
    "centre = jsl['PopulationUnits']['Striatum']['centres'][0]"
   ]
  },
  {
   "cell_type": "code",
   "execution_count": 9,
   "id": "645d7605-1d2f-46dd-a1f9-096a9f7fd53c",
   "metadata": {},
   "outputs": [
    {
     "name": "stdout",
     "output_type": "stream",
     "text": [
      "CPU times: user 395 ms, sys: 15.7 ms, total: 411 ms\n",
      "Wall time: 409 ms\n"
     ]
    }
   ],
   "source": [
    "%%time\n",
    "tmp = dict()\n",
    "for test in network_data.data['neurons']:\n",
    "    if (test['populationUnit'] == 1 and test[\"type\"]==\"dSPN\") or (test['populationUnit'] == 1 and test[\"type\"]==\"iSPN\"):\n",
    "        \n",
    "        name = test[\"name\"]\n",
    "        param = jsl[\"Neurons\"][test[\"name\"]][\"parameters\"].replace(\"$SNUDDA_DATA\", BGD)\n",
    "        mech = jsl[\"Neurons\"][test[\"name\"]][\"mechanisms\"].replace(\"$SNUDDA_DATA\", BGD)\n",
    "        morph = jsl[\"Neurons\"][test[\"name\"]][\"morphology\"].replace(\"$SNUDDA_DATA\", BGD)\n",
    "        modulation = jsl[\"Neurons\"][test[\"name\"]][\"modulation\"].replace(\"$SNUDDA_DATA\", BGD)\n",
    "        parameter_id = test[\"parameterID\"]\n",
    "        morphology_id = test[\"morphologyID\"]\n",
    "        modulation_id = test[\"modulationID\"]\n",
    "        swc_filename = test[\"morphology\"].replace(\"/cfs/klemming/home/j/jofn/BasalGangliaData/data\", BGD)\n",
    "        parameter_key = test[\"parameterKey\"]\n",
    "        morphology_key = test[\"morphologyKey\"]\n",
    "        modulation_key = test[\"modulationKey\"]\n",
    "        a_neuron = NeuronMorphology(param_filename=param,\n",
    "                           swc_filename=swc_filename,\n",
    "                           mech_filename=mech,\n",
    "                           name=name,\n",
    "                           modulation=modulation,\n",
    "                           morphology_id=morphology_id,\n",
    "                           parameter_id=parameter_id,\n",
    "                           modulation_id=modulation_id,\n",
    "                           parameter_key=parameter_key,\n",
    "                           morphology_key=morphology_key,\n",
    "                           modulation_key=modulation_key)\n",
    "        a_neuron.load_neuron_morphology()\n",
    "        a_neuron.find_radius()\n",
    "        tmp.update({test['neuronID']:a_neuron.max_axon_radius})"
   ]
  },
  {
   "cell_type": "code",
   "execution_count": 10,
   "id": "916a0d03-a006-4aaf-b513-88bc0f74797d",
   "metadata": {},
   "outputs": [],
   "source": [
    "axons = [ k for r, k in tmp.items()]"
   ]
  },
  {
   "cell_type": "code",
   "execution_count": 11,
   "id": "d8c18b1c-5563-4135-91a7-29a509ff2963",
   "metadata": {},
   "outputs": [],
   "source": [
    "axon_extent = np.mean(axons)"
   ]
  },
  {
   "cell_type": "code",
   "execution_count": 12,
   "id": "9aacc99a-df08-4e89-964e-25e0a2b68c72",
   "metadata": {},
   "outputs": [
    {
     "data": {
      "image/png": "[encoded data removed]",
      "text/plain": [
       "<Figure size 432x288 with 1 Axes>"
      ]
     },
     "metadata": {
      "needs_background": "light"
     },
     "output_type": "display_data"
    }
   ],
   "source": [
    "plt.hist(axons)\n",
    "plt.show()"
   ]
  },
  {
   "cell_type": "code",
   "execution_count": 13,
   "id": "f452f42b-1753-4c19-886c-e88f9142eac2",
   "metadata": {},
   "outputs": [],
   "source": [
    "alpha=0.02"
   ]
  },
  {
   "cell_type": "code",
   "execution_count": 16,
   "id": "e2727714-8315-4b68-8911-fba8e60bf305",
   "metadata": {},
   "outputs": [
    {
     "data": {
      "image/png": "[encoded data removed]",
      "text/plain": [
       "<Figure size 432x288 with 1 Axes>"
      ]
     },
     "metadata": {},
     "output_type": "display_data"
    },
    {
     "name": "stdout",
     "output_type": "stream",
     "text": [
      "CPU times: user 1min 7s, sys: 4.1 s, total: 1min 11s\n",
      "Wall time: 1min 7s\n"
     ]
    }
   ],
   "source": [
    "%%time\n",
    "plot_position_3D_population_unit_axonal_extent(soma_positions=soma_positions, \n",
    "                     population_units=population_units,\n",
    "                     centre=centre,\n",
    "                     axon_extent = axon_extent,\n",
    "                     alpha=alpha,\n",
    "                     colour=population_unit_colour, \n",
    "                     remove_grids=remove_grids,\n",
    "                     step_size=step_size,\n",
    "                     scale_position_x=scale_position_x)"
   ]
  },
  {
   "cell_type": "code",
   "execution_count": null,
   "id": "94486a5f-3c13-4205-8ff8-20995f8dacae",
   "metadata": {},
   "outputs": [],
   "source": []
  }
 ],
 "metadata": {
  "kernelspec": {
   "display_name": "Python 3",
   "language": "python",
   "name": "python3"
  },
  "language_info": {
   "codemirror_mode": {
    "name": "ipython",
    "version": 3
   },
   "file_extension": ".py",
   "mimetype": "text/x-python",
   "name": "python",
   "nbconvert_exporter": "python",
   "pygments_lexer": "ipython3",
   "version": "3.7.10"
  }
 },
 "nbformat": 4,
 "nbformat_minor": 5
}
