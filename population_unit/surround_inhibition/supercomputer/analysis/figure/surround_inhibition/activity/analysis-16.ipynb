{
 "cells": [
  {
   "cell_type": "code",
   "execution_count": null,
   "id": "8773db33-0c1d-4de9-a2a6-6b9c85dfd9c8",
   "metadata": {},
   "outputs": [],
   "source": [
    "import sys\n",
    "import json\n",
    "import os\n",
    "sys.path.append(os.environ[\"CODE_REPOSITORY\"])\n",
    "from code_repository.hotones.thetools import *\n",
    "import matplotlib.pyplot as plt\n",
    "from snudda.utils.load import SnuddaLoad"
   ]
  },
  {
   "cell_type": "code",
   "execution_count": null,
   "id": "0b88c734-fe07-4dae-aa40-f9a51d9bfb36",
   "metadata": {},
   "outputs": [],
   "source": [
    "external = os.path.join(\"/media\",\"jofrony\",\"2TB\", \"dardel\",\"current_bgd2\",\"population_unit\", \"surround_inhibition\", \"supercomputer\", \"networks\")"
   ]
  },
  {
   "cell_type": "code",
   "execution_count": null,
   "id": "69754202-37ff-409a-a331-b234238514d8",
   "metadata": {},
   "outputs": [],
   "source": [
    "cell_ids = json.load(open(os.path.join(\"..\", \"..\",\"..\",\"..\",\"networks\", \"pdc_network_2022-08-31\", \"cell_ids_dardel_p1.json\")))"
   ]
  },
  {
   "cell_type": "code",
   "execution_count": null,
   "id": "7ad845f8-3c9e-4e82-aa1e-fd96a9dd4675",
   "metadata": {},
   "outputs": [],
   "source": [
    "os.environ[\"SNUDDA_DATA\"] = os.environ[\"BASALGANGLIADATA\"]"
   ]
  },
  {
   "cell_type": "code",
   "execution_count": null,
   "id": "20f2420a-02ca-4989-bf80-1af3386d4f6d",
   "metadata": {},
   "outputs": [],
   "source": [
    "folder = \"frequency\""
   ]
  },
  {
   "cell_type": "code",
   "execution_count": null,
   "id": "31de4cad-a322-44e8-a3fa-87f6efa753cb",
   "metadata": {},
   "outputs": [],
   "source": [
    "parameters = {\"start\": 0.1, \"end\": 2.5}"
   ]
  },
  {
   "cell_type": "code",
   "execution_count": null,
   "id": "1513d930-7b34-474e-8148-4326c0f56d8d",
   "metadata": {},
   "outputs": [],
   "source": [
    "e = Experiments()\n",
    "e.add_experiment(name=\"p1_with_ex\",\n",
    "                 color=\"black\",\n",
    "                 label=\"2500 ms stimulation\",\n",
    "                 network=\"network-synapses.hdf5\",\n",
    "                 path=os.path.join(external, \"pdc_network_2022-08-31\"),\n",
    "                 output=\"network_output_external-input-dardel-2022-10-25-12-00-58-p1_empty.hdf5\")\n",
    "e.add_experiment(name=\"p1_with_ex_current_injection_presynaptic\",\n",
    "                 color=\"red\",\n",
    "                 label=\"2500 ms stimulation\",\n",
    "                 network=\"network-synapses.hdf5\",\n",
    "                 path=os.path.join(external, \"pdc_network_2022-08-31\"),\n",
    "                 output=\"network_output_80mV_external-input-dardel-2022-10-25-12-00-58-p1_cell_ids_current_injection_dardel_2022-10-25-12-06-04_presynaptic_to_p1.hdf5\")\n",
    "\n",
    "   "
   ]
  },
  {
   "cell_type": "code",
   "execution_count": null,
   "id": "f69b5475-02ba-4f3e-a306-9097c981276c",
   "metadata": {},
   "outputs": [],
   "source": [
    "sl = LoadSimulations(experiments=e)\n",
    "sl.load_network_file(load_synapses=False)"
   ]
  },
  {
   "cell_type": "code",
   "execution_count": null,
   "id": "0c4ab518-08ac-4d83-8ffd-d0b145383e83",
   "metadata": {},
   "outputs": [],
   "source": [
    "neurons_info = sl.experiments[\"p1_with_ex_current_injection_presynaptic\"]['network_structure'].data['neurons']"
   ]
  },
  {
   "cell_type": "code",
   "execution_count": null,
   "id": "39c4532c-bdfb-451d-8aef-06d1b32eeb8d",
   "metadata": {
    "tags": []
   },
   "outputs": [],
   "source": [
    "dir(sl.experiments[\"p1_with_ex_current_injection_presynaptic\"]['network_structure'])"
   ]
  },
  {
   "cell_type": "code",
   "execution_count": null,
   "id": "45855f78-b0b6-4831-9c90-623b33bd9e9c",
   "metadata": {},
   "outputs": [],
   "source": [
    "neuron_type=\"SPN\"\n",
    "specific_trace_ids = {k: cell_ids[\"iSPN\"][::10]+cell_ids[\"dSPN\"] for k in e.experiments}\n",
    "dt_step=0.5"
   ]
  },
  {
   "cell_type": "code",
   "execution_count": null,
   "id": "d12bcde8-d00b-4ea4-8e79-38e004704512",
   "metadata": {},
   "outputs": [],
   "source": [
    "%%time\n",
    "dendritic_voltage = dendrite_voltage(data_obj=sl, \n",
    "                                     neuron_type=neuron_type, \n",
    "                                     specific_trace_ids=specific_trace_ids,\n",
    "                                     interval=[0, 2.5], \n",
    "                                     dt_step=dt_step)\n",
    "\n",
    "average_dendritic_voltages = average_dendritic_voltage(dvoltage=dendritic_voltage)\n"
   ]
  },
  {
   "cell_type": "code",
   "execution_count": null,
   "id": "62fe0f2e-110c-45a8-b029-0c4584b6a117",
   "metadata": {
    "scrolled": true,
    "tags": []
   },
   "outputs": [],
   "source": [
    "cell_ids_s = cell_ids[\"iSPN\"][::10]+cell_ids[\"dSPN\"]\n",
    "c = dict(p1_with_ex=\"black\",p1_with_ex_current_injection_presynaptic=\"red\")\n",
    "for cs in cell_ids_s:\n",
    "    \n",
    "    for i in range(1,20):\n",
    "        plt.figure()\n",
    "        plt.title(f\"Cell id {cs} sec id {i}\")\n",
    "\n",
    "        for exp in dendritic_voltage:\n",
    "            plt.plot(dendritic_voltage[exp][cs][i], color=c[exp])\n",
    "    plt.show()\n",
    "    "
   ]
  },
  {
   "cell_type": "code",
   "execution_count": null,
   "id": "7fb9ed55-26d4-42fd-b1c3-195448869a62",
   "metadata": {},
   "outputs": [],
   "source": [
    "tmp = dict()\n",
    "neurons_below = list()\n",
    "tmp_corrected = dict()\n",
    "skip = 500\n",
    "import numpy as np\n",
    "for exp, data in average_dendritic_voltages.items():\n",
    "    v_s = list()\n",
    "    for cell_id, v in data.items():\n",
    "        \n",
    "        if np.max(dendritic_voltage[exp][cell_id][1]) < -45:\n",
    "            neurons_below.append(neurons_info[cell_id])\n",
    "            plt.plot(v)\n",
    "            v_s.append(v[skip:])\n",
    "        \n",
    "    tmp.update({exp: np.mean(v_s, axis=0)})\n",
    "    tmp_corrected.update({exp: np.mean(v_s, axis=0) - np.min(np.mean(v_s, axis=0))})"
   ]
  },
  {
   "cell_type": "code",
   "execution_count": null,
   "id": "748f5a02-2f6f-4346-a58d-4c9a1c8d2ace",
   "metadata": {
    "scrolled": true,
    "tags": []
   },
   "outputs": [],
   "source": [
    "[os.path.basename(l['neuronPath']) for l in neurons_below]"
   ]
  },
  {
   "cell_type": "code",
   "execution_count": null,
   "id": "b4e7af2c-9009-4985-b3ce-016f755334c0",
   "metadata": {},
   "outputs": [],
   "source": [
    "tmp = dict()\n",
    "tmp_corrected = dict()\n",
    "skip = 500\n",
    "import numpy as np\n",
    "\n",
    "v_s = list()\n",
    "data = average_dendritic_voltages[\"p1_with_ex_current_injection_presynaptic\"]\n",
    "for cell_id, v in data.items():\n",
    "\n",
    "    if np.max(dendritic_voltage[exp][cell_id][1]) < -45:\n",
    "        plt.plot(v)\n",
    "        v_s.append(v[skip:])\n",
    "\n",
    "tmp.update({exp: np.mean(v_s, axis=0)})\n",
    "tmp_corrected.update({exp: np.mean(v_s, axis=0) - np.min(np.mean(v_s, axis=0))})"
   ]
  },
  {
   "cell_type": "code",
   "execution_count": null,
   "id": "3168f209-29fb-4bfb-acb4-4fad8207ec54",
   "metadata": {},
   "outputs": [],
   "source": [
    "cs = {\"p1_with_ex\": 'black', \n",
    "      \"p1_with_ex_current_injection_presynaptic\": 'red'}"
   ]
  },
  {
   "cell_type": "code",
   "execution_count": null,
   "id": "4fc678ec-5b3b-47d9-b2e0-5efaa7187cde",
   "metadata": {},
   "outputs": [],
   "source": [
    "plot_average_dendritic_voltage(tmp, name=\"dSPN\", colors=cs, dt_step=0.5e-3)"
   ]
  },
  {
   "cell_type": "code",
   "execution_count": null,
   "id": "b354778d-281d-43d4-8365-f58f08cd2034",
   "metadata": {},
   "outputs": [],
   "source": [
    "\n",
    "plot_average_dendritic_voltage(tmp_corrected, name=\"dSPN\", colors=cs, dt_step=0.5e-3)\n",
    "auc = calculate_AUC(tmp, parameters={\"dx\":0.5e-3})\n",
    "plot_AUC(auc, experiment_names=e,colors=cs, name=\"dSPN\")"
   ]
  },
  {
   "cell_type": "code",
   "execution_count": null,
   "id": "528b4a64-9494-45dc-87e8-e7de399b9562",
   "metadata": {},
   "outputs": [],
   "source": []
  },
  {
   "cell_type": "code",
   "execution_count": null,
   "id": "76002c21-5b8c-465c-a927-5bb5c7d9c821",
   "metadata": {},
   "outputs": [],
   "source": []
  },
  {
   "cell_type": "code",
   "execution_count": null,
   "id": "5240f17c-383e-407e-89ae-7c69145ee294",
   "metadata": {},
   "outputs": [],
   "source": []
  }
 ],
 "metadata": {
  "kernelspec": {
   "display_name": "Python 3",
   "language": "python",
   "name": "python3"
  },
  "language_info": {
   "codemirror_mode": {
    "name": "ipython",
    "version": 3
   },
   "file_extension": ".py",
   "mimetype": "text/x-python",
   "name": "python",
   "nbconvert_exporter": "python",
   "pygments_lexer": "ipython3",
   "version": "3.7.10"
  }
 },
 "nbformat": 4,
 "nbformat_minor": 5
}
