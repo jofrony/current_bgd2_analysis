{
 "cells": [
  {
   "cell_type": "code",
   "execution_count": null,
   "id": "a1ecf4bf-1ef3-401f-a8ed-780252da40a0",
   "metadata": {},
   "outputs": [],
   "source": []
  },
  {
   "cell_type": "code",
   "execution_count": 1,
   "id": "85c96e5f-ead4-46d4-8f2b-82cb610c797d",
   "metadata": {},
   "outputs": [],
   "source": [
    "import sys\n",
    "import os\n",
    "sys.path.append(os.environ[\"CODE_REPOSITORY\"])\n",
    "from code_repository.hotones.thetools import *\n",
    "from snudda.utils.load import SnuddaLoad"
   ]
  },
  {
   "cell_type": "code",
   "execution_count": 2,
   "id": "6cd9e55d-31f0-4eee-acfd-46cdf1d780b2",
   "metadata": {},
   "outputs": [],
   "source": [
    "external = os.path.join(\"/media\",\"jofrony\", \"2TB\", \"dardel\",\"current_bgd2\",\"population_unit\", \"surround_inhibition\", \"supercomputer\", \"networks\")"
   ]
  },
  {
   "cell_type": "code",
   "execution_count": 3,
   "id": "5180fa55-7e6d-4b6f-9c5a-758dfaee5760",
   "metadata": {},
   "outputs": [],
   "source": [
    "folder = \"percentage\""
   ]
  },
  {
   "cell_type": "code",
   "execution_count": 4,
   "id": "3025de3e-3962-4399-9b3f-ca2f4bc35de2",
   "metadata": {},
   "outputs": [],
   "source": [
    "e = Experiments()\n",
    "e.add_experiment(name=\"p1\",\n",
    "                 color=\"black\",\n",
    "                 label=\"2500 ms stimulation\",\n",
    "                 network=\"network-synapses.hdf5\",\n",
    "                 path=os.path.join(external, \"pdc_network_2022-08-31\"),\n",
    "                 output=\"network_output_network-synapses_cell_ids_current_injection_dardel_2022-09-21-13-53-04_p1.hdf5\")"
   ]
  },
  {
   "cell_type": "code",
   "execution_count": 5,
   "id": "5df61bcc-4efe-450c-8e5a-e9ef5d9abfed",
   "metadata": {},
   "outputs": [
    {
     "name": "stdout",
     "output_type": "stream",
     "text": [
      "Loading /media/jofrony/2TB/dardel/current_bgd2/population_unit/surround_inhibition/supercomputer/networks/pdc_network_2022-08-31/simulation/network_output_network-synapses_cell_ids_current_injection_dardel_2022-09-21-13-53-04_p1.hdf5\n",
      "Loading 40000 neurons with 35040256 synapses and 2531 gap junctions\n"
     ]
    }
   ],
   "source": [
    "sl = LoadSimulations(experiments=e)\n",
    "sl.load_network_file(load_synapses=False)"
   ]
  },
  {
   "cell_type": "code",
   "execution_count": 6,
   "id": "2f8e5f4c-b06e-4858-a1bc-8a26ad3653bf",
   "metadata": {},
   "outputs": [
    {
     "name": "stdout",
     "output_type": "stream",
     "text": [
      " Identifying spiking neurons within the network \n",
      "Analysing p1\n"
     ]
    }
   ],
   "source": [
    "neuron_type = \"dSPN\"\n",
    "specific_trace_ids = sl.get_population_units(neuron_type=\"dSPN\", population_unit=1)\n",
    "spiking_analysis_dict = spiking_analysis(data_obj=sl, neuron_type=neuron_type, trace_ids=specific_trace_ids)\n"
   ]
  },
  {
   "cell_type": "code",
   "execution_count": 7,
   "id": "62f0f7d2-554f-4cc0-963a-8c63cae6e992",
   "metadata": {},
   "outputs": [
    {
     "data": {
      "text/plain": [
       "{'p1': {'spiking': 100.0, 'other': 0.0}}"
      ]
     },
     "execution_count": 7,
     "metadata": {},
     "output_type": "execute_result"
    }
   ],
   "source": [
    "p = calculate_percentage(dictionary=spiking_analysis_dict)\n",
    "p"
   ]
  },
  {
   "cell_type": "code",
   "execution_count": 8,
   "id": "47aa28db-9056-4e29-a119-8a54da74c590",
   "metadata": {},
   "outputs": [
    {
     "name": "stderr",
     "output_type": "stream",
     "text": [
      "/home/jofrony/Documents/Repositories/code_repository/code_repository/plot/plot_percentage_spiking.py:56: UserWarning: FixedFormatter should only be used together with FixedLocator\n",
      "  ax.set_xticklabels(np.linspace(0, max_percentage, len(ax.get_xticklabels()), dtype=np.int_), **csfont)\n"
     ]
    },
    {
     "data": {
      "image/png": "[encoded data removed]",
      "text/plain": [
       "<Figure size 576x288 with 1 Axes>"
      ]
     },
     "metadata": {
      "needs_background": "light"
     },
     "output_type": "display_data"
    }
   ],
   "source": [
    "plot_percentage_spiking(percentage_dict=p, experiment_names=e, fig_name=neuron_type, folder=folder, save=True)"
   ]
  },
  {
   "cell_type": "code",
   "execution_count": 9,
   "id": "598b4b4d-8672-41b0-af4b-66f95dd6db40",
   "metadata": {},
   "outputs": [
    {
     "name": "stdout",
     "output_type": "stream",
     "text": [
      " Identifying spiking neurons within the network \n",
      "Analysing p1\n"
     ]
    }
   ],
   "source": [
    "neuron_type = \"iSPN\"\n",
    "specific_trace_ids = sl.get_population_units(neuron_type=neuron_type, population_unit=1)\n",
    "spiking_analysis_dict = spiking_analysis(data_obj=sl, neuron_type=neuron_type, trace_ids=specific_trace_ids)\n",
    "\n"
   ]
  },
  {
   "cell_type": "code",
   "execution_count": 10,
   "id": "5a06ccd5-9b7c-4d4f-99d2-4e9767bf9e4a",
   "metadata": {},
   "outputs": [
    {
     "data": {
      "text/plain": [
       "{'p1': {'spiking': 98.83040935672514, 'other': 1.1695906432748537}}"
      ]
     },
     "execution_count": 10,
     "metadata": {},
     "output_type": "execute_result"
    }
   ],
   "source": [
    "p = calculate_percentage(dictionary=spiking_analysis_dict)\n",
    "p"
   ]
  },
  {
   "cell_type": "code",
   "execution_count": 11,
   "id": "bc560c43-d598-4300-af06-d1e12de386fc",
   "metadata": {},
   "outputs": [
    {
     "data": {
      "image/png": "[encoded data removed]",
      "text/plain": [
       "<Figure size 576x288 with 1 Axes>"
      ]
     },
     "metadata": {
      "needs_background": "light"
     },
     "output_type": "display_data"
    }
   ],
   "source": [
    "plot_percentage_spiking(percentage_dict=p, experiment_names=e, fig_name=neuron_type, folder=folder, save=True)"
   ]
  },
  {
   "cell_type": "code",
   "execution_count": null,
   "id": "2dd5a667-f879-4bbe-b4be-b7d960a5d767",
   "metadata": {},
   "outputs": [],
   "source": []
  }
 ],
 "metadata": {
  "kernelspec": {
   "display_name": "Python 3",
   "language": "python",
   "name": "python3"
  },
  "language_info": {
   "codemirror_mode": {
    "name": "ipython",
    "version": 3
   },
   "file_extension": ".py",
   "mimetype": "text/x-python",
   "name": "python",
   "nbconvert_exporter": "python",
   "pygments_lexer": "ipython3",
   "version": "3.7.10"
  }
 },
 "nbformat": 4,
 "nbformat_minor": 5
}
