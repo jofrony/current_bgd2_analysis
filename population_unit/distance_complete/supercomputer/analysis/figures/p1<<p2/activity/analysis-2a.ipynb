{
 "cells": [
  {
   "cell_type": "code",
   "execution_count": 1,
   "id": "81182231-07a0-40e3-b224-2e1656118acd",
   "metadata": {},
   "outputs": [],
   "source": [
    "import sys\n",
    "import os\n",
    "sys.path.append(os.environ[\"CODE_REPOSITORY\"])\n",
    "from code_repository.hotones.thetools import *\n",
    "from snudda.utils.load import SnuddaLoad"
   ]
  },
  {
   "cell_type": "code",
   "execution_count": 2,
   "id": "139c5506-3e01-4e23-bff6-6520896febdd",
   "metadata": {},
   "outputs": [],
   "source": [
    "external = os.path.join(\"/media\",\"jofrony\", \"2TB\", \"dardel\",\"current_bgd2\",\"population_unit\", \n",
    "                        \"distance_complete\", \"supercomputer\", \"networks\")"
   ]
  },
  {
   "cell_type": "code",
   "execution_count": 3,
   "id": "9e4f1f26-c954-42aa-bace-8797be4996ea",
   "metadata": {},
   "outputs": [],
   "source": [
    "folder = \"percentage\""
   ]
  },
  {
   "cell_type": "code",
   "execution_count": 4,
   "id": "bdfd1f17-3506-418e-9d31-548dce1b4fde",
   "metadata": {},
   "outputs": [],
   "source": [
    "e = Experiments()\n",
    "e.add_experiment(name=\"p1\",\n",
    "                 color=\"black\",\n",
    "                 label=\"2500 ms stimulation\",\n",
    "                 network=\"network-synapses.hdf5\",\n",
    "                 path=os.path.join(external, \"pdc_network_2022-10-14\"),\n",
    "                 output=\"network_output_network-synapses_cell_ids_current_injection_dardel_2022-10-25-15-23-08_p1-diff.hdf5\")\n",
    "e.add_experiment(name=\"p1_p2\",\n",
    "                 color=\"red\",\n",
    "                 label=\"2500 ms stimulation\",\n",
    "                 network=\"network-synapses.hdf5\",\n",
    "                 path=os.path.join(external, \"pdc_network_2022-10-14\"),\n",
    "                 output=\"network_output_network-synapses_cell_ids_current_injection_dardel_2022-10-25-15-23-08_p1_p2-diff.hdf5\")\n",
    "\n",
    "\n",
    "   "
   ]
  },
  {
   "cell_type": "code",
   "execution_count": 5,
   "id": "14534352-9f86-49bc-ac7b-ddf4fc7f22f6",
   "metadata": {},
   "outputs": [
    {
     "name": "stdout",
     "output_type": "stream",
     "text": [
      "Loading 40000 neurons with 35040256 synapses and 2531 gap junctions\n",
      "Loading /media/jofrony/2TB/dardel/current_bgd2/population_unit/distance_complete/supercomputer/networks/pdc_network_2022-10-14/simulation/network_output_network-synapses_cell_ids_current_injection_dardel_2022-10-25-15-23-08_p1-diff.hdf5\n",
      "Loading 40000 neurons with 35040256 synapses and 2531 gap junctions\n",
      "Loading /media/jofrony/2TB/dardel/current_bgd2/population_unit/distance_complete/supercomputer/networks/pdc_network_2022-10-14/simulation/network_output_network-synapses_cell_ids_current_injection_dardel_2022-10-25-15-23-08_p1_p2-diff.hdf5\n"
     ]
    }
   ],
   "source": [
    "sl = LoadSimulations(experiments=e)\n",
    "sl.load_network_file(load_synapses=False)"
   ]
  },
  {
   "cell_type": "code",
   "execution_count": 6,
   "id": "bfd9ead5-d2a8-4100-909e-37dfaa3ca67e",
   "metadata": {},
   "outputs": [
    {
     "name": "stdout",
     "output_type": "stream",
     "text": [
      " Identifying spiking neurons within the network \n",
      "Analysing p1\n",
      "Analysing p1_p2\n"
     ]
    }
   ],
   "source": [
    "neuron_type = \"dSPN\"\n",
    "specific_trace_ids = sl.get_population_units(neuron_type=\"dSPN\", population_unit=1)\n",
    "spiking_analysis_dict = spiking_analysis(data_obj=sl, neuron_type=neuron_type, trace_ids=specific_trace_ids)\n"
   ]
  },
  {
   "cell_type": "code",
   "execution_count": 7,
   "id": "4877a876-aa8f-4f57-b22d-ff49ed0dd8c1",
   "metadata": {},
   "outputs": [
    {
     "data": {
      "text/plain": [
       "{'p1': {'spiking': 93.23696437790397, 'other': 6.763035622096025},\n",
       " 'p1_p2': {'spiking': 78.21373257614869, 'other': 21.786267423851317}}"
      ]
     },
     "execution_count": 7,
     "metadata": {},
     "output_type": "execute_result"
    }
   ],
   "source": [
    "p = calculate_percentage(dictionary=spiking_analysis_dict)\n",
    "p"
   ]
  },
  {
   "cell_type": "code",
   "execution_count": 8,
   "id": "f0fca708-0b05-4146-bbf6-f839d9b0c0d2",
   "metadata": {},
   "outputs": [
    {
     "name": "stderr",
     "output_type": "stream",
     "text": [
      "/home/jofrony/Documents/Repositories/code_repository/code_repository/plot/plot_percentage_spiking.py:56: UserWarning: FixedFormatter should only be used together with FixedLocator\n",
      "  ax.set_xticklabels(np.linspace(0, max_percentage, len(ax.get_xticklabels()), dtype=np.int_), **csfont)\n"
     ]
    },
    {
     "data": {
      "image/png": "[encoded data removed]",
      "text/plain": [
       "<Figure size 576x288 with 1 Axes>"
      ]
     },
     "metadata": {
      "needs_background": "light"
     },
     "output_type": "display_data"
    }
   ],
   "source": [
    "plot_percentage_spiking(percentage_dict=p, experiment_names=e, fig_name=neuron_type, folder=folder, save=True)"
   ]
  },
  {
   "cell_type": "code",
   "execution_count": 9,
   "id": "5f90e2d0-bfe3-456e-bc91-ad528d3b7cf2",
   "metadata": {},
   "outputs": [
    {
     "name": "stdout",
     "output_type": "stream",
     "text": [
      " Identifying spiking neurons within the network \n",
      "Analysing p1\n",
      "Analysing p1_p2\n"
     ]
    }
   ],
   "source": [
    "neuron_type = \"iSPN\"\n",
    "specific_trace_ids = sl.get_population_units(neuron_type=neuron_type, population_unit=1)\n",
    "spiking_analysis_dict = spiking_analysis(data_obj=sl, neuron_type=neuron_type, trace_ids=specific_trace_ids)\n",
    "\n"
   ]
  },
  {
   "cell_type": "code",
   "execution_count": 10,
   "id": "8ed80e4b-1b9b-4d65-8e60-e8f6f94e4291",
   "metadata": {},
   "outputs": [
    {
     "data": {
      "text/plain": [
       "{'p1': {'spiking': 97.52066115702479, 'other': 2.479338842975207},\n",
       " 'p1_p2': {'spiking': 73.4504132231405, 'other': 26.549586776859503}}"
      ]
     },
     "execution_count": 10,
     "metadata": {},
     "output_type": "execute_result"
    }
   ],
   "source": [
    "p = calculate_percentage(dictionary=spiking_analysis_dict)\n",
    "p"
   ]
  },
  {
   "cell_type": "code",
   "execution_count": 11,
   "id": "250d9572-622f-43fa-8d7d-be6927673ec0",
   "metadata": {},
   "outputs": [
    {
     "data": {
      "image/png": "[encoded data removed]",
      "text/plain": [
       "<Figure size 576x288 with 1 Axes>"
      ]
     },
     "metadata": {
      "needs_background": "light"
     },
     "output_type": "display_data"
    }
   ],
   "source": [
    "plot_percentage_spiking(percentage_dict=p, experiment_names=e, fig_name=neuron_type, folder=folder, save=True)"
   ]
  },
  {
   "cell_type": "code",
   "execution_count": 12,
   "id": "34026858-a3f1-4ccc-9acf-de11436ac487",
   "metadata": {},
   "outputs": [
    {
     "name": "stdout",
     "output_type": "stream",
     "text": [
      "Loading 40000 neurons with 35040256 synapses and 2531 gap junctions\n",
      "Loading /media/jofrony/2TB/dardel/current_bgd2/population_unit/distance_complete/supercomputer/networks/pdc_network_2022-10-14/simulation/network_output_network-synapses_cell_ids_current_injection_dardel_2022-10-25-15-23-08_p1-diff.hdf5\n",
      "Loading 40000 neurons with 35040256 synapses and 2531 gap junctions\n",
      "Loading /media/jofrony/2TB/dardel/current_bgd2/population_unit/distance_complete/supercomputer/networks/pdc_network_2022-10-14/simulation/network_output_network-synapses_cell_ids_current_injection_dardel_2022-10-25-15-23-08_p1_p2-diff.hdf5\n",
      " Identifying spiking neurons within the network \n",
      "Analysing p1\n",
      "Analysing p1_p2\n",
      "CPU times: user 59.3 s, sys: 3.87 s, total: 1min 3s\n",
      "Wall time: 4min 15s\n"
     ]
    }
   ],
   "source": [
    "%%time\n",
    "neuron_type = \"dSPN\"\n",
    "sl = LoadSimulations(experiments=e)\n",
    "sl.load_network_file(load_synapses=False)\n",
    "specific_trace_ids = sl.get_population_units(neuron_type=neuron_type, population_unit=1)\n",
    "spiking_analysis_dict = spiking_analysis(data_obj=sl, neuron_type=neuron_type, trace_ids=specific_trace_ids)"
   ]
  },
  {
   "cell_type": "code",
   "execution_count": 13,
   "id": "2c2fd937-e3f7-4a25-ac7c-87a36eca7a06",
   "metadata": {},
   "outputs": [],
   "source": [
    "p = calculate_ratio(dictionary=spiking_analysis_dict)\n",
    "n = normalized_prp(dictionary=p, normalized=\"p1\")"
   ]
  },
  {
   "cell_type": "code",
   "execution_count": 14,
   "id": "e2e3afbb-3e46-4df1-aa94-afacee4fa4b5",
   "metadata": {},
   "outputs": [
    {
     "data": {
      "image/png": "[encoded data removed]",
      "text/plain": [
       "<Figure size 576x288 with 1 Axes>"
      ]
     },
     "metadata": {
      "needs_background": "light"
     },
     "output_type": "display_data"
    }
   ],
   "source": [
    "plot_ratio_normalized_spiking(ratio_dict=n, experiment_names=e, fig_name=neuron_type, folder=folder, save=True, max_ratio=1.2)"
   ]
  },
  {
   "cell_type": "code",
   "execution_count": 15,
   "id": "b035e1a0-3cec-4248-9dd0-53ee73b35de2",
   "metadata": {},
   "outputs": [
    {
     "name": "stdout",
     "output_type": "stream",
     "text": [
      "Loading 40000 neurons with 35040256 synapses and 2531 gap junctions\n",
      "Loading /media/jofrony/2TB/dardel/current_bgd2/population_unit/distance_complete/supercomputer/networks/pdc_network_2022-10-14/simulation/network_output_network-synapses_cell_ids_current_injection_dardel_2022-10-25-15-23-08_p1-diff.hdf5\n",
      "Loading 40000 neurons with 35040256 synapses and 2531 gap junctions\n",
      "Loading /media/jofrony/2TB/dardel/current_bgd2/population_unit/distance_complete/supercomputer/networks/pdc_network_2022-10-14/simulation/network_output_network-synapses_cell_ids_current_injection_dardel_2022-10-25-15-23-08_p1_p2-diff.hdf5\n",
      " Identifying spiking neurons within the network \n",
      "Analysing p1\n",
      "Analysing p1_p2\n",
      "CPU times: user 44.9 s, sys: 2.73 s, total: 47.6 s\n",
      "Wall time: 2min 12s\n"
     ]
    }
   ],
   "source": [
    "%%time\n",
    "neuron_type = \"iSPN\"\n",
    "sl = LoadSimulations(experiments=e)\n",
    "sl.load_network_file(load_synapses=False)\n",
    "specific_trace_ids = sl.get_population_units(neuron_type=neuron_type, population_unit=1)\n",
    "spiking_analysis_dict = spiking_analysis(data_obj=sl, neuron_type=neuron_type, trace_ids=specific_trace_ids)\n"
   ]
  },
  {
   "cell_type": "code",
   "execution_count": 16,
   "id": "f6f1c66d-0488-4a3a-8ac2-6019f8673ed9",
   "metadata": {},
   "outputs": [],
   "source": [
    "p = calculate_ratio(dictionary=spiking_analysis_dict)\n",
    "n = normalized_prp(dictionary=p, normalized=\"p1\")"
   ]
  },
  {
   "cell_type": "code",
   "execution_count": 17,
   "id": "9d8aada3-498d-4454-ab07-ac9b8a86049f",
   "metadata": {},
   "outputs": [
    {
     "data": {
      "image/png": "[encoded data removed]",
      "text/plain": [
       "<Figure size 576x288 with 1 Axes>"
      ]
     },
     "metadata": {
      "needs_background": "light"
     },
     "output_type": "display_data"
    }
   ],
   "source": [
    "plot_ratio_normalized_spiking(ratio_dict=n, experiment_names=e, fig_name=neuron_type, folder=folder, save=True, max_ratio=1.2)"
   ]
  },
  {
   "cell_type": "code",
   "execution_count": null,
   "id": "de2b9999-2629-442f-8cdc-cd019445ea7f",
   "metadata": {},
   "outputs": [],
   "source": []
  },
  {
   "cell_type": "code",
   "execution_count": null,
   "id": "b38e03aa-fadd-4296-83ff-a7ee0db8139e",
   "metadata": {},
   "outputs": [],
   "source": []
  }
 ],
 "metadata": {
  "kernelspec": {
   "display_name": "Python 3",
   "language": "python",
   "name": "python3"
  },
  "language_info": {
   "codemirror_mode": {
    "name": "ipython",
    "version": 3
   },
   "file_extension": ".py",
   "mimetype": "text/x-python",
   "name": "python",
   "nbconvert_exporter": "python",
   "pygments_lexer": "ipython3",
   "version": "3.7.10"
  }
 },
 "nbformat": 4,
 "nbformat_minor": 5
}
