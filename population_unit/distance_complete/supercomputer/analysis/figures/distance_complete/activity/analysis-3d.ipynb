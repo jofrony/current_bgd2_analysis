{
 "cells": [
  {
   "cell_type": "code",
   "execution_count": 1,
   "id": "5af8146a-4bf1-4236-8f00-9570c6376ed3",
   "metadata": {},
   "outputs": [],
   "source": [
    "import sys\n",
    "import os\n",
    "sys.path.append(os.environ[\"CODE_REPOSITORY\"])\n",
    "from code_repository.hotones.thetools import *\n",
    "import matplotlib.pyplot as plt\n",
    "from snudda.utils.load import SnuddaLoad"
   ]
  },
  {
   "cell_type": "code",
   "execution_count": 2,
   "id": "3c51b096-dd29-499b-8c49-8048b3128b74",
   "metadata": {},
   "outputs": [],
   "source": [
    "external = os.path.join(\"/media\",\"jofrony\", \"2TB\", \"dardel\",\"current_bgd2\",\"population_unit\", \n",
    "                        \"distance_complete\", \"supercomputer\", \"networks\")"
   ]
  },
  {
   "cell_type": "code",
   "execution_count": 3,
   "id": "ab48304d-222a-4837-9eb3-301a815a8c8f",
   "metadata": {},
   "outputs": [],
   "source": [
    "folder = \"frequency\""
   ]
  },
  {
   "cell_type": "code",
   "execution_count": 4,
   "id": "22e1a4af-64bb-4962-a68a-5c7b9d1b82a1",
   "metadata": {},
   "outputs": [],
   "source": [
    "parameters = {\"start\": 0.5, \"end\": 2.5}"
   ]
  },
  {
   "cell_type": "code",
   "execution_count": 5,
   "id": "ce81abf4-a963-4fee-bf21-23f3bf79b2cf",
   "metadata": {},
   "outputs": [],
   "source": [
    "e = Experiments()\n",
    "e.add_experiment(name=\"0_p1\",\n",
    "                 color=\"black\",\n",
    "                 label=\"2500 ms stimulation\",\n",
    "                 network=\"network-synapses.hdf5\",\n",
    "                 path=os.path.join(external, \"pdc_network_2022-10-14\"),\n",
    "                 output=\"network_output_network-synapses_cell_ids_current_injection_dardel_2022-10-13-17-37-42_p1.hdf5\")\n",
    "e.add_experiment(name=\"0_p1_p2\",\n",
    "                 color=\"black\",\n",
    "                 label=\"2500 ms stimulation\",\n",
    "                 network=\"network-synapses.hdf5\",\n",
    "                 path=os.path.join(external, \"pdc_network_2022-10-14\"),\n",
    "                 output=\"network_output_network-synapses_cell_ids_current_injection_dardel_2022-10-13-17-37-42_p1_p2.hdf5\")\n",
    "\n",
    "e.add_experiment(name=\"45_p1\",\n",
    "                 color=\"black\",\n",
    "                 label=\"2500 ms stimulation\",\n",
    "                 network=\"network-synapses.hdf5\",\n",
    "                 path=os.path.join(external, \"pdc_network_2022-10-13\"),\n",
    "                 output=\"network_output_network-synapses_cell_ids_current_injection_dardel_2022-10-13-17-36-57_p1.hdf5\")\n",
    "e.add_experiment(name=\"45_p1_p2\",\n",
    "                 color=\"black\",\n",
    "                 label=\"2500 ms stimulation\",\n",
    "                 network=\"network-synapses.hdf5\",\n",
    "                 path=os.path.join(external, \"pdc_network_2022-10-13\"),\n",
    "                 output=\"network_output_network-synapses_cell_ids_current_injection_dardel_2022-10-13-17-36-57_p1_p2.hdf5\")\n",
    "\n",
    "e.add_experiment(name=\"90_p1\",\n",
    "                 color=\"black\",\n",
    "                 label=\"2500 ms stimulation\",\n",
    "                 network=\"network-synapses.hdf5\",\n",
    "                 path=os.path.join(external, \"pdc_network_2022-10-10\"),\n",
    "                 output=\"network_output_network-synapses_cell_ids_current_injection_dardel_2022-10-12-13-30-26_p1.hdf5\")\n",
    "e.add_experiment(name=\"90_p1_p2\",\n",
    "                 color=\"red\",\n",
    "                 label=\"2500 ms stimulation\",\n",
    "                 network=\"network-synapses.hdf5\",\n",
    "                 path=os.path.join(external, \"pdc_network_2022-10-10\"),\n",
    "                 output=\"network_output_network-synapses_cell_ids_current_injection_dardel_2022-10-12-13-30-26_p1_p2.hdf5\")\n",
    "\n",
    "\n",
    "   "
   ]
  },
  {
   "cell_type": "code",
   "execution_count": 6,
   "id": "e31ef6da-1ff8-4591-8d67-ec27add43ee8",
   "metadata": {},
   "outputs": [
    {
     "name": "stdout",
     "output_type": "stream",
     "text": [
      "Loading 40000 neurons with 35040256 synapses and 2531 gap junctions\n",
      "Loading /media/jofrony/2TB/dardel/current_bgd2/population_unit/distance_complete/supercomputer/networks/pdc_network_2022-10-14/simulation/network_output_network-synapses_cell_ids_current_injection_dardel_2022-10-13-17-37-42_p1.hdf5\n",
      "Loading 40000 neurons with 35040256 synapses and 2531 gap junctions\n",
      "Loading /media/jofrony/2TB/dardel/current_bgd2/population_unit/distance_complete/supercomputer/networks/pdc_network_2022-10-14/simulation/network_output_network-synapses_cell_ids_current_injection_dardel_2022-10-13-17-37-42_p1_p2.hdf5\n",
      "Loading 40000 neurons with 35040256 synapses and 2531 gap junctions\n",
      "Loading /media/jofrony/2TB/dardel/current_bgd2/population_unit/distance_complete/supercomputer/networks/pdc_network_2022-10-13/simulation/network_output_network-synapses_cell_ids_current_injection_dardel_2022-10-13-17-36-57_p1.hdf5\n",
      "Loading 40000 neurons with 35040256 synapses and 2531 gap junctions\n",
      "Loading /media/jofrony/2TB/dardel/current_bgd2/population_unit/distance_complete/supercomputer/networks/pdc_network_2022-10-13/simulation/network_output_network-synapses_cell_ids_current_injection_dardel_2022-10-13-17-36-57_p1_p2.hdf5\n",
      "Loading 40000 neurons with 35040256 synapses and 2531 gap junctions\n",
      "Loading /media/jofrony/2TB/dardel/current_bgd2/population_unit/distance_complete/supercomputer/networks/pdc_network_2022-10-10/simulation/network_output_network-synapses_cell_ids_current_injection_dardel_2022-10-12-13-30-26_p1.hdf5\n",
      "Loading 40000 neurons with 35040256 synapses and 2531 gap junctions\n",
      "Loading /media/jofrony/2TB/dardel/current_bgd2/population_unit/distance_complete/supercomputer/networks/pdc_network_2022-10-10/simulation/network_output_network-synapses_cell_ids_current_injection_dardel_2022-10-12-13-30-26_p1_p2.hdf5\n"
     ]
    }
   ],
   "source": [
    "sl = LoadSimulations(experiments=e)\n",
    "sl.load_network_file(load_synapses=False)"
   ]
  },
  {
   "cell_type": "code",
   "execution_count": 7,
   "id": "e7f99a51-e591-41ce-a48a-8b6cdd658342",
   "metadata": {},
   "outputs": [
    {
     "name": "stdout",
     "output_type": "stream",
     "text": [
      "CPU times: user 42.5 s, sys: 5.24 s, total: 47.7 s\n",
      "Wall time: 4min 46s\n"
     ]
    }
   ],
   "source": [
    "%%time\n",
    "neuron_type = \"dSPN\"\n",
    "specific_trace_ids = sl.get_population_units(neuron_type=neuron_type, population_unit=1)\n",
    "frequency_analysis_dict_dspn = frequency_analysis(data_obj=sl, neuron_type=neuron_type, trace_ids=specific_trace_ids, parameters=parameters)\n"
   ]
  },
  {
   "cell_type": "code",
   "execution_count": 8,
   "id": "045f8aa5-e66c-4cba-9096-73c267c87ff9",
   "metadata": {},
   "outputs": [
    {
     "name": "stdout",
     "output_type": "stream",
     "text": [
      "CPU times: user 42.7 s, sys: 4.38 s, total: 47.1 s\n",
      "Wall time: 4min 31s\n"
     ]
    }
   ],
   "source": [
    "%%time\n",
    "neuron_type = \"iSPN\"\n",
    "specific_trace_ids = sl.get_population_units(neuron_type=neuron_type, population_unit=1)\n",
    "frequency_analysis_dict_ispn = frequency_analysis(data_obj=sl, neuron_type=neuron_type, trace_ids=specific_trace_ids, parameters=parameters)\n"
   ]
  },
  {
   "cell_type": "code",
   "execution_count": 9,
   "id": "f0d4f01a-1a01-459b-bc4d-c34e3afac8db",
   "metadata": {},
   "outputs": [],
   "source": [
    "frequency_analysis_dict = {i : dict() for i in [*e.experiments.keys()]}"
   ]
  },
  {
   "cell_type": "code",
   "execution_count": 10,
   "id": "f704645f-44fd-418b-b709-7ce3e6cf2566",
   "metadata": {},
   "outputs": [],
   "source": [
    "for v, k in frequency_analysis_dict_dspn.items():\n",
    "    frequency_analysis_dict[v].update(k)"
   ]
  },
  {
   "cell_type": "code",
   "execution_count": 11,
   "id": "e43150f8-1fa2-439e-bfc9-e24c7cbd4a98",
   "metadata": {},
   "outputs": [],
   "source": [
    "for v, k in frequency_analysis_dict_ispn.items():\n",
    "    frequency_analysis_dict[v].update(k)"
   ]
  },
  {
   "cell_type": "code",
   "execution_count": 12,
   "id": "0573b321-b8d9-4384-a943-29ca7197f034",
   "metadata": {},
   "outputs": [],
   "source": [
    "colors = {\"0_p1\": \"black\",\n",
    "         \"45_p1\": \"green\",\n",
    "         \"90_p1\": \"blue\",\n",
    "         \"0_p1_p2\": \"black\",\n",
    "         \"45_p1_p2\": \"green\" ,\n",
    "         \"90_p1_p2\": \"blue\"}\n",
    "bins=10"
   ]
  },
  {
   "cell_type": "code",
   "execution_count": 13,
   "id": "b1d85db5-0e52-4266-b48e-11b441a9c7fd",
   "metadata": {},
   "outputs": [
    {
     "data": {
      "image/png": "[encoded data removed]",
      "text/plain": [
       "<Figure size 432x288 with 1 Axes>"
      ]
     },
     "metadata": {
      "needs_background": "light"
     },
     "output_type": "display_data"
    }
   ],
   "source": [
    "fig_name = f\"{neuron_type}_above_0Hz\"\n",
    "plot_histogram_frequency(frequency_dict=frequency_analysis_dict, experiment_names=e,\n",
    "                         fig_name=fig_name, \n",
    "                         colors=colors,bins=bins,\n",
    "                         parameters={plt.xlim: (0,40)},\n",
    "                         folder=folder, save=True)"
   ]
  },
  {
   "cell_type": "code",
   "execution_count": 14,
   "id": "de8b707f-66cf-4324-b779-2b232cc4c1a8",
   "metadata": {},
   "outputs": [
    {
     "data": {
      "image/png": "[encoded data removed]",
      "text/plain": [
       "<Figure size 432x288 with 1 Axes>"
      ]
     },
     "metadata": {
      "needs_background": "light"
     },
     "output_type": "display_data"
    }
   ],
   "source": [
    "fig_name = f\"{neuron_type}_above_0Hz\"\n",
    "plot_histogram_frequency_step(frequency_dict=frequency_analysis_dict, experiment_names=e,\n",
    "                         fig_name=fig_name, \n",
    "                         colors=colors,bins=bins,\n",
    "                         parameters={plt.xlim: (0,40)},\n",
    "                         folder=folder, save=True)"
   ]
  },
  {
   "cell_type": "code",
   "execution_count": 15,
   "id": "ba3fbea8-8039-4202-bcf4-6560a4ede6e8",
   "metadata": {},
   "outputs": [],
   "source": [
    "mean_frequency_dict = mean_frequency(dictionary=frequency_analysis_dict, parameters={\"interval\": [1,60]})"
   ]
  },
  {
   "cell_type": "code",
   "execution_count": 16,
   "id": "7c37e070-bd12-4405-992a-0032e87aec65",
   "metadata": {},
   "outputs": [],
   "source": [
    "colors = {\"0_p1\": \"black\",\n",
    "         \"45_p1\": \"green\",\n",
    "         \"90_p1\": \"blue\",\n",
    "         \"0_p1_p2\": \"black\",\n",
    "         \"45_p1_p2\": \"green\" ,\n",
    "         \"90_p1_p2\": \"blue\"}\n",
    "bins=10"
   ]
  },
  {
   "cell_type": "code",
   "execution_count": 17,
   "id": "38fe11c0-2842-4664-98cf-5b47d3fca778",
   "metadata": {},
   "outputs": [
    {
     "data": {
      "image/png": "[encoded data removed]",
      "text/plain": [
       "<Figure size 432x288 with 1 Axes>"
      ]
     },
     "metadata": {
      "needs_background": "light"
     },
     "output_type": "display_data"
    }
   ],
   "source": [
    "plot_mean_frequency(mean_frequency_dict = mean_frequency_dict, folder=folder,colors=colors, experiment_names=e)"
   ]
  },
  {
   "cell_type": "code",
   "execution_count": 18,
   "id": "44dcbd5d-a599-47f6-91db-72f97d1d01df",
   "metadata": {},
   "outputs": [],
   "source": [
    "parameters = dict(pairs=list())\n",
    "for distance in [0,45,90]:\n",
    "    parameters[\"pairs\"].append([f\"{distance}_p1\", f\"{distance}_p1_p2\", f\"{distance}\"])\n",
    "change = change_mean_frequency(dictionary=mean_frequency_dict, parameters=parameters)"
   ]
  },
  {
   "cell_type": "code",
   "execution_count": 19,
   "id": "d53e4f5b-7abc-4b36-bcbe-5be7f89af14c",
   "metadata": {},
   "outputs": [],
   "source": [
    "colors = {\"0\": \"black\",\n",
    "         \"45\": \"green\" ,\n",
    "         \"90\": \"blue\"}"
   ]
  },
  {
   "cell_type": "code",
   "execution_count": 26,
   "id": "e4e5ae50-cd64-4e7d-b985-e8edd9cafa26",
   "metadata": {},
   "outputs": [],
   "source": [
    "customize={plt.ylim:(-1.5,0)}"
   ]
  },
  {
   "cell_type": "code",
   "execution_count": 27,
   "id": "67983405-cf58-4330-88de-d98f4c74102d",
   "metadata": {},
   "outputs": [],
   "source": [
    "fig_name=\"SPN_response\""
   ]
  },
  {
   "cell_type": "code",
   "execution_count": 28,
   "id": "5ade705d-a278-4284-a512-662816facab4",
   "metadata": {},
   "outputs": [
    {
     "data": {
      "image/png": "[encoded data removed]",
      "text/plain": [
       "<Figure size 432x288 with 1 Axes>"
      ]
     },
     "metadata": {
      "needs_background": "light"
     },
     "output_type": "display_data"
    }
   ],
   "source": [
    "plot_change_mean_frequency(change_mean_frequency_dict = change, folder=folder,colors=colors, experiment_names=[\"0\", \"45\", \"90\"], save=True,fig_name=fig_name,customize=customize)"
   ]
  },
  {
   "cell_type": "code",
   "execution_count": null,
   "id": "e34c7fc7-3781-4281-a591-1a544ae32310",
   "metadata": {},
   "outputs": [],
   "source": []
  }
 ],
 "metadata": {
  "kernelspec": {
   "display_name": "Python 3",
   "language": "python",
   "name": "python3"
  },
  "language_info": {
   "codemirror_mode": {
    "name": "ipython",
    "version": 3
   },
   "file_extension": ".py",
   "mimetype": "text/x-python",
   "name": "python",
   "nbconvert_exporter": "python",
   "pygments_lexer": "ipython3",
   "version": "3.7.10"
  }
 },
 "nbformat": 4,
 "nbformat_minor": 5
}
