{
 "cells": [
  {
   "cell_type": "code",
   "execution_count": 7,
   "id": "b05c0fd4-504b-4a52-8e2a-415c03cec679",
   "metadata": {},
   "outputs": [],
   "source": [
    "import sys\n",
    "import os\n",
    "sys.path.append(os.environ[\"CODE_REPOSITORY\"])\n",
    "from code_repository.hotones.thetools import *\n",
    "from code_repository.load.load_simulations import LoadSimulations"
   ]
  },
  {
   "cell_type": "code",
   "execution_count": 8,
   "id": "e9e0f7ae-563e-4fa8-a408-6b2343a679bc",
   "metadata": {},
   "outputs": [],
   "source": [
    "external = os.path.join(\"/media\",\"jofrony\", \"2TB\", \"dardel\",\"current_bgd2\",\"population_unit\", \n",
    "                        \"distance_complete\", \"supercomputer\", \"networks\")\n",
    "repository = os.path.join(\"/home\",\"jofrony\",\"Documents\",\n",
    "                          \"Repositories\",\"current_bgd2\",\n",
    "                          \"population_unit\", \n",
    "                        \"distance_complete\", \"supercomputer\", \"networks\")"
   ]
  },
  {
   "cell_type": "code",
   "execution_count": 9,
   "id": "f5a06f3c-45ca-4f5e-980b-5b423e90f61e",
   "metadata": {},
   "outputs": [],
   "source": [
    "name = \"synaptic_drive_DA\"\n",
    "folder = \"ratio\""
   ]
  },
  {
   "cell_type": "code",
   "execution_count": 10,
   "id": "4c9c5a39-8eb9-4eb2-9709-575cd3834373",
   "metadata": {},
   "outputs": [
    {
     "data": {
      "text/plain": [
       "{'p1': {'color': 'black',\n",
       "  'label': '2500 ms stimulation',\n",
       "  'network': 'network-synapses.hdf5',\n",
       "  'path': '/media/jofrony/2TB/dardel/current_bgd2/population_unit/distance_complete/supercomputer/networks/pdc_network_2022-10-14',\n",
       "  'output': 'network_output_network-synapses_external-input-dardel-2023-01-30-14-28-38-p1.hdf5'},\n",
       " 'p1_DA': {'color': 'red',\n",
       "  'label': '2500 ms stimulation',\n",
       "  'network': 'network-synapses.hdf5',\n",
       "  'path': '/media/jofrony/2TB/dardel/current_bgd2/population_unit/distance_complete/supercomputer/networks/pdc_network_2022-10-14',\n",
       "  'output': 'network_output_network-synapses_external-input-dardel-2023-01-30-14-28-38-p1_dopamine_modulation_with_receptors_method_alpha_background_tstart_300_tonic_0.2_gmax_increase_0.8_tau_500.hdf5'},\n",
       " 'p1_p2': {'color': 'black',\n",
       "  'label': '2500 ms stimulation',\n",
       "  'network': 'network-synapses.hdf5',\n",
       "  'path': '/media/jofrony/2TB/dardel/current_bgd2/population_unit/distance_complete/supercomputer/networks/pdc_network_2022-10-14',\n",
       "  'output': 'network_output_network-synapses_external-input-dardel-2023-01-30-14-28-57-p1_p2.hdf5'},\n",
       " 'p1_p2_DA': {'color': 'red',\n",
       "  'label': '2500 ms stimulation',\n",
       "  'network': 'network-synapses.hdf5',\n",
       "  'path': '/media/jofrony/2TB/dardel/current_bgd2/population_unit/distance_complete/supercomputer/networks/pdc_network_2022-10-14',\n",
       "  'output': 'network_output_network-synapses_external-input-dardel-2023-01-30-14-28-57-p1_p2_dopamine_modulation_with_receptors_method_alpha_background_tstart_300_tonic_0.2_gmax_increase_0.8_tau_500.hdf5'}}"
      ]
     },
     "execution_count": 10,
     "metadata": {},
     "output_type": "execute_result"
    }
   ],
   "source": [
    "e = Experiments()\n",
    "e.add_experiment(name=\"p1\",\n",
    "                 color=\"black\",\n",
    "                 label=\"2500 ms stimulation\",\n",
    "                 network=\"network-synapses.hdf5\",\n",
    "                 path=os.path.join(external, \"pdc_network_2022-10-14\"),\n",
    "                 output=\"network_output_network-synapses_external-input-dardel-2023-01-30-14-28-38-p1.hdf5\")\n",
    "\n",
    "\n",
    "\n",
    "e.add_experiment(name=\"p1_DA\",\n",
    "                 color=\"red\",\n",
    "                 label=\"2500 ms stimulation\",\n",
    "                 network=\"network-synapses.hdf5\",\n",
    "                 path=os.path.join(external, \"pdc_network_2022-10-14\"),\n",
    "                 output=\"network_output_network-synapses_external-input-dardel-2023-01-30-14-28-38-p1_dopamine_modulation_with_receptors_method_alpha_background_tstart_300_tonic_0.2_gmax_increase_0.8_tau_500.hdf5\")\n",
    "\n",
    "e.add_experiment(name=\"p1_p2\",\n",
    "                 color=\"black\",\n",
    "                 label=\"2500 ms stimulation\",\n",
    "                 network=\"network-synapses.hdf5\",\n",
    "                 path=os.path.join(external, \"pdc_network_2022-10-14\"),\n",
    "                 output=\"network_output_network-synapses_external-input-dardel-2023-01-30-14-28-57-p1_p2.hdf5\")\n",
    "\n",
    "\n",
    "\n",
    "e.add_experiment(name=\"p1_p2_DA\",\n",
    "                 color=\"red\",\n",
    "                 label=\"2500 ms stimulation\",\n",
    "                 network=\"network-synapses.hdf5\",\n",
    "                 path=os.path.join(external, \"pdc_network_2022-10-14\"),\n",
    "                 output=\"network_output_network-synapses_external-input-dardel-2023-01-30-14-28-57-p1_p2_dopamine_modulation_with_receptors_method_alpha_background_tstart_300_tonic_0.2_gmax_increase_0.8_tau_500.hdf5\")\n",
    "\n",
    "\n",
    "\n",
    "\n",
    "   \n",
    "e.experiments     "
   ]
  },
  {
   "cell_type": "code",
   "execution_count": 23,
   "id": "b43935ab-4e69-4d95-bb2d-f8bd0b34fd84",
   "metadata": {},
   "outputs": [
    {
     "name": "stdout",
     "output_type": "stream",
     "text": [
      "Loading 40000 neurons with 35040256 synapses and 2531 gap junctions\n",
      "Loading /media/jofrony/2TB/dardel/current_bgd2/population_unit/distance_complete/supercomputer/networks/pdc_network_2022-10-14/simulation/network_output_network-synapses_external-input-dardel-2023-01-30-14-28-38-p1.hdf5\n",
      "Loading 40000 neurons with 35040256 synapses and 2531 gap junctions\n",
      "Loading /media/jofrony/2TB/dardel/current_bgd2/population_unit/distance_complete/supercomputer/networks/pdc_network_2022-10-14/simulation/network_output_network-synapses_external-input-dardel-2023-01-30-14-28-38-p1_dopamine_modulation_with_receptors_method_alpha_background_tstart_300_tonic_0.2_gmax_increase_0.8_tau_500.hdf5\n",
      "Loading 40000 neurons with 35040256 synapses and 2531 gap junctions\n",
      "Loading /media/jofrony/2TB/dardel/current_bgd2/population_unit/distance_complete/supercomputer/networks/pdc_network_2022-10-14/simulation/network_output_network-synapses_external-input-dardel-2023-01-30-14-28-57-p1_p2.hdf5\n",
      "Loading 40000 neurons with 35040256 synapses and 2531 gap junctions\n",
      "Loading /media/jofrony/2TB/dardel/current_bgd2/population_unit/distance_complete/supercomputer/networks/pdc_network_2022-10-14/simulation/network_output_network-synapses_external-input-dardel-2023-01-30-14-28-57-p1_p2_dopamine_modulation_with_receptors_method_alpha_background_tstart_300_tonic_0.2_gmax_increase_0.8_tau_500.hdf5\n",
      " Identifying spiking neurons within the network \n",
      "Analysing p1\n",
      "Analysing p1_DA\n",
      "Analysing p1_p2\n",
      "Analysing p1_p2_DA\n",
      "CPU times: user 1min 23s, sys: 5.31 s, total: 1min 28s\n",
      "Wall time: 3min 20s\n"
     ]
    }
   ],
   "source": [
    "%%time\n",
    "neuron_type = \"dSPN\"\n",
    "sl = LoadSimulations(experiments=e)\n",
    "sl.load_network_file(load_synapses=False)\n",
    "\n",
    "specific_trace_ids = sl.get_population_units(neuron_type=neuron_type, population_unit=1)\n",
    "spiking_analysis_dict_dspn = spiking_analysis(data_obj=sl, neuron_type=neuron_type, trace_ids=specific_trace_ids)\n"
   ]
  },
  {
   "cell_type": "code",
   "execution_count": 35,
   "id": "723a85b5-8fbb-465f-8d96-33b6670c8c40",
   "metadata": {},
   "outputs": [
    {
     "data": {
      "text/plain": [
       "1936"
      ]
     },
     "execution_count": 35,
     "metadata": {},
     "output_type": "execute_result"
    }
   ],
   "source": [
    "len(specific_trace_ids['p1'])"
   ]
  },
  {
   "cell_type": "code",
   "execution_count": 32,
   "id": "17d18281-1078-4d05-a046-29470c4200c8",
   "metadata": {},
   "outputs": [
    {
     "data": {
      "text/plain": [
       "1257"
      ]
     },
     "execution_count": 32,
     "metadata": {},
     "output_type": "execute_result"
    }
   ],
   "source": [
    "len(spiking_analysis_dict_dspn['p1']['spiking'])"
   ]
  },
  {
   "cell_type": "code",
   "execution_count": 37,
   "id": "756f2072-cc96-41ae-b522-d1423a1866dc",
   "metadata": {},
   "outputs": [
    {
     "data": {
      "text/plain": [
       "1936"
      ]
     },
     "execution_count": 37,
     "metadata": {},
     "output_type": "execute_result"
    }
   ],
   "source": [
    "len(specific_trace_ids['p1_p2'])"
   ]
  },
  {
   "cell_type": "code",
   "execution_count": 38,
   "id": "85dd44f4-b5c3-4da0-af09-99436529f806",
   "metadata": {},
   "outputs": [
    {
     "data": {
      "text/plain": [
       "1206"
      ]
     },
     "execution_count": 38,
     "metadata": {},
     "output_type": "execute_result"
    }
   ],
   "source": [
    "len(spiking_analysis_dict_dspn['p1_p2']['spiking'])"
   ]
  },
  {
   "cell_type": "code",
   "execution_count": 40,
   "id": "0589bd66-dc3b-43ab-b003-0f7d79be1acb",
   "metadata": {},
   "outputs": [],
   "source": [
    "import numpy as np\n",
    "diff = np.setdiff1d(spiking_analysis_dict_dspn['p1']['spiking'],spiking_analysis_dict_dspn['p1_p2']['spiking'])"
   ]
  },
  {
   "cell_type": "code",
   "execution_count": 41,
   "id": "0671746b-c618-45b7-a29c-8a39c11dd85a",
   "metadata": {},
   "outputs": [
    {
     "data": {
      "text/plain": [
       "114"
      ]
     },
     "execution_count": 41,
     "metadata": {},
     "output_type": "execute_result"
    }
   ],
   "source": [
    "len(diff)"
   ]
  },
  {
   "cell_type": "code",
   "execution_count": 42,
   "id": "a45be515-eefe-4970-8963-0339a5d6dec4",
   "metadata": {},
   "outputs": [
    {
     "data": {
      "text/plain": [
       "array([ 3226,  3352,  3700,  4147,  4211,  4255,  4326,  4330,  5541,\n",
       "        5841,  5947,  6169,  6793,  6850,  7462,  7464,  7572,  7746,\n",
       "        8203,  8347,  8403,  8412,  8476,  9971, 10460, 10519, 10669,\n",
       "       11205, 11555, 11924, 12091, 12178, 12880, 13554, 13691, 13699,\n",
       "       13892, 13893, 14017, 14018, 14065, 14133, 14321, 14328, 14921,\n",
       "       14922, 14923, 14928, 15202, 15441, 15594, 18791, 18962, 19021,\n",
       "       19026, 19189, 19190, 19216, 19342, 19510, 20487, 20510, 20556,\n",
       "       20637, 20689, 20947, 21278, 21916, 22002, 22076, 22088, 22237,\n",
       "       22239, 23766, 23816, 24298, 24650, 24660, 24662, 24890, 25676,\n",
       "       25682, 27090, 27095, 27183, 27406, 27531, 27667, 28363, 28421,\n",
       "       28427, 28995, 29447, 30555, 30556, 30739, 30751, 30805, 31204,\n",
       "       31853, 31858, 33326, 33703, 33886, 34004, 34024, 34190, 34207,\n",
       "       34244, 35276, 35281, 35411, 35575, 36017])"
      ]
     },
     "execution_count": 42,
     "metadata": {},
     "output_type": "execute_result"
    }
   ],
   "source": [
    "diff"
   ]
  },
  {
   "cell_type": "code",
   "execution_count": 24,
   "id": "9ebe78cc-5764-4c1a-a9bd-d7c6a32a803d",
   "metadata": {},
   "outputs": [],
   "source": [
    "p_dspn = calculate_ratio(dictionary=spiking_analysis_dict_dspn)\n",
    "n_dspn = normalized_prp(dictionary=p_dspn, normalized=\"p1\")"
   ]
  },
  {
   "cell_type": "code",
   "execution_count": 29,
   "id": "25a0b432-38f4-4dfe-9e03-cbbb2d10617d",
   "metadata": {},
   "outputs": [
    {
     "data": {
      "text/plain": [
       "{'p1': {'spiking': 1.0, 'other': 1.0},\n",
       " 'p1_DA': {'spiking': 1.5123309466984884, 'other': 0.05294117647058823},\n",
       " 'p1_p2': {'spiking': 0.9594272076372315, 'other': 1.075},\n",
       " 'p1_p2_DA': {'spiking': 1.4765314240254575, 'other': 0.11911764705882352}}"
      ]
     },
     "execution_count": 29,
     "metadata": {},
     "output_type": "execute_result"
    }
   ],
   "source": [
    "p_dspn"
   ]
  },
  {
   "cell_type": "code",
   "execution_count": 25,
   "id": "d225723a-1d01-49e7-8f21-6e485501c95d",
   "metadata": {},
   "outputs": [
    {
     "data": {
      "image/png": "[encoded data removed]",
      "text/plain": [
       "<Figure size 576x288 with 1 Axes>"
      ]
     },
     "metadata": {
      "needs_background": "light"
     },
     "output_type": "display_data"
    }
   ],
   "source": [
    "plot_ratio_normalized_spiking(ratio_dict=n_dspn, experiment_names=e, fig_name=neuron_type, folder=folder, save=True, min_ratio=0.9, max_ratio=2)"
   ]
  },
  {
   "cell_type": "code",
   "execution_count": 26,
   "id": "c54f56de-d58b-4d79-8f75-86b18f37cb6a",
   "metadata": {},
   "outputs": [
    {
     "name": "stdout",
     "output_type": "stream",
     "text": [
      "Loading 40000 neurons with 35040256 synapses and 2531 gap junctions\n",
      "Loading /media/jofrony/2TB/dardel/current_bgd2/population_unit/distance_complete/supercomputer/networks/pdc_network_2022-10-14/simulation/network_output_network-synapses_external-input-dardel-2023-01-30-14-28-38-p1.hdf5\n",
      "Loading 40000 neurons with 35040256 synapses and 2531 gap junctions\n",
      "Loading /media/jofrony/2TB/dardel/current_bgd2/population_unit/distance_complete/supercomputer/networks/pdc_network_2022-10-14/simulation/network_output_network-synapses_external-input-dardel-2023-01-30-14-28-38-p1_dopamine_modulation_with_receptors_method_alpha_background_tstart_300_tonic_0.2_gmax_increase_0.8_tau_500.hdf5\n",
      "Loading 40000 neurons with 35040256 synapses and 2531 gap junctions\n",
      "Loading /media/jofrony/2TB/dardel/current_bgd2/population_unit/distance_complete/supercomputer/networks/pdc_network_2022-10-14/simulation/network_output_network-synapses_external-input-dardel-2023-01-30-14-28-57-p1_p2.hdf5\n",
      "Loading 40000 neurons with 35040256 synapses and 2531 gap junctions\n",
      "Loading /media/jofrony/2TB/dardel/current_bgd2/population_unit/distance_complete/supercomputer/networks/pdc_network_2022-10-14/simulation/network_output_network-synapses_external-input-dardel-2023-01-30-14-28-57-p1_p2_dopamine_modulation_with_receptors_method_alpha_background_tstart_300_tonic_0.2_gmax_increase_0.8_tau_500.hdf5\n",
      " Identifying spiking neurons within the network \n",
      "Analysing p1\n",
      "Analysing p1_DA\n",
      "Analysing p1_p2\n",
      "Analysing p1_p2_DA\n",
      "CPU times: user 1min 20s, sys: 4.95 s, total: 1min 25s\n",
      "Wall time: 3min 21s\n"
     ]
    }
   ],
   "source": [
    "%%time\n",
    "neuron_type = \"iSPN\"\n",
    "sl = LoadSimulations(experiments=e)\n",
    "sl.load_network_file(load_synapses=False)\n",
    "specific_trace_ids = sl.get_population_units(neuron_type=neuron_type, population_unit=1)\n",
    "spiking_analysis_dict_ispn = spiking_analysis(data_obj=sl, neuron_type=neuron_type, trace_ids=specific_trace_ids)"
   ]
  },
  {
   "cell_type": "code",
   "execution_count": 27,
   "id": "f89ce30c-2aaa-4e9c-a1d3-03f749fd4bc4",
   "metadata": {},
   "outputs": [],
   "source": [
    "p_ispn = calculate_ratio(dictionary=spiking_analysis_dict_ispn)\n",
    "n_ispn = normalized_prp(dictionary=p_ispn, normalized=\"p1\")"
   ]
  },
  {
   "cell_type": "code",
   "execution_count": 28,
   "id": "fd4d5182-04c9-4eb1-92a5-7aa03e2ead13",
   "metadata": {},
   "outputs": [
    {
     "data": {
      "image/png": "[encoded data removed]",
      "text/plain": [
       "<Figure size 576x288 with 1 Axes>"
      ]
     },
     "metadata": {
      "needs_background": "light"
     },
     "output_type": "display_data"
    }
   ],
   "source": [
    "plot_ratio_normalized_spiking(ratio_dict=n, experiment_names=e, fig_name=neuron_type, folder=folder, save=True, max_ratio=1.2)"
   ]
  },
  {
   "cell_type": "code",
   "execution_count": null,
   "id": "16b6ea30-456a-4f8d-8a57-95d3a00e36b2",
   "metadata": {},
   "outputs": [],
   "source": []
  }
 ],
 "metadata": {
  "kernelspec": {
   "display_name": "Python 3",
   "language": "python",
   "name": "python3"
  },
  "language_info": {
   "codemirror_mode": {
    "name": "ipython",
    "version": 3
   },
   "file_extension": ".py",
   "mimetype": "text/x-python",
   "name": "python",
   "nbconvert_exporter": "python",
   "pygments_lexer": "ipython3",
   "version": "3.7.10"
  }
 },
 "nbformat": 4,
 "nbformat_minor": 5
}
