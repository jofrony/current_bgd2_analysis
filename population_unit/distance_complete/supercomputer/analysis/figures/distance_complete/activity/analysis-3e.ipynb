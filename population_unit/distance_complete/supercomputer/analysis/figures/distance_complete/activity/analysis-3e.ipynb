{
 "cells": [
  {
   "cell_type": "code",
   "execution_count": 1,
   "id": "5af8146a-4bf1-4236-8f00-9570c6376ed3",
   "metadata": {},
   "outputs": [],
   "source": [
    "import sys\n",
    "import os\n",
    "sys.path.append(os.environ[\"CODE_REPOSITORY\"])\n",
    "from code_repository.hotones.thetools import *\n",
    "import matplotlib.pyplot as plt\n",
    "from snudda.utils.load import SnuddaLoad"
   ]
  },
  {
   "cell_type": "code",
   "execution_count": 2,
   "id": "3c51b096-dd29-499b-8c49-8048b3128b74",
   "metadata": {},
   "outputs": [],
   "source": [
    "external = os.path.join(\"/media\",\"jofrony\", \"2TB\", \"dardel\",\"current_bgd2\",\"population_unit\", \n",
    "                        \"distance_complete\", \"supercomputer\", \"networks\")"
   ]
  },
  {
   "cell_type": "code",
   "execution_count": 3,
   "id": "ab48304d-222a-4837-9eb3-301a815a8c8f",
   "metadata": {},
   "outputs": [],
   "source": [
    "folder = \"frequency\""
   ]
  },
  {
   "cell_type": "code",
   "execution_count": 4,
   "id": "22e1a4af-64bb-4962-a68a-5c7b9d1b82a1",
   "metadata": {},
   "outputs": [],
   "source": [
    "parameters = {\"start\": 0.5, \"end\": 2.5}"
   ]
  },
  {
   "cell_type": "code",
   "execution_count": 5,
   "id": "ce81abf4-a963-4fee-bf21-23f3bf79b2cf",
   "metadata": {},
   "outputs": [],
   "source": [
    "e = Experiments()\n",
    "e.add_experiment(name=\"0_p1\",\n",
    "                 color=\"black\",\n",
    "                 label=\"2500 ms stimulation\",\n",
    "                 network=\"network-synapses.hdf5\",\n",
    "                 path=os.path.join(external, \"pdc_network_2022-10-14\"),\n",
    "                 output=\"network_output_network-synapses_cell_ids_current_injection_dardel_2022-10-13-17-37-42_p1.hdf5\")\n",
    "e.add_experiment(name=\"0_p1_p2\",\n",
    "                 color=\"black\",\n",
    "                 label=\"2500 ms stimulation\",\n",
    "                 network=\"network-synapses.hdf5\",\n",
    "                 path=os.path.join(external, \"pdc_network_2022-10-14\"),\n",
    "                 output=\"network_output_network-synapses_cell_ids_current_injection_dardel_2022-10-13-17-37-42_p1_p2.hdf5\")\n",
    "\n",
    "e.add_experiment(name=\"45_p1\",\n",
    "                 color=\"black\",\n",
    "                 label=\"2500 ms stimulation\",\n",
    "                 network=\"network-synapses.hdf5\",\n",
    "                 path=os.path.join(external, \"pdc_network_2022-10-13\"),\n",
    "                 output=\"network_output_network-synapses_cell_ids_current_injection_dardel_2022-10-13-17-36-57_p1.hdf5\")\n",
    "e.add_experiment(name=\"45_p1_p2\",\n",
    "                 color=\"black\",\n",
    "                 label=\"2500 ms stimulation\",\n",
    "                 network=\"network-synapses.hdf5\",\n",
    "                 path=os.path.join(external, \"pdc_network_2022-10-13\"),\n",
    "                 output=\"network_output_network-synapses_cell_ids_current_injection_dardel_2022-10-13-17-36-57_p1_p2.hdf5\")\n",
    "\n",
    "e.add_experiment(name=\"90_p1\",\n",
    "                 color=\"black\",\n",
    "                 label=\"2500 ms stimulation\",\n",
    "                 network=\"network-synapses.hdf5\",\n",
    "                 path=os.path.join(external, \"pdc_network_2022-10-10\"),\n",
    "                 output=\"network_output_network-synapses_cell_ids_current_injection_dardel_2022-10-12-13-30-26_p1.hdf5\")\n",
    "e.add_experiment(name=\"90_p1_p2\",\n",
    "                 color=\"red\",\n",
    "                 label=\"2500 ms stimulation\",\n",
    "                 network=\"network-synapses.hdf5\",\n",
    "                 path=os.path.join(external, \"pdc_network_2022-10-10\"),\n",
    "                 output=\"network_output_network-synapses_cell_ids_current_injection_dardel_2022-10-12-13-30-26_p1_p2.hdf5\")\n",
    "\n",
    "\n",
    "   "
   ]
  },
  {
   "cell_type": "code",
   "execution_count": 6,
   "id": "e31ef6da-1ff8-4591-8d67-ec27add43ee8",
   "metadata": {},
   "outputs": [
    {
     "name": "stdout",
     "output_type": "stream",
     "text": [
      "Loading 40000 neurons with 35040256 synapses and 2531 gap junctions\n",
      "Loading /media/jofrony/2TB/dardel/current_bgd2/population_unit/distance_complete/supercomputer/networks/pdc_network_2022-10-14/simulation/network_output_network-synapses_cell_ids_current_injection_dardel_2022-10-13-17-37-42_p1.hdf5\n",
      "Loading 40000 neurons with 35040256 synapses and 2531 gap junctions\n",
      "Loading /media/jofrony/2TB/dardel/current_bgd2/population_unit/distance_complete/supercomputer/networks/pdc_network_2022-10-14/simulation/network_output_network-synapses_cell_ids_current_injection_dardel_2022-10-13-17-37-42_p1_p2.hdf5\n",
      "Loading 40000 neurons with 35040256 synapses and 2531 gap junctions\n",
      "Loading /media/jofrony/2TB/dardel/current_bgd2/population_unit/distance_complete/supercomputer/networks/pdc_network_2022-10-13/simulation/network_output_network-synapses_cell_ids_current_injection_dardel_2022-10-13-17-36-57_p1.hdf5\n",
      "Loading 40000 neurons with 35040256 synapses and 2531 gap junctions\n",
      "Loading /media/jofrony/2TB/dardel/current_bgd2/population_unit/distance_complete/supercomputer/networks/pdc_network_2022-10-13/simulation/network_output_network-synapses_cell_ids_current_injection_dardel_2022-10-13-17-36-57_p1_p2.hdf5\n",
      "Loading 40000 neurons with 35040256 synapses and 2531 gap junctions\n",
      "Loading /media/jofrony/2TB/dardel/current_bgd2/population_unit/distance_complete/supercomputer/networks/pdc_network_2022-10-10/simulation/network_output_network-synapses_cell_ids_current_injection_dardel_2022-10-12-13-30-26_p1.hdf5\n",
      "Loading 40000 neurons with 35040256 synapses and 2531 gap junctions\n",
      "Loading /media/jofrony/2TB/dardel/current_bgd2/population_unit/distance_complete/supercomputer/networks/pdc_network_2022-10-10/simulation/network_output_network-synapses_cell_ids_current_injection_dardel_2022-10-12-13-30-26_p1_p2.hdf5\n"
     ]
    }
   ],
   "source": [
    "sl = LoadSimulations(experiments=e)\n",
    "sl.load_network_file(load_synapses=False)"
   ]
  },
  {
   "cell_type": "code",
   "execution_count": null,
   "id": "a52b68b3-585e-431c-8151-746002008ce8",
   "metadata": {},
   "outputs": [],
   "source": []
  },
  {
   "cell_type": "code",
   "execution_count": 7,
   "id": "cb587049-7baf-49d1-b8e7-4fe9a1e31dac",
   "metadata": {},
   "outputs": [
    {
     "name": "stdout",
     "output_type": "stream",
     "text": [
      "CPU times: user 40.2 s, sys: 4.66 s, total: 44.9 s\n",
      "Wall time: 4min 37s\n"
     ]
    }
   ],
   "source": [
    "%%time\n",
    "neuron_type = \"dSPN\"\n",
    "specific_trace_ids = sl.get_population_units(neuron_type=neuron_type, population_unit=1)\n",
    "frequency_analysis_dict_dspn = frequency_analysis(data_obj=sl, neuron_type=neuron_type, trace_ids=specific_trace_ids, parameters={\"start\": 0.5, \"end\": 2.5})\n"
   ]
  },
  {
   "cell_type": "code",
   "execution_count": 8,
   "id": "e0b55c9c-03ba-4cc0-833c-5912ccd994d9",
   "metadata": {},
   "outputs": [
    {
     "name": "stdout",
     "output_type": "stream",
     "text": [
      "CPU times: user 39.8 s, sys: 4.52 s, total: 44.4 s\n",
      "Wall time: 4min 32s\n"
     ]
    }
   ],
   "source": [
    "%%time\n",
    "neuron_type = \"iSPN\"\n",
    "specific_trace_ids = sl.get_population_units(neuron_type=neuron_type, population_unit=1)\n",
    "frequency_analysis_dict_ispn = frequency_analysis(data_obj=sl, neuron_type=neuron_type, trace_ids=specific_trace_ids, parameters={\"start\": 0.5, \"end\": 2.5})\n"
   ]
  },
  {
   "cell_type": "code",
   "execution_count": 9,
   "id": "1584e2d3-75e6-4116-bb39-5689aa0243e8",
   "metadata": {},
   "outputs": [],
   "source": [
    "frequency_analysis_dict = {i : dict() for i in [*e.experiments.keys()]}"
   ]
  },
  {
   "cell_type": "code",
   "execution_count": 10,
   "id": "62ab4188-2b4a-400f-b7c6-0e871072c56c",
   "metadata": {},
   "outputs": [],
   "source": [
    "for v, k in frequency_analysis_dict_dspn.items():\n",
    "    frequency_analysis_dict[v].update(k)"
   ]
  },
  {
   "cell_type": "code",
   "execution_count": 11,
   "id": "d4026a20-90a6-4e12-8ff9-74b4627fd659",
   "metadata": {},
   "outputs": [],
   "source": [
    "for v, k in frequency_analysis_dict_ispn.items():\n",
    "    frequency_analysis_dict[v].update(k)"
   ]
  },
  {
   "cell_type": "code",
   "execution_count": 12,
   "id": "0550cd73-3c1c-4f31-9918-acaefea6bcf5",
   "metadata": {},
   "outputs": [],
   "source": [
    "import pandas as pd\n",
    "import seaborn as sns\n",
    "d = {\"distance\": list(), \"response\": list()}\n",
    "tmps = dict()\n",
    "for distance in [0,45,90]:\n",
    "    tmps.update({distance: list()})\n",
    "    for ids in frequency_analysis_dict[f\"{distance}_p1\"]:\n",
    "        d[\"distance\"].append(distance)\n",
    "        diff = frequency_analysis_dict[f\"{distance}_p1_p2\"][ids] - frequency_analysis_dict[f\"{distance}_p1\"][ids]\n",
    "        tmps[distance].append(diff)\n",
    "        d[\"response\"].append(diff)\n",
    "df = pd.DataFrame(data=d)"
   ]
  },
  {
   "cell_type": "code",
   "execution_count": 19,
   "id": "9fff2ada-7b78-4347-9e5c-b556ba0f6179",
   "metadata": {},
   "outputs": [
    {
     "data": {
      "image/png": "[encoded data removed]",
      "text/plain": [
       "<Figure size 576x432 with 1 Axes>"
      ]
     },
     "metadata": {
      "needs_background": "light"
     },
     "output_type": "display_data"
    }
   ],
   "source": [
    "csfont = {\"fontname\": \"Arial\", 'fontsize': 16}\n",
    "colors = {0: \"black\",\n",
    "         45: \"green\" ,\n",
    "         90: \"blue\"}\n",
    "plt.figure(figsize=(8, 6))\n",
    "sns.violinplot(x=\"distance\", y=\"response\", data=df,palette=colors)\n",
    "sns.stripplot(x=\"distance\", y=\"response\", data=df,\n",
    "              color=\"black\", edgecolor=\"gray\")\n",
    "\n",
    "plt.ylabel(\"Frequency change (Hz)\", **csfont)\n",
    "plt.yticks(fontsize=14)\n",
    "plt.xticks(fontsize=14)\n",
    "plt.xlabel(\"Distance\", **csfont)\n",
    "plt.ylim((-16,3))\n",
    "plt.savefig(os.path.join(\"violin_frequency\",\"complete_network_distance_inhibition.svg\"))"
   ]
  },
  {
   "cell_type": "code",
   "execution_count": null,
   "id": "39fc6e22-5bde-4725-9867-dcd6074f9957",
   "metadata": {},
   "outputs": [],
   "source": []
  }
 ],
 "metadata": {
  "kernelspec": {
   "display_name": "Python 3",
   "language": "python",
   "name": "python3"
  },
  "language_info": {
   "codemirror_mode": {
    "name": "ipython",
    "version": 3
   },
   "file_extension": ".py",
   "mimetype": "text/x-python",
   "name": "python",
   "nbconvert_exporter": "python",
   "pygments_lexer": "ipython3",
   "version": "3.7.10"
  }
 },
 "nbformat": 4,
 "nbformat_minor": 5
}
