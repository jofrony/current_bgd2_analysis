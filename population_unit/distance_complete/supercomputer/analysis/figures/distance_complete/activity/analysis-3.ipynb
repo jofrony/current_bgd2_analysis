{
 "cells": [
  {
   "cell_type": "code",
   "execution_count": 1,
   "id": "5af8146a-4bf1-4236-8f00-9570c6376ed3",
   "metadata": {},
   "outputs": [],
   "source": [
    "import sys\n",
    "import os\n",
    "sys.path.append(os.environ[\"CODE_REPOSITORY\"])\n",
    "from code_repository.hotones.thetools import *\n",
    "import matplotlib.pyplot as plt\n",
    "from snudda.utils.load import SnuddaLoad"
   ]
  },
  {
   "cell_type": "code",
   "execution_count": 2,
   "id": "3c51b096-dd29-499b-8c49-8048b3128b74",
   "metadata": {},
   "outputs": [],
   "source": [
    "external = os.path.join(\"/media\",\"jofrony\", \"2TB\", \"dardel\",\"current_bgd2\",\"population_unit\", \n",
    "                        \"distance_complete\", \"supercomputer\", \"networks\")"
   ]
  },
  {
   "cell_type": "code",
   "execution_count": 3,
   "id": "ab48304d-222a-4837-9eb3-301a815a8c8f",
   "metadata": {},
   "outputs": [],
   "source": [
    "folder = \"frequency\""
   ]
  },
  {
   "cell_type": "code",
   "execution_count": 4,
   "id": "22e1a4af-64bb-4962-a68a-5c7b9d1b82a1",
   "metadata": {},
   "outputs": [],
   "source": [
    "parameters = {\"start\": 0.5, \"end\": 2.5}"
   ]
  },
  {
   "cell_type": "code",
   "execution_count": 5,
   "id": "ce81abf4-a963-4fee-bf21-23f3bf79b2cf",
   "metadata": {},
   "outputs": [],
   "source": [
    "e = Experiments()\n",
    "e.add_experiment(name=\"0_p1\",\n",
    "                 color=\"black\",\n",
    "                 label=\"2500 ms stimulation\",\n",
    "                 network=\"network-synapses.hdf5\",\n",
    "                 path=os.path.join(external, \"pdc_network_2022-10-14\"),\n",
    "                 output=\"network_output_network-synapses_cell_ids_current_injection_dardel_2022-10-13-17-37-42_p1.hdf5\")\n",
    "e.add_experiment(name=\"0_p1_p2\",\n",
    "                 color=\"black\",\n",
    "                 label=\"2500 ms stimulation\",\n",
    "                 network=\"network-synapses.hdf5\",\n",
    "                 path=os.path.join(external, \"pdc_network_2022-10-14\"),\n",
    "                 output=\"network_output_network-synapses_cell_ids_current_injection_dardel_2022-10-13-17-37-42_p1_p2.hdf5\")\n",
    "\n",
    "e.add_experiment(name=\"45_p1\",\n",
    "                 color=\"black\",\n",
    "                 label=\"2500 ms stimulation\",\n",
    "                 network=\"network-synapses.hdf5\",\n",
    "                 path=os.path.join(external, \"pdc_network_2022-10-13\"),\n",
    "                 output=\"network_output_network-synapses_cell_ids_current_injection_dardel_2022-10-13-17-36-57_p1.hdf5\")\n",
    "e.add_experiment(name=\"45_p1_p2\",\n",
    "                 color=\"black\",\n",
    "                 label=\"2500 ms stimulation\",\n",
    "                 network=\"network-synapses.hdf5\",\n",
    "                 path=os.path.join(external, \"pdc_network_2022-10-13\"),\n",
    "                 output=\"network_output_network-synapses_cell_ids_current_injection_dardel_2022-10-13-17-36-57_p1_p2.hdf5\")\n",
    "\n",
    "e.add_experiment(name=\"90_p1\",\n",
    "                 color=\"black\",\n",
    "                 label=\"2500 ms stimulation\",\n",
    "                 network=\"network-synapses.hdf5\",\n",
    "                 path=os.path.join(external, \"pdc_network_2022-10-10\"),\n",
    "                 output=\"network_output_network-synapses_cell_ids_current_injection_dardel_2022-10-12-13-30-26_p1.hdf5\")\n",
    "e.add_experiment(name=\"90_p1_p2\",\n",
    "                 color=\"red\",\n",
    "                 label=\"2500 ms stimulation\",\n",
    "                 network=\"network-synapses.hdf5\",\n",
    "                 path=os.path.join(external, \"pdc_network_2022-10-10\"),\n",
    "                 output=\"network_output_network-synapses_cell_ids_current_injection_dardel_2022-10-12-13-30-26_p1_p2.hdf5\")\n",
    "\n",
    "\n",
    "   "
   ]
  },
  {
   "cell_type": "code",
   "execution_count": 6,
   "id": "e31ef6da-1ff8-4591-8d67-ec27add43ee8",
   "metadata": {},
   "outputs": [
    {
     "name": "stdout",
     "output_type": "stream",
     "text": [
      "Loading 40000 neurons with 35040256 synapses and 2531 gap junctions\n",
      "Loading /media/jofrony/2TB/dardel/current_bgd2/population_unit/distance_complete/supercomputer/networks/pdc_network_2022-10-14/simulation/network_output_network-synapses_cell_ids_current_injection_dardel_2022-10-13-17-37-42_p1.hdf5\n",
      "Loading 40000 neurons with 35040256 synapses and 2531 gap junctions\n",
      "Loading /media/jofrony/2TB/dardel/current_bgd2/population_unit/distance_complete/supercomputer/networks/pdc_network_2022-10-14/simulation/network_output_network-synapses_cell_ids_current_injection_dardel_2022-10-13-17-37-42_p1_p2.hdf5\n",
      "Loading 40000 neurons with 35040256 synapses and 2531 gap junctions\n",
      "Loading /media/jofrony/2TB/dardel/current_bgd2/population_unit/distance_complete/supercomputer/networks/pdc_network_2022-10-13/simulation/network_output_network-synapses_cell_ids_current_injection_dardel_2022-10-13-17-36-57_p1.hdf5\n",
      "Loading 40000 neurons with 35040256 synapses and 2531 gap junctions\n",
      "Loading /media/jofrony/2TB/dardel/current_bgd2/population_unit/distance_complete/supercomputer/networks/pdc_network_2022-10-13/simulation/network_output_network-synapses_cell_ids_current_injection_dardel_2022-10-13-17-36-57_p1_p2.hdf5\n",
      "Loading 40000 neurons with 35040256 synapses and 2531 gap junctions\n",
      "Loading /media/jofrony/2TB/dardel/current_bgd2/population_unit/distance_complete/supercomputer/networks/pdc_network_2022-10-10/simulation/network_output_network-synapses_cell_ids_current_injection_dardel_2022-10-12-13-30-26_p1.hdf5\n",
      "Loading 40000 neurons with 35040256 synapses and 2531 gap junctions\n",
      "Loading /media/jofrony/2TB/dardel/current_bgd2/population_unit/distance_complete/supercomputer/networks/pdc_network_2022-10-10/simulation/network_output_network-synapses_cell_ids_current_injection_dardel_2022-10-12-13-30-26_p1_p2.hdf5\n"
     ]
    }
   ],
   "source": [
    "sl = LoadSimulations(experiments=e)\n",
    "sl.load_network_file(load_synapses=False)"
   ]
  },
  {
   "cell_type": "code",
   "execution_count": null,
   "id": "054e405c-745e-449a-8572-9171318507ff",
   "metadata": {},
   "outputs": [],
   "source": [
    "%%time\n",
    "neuron_type = \"dSPN\"\n",
    "specific_trace_ids = sl.get_population_units(neuron_type=neuron_type, population_unit=1)\n",
    "frequency_analysis_dict = frequency_analysis(data_obj=sl, neuron_type=neuron_type, trace_ids=specific_trace_ids, parameters=parameters)\n"
   ]
  },
  {
   "cell_type": "code",
   "execution_count": null,
   "id": "74a69d85-e685-4f19-b3d4-001835bcc09c",
   "metadata": {},
   "outputs": [],
   "source": [
    "colors = {\"0_p1\": \"black\",\n",
    "         \"0_p1_p2\": \"green\",\n",
    "          \"45_p1\": \"black\",\n",
    "         \"45_p1_p2\": \"green\",\n",
    "          \"90_p1\": \"black\",\n",
    "         \"90_p1_p2\": \"green\" }\n",
    "bins=10"
   ]
  },
  {
   "cell_type": "code",
   "execution_count": null,
   "id": "74a48da3-0999-4d67-97aa-532496bebe30",
   "metadata": {},
   "outputs": [],
   "source": [
    "fig_name = f\"{neuron_type}_above_0Hz\"\n",
    "plot_histogram_frequency(frequency_dict=frequency_analysis_dict, experiment_names=e,\n",
    "                         fig_name=fig_name, \n",
    "                         colors=colors,bins=bins,\n",
    "                         parameters={plt.xlim: (0,40)},\n",
    "                         folder=folder, save=True)"
   ]
  },
  {
   "cell_type": "code",
   "execution_count": null,
   "id": "25222a41-2836-4a8c-a728-577e1244e485",
   "metadata": {},
   "outputs": [],
   "source": [
    "fig_name = f\"{neuron_type}_above_0Hz\"\n",
    "plot_histogram_frequency_step(frequency_dict=frequency_analysis_dict, experiment_names=e,\n",
    "                         fig_name=fig_name, \n",
    "                         colors=colors,bins=bins,\n",
    "                         parameters={plt.xlim: (0,40)},\n",
    "                         folder=folder, save=True)"
   ]
  },
  {
   "cell_type": "code",
   "execution_count": null,
   "id": "f082b09a-dfce-42d7-b590-806618338475",
   "metadata": {},
   "outputs": [],
   "source": [
    "mean_frequency_dict = mean_frequency(dictionary=frequency_analysis_dict, parameters={\"interval\": [10,60]})"
   ]
  },
  {
   "cell_type": "code",
   "execution_count": null,
   "id": "889a1308-0bb4-4458-b11d-5f19f261ad3d",
   "metadata": {},
   "outputs": [],
   "source": [
    "plot_mean_frequency(mean_frequency_dict = mean_frequency_dict, folder=folder,colors=colors, experiment_names=e)"
   ]
  },
  {
   "cell_type": "code",
   "execution_count": null,
   "id": "c0d0dd76-006e-4e67-b04b-3cb49c971a9d",
   "metadata": {},
   "outputs": [],
   "source": [
    "parameters = dict(pairs=list())\n",
    "\n",
    "for d in [\"0\",\"45\",\"90\"]:\n",
    "    parameters[\"pairs\"].append([f\"{d}_p1\", f\"{d}_p1_p2\", f\"{d}\"])\n",
    "change = change_mean_frequency(dictionary=mean_frequency_dict, parameters=parameters)\n",
    "parameters"
   ]
  },
  {
   "cell_type": "code",
   "execution_count": null,
   "id": "59ca6454-4610-485a-b48e-e4fdfb518410",
   "metadata": {},
   "outputs": [],
   "source": [
    "colors = {\"0\": \"black\",\n",
    "          \"45\":\"green\",\n",
    "          \"90\": \"blue\"}"
   ]
  },
  {
   "cell_type": "code",
   "execution_count": null,
   "id": "31c4edd3-a194-4ae8-bb18-dada7e45c3d4",
   "metadata": {},
   "outputs": [],
   "source": [
    "customize={plt.ylim:(-1.2,0)}"
   ]
  },
  {
   "cell_type": "code",
   "execution_count": null,
   "id": "9da2b6de-d627-4c9a-ad67-4adde1e009d4",
   "metadata": {},
   "outputs": [],
   "source": [
    "plot_change_mean_frequency(change_mean_frequency_dict = change, folder=folder,colors=colors, experiment_names=[\"0\", \"45\", \"90\"], save=True,customize=customize)"
   ]
  },
  {
   "cell_type": "code",
   "execution_count": null,
   "id": "0bba72ba-9e6f-46b5-ae12-29d3f5423b0a",
   "metadata": {},
   "outputs": [],
   "source": [
    "parameters = {\"start\": 0.5, \"end\": 2.5}"
   ]
  },
  {
   "cell_type": "code",
   "execution_count": null,
   "id": "a52b68b3-585e-431c-8151-746002008ce8",
   "metadata": {},
   "outputs": [],
   "source": []
  },
  {
   "cell_type": "code",
   "execution_count": null,
   "id": "0550cd73-3c1c-4f31-9918-acaefea6bcf5",
   "metadata": {},
   "outputs": [],
   "source": [
    "import pandas as pd\n",
    "import seaborn as sns\n",
    "d = {\"distance\": list(), \"response\": list()}\n",
    "tmps = dict()\n",
    "for distance in [0,45,90]:\n",
    "    tmps.update({distance: list()})\n",
    "    for ids in frequency_analysis_dict[f\"{distance}_p1\"]:\n",
    "        d[\"distance\"].append(distance)\n",
    "        diff = frequency_analysis_dict[f\"{distance}_p1_p2\"][ids] - frequency_analysis_dict[f\"{distance}_p1\"][ids]\n",
    "        tmps[distance].append(diff)\n",
    "        d[\"response\"].append(diff)\n",
    "df = pd.DataFrame(data=d)"
   ]
  },
  {
   "cell_type": "code",
   "execution_count": null,
   "id": "9fff2ada-7b78-4347-9e5c-b556ba0f6179",
   "metadata": {},
   "outputs": [],
   "source": [
    "csfont = {\"fontname\": \"Arial\", 'fontsize': 16}\n",
    "colors = {0: \"black\",\n",
    "         45: \"green\" ,\n",
    "         90: \"blue\"}\n",
    "plt.figure(figsize=(8, 6))\n",
    "sns.violinplot(x=\"distance\", y=\"response\", data=df,palette=colors)\n",
    "sns.stripplot(x=\"distance\", y=\"response\", data=df,\n",
    "              color=\"black\", edgecolor=\"gray\")\n",
    "\n",
    "plt.ylabel(\"Frequency change (Hz)\", **csfont)\n",
    "plt.yticks(fontsize=14)"
   ]
  },
  {
   "cell_type": "code",
   "execution_count": null,
   "id": "49a7977c-1e41-4510-9e48-74e6989af436",
   "metadata": {},
   "outputs": [],
   "source": [
    "%%time\n",
    "neuron_type = \"iSPN\"\n",
    "specific_trace_ids = sl.get_population_units(neuron_type=neuron_type, population_unit=1)\n",
    "frequency_analysis_dict = frequency_analysis(data_obj=sl, neuron_type=neuron_type, trace_ids=specific_trace_ids, parameters=parameters)\n"
   ]
  },
  {
   "cell_type": "code",
   "execution_count": null,
   "id": "bae7b073-3dbf-4162-946c-01058d2bf583",
   "metadata": {},
   "outputs": [],
   "source": [
    "colors = {\"0_p1\": \"black\",\n",
    "         \"0_p1_p2\": \"green\",\n",
    "          \"45_p1\": \"black\",\n",
    "         \"45_p1_p2\": \"green\",\n",
    "          \"90_p1\": \"black\",\n",
    "         \"90_p1_p2\": \"green\" }\n",
    "bins=10"
   ]
  },
  {
   "cell_type": "code",
   "execution_count": null,
   "id": "f6ec9573-0cd6-4d40-872a-d63e27a557ff",
   "metadata": {},
   "outputs": [],
   "source": [
    "fig_name = f\"{neuron_type}_above_0Hz\"\n",
    "plot_histogram_frequency(frequency_dict=frequency_analysis_dict, experiment_names=e,\n",
    "                         fig_name=fig_name, \n",
    "                         colors=colors,bins=bins,\n",
    "                         parameters={plt.xlim: (0,60)},\n",
    "                         folder=folder, save=True)"
   ]
  },
  {
   "cell_type": "code",
   "execution_count": null,
   "id": "4bb4e14a-2f32-4f14-a2d8-4ccd8ec825a7",
   "metadata": {},
   "outputs": [],
   "source": [
    "fig_name = f\"{neuron_type}_above_0Hz\"\n",
    "plot_histogram_frequency_step(frequency_dict=frequency_analysis_dict, experiment_names=e,\n",
    "                         fig_name=fig_name, \n",
    "                         colors=colors,bins=bins,\n",
    "                         parameters={plt.xlim: (0,60)},\n",
    "                         folder=folder, save=True)"
   ]
  },
  {
   "cell_type": "code",
   "execution_count": null,
   "id": "9f84a8ee-723d-4f4b-a9fc-7bd78ce5b899",
   "metadata": {},
   "outputs": [],
   "source": [
    "mean_frequency_dict = mean_frequency(dictionary=frequency_analysis_dict, parameters={\"interval\": [10,60]})"
   ]
  },
  {
   "cell_type": "code",
   "execution_count": null,
   "id": "4bd389de-e6fb-4d44-b3c8-d8ae59f8de64",
   "metadata": {},
   "outputs": [],
   "source": [
    "colors = {\"0_p1\": \"black\",\n",
    "         \"0_p1_p2\": \"green\",\n",
    "          \"45_p1\": \"black\",\n",
    "         \"45_p1_p2\": \"green\",\n",
    "          \"90_p1\": \"black\",\n",
    "         \"90_p1_p2\": \"green\" }"
   ]
  },
  {
   "cell_type": "code",
   "execution_count": null,
   "id": "0f0e7858-a268-4902-8b13-9a1b95012f09",
   "metadata": {},
   "outputs": [],
   "source": [
    "plot_mean_frequency(mean_frequency_dict = mean_frequency_dict, folder=folder,colors=colors, experiment_names=e)"
   ]
  },
  {
   "cell_type": "code",
   "execution_count": null,
   "id": "e71da3e8-d294-4879-931e-598cc04a78cc",
   "metadata": {},
   "outputs": [],
   "source": [
    "parameters = dict(pairs=list())\n",
    "\n",
    "for d in [\"0\",\"45\",\"90\"]:\n",
    "    parameters[\"pairs\"].append([f\"{d}_p1\", f\"{d}_p1_p2\", f\"{d}\"])\n",
    "change = change_mean_frequency(dictionary=mean_frequency_dict, parameters=parameters)\n",
    "parameters"
   ]
  },
  {
   "cell_type": "code",
   "execution_count": null,
   "id": "9cdd7713-6e1e-4640-908c-6911d95ada17",
   "metadata": {},
   "outputs": [],
   "source": [
    "colors = {\"0\": \"black\",\n",
    "          \"45\":\"green\",\n",
    "          \"90\": \"blue\"}"
   ]
  },
  {
   "cell_type": "code",
   "execution_count": null,
   "id": "8939990d-dc55-4079-9f4d-0a88073232c3",
   "metadata": {},
   "outputs": [],
   "source": [
    "customize={plt.ylim:(-1.2,0)}"
   ]
  },
  {
   "cell_type": "code",
   "execution_count": null,
   "id": "e469cfe2-6c51-4011-af67-66cfe8e3b58a",
   "metadata": {},
   "outputs": [],
   "source": [
    "plot_change_mean_frequency(change_mean_frequency_dict = change, folder=folder,colors=colors, experiment_names=[\"0\", \"45\", \"90\"], save=True,customize=customize)"
   ]
  },
  {
   "cell_type": "code",
   "execution_count": null,
   "id": "39fc6e22-5bde-4725-9867-dcd6074f9957",
   "metadata": {},
   "outputs": [],
   "source": []
  }
 ],
 "metadata": {
  "kernelspec": {
   "display_name": "Python 3",
   "language": "python",
   "name": "python3"
  },
  "language_info": {
   "codemirror_mode": {
    "name": "ipython",
    "version": 3
   },
   "file_extension": ".py",
   "mimetype": "text/x-python",
   "name": "python",
   "nbconvert_exporter": "python",
   "pygments_lexer": "ipython3",
   "version": "3.7.10"
  }
 },
 "nbformat": 4,
 "nbformat_minor": 5
}
