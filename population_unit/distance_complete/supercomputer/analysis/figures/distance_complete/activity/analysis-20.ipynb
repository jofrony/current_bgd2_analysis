{
 "cells": [
  {
   "cell_type": "code",
   "execution_count": 1,
   "id": "b05c0fd4-504b-4a52-8e2a-415c03cec679",
   "metadata": {},
   "outputs": [],
   "source": [
    "import sys\n",
    "import os\n",
    "sys.path.append(os.environ[\"CODE_REPOSITORY\"])\n",
    "from code_repository.hotones.thetools import *\n",
    "from code_repository.load.load_simulations import LoadSimulations"
   ]
  },
  {
   "cell_type": "code",
   "execution_count": 2,
   "id": "e9e0f7ae-563e-4fa8-a408-6b2343a679bc",
   "metadata": {},
   "outputs": [],
   "source": [
    "external = os.path.join(\"/media\",\"jofrony\", \"2TB\", \"dardel\",\"current_bgd2\",\"population_unit\", \n",
    "                        \"distance_complete\", \"supercomputer\", \"networks\")\n",
    "repository = os.path.join(\"/home\",\"jofrony\",\"Documents\",\n",
    "                          \"Repositories\",\"current_bgd2\",\n",
    "                          \"population_unit\", \n",
    "                        \"distance_complete\", \"supercomputer\", \"networks\")"
   ]
  },
  {
   "cell_type": "code",
   "execution_count": 3,
   "id": "f5a06f3c-45ca-4f5e-980b-5b423e90f61e",
   "metadata": {},
   "outputs": [],
   "source": [
    "name = \"synaptic_drive_DA\"\n",
    "folder = \"ratio\""
   ]
  },
  {
   "cell_type": "code",
   "execution_count": 4,
   "id": "4c9c5a39-8eb9-4eb2-9709-575cd3834373",
   "metadata": {},
   "outputs": [
    {
     "data": {
      "text/plain": [
       "{'p1': {'color': 'black',\n",
       "  'label': '2500 ms stimulation',\n",
       "  'network': 'network-synapses.hdf5',\n",
       "  'path': '/media/jofrony/2TB/dardel/current_bgd2/population_unit/distance_complete/supercomputer/networks/pdc_network_2022-10-14',\n",
       "  'output': 'network_output_80mV_network-synapses_external-input-dardel-2023-02-03-14-40-15-p1.hdf5'},\n",
       " 'p1_DA': {'color': 'red',\n",
       "  'label': '2500 ms stimulation',\n",
       "  'network': 'network-synapses.hdf5',\n",
       "  'path': '/media/jofrony/2TB/dardel/current_bgd2/population_unit/distance_complete/supercomputer/networks/pdc_network_2022-10-14',\n",
       "  'output': 'network_output_80mV_network-synapses_external-input-dardel-2023-02-03-14-40-15-p1_dopamine_modulation_method_alpha_background_tstart_300_tonic_0.2_gmax_increase_0.8_tau_500.hdf5'},\n",
       " 'p1_p2': {'color': 'black',\n",
       "  'label': '2500 ms stimulation',\n",
       "  'network': 'network-synapses.hdf5',\n",
       "  'path': '/media/jofrony/2TB/dardel/current_bgd2/population_unit/distance_complete/supercomputer/networks/pdc_network_2022-10-14',\n",
       "  'output': 'network_output_80mV_network-synapses_external-input-dardel-2023-02-03-14-40-15-p1_p2.hdf5'},\n",
       " 'p1_p2_DA': {'color': 'red',\n",
       "  'label': '2500 ms stimulation',\n",
       "  'network': 'network-synapses.hdf5',\n",
       "  'path': '/media/jofrony/2TB/dardel/current_bgd2/population_unit/distance_complete/supercomputer/networks/pdc_network_2022-10-14',\n",
       "  'output': 'network_output_80mV_network-synapses_external-input-dardel-2023-02-03-14-40-15-p1_p2_dopamine_modulation_method_alpha_background_tstart_300_tonic_0.2_gmax_increase_0.8_tau_500.hdf5'}}"
      ]
     },
     "execution_count": 4,
     "metadata": {},
     "output_type": "execute_result"
    }
   ],
   "source": [
    "e = Experiments()\n",
    "e.add_experiment(name=\"p1\",\n",
    "                 color=\"black\",\n",
    "                 label=\"2500 ms stimulation\",\n",
    "                 network=\"network-synapses.hdf5\",\n",
    "                 path=os.path.join(external, \"pdc_network_2022-10-14\"),\n",
    "                 output=\"network_output_80mV_network-synapses_external-input-dardel-2023-02-03-14-40-15-p1.hdf5\")\n",
    "\n",
    "\n",
    "e.add_experiment(name=\"p1_DA\",\n",
    "                 color=\"red\",\n",
    "                 label=\"2500 ms stimulation\",\n",
    "                 network=\"network-synapses.hdf5\",\n",
    "                 path=os.path.join(external, \"pdc_network_2022-10-14\"),\n",
    "                 output=\"network_output_80mV_network-synapses_external-input-dardel-2023-02-03-14-40-15-p1_dopamine_modulation_method_alpha_background_tstart_300_tonic_0.2_gmax_increase_0.8_tau_500.hdf5\")\n",
    "\n",
    "\n",
    "\n",
    "e.add_experiment(name=\"p1_p2\",\n",
    "                 color=\"black\",\n",
    "                 label=\"2500 ms stimulation\",\n",
    "                 network=\"network-synapses.hdf5\",\n",
    "                 path=os.path.join(external, \"pdc_network_2022-10-14\"),\n",
    "                 output=\"network_output_80mV_network-synapses_external-input-dardel-2023-02-03-14-40-15-p1_p2.hdf5\")\n",
    "\n",
    "\n",
    "e.add_experiment(name=\"p1_p2_DA\",\n",
    "                 color=\"red\",\n",
    "                 label=\"2500 ms stimulation\",\n",
    "                 network=\"network-synapses.hdf5\",\n",
    "                 path=os.path.join(external, \"pdc_network_2022-10-14\"),\n",
    "                 output=\"network_output_80mV_network-synapses_external-input-dardel-2023-02-03-14-40-15-p1_p2_dopamine_modulation_method_alpha_background_tstart_300_tonic_0.2_gmax_increase_0.8_tau_500.hdf5\")\n",
    "\n",
    "   \n",
    "e.experiments     "
   ]
  },
  {
   "cell_type": "code",
   "execution_count": 5,
   "id": "b43935ab-4e69-4d95-bb2d-f8bd0b34fd84",
   "metadata": {},
   "outputs": [
    {
     "name": "stdout",
     "output_type": "stream",
     "text": [
      "Loading 40000 neurons with 35040256 synapses and 2531 gap junctions\n",
      "Loading /media/jofrony/2TB/dardel/current_bgd2/population_unit/distance_complete/supercomputer/networks/pdc_network_2022-10-14/simulation/network_output_80mV_network-synapses_external-input-dardel-2023-02-03-14-40-15-p1.hdf5\n",
      "Loading 40000 neurons with 35040256 synapses and 2531 gap junctions\n",
      "Loading /media/jofrony/2TB/dardel/current_bgd2/population_unit/distance_complete/supercomputer/networks/pdc_network_2022-10-14/simulation/network_output_80mV_network-synapses_external-input-dardel-2023-02-03-14-40-15-p1_dopamine_modulation_method_alpha_background_tstart_300_tonic_0.2_gmax_increase_0.8_tau_500.hdf5\n",
      "Loading 40000 neurons with 35040256 synapses and 2531 gap junctions\n",
      "Loading /media/jofrony/2TB/dardel/current_bgd2/population_unit/distance_complete/supercomputer/networks/pdc_network_2022-10-14/simulation/network_output_80mV_network-synapses_external-input-dardel-2023-02-03-14-40-15-p1_p2.hdf5\n",
      "Loading 40000 neurons with 35040256 synapses and 2531 gap junctions\n",
      "Loading /media/jofrony/2TB/dardel/current_bgd2/population_unit/distance_complete/supercomputer/networks/pdc_network_2022-10-14/simulation/network_output_80mV_network-synapses_external-input-dardel-2023-02-03-14-40-15-p1_p2_dopamine_modulation_method_alpha_background_tstart_300_tonic_0.2_gmax_increase_0.8_tau_500.hdf5\n",
      " Identifying spiking neurons within the network \n",
      "Analysing p1\n",
      "Analysing p1_DA\n",
      "Analysing p1_p2\n",
      "Analysing p1_p2_DA\n",
      "CPU times: user 1min 7s, sys: 4.51 s, total: 1min 11s\n",
      "Wall time: 3min 45s\n"
     ]
    }
   ],
   "source": [
    "%%time\n",
    "neuron_type = \"dSPN\"\n",
    "sl = LoadSimulations(experiments=e)\n",
    "sl.load_network_file(load_synapses=False)\n",
    "\n",
    "specific_trace_ids = sl.get_population_units(neuron_type=neuron_type, population_unit=1)\n",
    "spiking_analysis_dict_dspn = spiking_analysis(data_obj=sl, neuron_type=neuron_type, trace_ids=specific_trace_ids)\n"
   ]
  },
  {
   "cell_type": "code",
   "execution_count": 6,
   "id": "723a85b5-8fbb-465f-8d96-33b6670c8c40",
   "metadata": {},
   "outputs": [
    {
     "data": {
      "text/plain": [
       "1937"
      ]
     },
     "execution_count": 6,
     "metadata": {},
     "output_type": "execute_result"
    }
   ],
   "source": [
    "len(specific_trace_ids['p1'])"
   ]
  },
  {
   "cell_type": "code",
   "execution_count": 7,
   "id": "17d18281-1078-4d05-a046-29470c4200c8",
   "metadata": {},
   "outputs": [
    {
     "data": {
      "text/plain": [
       "1499"
      ]
     },
     "execution_count": 7,
     "metadata": {},
     "output_type": "execute_result"
    }
   ],
   "source": [
    "len(spiking_analysis_dict_dspn['p1']['spiking'])"
   ]
  },
  {
   "cell_type": "code",
   "execution_count": 8,
   "id": "756f2072-cc96-41ae-b522-d1423a1866dc",
   "metadata": {},
   "outputs": [
    {
     "data": {
      "text/plain": [
       "1937"
      ]
     },
     "execution_count": 8,
     "metadata": {},
     "output_type": "execute_result"
    }
   ],
   "source": [
    "len(specific_trace_ids['p1_p2'])"
   ]
  },
  {
   "cell_type": "code",
   "execution_count": 9,
   "id": "85dd44f4-b5c3-4da0-af09-99436529f806",
   "metadata": {},
   "outputs": [
    {
     "data": {
      "text/plain": [
       "1352"
      ]
     },
     "execution_count": 9,
     "metadata": {},
     "output_type": "execute_result"
    }
   ],
   "source": [
    "len(spiking_analysis_dict_dspn['p1_p2']['spiking'])"
   ]
  },
  {
   "cell_type": "code",
   "execution_count": 10,
   "id": "0589bd66-dc3b-43ab-b003-0f7d79be1acb",
   "metadata": {},
   "outputs": [],
   "source": [
    "import numpy as np\n",
    "diff = np.setdiff1d(spiking_analysis_dict_dspn['p1']['spiking'],spiking_analysis_dict_dspn['p1_p2']['spiking'])"
   ]
  },
  {
   "cell_type": "code",
   "execution_count": 11,
   "id": "0671746b-c618-45b7-a29c-8a39c11dd85a",
   "metadata": {},
   "outputs": [
    {
     "data": {
      "text/plain": [
       "178"
      ]
     },
     "execution_count": 11,
     "metadata": {},
     "output_type": "execute_result"
    }
   ],
   "source": [
    "len(diff)"
   ]
  },
  {
   "cell_type": "code",
   "execution_count": 12,
   "id": "a45be515-eefe-4970-8963-0339a5d6dec4",
   "metadata": {},
   "outputs": [
    {
     "data": {
      "text/plain": [
       "array([ 1990,  2184,  2671,  3227,  3229,  3243,  3363,  3433,  4147,\n",
       "        4213,  4395,  5001,  5503,  5541,  5555,  5887,  6110,  6234,\n",
       "        6306,  6368,  6493,  6561,  6575,  6793,  6850,  7113,  7489,\n",
       "        7564,  7569,  7576,  7582,  7755,  8202,  8203,  8249,  8319,\n",
       "        8364,  8415,  9844,  9987, 10357, 10360, 10417, 10460, 10669,\n",
       "       11041, 11327, 11428, 11589, 11683, 11854, 11924, 11980, 11984,\n",
       "       12258, 12766, 12773, 12775, 13554, 13616, 13647, 13691, 13699,\n",
       "       13898, 13977, 14018, 14029, 14061, 14133, 14210, 14321, 14392,\n",
       "       14921, 14922, 14923, 14925, 15506, 15561, 15594, 16316, 16319,\n",
       "       17520, 17578, 17668, 18646, 18704, 18718, 18719, 18789, 18913,\n",
       "       18961, 18962, 18964, 18965, 19021, 19026, 19039, 19159, 19362,\n",
       "       19511, 20131, 20636, 20638, 20639, 20676, 20706, 20761, 21285,\n",
       "       21337, 21339, 21916, 21938, 22002, 22088, 22238, 22253, 22295,\n",
       "       23631, 23651, 23695, 24713, 24714, 24724, 24873, 24878, 24896,\n",
       "       25021, 25025, 25535, 25693, 27097, 27417, 27469, 27538, 27601,\n",
       "       27618, 27884, 27922, 28348, 28421, 28427, 28544, 29003, 29176,\n",
       "       29177, 29546, 30556, 30563, 30574, 30580, 30687, 30739, 30751,\n",
       "       30805, 30817, 31262, 31280, 31295, 31509, 31867, 31881, 31884,\n",
       "       31923, 31982, 31995, 31998, 32135, 33703, 33705, 33712, 33714,\n",
       "       33718, 34037, 34189, 34190, 34241, 35285, 35915])"
      ]
     },
     "execution_count": 12,
     "metadata": {},
     "output_type": "execute_result"
    }
   ],
   "source": [
    "diff"
   ]
  },
  {
   "cell_type": "code",
   "execution_count": 13,
   "id": "9ebe78cc-5764-4c1a-a9bd-d7c6a32a803d",
   "metadata": {},
   "outputs": [],
   "source": [
    "p_dspn = calculate_ratio(dictionary=spiking_analysis_dict_dspn)\n",
    "n_dspn = normalized_prp(dictionary=p_dspn, normalized=\"p1\")"
   ]
  },
  {
   "cell_type": "code",
   "execution_count": 14,
   "id": "25a0b432-38f4-4dfe-9e03-cbbb2d10617d",
   "metadata": {},
   "outputs": [
    {
     "data": {
      "text/plain": [
       "{'p1': {'spiking': 1.0, 'other': 1.0},\n",
       " 'p1_DA': {'spiking': 1.1674449633088726, 'other': 0.42694063926940634},\n",
       " 'p1_p2': {'spiking': 0.9019346230820547, 'other': 1.3356164383561644},\n",
       " 'p1_p2_DA': {'spiking': 1.1147431621080721, 'other': 0.6073059360730594}}"
      ]
     },
     "execution_count": 14,
     "metadata": {},
     "output_type": "execute_result"
    }
   ],
   "source": [
    "p_dspn"
   ]
  },
  {
   "cell_type": "code",
   "execution_count": 15,
   "id": "d225723a-1d01-49e7-8f21-6e485501c95d",
   "metadata": {},
   "outputs": [
    {
     "data": {
      "image/png": "[encoded data removed]",
      "text/plain": [
       "<Figure size 576x288 with 1 Axes>"
      ]
     },
     "metadata": {
      "needs_background": "light"
     },
     "output_type": "display_data"
    }
   ],
   "source": [
    "plot_ratio_normalized_spiking(ratio_dict=n_dspn, experiment_names=e, fig_name=neuron_type, folder=folder, save=True, min_ratio=0.9, max_ratio=1.2)"
   ]
  },
  {
   "cell_type": "code",
   "execution_count": 16,
   "id": "c54f56de-d58b-4d79-8f75-86b18f37cb6a",
   "metadata": {},
   "outputs": [
    {
     "name": "stdout",
     "output_type": "stream",
     "text": [
      "Loading 40000 neurons with 35040256 synapses and 2531 gap junctions\n",
      "Loading /media/jofrony/2TB/dardel/current_bgd2/population_unit/distance_complete/supercomputer/networks/pdc_network_2022-10-14/simulation/network_output_80mV_network-synapses_external-input-dardel-2023-02-03-14-40-15-p1.hdf5\n",
      "Loading 40000 neurons with 35040256 synapses and 2531 gap junctions\n",
      "Loading /media/jofrony/2TB/dardel/current_bgd2/population_unit/distance_complete/supercomputer/networks/pdc_network_2022-10-14/simulation/network_output_80mV_network-synapses_external-input-dardel-2023-02-03-14-40-15-p1_dopamine_modulation_method_alpha_background_tstart_300_tonic_0.2_gmax_increase_0.8_tau_500.hdf5\n",
      "Loading 40000 neurons with 35040256 synapses and 2531 gap junctions\n",
      "Loading /media/jofrony/2TB/dardel/current_bgd2/population_unit/distance_complete/supercomputer/networks/pdc_network_2022-10-14/simulation/network_output_80mV_network-synapses_external-input-dardel-2023-02-03-14-40-15-p1_p2.hdf5\n",
      "Loading 40000 neurons with 35040256 synapses and 2531 gap junctions\n",
      "Loading /media/jofrony/2TB/dardel/current_bgd2/population_unit/distance_complete/supercomputer/networks/pdc_network_2022-10-14/simulation/network_output_80mV_network-synapses_external-input-dardel-2023-02-03-14-40-15-p1_p2_dopamine_modulation_method_alpha_background_tstart_300_tonic_0.2_gmax_increase_0.8_tau_500.hdf5\n",
      " Identifying spiking neurons within the network \n",
      "Analysing p1\n",
      "Analysing p1_DA\n",
      "Analysing p1_p2\n",
      "Analysing p1_p2_DA\n",
      "CPU times: user 1min 28s, sys: 4.77 s, total: 1min 33s\n",
      "Wall time: 9min 1s\n"
     ]
    }
   ],
   "source": [
    "%%time\n",
    "neuron_type = \"iSPN\"\n",
    "sl = LoadSimulations(experiments=e)\n",
    "sl.load_network_file(load_synapses=False)\n",
    "specific_trace_ids = sl.get_population_units(neuron_type=neuron_type, population_unit=1)\n",
    "spiking_analysis_dict_ispn = spiking_analysis(data_obj=sl, neuron_type=neuron_type, trace_ids=specific_trace_ids)"
   ]
  },
  {
   "cell_type": "code",
   "execution_count": 17,
   "id": "f89ce30c-2aaa-4e9c-a1d3-03f749fd4bc4",
   "metadata": {},
   "outputs": [],
   "source": [
    "p_ispn = calculate_ratio(dictionary=spiking_analysis_dict_ispn)\n",
    "n_ispn = normalized_prp(dictionary=p_ispn, normalized=\"p1\")"
   ]
  },
  {
   "cell_type": "code",
   "execution_count": 18,
   "id": "fd4d5182-04c9-4eb1-92a5-7aa03e2ead13",
   "metadata": {},
   "outputs": [
    {
     "data": {
      "image/png": "[encoded data removed]",
      "text/plain": [
       "<Figure size 576x288 with 1 Axes>"
      ]
     },
     "metadata": {
      "needs_background": "light"
     },
     "output_type": "display_data"
    }
   ],
   "source": [
    "plot_ratio_normalized_spiking(ratio_dict=n_ispn, experiment_names=e, fig_name=neuron_type, folder=folder, save=True,min_ratio=0.9, max_ratio=1.2)"
   ]
  },
  {
   "cell_type": "code",
   "execution_count": null,
   "id": "16b6ea30-456a-4f8d-8a57-95d3a00e36b2",
   "metadata": {},
   "outputs": [],
   "source": []
  },
  {
   "cell_type": "code",
   "execution_count": 19,
   "id": "d38c1f03-90d6-427c-9959-7dbcf3603fcf",
   "metadata": {},
   "outputs": [
    {
     "data": {
      "text/plain": [
       "1936"
      ]
     },
     "execution_count": 19,
     "metadata": {},
     "output_type": "execute_result"
    }
   ],
   "source": [
    "len(specific_trace_ids['p1'])"
   ]
  },
  {
   "cell_type": "code",
   "execution_count": 20,
   "id": "21be2ec1-d75a-4981-80ff-fcdc597aa5ee",
   "metadata": {},
   "outputs": [
    {
     "data": {
      "text/plain": [
       "1739"
      ]
     },
     "execution_count": 20,
     "metadata": {},
     "output_type": "execute_result"
    }
   ],
   "source": [
    "len(spiking_analysis_dict_ispn['p1']['spiking'])"
   ]
  },
  {
   "cell_type": "code",
   "execution_count": 21,
   "id": "876ac642-ee61-4527-bf27-230e50608f7c",
   "metadata": {},
   "outputs": [
    {
     "data": {
      "text/plain": [
       "1936"
      ]
     },
     "execution_count": 21,
     "metadata": {},
     "output_type": "execute_result"
    }
   ],
   "source": [
    "len(specific_trace_ids['p1_p2'])"
   ]
  },
  {
   "cell_type": "code",
   "execution_count": 22,
   "id": "6724f649-f856-450a-a3d6-e591a3b8df8c",
   "metadata": {},
   "outputs": [
    {
     "data": {
      "text/plain": [
       "1563"
      ]
     },
     "execution_count": 22,
     "metadata": {},
     "output_type": "execute_result"
    }
   ],
   "source": [
    "len(spiking_analysis_dict_ispn['p1_p2']['spiking'])"
   ]
  },
  {
   "cell_type": "code",
   "execution_count": 23,
   "id": "4a99288a-a9a4-4af2-ae82-224a9d81eab3",
   "metadata": {},
   "outputs": [],
   "source": [
    "import numpy as np\n",
    "diff = np.setdiff1d(spiking_analysis_dict_ispn['p1']['spiking'],spiking_analysis_dict_ispn['p1_p2']['spiking'])"
   ]
  },
  {
   "cell_type": "code",
   "execution_count": 24,
   "id": "5d0d2c48-09e0-4139-856d-4f77cef0a940",
   "metadata": {},
   "outputs": [
    {
     "data": {
      "text/plain": [
       "185"
      ]
     },
     "execution_count": 24,
     "metadata": {},
     "output_type": "execute_result"
    }
   ],
   "source": [
    "len(diff)"
   ]
  },
  {
   "cell_type": "code",
   "execution_count": 25,
   "id": "7ee6c15b-edb6-451c-9c47-5d376a7ad31d",
   "metadata": {},
   "outputs": [
    {
     "data": {
      "text/plain": [
       "array([ 2200,  2685,  3393,  3394,  3457,  3460,  4266,  4299,  4355,\n",
       "        4368,  4369,  4907,  4910,  4968,  5793,  5931,  6275,  6463,\n",
       "        6534,  6538,  6827,  6871,  6873,  6887,  7611,  7664,  7782,\n",
       "        7856,  8289,  8378,  8383,  8389,  8437,  8450,  8497, 10011,\n",
       "       10015, 10233, 10288, 10429, 10443, 10500, 10502, 10555, 10579,\n",
       "       10638, 10641, 10697, 10702, 11112, 11304, 11459, 11471, 11610,\n",
       "       11616, 11701, 11761, 11874, 11896, 11962, 12150, 13655, 13670,\n",
       "       13720, 13797, 13861, 13865, 13922, 14043, 14051, 14096, 14220,\n",
       "       14228, 14234, 14236, 14293, 14365, 14368, 14369, 14371, 14475,\n",
       "       14955, 15529, 15530, 15578, 15579, 15638, 15640, 15881, 15884,\n",
       "       15944, 16043, 17364, 17369, 17424, 17491, 17603, 17606, 17611,\n",
       "       17688, 18671, 18682, 18728, 18747, 18862, 18872, 18932, 18942,\n",
       "       18981, 18992, 18994, 19002, 19048, 19056, 19062, 19132, 20588,\n",
       "       20717, 21023, 21131, 21138, 21368, 21808, 22033, 22172, 22261,\n",
       "       22324, 23730, 23860, 23866, 24618, 24758, 24801, 24809, 24823,\n",
       "       24824, 25043, 25517, 25556, 25563, 25745, 27433, 27446, 27566,\n",
       "       27572, 27624, 28391, 28392, 28397, 28452, 28454, 28509, 28519,\n",
       "       28522, 28583, 28638, 29153, 29214, 29218, 30600, 30783, 30789,\n",
       "       30836, 31235, 31821, 31832, 31835, 31838, 31839, 31888, 31950,\n",
       "       31951, 32086, 33373, 33743, 33745, 33748, 33870, 33993, 34220,\n",
       "       34265, 34269, 35444, 35491, 36198])"
      ]
     },
     "execution_count": 25,
     "metadata": {},
     "output_type": "execute_result"
    }
   ],
   "source": [
    "diff"
   ]
  },
  {
   "cell_type": "code",
   "execution_count": null,
   "id": "180c5a7a-1b14-46ae-8fad-81b8eccac94f",
   "metadata": {},
   "outputs": [],
   "source": []
  }
 ],
 "metadata": {
  "kernelspec": {
   "display_name": "Python 3",
   "language": "python",
   "name": "python3"
  },
  "language_info": {
   "codemirror_mode": {
    "name": "ipython",
    "version": 3
   },
   "file_extension": ".py",
   "mimetype": "text/x-python",
   "name": "python",
   "nbconvert_exporter": "python",
   "pygments_lexer": "ipython3",
   "version": "3.7.10"
  }
 },
 "nbformat": 4,
 "nbformat_minor": 5
}
