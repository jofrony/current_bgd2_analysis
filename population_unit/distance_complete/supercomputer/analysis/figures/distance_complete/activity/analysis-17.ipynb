{
 "cells": [
  {
   "cell_type": "code",
   "execution_count": 1,
   "id": "b05c0fd4-504b-4a52-8e2a-415c03cec679",
   "metadata": {},
   "outputs": [],
   "source": [
    "import sys\n",
    "import os\n",
    "sys.path.append(os.environ[\"CODE_REPOSITORY\"])\n",
    "from code_repository.hotones.thetools import *\n",
    "from code_repository.load.load_simulations import LoadSimulations"
   ]
  },
  {
   "cell_type": "code",
   "execution_count": 2,
   "id": "e9e0f7ae-563e-4fa8-a408-6b2343a679bc",
   "metadata": {},
   "outputs": [],
   "source": [
    "external = os.path.join(\"/media\",\"jofrony\", \"2TB\", \"dardel\",\"current_bgd2\",\"population_unit\", \n",
    "                        \"distance_complete\", \"supercomputer\", \"networks\")\n",
    "repository = os.path.join(\"/home\",\"jofrony\",\"Documents\",\n",
    "                          \"Repositories\",\"current_bgd2\",\n",
    "                          \"population_unit\", \n",
    "                        \"distance_complete\", \"supercomputer\", \"networks\")"
   ]
  },
  {
   "cell_type": "code",
   "execution_count": 3,
   "id": "f5a06f3c-45ca-4f5e-980b-5b423e90f61e",
   "metadata": {},
   "outputs": [],
   "source": [
    "name = \"synaptic_drive_DA\"\n",
    "folder = \"ratio\""
   ]
  },
  {
   "cell_type": "code",
   "execution_count": 4,
   "id": "4c9c5a39-8eb9-4eb2-9709-575cd3834373",
   "metadata": {},
   "outputs": [
    {
     "data": {
      "text/plain": [
       "{'p1': {'color': 'black',\n",
       "  'label': '2500 ms stimulation',\n",
       "  'network': 'network-synapses.hdf5',\n",
       "  'path': '/media/jofrony/2TB/dardel/current_bgd2/population_unit/distance_complete/supercomputer/networks/pdc_network_2022-10-14',\n",
       "  'output': 'network_output_network-synapses_external-input-dardel-2023-02-03-14-40-15-p1.hdf5'},\n",
       " 'p1_DA': {'color': 'red',\n",
       "  'label': '2500 ms stimulation',\n",
       "  'network': 'network-synapses.hdf5',\n",
       "  'path': '/media/jofrony/2TB/dardel/current_bgd2/population_unit/distance_complete/supercomputer/networks/pdc_network_2022-10-14',\n",
       "  'output': 'network_output_network-synapses_external-input-dardel-2023-02-03-14-40-15-p1_dopamine_modulation_method_alpha_background_tstart_300_tonic_0.2_gmax_increase_0.8_tau_500.hdf5'},\n",
       " 'p1_p2': {'color': 'black',\n",
       "  'label': '2500 ms stimulation',\n",
       "  'network': 'network-synapses.hdf5',\n",
       "  'path': '/media/jofrony/2TB/dardel/current_bgd2/population_unit/distance_complete/supercomputer/networks/pdc_network_2022-10-14',\n",
       "  'output': 'network_output_network-synapses_external-input-dardel-2023-02-03-14-40-15-p1_p2.hdf5'},\n",
       " 'p1_p2_DA': {'color': 'red',\n",
       "  'label': '2500 ms stimulation',\n",
       "  'network': 'network-synapses.hdf5',\n",
       "  'path': '/media/jofrony/2TB/dardel/current_bgd2/population_unit/distance_complete/supercomputer/networks/pdc_network_2022-10-14',\n",
       "  'output': 'network_output_network-synapses_external-input-dardel-2023-02-03-14-40-15-p1_p2_dopamine_modulation_method_alpha_background_tstart_300_tonic_0.2_gmax_increase_0.8_tau_500.hdf5'}}"
      ]
     },
     "execution_count": 4,
     "metadata": {},
     "output_type": "execute_result"
    }
   ],
   "source": [
    "e = Experiments()\n",
    "e.add_experiment(name=\"p1\",\n",
    "                 color=\"black\",\n",
    "                 label=\"2500 ms stimulation\",\n",
    "                 network=\"network-synapses.hdf5\",\n",
    "                 path=os.path.join(external, \"pdc_network_2022-10-14\"),\n",
    "                 output=\"network_output_network-synapses_external-input-dardel-2023-02-03-14-40-15-p1.hdf5\")\n",
    "\n",
    "\n",
    "e.add_experiment(name=\"p1_DA\",\n",
    "                 color=\"red\",\n",
    "                 label=\"2500 ms stimulation\",\n",
    "                 network=\"network-synapses.hdf5\",\n",
    "                 path=os.path.join(external, \"pdc_network_2022-10-14\"),\n",
    "                 output=\"network_output_network-synapses_external-input-dardel-2023-02-03-14-40-15-p1_dopamine_modulation_method_alpha_background_tstart_300_tonic_0.2_gmax_increase_0.8_tau_500.hdf5\")\n",
    "\n",
    "\n",
    "\n",
    "e.add_experiment(name=\"p1_p2\",\n",
    "                 color=\"black\",\n",
    "                 label=\"2500 ms stimulation\",\n",
    "                 network=\"network-synapses.hdf5\",\n",
    "                 path=os.path.join(external, \"pdc_network_2022-10-14\"),\n",
    "                 output=\"network_output_network-synapses_external-input-dardel-2023-02-03-14-40-15-p1_p2.hdf5\")\n",
    "\n",
    "\n",
    "e.add_experiment(name=\"p1_p2_DA\",\n",
    "                 color=\"red\",\n",
    "                 label=\"2500 ms stimulation\",\n",
    "                 network=\"network-synapses.hdf5\",\n",
    "                 path=os.path.join(external, \"pdc_network_2022-10-14\"),\n",
    "                 output=\"network_output_network-synapses_external-input-dardel-2023-02-03-14-40-15-p1_p2_dopamine_modulation_method_alpha_background_tstart_300_tonic_0.2_gmax_increase_0.8_tau_500.hdf5\")\n",
    "\n",
    "   \n",
    "e.experiments     "
   ]
  },
  {
   "cell_type": "code",
   "execution_count": 5,
   "id": "b43935ab-4e69-4d95-bb2d-f8bd0b34fd84",
   "metadata": {},
   "outputs": [
    {
     "name": "stdout",
     "output_type": "stream",
     "text": [
      "Loading 40000 neurons with 35040256 synapses and 2531 gap junctions\n",
      "Loading /media/jofrony/2TB/dardel/current_bgd2/population_unit/distance_complete/supercomputer/networks/pdc_network_2022-10-14/simulation/network_output_network-synapses_external-input-dardel-2023-02-03-14-40-15-p1.hdf5\n",
      "Loading 40000 neurons with 35040256 synapses and 2531 gap junctions\n",
      "Loading /media/jofrony/2TB/dardel/current_bgd2/population_unit/distance_complete/supercomputer/networks/pdc_network_2022-10-14/simulation/network_output_network-synapses_external-input-dardel-2023-02-03-14-40-15-p1_dopamine_modulation_method_alpha_background_tstart_300_tonic_0.2_gmax_increase_0.8_tau_500.hdf5\n",
      "Loading 40000 neurons with 35040256 synapses and 2531 gap junctions\n",
      "Loading /media/jofrony/2TB/dardel/current_bgd2/population_unit/distance_complete/supercomputer/networks/pdc_network_2022-10-14/simulation/network_output_network-synapses_external-input-dardel-2023-02-03-14-40-15-p1_p2.hdf5\n",
      "Loading 40000 neurons with 35040256 synapses and 2531 gap junctions\n",
      "Loading /media/jofrony/2TB/dardel/current_bgd2/population_unit/distance_complete/supercomputer/networks/pdc_network_2022-10-14/simulation/network_output_network-synapses_external-input-dardel-2023-02-03-14-40-15-p1_p2_dopamine_modulation_method_alpha_background_tstart_300_tonic_0.2_gmax_increase_0.8_tau_500.hdf5\n",
      " Identifying spiking neurons within the network \n",
      "Analysing p1\n",
      "Analysing p1_DA\n",
      "Analysing p1_p2\n",
      "Analysing p1_p2_DA\n",
      "CPU times: user 1min 25s, sys: 5.17 s, total: 1min 30s\n",
      "Wall time: 3min 50s\n"
     ]
    }
   ],
   "source": [
    "%%time\n",
    "neuron_type = \"dSPN\"\n",
    "sl = LoadSimulations(experiments=e)\n",
    "sl.load_network_file(load_synapses=False)\n",
    "\n",
    "specific_trace_ids = sl.get_population_units(neuron_type=neuron_type, population_unit=1)\n",
    "spiking_analysis_dict_dspn = spiking_analysis(data_obj=sl, neuron_type=neuron_type, trace_ids=specific_trace_ids)\n"
   ]
  },
  {
   "cell_type": "code",
   "execution_count": 6,
   "id": "723a85b5-8fbb-465f-8d96-33b6670c8c40",
   "metadata": {},
   "outputs": [
    {
     "data": {
      "text/plain": [
       "1937"
      ]
     },
     "execution_count": 6,
     "metadata": {},
     "output_type": "execute_result"
    }
   ],
   "source": [
    "len(specific_trace_ids['p1'])"
   ]
  },
  {
   "cell_type": "code",
   "execution_count": 7,
   "id": "17d18281-1078-4d05-a046-29470c4200c8",
   "metadata": {},
   "outputs": [
    {
     "data": {
      "text/plain": [
       "1645"
      ]
     },
     "execution_count": 7,
     "metadata": {},
     "output_type": "execute_result"
    }
   ],
   "source": [
    "len(spiking_analysis_dict_dspn['p1']['spiking'])"
   ]
  },
  {
   "cell_type": "code",
   "execution_count": 8,
   "id": "756f2072-cc96-41ae-b522-d1423a1866dc",
   "metadata": {},
   "outputs": [
    {
     "data": {
      "text/plain": [
       "1937"
      ]
     },
     "execution_count": 8,
     "metadata": {},
     "output_type": "execute_result"
    }
   ],
   "source": [
    "len(specific_trace_ids['p1_p2'])"
   ]
  },
  {
   "cell_type": "code",
   "execution_count": 9,
   "id": "85dd44f4-b5c3-4da0-af09-99436529f806",
   "metadata": {},
   "outputs": [
    {
     "data": {
      "text/plain": [
       "1571"
      ]
     },
     "execution_count": 9,
     "metadata": {},
     "output_type": "execute_result"
    }
   ],
   "source": [
    "len(spiking_analysis_dict_dspn['p1_p2']['spiking'])"
   ]
  },
  {
   "cell_type": "code",
   "execution_count": 10,
   "id": "0589bd66-dc3b-43ab-b003-0f7d79be1acb",
   "metadata": {},
   "outputs": [],
   "source": [
    "import numpy as np\n",
    "diff = np.setdiff1d(spiking_analysis_dict_dspn['p1']['spiking'],spiking_analysis_dict_dspn['p1_p2']['spiking'])"
   ]
  },
  {
   "cell_type": "code",
   "execution_count": 11,
   "id": "0671746b-c618-45b7-a29c-8a39c11dd85a",
   "metadata": {},
   "outputs": [
    {
     "data": {
      "text/plain": [
       "96"
      ]
     },
     "execution_count": 11,
     "metadata": {},
     "output_type": "execute_result"
    }
   ],
   "source": [
    "len(diff)"
   ]
  },
  {
   "cell_type": "code",
   "execution_count": 12,
   "id": "a45be515-eefe-4970-8963-0339a5d6dec4",
   "metadata": {},
   "outputs": [
    {
     "data": {
      "text/plain": [
       "array([ 2185,  2671,  3227,  3243,  3433,  4168,  4403,  5503,  6110,\n",
       "        6234,  6495,  6519,  6788,  6860,  7008,  7305,  7487,  7688,\n",
       "        7708,  8253,  8320,  8428, 10417, 10540, 10605, 10659, 11327,\n",
       "       11517, 11683, 12100, 12773, 13084, 13647, 13699, 13893, 13912,\n",
       "       13964, 13967, 14017, 14200, 14257, 14259, 14396, 15437, 17328,\n",
       "       17407, 17453, 17466, 17520, 17668, 17943, 18605, 19159, 19360,\n",
       "       20493, 20640, 20689, 20758, 20760, 21172, 21285, 21837, 21938,\n",
       "       21940, 22020, 22069, 22253, 23822, 23910, 24603, 24709, 24878,\n",
       "       25024, 25027, 25677, 27115, 27469, 27544, 27555, 27558, 28365,\n",
       "       28373, 28377, 28563, 31881, 31884, 31936, 32119, 33714, 33718,\n",
       "       34035, 34722, 35408, 35480, 36080, 36162])"
      ]
     },
     "execution_count": 12,
     "metadata": {},
     "output_type": "execute_result"
    }
   ],
   "source": [
    "diff"
   ]
  },
  {
   "cell_type": "code",
   "execution_count": 13,
   "id": "9ebe78cc-5764-4c1a-a9bd-d7c6a32a803d",
   "metadata": {},
   "outputs": [],
   "source": [
    "p_dspn = calculate_ratio(dictionary=spiking_analysis_dict_dspn)\n",
    "n_dspn = normalized_prp(dictionary=p_dspn, normalized=\"p1\")"
   ]
  },
  {
   "cell_type": "code",
   "execution_count": 14,
   "id": "25a0b432-38f4-4dfe-9e03-cbbb2d10617d",
   "metadata": {},
   "outputs": [
    {
     "data": {
      "text/plain": [
       "{'p1': {'spiking': 1.0, 'other': 1.0},\n",
       " 'p1_DA': {'spiking': 1.0638297872340425, 'other': 0.6404109589041096},\n",
       " 'p1_p2': {'spiking': 0.9550151975683889, 'other': 1.2534246575342465},\n",
       " 'p1_p2_DA': {'spiking': 1.01580547112462, 'other': 0.910958904109589}}"
      ]
     },
     "execution_count": 14,
     "metadata": {},
     "output_type": "execute_result"
    }
   ],
   "source": [
    "p_dspn"
   ]
  },
  {
   "cell_type": "code",
   "execution_count": 16,
   "id": "d225723a-1d01-49e7-8f21-6e485501c95d",
   "metadata": {},
   "outputs": [
    {
     "data": {
      "image/png": "[encoded data removed]",
      "text/plain": [
       "<Figure size 576x288 with 1 Axes>"
      ]
     },
     "metadata": {
      "needs_background": "light"
     },
     "output_type": "display_data"
    }
   ],
   "source": [
    "plot_ratio_normalized_spiking(ratio_dict=n_dspn, experiment_names=e, fig_name=neuron_type, folder=folder, save=True, min_ratio=0.9, max_ratio=1.2)"
   ]
  },
  {
   "cell_type": "code",
   "execution_count": 17,
   "id": "c54f56de-d58b-4d79-8f75-86b18f37cb6a",
   "metadata": {},
   "outputs": [
    {
     "name": "stdout",
     "output_type": "stream",
     "text": [
      "Loading 40000 neurons with 35040256 synapses and 2531 gap junctions\n",
      "Loading /media/jofrony/2TB/dardel/current_bgd2/population_unit/distance_complete/supercomputer/networks/pdc_network_2022-10-14/simulation/network_output_network-synapses_external-input-dardel-2023-02-03-14-40-15-p1.hdf5\n",
      "Loading 40000 neurons with 35040256 synapses and 2531 gap junctions\n",
      "Loading /media/jofrony/2TB/dardel/current_bgd2/population_unit/distance_complete/supercomputer/networks/pdc_network_2022-10-14/simulation/network_output_network-synapses_external-input-dardel-2023-02-03-14-40-15-p1_dopamine_modulation_method_alpha_background_tstart_300_tonic_0.2_gmax_increase_0.8_tau_500.hdf5\n",
      "Loading 40000 neurons with 35040256 synapses and 2531 gap junctions\n",
      "Loading /media/jofrony/2TB/dardel/current_bgd2/population_unit/distance_complete/supercomputer/networks/pdc_network_2022-10-14/simulation/network_output_network-synapses_external-input-dardel-2023-02-03-14-40-15-p1_p2.hdf5\n",
      "Loading 40000 neurons with 35040256 synapses and 2531 gap junctions\n",
      "Loading /media/jofrony/2TB/dardel/current_bgd2/population_unit/distance_complete/supercomputer/networks/pdc_network_2022-10-14/simulation/network_output_network-synapses_external-input-dardel-2023-02-03-14-40-15-p1_p2_dopamine_modulation_method_alpha_background_tstart_300_tonic_0.2_gmax_increase_0.8_tau_500.hdf5\n",
      " Identifying spiking neurons within the network \n",
      "Analysing p1\n",
      "Analysing p1_DA\n",
      "Analysing p1_p2\n",
      "Analysing p1_p2_DA\n",
      "CPU times: user 1min 5s, sys: 3.8 s, total: 1min 9s\n",
      "Wall time: 4min 13s\n"
     ]
    }
   ],
   "source": [
    "%%time\n",
    "neuron_type = \"iSPN\"\n",
    "sl = LoadSimulations(experiments=e)\n",
    "sl.load_network_file(load_synapses=False)\n",
    "specific_trace_ids = sl.get_population_units(neuron_type=neuron_type, population_unit=1)\n",
    "spiking_analysis_dict_ispn = spiking_analysis(data_obj=sl, neuron_type=neuron_type, trace_ids=specific_trace_ids)"
   ]
  },
  {
   "cell_type": "code",
   "execution_count": 20,
   "id": "f89ce30c-2aaa-4e9c-a1d3-03f749fd4bc4",
   "metadata": {},
   "outputs": [],
   "source": [
    "p_ispn = calculate_ratio(dictionary=spiking_analysis_dict_ispn)\n",
    "n_ispn = normalized_prp(dictionary=p_ispn, normalized=\"p1\")"
   ]
  },
  {
   "cell_type": "code",
   "execution_count": 23,
   "id": "fd4d5182-04c9-4eb1-92a5-7aa03e2ead13",
   "metadata": {},
   "outputs": [
    {
     "data": {
      "image/png": "[encoded data removed]",
      "text/plain": [
       "<Figure size 576x288 with 1 Axes>"
      ]
     },
     "metadata": {
      "needs_background": "light"
     },
     "output_type": "display_data"
    }
   ],
   "source": [
    "plot_ratio_normalized_spiking(ratio_dict=n_ispn, experiment_names=e, fig_name=neuron_type, folder=folder, save=True,min_ratio=0.9, max_ratio=1.2)"
   ]
  },
  {
   "cell_type": "code",
   "execution_count": null,
   "id": "16b6ea30-456a-4f8d-8a57-95d3a00e36b2",
   "metadata": {},
   "outputs": [],
   "source": []
  },
  {
   "cell_type": "code",
   "execution_count": 24,
   "id": "d38c1f03-90d6-427c-9959-7dbcf3603fcf",
   "metadata": {},
   "outputs": [
    {
     "data": {
      "text/plain": [
       "1936"
      ]
     },
     "execution_count": 24,
     "metadata": {},
     "output_type": "execute_result"
    }
   ],
   "source": [
    "len(specific_trace_ids['p1'])"
   ]
  },
  {
   "cell_type": "code",
   "execution_count": 25,
   "id": "21be2ec1-d75a-4981-80ff-fcdc597aa5ee",
   "metadata": {},
   "outputs": [
    {
     "data": {
      "text/plain": [
       "1835"
      ]
     },
     "execution_count": 25,
     "metadata": {},
     "output_type": "execute_result"
    }
   ],
   "source": [
    "len(spiking_analysis_dict_ispn['p1']['spiking'])"
   ]
  },
  {
   "cell_type": "code",
   "execution_count": 26,
   "id": "876ac642-ee61-4527-bf27-230e50608f7c",
   "metadata": {},
   "outputs": [
    {
     "data": {
      "text/plain": [
       "1936"
      ]
     },
     "execution_count": 26,
     "metadata": {},
     "output_type": "execute_result"
    }
   ],
   "source": [
    "len(specific_trace_ids['p1_p2'])"
   ]
  },
  {
   "cell_type": "code",
   "execution_count": 27,
   "id": "6724f649-f856-450a-a3d6-e591a3b8df8c",
   "metadata": {},
   "outputs": [
    {
     "data": {
      "text/plain": [
       "1774"
      ]
     },
     "execution_count": 27,
     "metadata": {},
     "output_type": "execute_result"
    }
   ],
   "source": [
    "len(spiking_analysis_dict_ispn['p1_p2']['spiking'])"
   ]
  },
  {
   "cell_type": "code",
   "execution_count": 28,
   "id": "4a99288a-a9a4-4af2-ae82-224a9d81eab3",
   "metadata": {},
   "outputs": [],
   "source": [
    "import numpy as np\n",
    "diff = np.setdiff1d(spiking_analysis_dict_ispn['p1']['spiking'],spiking_analysis_dict_ispn['p1_p2']['spiking'])"
   ]
  },
  {
   "cell_type": "code",
   "execution_count": 29,
   "id": "5d0d2c48-09e0-4139-856d-4f77cef0a940",
   "metadata": {},
   "outputs": [
    {
     "data": {
      "text/plain": [
       "70"
      ]
     },
     "execution_count": 29,
     "metadata": {},
     "output_type": "execute_result"
    }
   ],
   "source": [
    "len(diff)"
   ]
  },
  {
   "cell_type": "code",
   "execution_count": 30,
   "id": "7ee6c15b-edb6-451c-9c47-5d376a7ad31d",
   "metadata": {},
   "outputs": [
    {
     "data": {
      "text/plain": [
       "array([ 2200,  2685,  2687,  2732,  3457,  4266,  4773,  5855,  6333,\n",
       "        6873,  7661,  8378,  8383,  8441,  8497, 10288, 10553, 10637,\n",
       "       11112, 11292, 11387, 11459, 11605, 11608, 11701, 11761, 12140,\n",
       "       13192, 13193, 13197, 13724, 13728, 13797, 14090, 14228, 14415,\n",
       "       14955, 14956, 15467, 15575, 15944, 18615, 18620, 18728, 18733,\n",
       "       18994, 18996, 18997, 19062, 20660, 20767, 21808, 23800, 23866,\n",
       "       23927, 24742, 24801, 27322, 27443, 27752, 28733, 29212, 30779,\n",
       "       31896, 34050, 34161, 34265, 34269, 35045, 35491])"
      ]
     },
     "execution_count": 30,
     "metadata": {},
     "output_type": "execute_result"
    }
   ],
   "source": [
    "diff"
   ]
  }
 ],
 "metadata": {
  "kernelspec": {
   "display_name": "Python 3",
   "language": "python",
   "name": "python3"
  },
  "language_info": {
   "codemirror_mode": {
    "name": "ipython",
    "version": 3
   },
   "file_extension": ".py",
   "mimetype": "text/x-python",
   "name": "python",
   "nbconvert_exporter": "python",
   "pygments_lexer": "ipython3",
   "version": "3.7.10"
  }
 },
 "nbformat": 4,
 "nbformat_minor": 5
}
