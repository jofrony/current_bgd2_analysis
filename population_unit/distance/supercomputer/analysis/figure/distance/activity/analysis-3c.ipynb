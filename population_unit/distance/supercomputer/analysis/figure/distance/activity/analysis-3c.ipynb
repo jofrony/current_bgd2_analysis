{
 "cells": [
  {
   "cell_type": "code",
   "execution_count": 7,
   "id": "de0ebe19-0895-4ee6-a272-39b1971408a4",
   "metadata": {},
   "outputs": [],
   "source": [
    "import sys\n",
    "import os\n",
    "sys.path.append(os.environ[\"CODE_REPOSITORY\"])\n",
    "from code_repository.hotones.thetools import *\n",
    "import matplotlib.pyplot as plt\n",
    "from snudda.utils.load import SnuddaLoad"
   ]
  },
  {
   "cell_type": "code",
   "execution_count": 8,
   "id": "a67e8830-1327-477f-862a-ea106d79c3ca",
   "metadata": {},
   "outputs": [],
   "source": [
    "external = os.path.join(\"/media\",\"jofrony\",\"2TB\", \"dardel\",\"current_bgd2\",\"population_unit\", \"distance\", \"supercomputer\", \"networks\")"
   ]
  },
  {
   "cell_type": "code",
   "execution_count": 9,
   "id": "1130da21-3c39-4808-87e1-e7bfc29c8ecd",
   "metadata": {},
   "outputs": [],
   "source": [
    "folder = \"frequency\""
   ]
  },
  {
   "cell_type": "code",
   "execution_count": 10,
   "id": "566e0125-4550-46c0-b58e-bca762d97eaf",
   "metadata": {},
   "outputs": [],
   "source": [
    "parameters = {\"start\": 0.5, \"end\": 2.5}"
   ]
  },
  {
   "cell_type": "code",
   "execution_count": 11,
   "id": "c40ff855-bdd4-4809-a0f5-a200e4a8af2c",
   "metadata": {},
   "outputs": [],
   "source": [
    "e = Experiments()\n",
    "e.add_experiment(name=\"0_p1\",\n",
    "                 color=\"black\",\n",
    "                 label=\"2500 ms stimulation\",\n",
    "                 network=\"network-synapses.hdf5\",\n",
    "                 path=os.path.join(external, \"pdc_network_2022-08-31\"),\n",
    "                 output=\"network_output_network-synapses_cell_ids_current_injection_dardel_2022-10-01-16-03-12_p1.hdf5\")\n",
    "e.add_experiment(name=\"0_p1_p2\",\n",
    "                 color=\"red\",\n",
    "                 label=\"2500 ms stimulation\",\n",
    "                 network=\"network-synapses.hdf5\",\n",
    "                 path=os.path.join(external, \"pdc_network_2022-08-31\"),\n",
    "                 output=\"network_output_network-synapses_cell_ids_current_injection_dardel_2022-10-01-16-03-32_p1_p2.hdf5\")\n",
    "e.add_experiment(name=\"45_p1\",\n",
    "                 color=\"black\",\n",
    "                 label=\"2500 ms stimulation\",\n",
    "                 network=\"network-synapses.hdf5\",\n",
    "                 path=os.path.join(external, \"pdc_network_2022-08-31-45-3D\"),\n",
    "                 output=\"network_output_network-synapses_cell_ids_current_injection_dardel_2022-09-21-13-30-00_p1.hdf5\") \n",
    "e.add_experiment(name=\"45_p1_p2\",\n",
    "                 color=\"red\",\n",
    "                 label=\"2500 ms stimulation\",\n",
    "                 network=\"network-synapses.hdf5\",\n",
    "                 path=os.path.join(external, \"pdc_network_2022-08-31-45-3D\"),\n",
    "                 output=\"network_output_network-synapses_cell_ids_current_injection_dardel_2022-09-21-13-30-08_p1_p2.hdf5\")  \n",
    "e.add_experiment(name=\"90_p1\",\n",
    "                 color=\"black\",\n",
    "                 label=\"2500 ms stimulation\",\n",
    "                 network=\"network-synapses.hdf5\",\n",
    "                 path=os.path.join(external, \"pdc_network_2022-08-31-90-3D\"),\n",
    "                 output=\"network_output_network-synapses_cell_ids_current_injection_dardel_2022-09-21-13-31-13_p1.hdf5\")\n",
    "\n",
    "e.add_experiment(name=\"90_p1_p2\",\n",
    "                 color=\"red\",\n",
    "                 label=\"2500 ms stimulation\",\n",
    "                 network=\"network-synapses.hdf5\",\n",
    "                 path=os.path.join(external, \"pdc_network_2022-08-31-90-3D\"),\n",
    "                 output=\"network_output_network-synapses_cell_ids_current_injection_dardel_2022-09-21-13-31-13_p1_p2.hdf5\")\n"
   ]
  },
  {
   "cell_type": "code",
   "execution_count": 12,
   "id": "c1316dd3-faed-4eed-a057-7cc3c1571934",
   "metadata": {},
   "outputs": [
    {
     "name": "stdout",
     "output_type": "stream",
     "text": [
      "Loading 40000 neurons with 35040256 synapses and 2531 gap junctions\n",
      "Loading /media/jofrony/2TB/dardel/current_bgd2/population_unit/distance/supercomputer/networks/pdc_network_2022-08-31/simulation/network_output_network-synapses_cell_ids_current_injection_dardel_2022-10-01-16-03-12_p1.hdf5\n",
      "Loading 40000 neurons with 35040256 synapses and 2531 gap junctions\n",
      "Loading /media/jofrony/2TB/dardel/current_bgd2/population_unit/distance/supercomputer/networks/pdc_network_2022-08-31/simulation/network_output_network-synapses_cell_ids_current_injection_dardel_2022-10-01-16-03-32_p1_p2.hdf5\n",
      "Loading 40000 neurons with 35040256 synapses and 2531 gap junctions\n",
      "Loading /media/jofrony/2TB/dardel/current_bgd2/population_unit/distance/supercomputer/networks/pdc_network_2022-08-31-45-3D/simulation/network_output_network-synapses_cell_ids_current_injection_dardel_2022-09-21-13-30-00_p1.hdf5\n",
      "Loading 40000 neurons with 35040256 synapses and 2531 gap junctions\n",
      "Loading /media/jofrony/2TB/dardel/current_bgd2/population_unit/distance/supercomputer/networks/pdc_network_2022-08-31-45-3D/simulation/network_output_network-synapses_cell_ids_current_injection_dardel_2022-09-21-13-30-08_p1_p2.hdf5\n",
      "Loading 40000 neurons with 35040256 synapses and 2531 gap junctions\n",
      "Loading /media/jofrony/2TB/dardel/current_bgd2/population_unit/distance/supercomputer/networks/pdc_network_2022-08-31-90-3D/simulation/network_output_network-synapses_cell_ids_current_injection_dardel_2022-09-21-13-31-13_p1.hdf5\n",
      "Loading 40000 neurons with 35040256 synapses and 2531 gap junctions\n",
      "Loading /media/jofrony/2TB/dardel/current_bgd2/population_unit/distance/supercomputer/networks/pdc_network_2022-08-31-90-3D/simulation/network_output_network-synapses_cell_ids_current_injection_dardel_2022-09-21-13-31-13_p1_p2.hdf5\n"
     ]
    }
   ],
   "source": [
    "sl = LoadSimulations(experiments=e)\n",
    "sl.load_network_file(load_synapses=False)"
   ]
  },
  {
   "cell_type": "code",
   "execution_count": 13,
   "id": "ff322ce8-4b68-4063-8372-37fe7843bfe9",
   "metadata": {},
   "outputs": [
    {
     "name": "stdout",
     "output_type": "stream",
     "text": [
      "CPU times: user 3.82 s, sys: 443 ms, total: 4.26 s\n",
      "Wall time: 28.5 s\n"
     ]
    }
   ],
   "source": [
    "%%time\n",
    "neuron_type = \"dSPN\"\n",
    "specific_trace_ids = sl.get_population_units(neuron_type=neuron_type, population_unit=1)\n",
    "frequency_analysis_dict_dspn = frequency_analysis(data_obj=sl, neuron_type=neuron_type, trace_ids=specific_trace_ids, parameters=parameters)\n"
   ]
  },
  {
   "cell_type": "code",
   "execution_count": 14,
   "id": "eed36fec-1190-45ae-89cb-0dcbf67ebc3e",
   "metadata": {},
   "outputs": [
    {
     "name": "stdout",
     "output_type": "stream",
     "text": [
      "CPU times: user 3.73 s, sys: 526 ms, total: 4.26 s\n",
      "Wall time: 28.6 s\n"
     ]
    }
   ],
   "source": [
    "%%time\n",
    "neuron_type = \"iSPN\"\n",
    "specific_trace_ids = sl.get_population_units(neuron_type=neuron_type, population_unit=1)\n",
    "frequency_analysis_dict_ispn = frequency_analysis(data_obj=sl, neuron_type=neuron_type, trace_ids=specific_trace_ids, parameters=parameters)\n"
   ]
  },
  {
   "cell_type": "code",
   "execution_count": 15,
   "id": "9af3582e-866d-4a30-93c6-2e39e7e3a9cf",
   "metadata": {},
   "outputs": [],
   "source": [
    "frequency_analysis_dict = {i : dict() for i in [*e.experiments.keys()]}"
   ]
  },
  {
   "cell_type": "code",
   "execution_count": 16,
   "id": "35746f43-06fc-4110-aaf4-37834089a5fc",
   "metadata": {},
   "outputs": [],
   "source": [
    "for v, k in frequency_analysis_dict_dspn.items():\n",
    "    frequency_analysis_dict[v].update(k)"
   ]
  },
  {
   "cell_type": "code",
   "execution_count": 17,
   "id": "22e99590-9f73-4099-a1aa-74867dd6a0c8",
   "metadata": {},
   "outputs": [],
   "source": [
    "import pandas as pd\n",
    "import seaborn as sns\n",
    "d = {\"distance\": list(), \"response\": list()}\n",
    "tmps = dict()\n",
    "for distance in [0,45,90]:\n",
    "    tmps.update({distance: list()})\n",
    "    for ids in frequency_analysis_dict[f\"{distance}_p1\"]:\n",
    "        d[\"distance\"].append(distance)\n",
    "        diff = frequency_analysis_dict[f\"{distance}_p1_p2\"][ids] - frequency_analysis_dict[f\"{distance}_p1\"][ids]\n",
    "        tmps[distance].append(diff)\n",
    "        d[\"response\"].append(diff)\n",
    "df = pd.DataFrame(data=d)"
   ]
  },
  {
   "cell_type": "code",
   "execution_count": 18,
   "id": "6e144da9-3768-41b0-8ab3-159963ab678f",
   "metadata": {},
   "outputs": [
    {
     "data": {
      "image/png": "[encoded data removed]",
      "text/plain": [
       "<Figure size 576x432 with 1 Axes>"
      ]
     },
     "metadata": {
      "needs_background": "light"
     },
     "output_type": "display_data"
    }
   ],
   "source": [
    "csfont = {\"fontname\": \"Arial\", 'fontsize': 16}\n",
    "colors = {0: \"black\",\n",
    "         45: \"green\" ,\n",
    "         90: \"blue\"}\n",
    "plt.figure(figsize=(8, 6))\n",
    "sns.violinplot(x=\"distance\", y=\"response\", data=df,palette=colors)\n",
    "sns.stripplot(x=\"distance\", y=\"response\", data=df,\n",
    "              color=\"black\", edgecolor=\"gray\")\n",
    "\n",
    "plt.ylabel(\"Frequency change (Hz)\", **csfont)\n",
    "plt.xlabel(\"Response\", **csfont)\n",
    "plt.yticks(fontsize=14)\n",
    "plt.xticks(fontsize=14)\n",
    "plt.ylim((-16,3))\n",
    "plt.savefig(os.path.join(\"violin_frequency\",\"distance_inhibition_dSPN.svg\"))"
   ]
  },
  {
   "cell_type": "code",
   "execution_count": 19,
   "id": "28a25d55-7437-4878-8200-c58512c82dec",
   "metadata": {},
   "outputs": [],
   "source": [
    "frequency_analysis_dict = {i : dict() for i in [*e.experiments.keys()]}"
   ]
  },
  {
   "cell_type": "code",
   "execution_count": 20,
   "id": "e59e7d82-488a-4ba5-88d6-b963a7e70889",
   "metadata": {},
   "outputs": [],
   "source": [
    "for v, k in frequency_analysis_dict_ispn.items():\n",
    "    frequency_analysis_dict[v].update(k)"
   ]
  },
  {
   "cell_type": "code",
   "execution_count": 21,
   "id": "1878563b-ec5e-403d-b6fc-875f12064853",
   "metadata": {},
   "outputs": [],
   "source": [
    "import pandas as pd\n",
    "import seaborn as sns\n",
    "d = {\"distance\": list(), \"response\": list()}\n",
    "tmps = dict()\n",
    "for distance in [0,45,90]:\n",
    "    tmps.update({distance: list()})\n",
    "    for ids in frequency_analysis_dict[f\"{distance}_p1\"]:\n",
    "        d[\"distance\"].append(distance)\n",
    "        diff = frequency_analysis_dict[f\"{distance}_p1_p2\"][ids] - frequency_analysis_dict[f\"{distance}_p1\"][ids]\n",
    "        tmps[distance].append(diff)\n",
    "        d[\"response\"].append(diff)\n",
    "df = pd.DataFrame(data=d)"
   ]
  },
  {
   "cell_type": "code",
   "execution_count": 22,
   "id": "d01597d0-7283-4735-9af1-88d41df50f17",
   "metadata": {},
   "outputs": [
    {
     "data": {
      "image/png": "[encoded data removed]",
      "text/plain": [
       "<Figure size 576x432 with 1 Axes>"
      ]
     },
     "metadata": {
      "needs_background": "light"
     },
     "output_type": "display_data"
    }
   ],
   "source": [
    "csfont = {\"fontname\": \"Arial\", 'fontsize': 16}\n",
    "colors = {0: \"black\",\n",
    "         45: \"green\" ,\n",
    "         90: \"blue\"}\n",
    "plt.figure(figsize=(8, 6))\n",
    "sns.violinplot(x=\"distance\", y=\"response\", data=df,palette=colors)\n",
    "sns.stripplot(x=\"distance\", y=\"response\", data=df,\n",
    "              color=\"black\", edgecolor=\"gray\")\n",
    "\n",
    "plt.ylabel(\"Frequency change (Hz)\", **csfont)\n",
    "plt.xlabel(\"Response\", **csfont)\n",
    "plt.yticks(fontsize=14)\n",
    "plt.xticks(fontsize=14)\n",
    "plt.ylim((-16,3))\n",
    "plt.savefig(os.path.join(\"violin_frequency\",\"distance_inhibition_iSPN.svg\"))"
   ]
  },
  {
   "cell_type": "code",
   "execution_count": null,
   "id": "4f50ae74-8fd8-4880-8c8e-7ba81f1e48bb",
   "metadata": {},
   "outputs": [],
   "source": []
  }
 ],
 "metadata": {
  "kernelspec": {
   "display_name": "Python 3",
   "language": "python",
   "name": "python3"
  },
  "language_info": {
   "codemirror_mode": {
    "name": "ipython",
    "version": 3
   },
   "file_extension": ".py",
   "mimetype": "text/x-python",
   "name": "python",
   "nbconvert_exporter": "python",
   "pygments_lexer": "ipython3",
   "version": "3.7.10"
  }
 },
 "nbformat": 4,
 "nbformat_minor": 5
}
