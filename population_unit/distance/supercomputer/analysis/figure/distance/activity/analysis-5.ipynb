{
 "cells": [
  {
   "cell_type": "code",
   "execution_count": 1,
   "id": "1a703d07-df8b-4891-a750-87d6173af59c",
   "metadata": {},
   "outputs": [],
   "source": [
    "import sys\n",
    "import os\n",
    "sys.path.append(os.environ[\"CODE_REPOSITORY\"])\n",
    "from code_repository.hotones.thetools import *\n",
    "from snudda.utils.load import SnuddaLoad"
   ]
  },
  {
   "cell_type": "code",
   "execution_count": 2,
   "id": "a5ea5d96-3d5a-4304-9681-39647ed32ac3",
   "metadata": {},
   "outputs": [],
   "source": [
    "external = os.path.join(\"/media\",\"jofrony\",\"2TB\",\"dardel\",\"current_bgd2\",\"population_unit\", \"distance\", \"supercomputer\", \"networks\")"
   ]
  },
  {
   "cell_type": "code",
   "execution_count": 3,
   "id": "1ddc672c-92f7-4802-b16e-f9f161d2d71c",
   "metadata": {},
   "outputs": [],
   "source": [
    "folder = \"dendrites\""
   ]
  },
  {
   "cell_type": "code",
   "execution_count": 4,
   "id": "1e29a3ae-4abb-4073-84f4-19c99fca7d9f",
   "metadata": {},
   "outputs": [],
   "source": [
    "e = Experiments()\n",
    "e.add_experiment(name=\"0_p1\",\n",
    "                 color=\"black\",\n",
    "                 label=\"2500 ms stimulation\",\n",
    "                 network=\"network-synapses.hdf5\",\n",
    "                 path=os.path.join(external, \"pdc_network_2022-08-31\"),\n",
    "                 output=\"network_output_network-synapses_cell_ids_current_injection_dardel_2022-09-21-13-26-22_p1.hdf5\")\n",
    "e.add_experiment(name=\"0_p1_p2\",\n",
    "                 color=\"red\",\n",
    "                 label=\"2500 ms stimulation\",\n",
    "                 network=\"network-synapses.hdf5\",\n",
    "                 path=os.path.join(external, \"pdc_network_2022-08-31\"),\n",
    "                 output=\"network_output_network-synapses_cell_ids_current_injection_dardel_2022-09-21-13-27-08_p1_p2.hdf5\")\n",
    "e.add_experiment(name=\"45_p1\",\n",
    "                 color=\"black\",\n",
    "                 label=\"2500 ms stimulation\",\n",
    "                 network=\"network-synapses.hdf5\",\n",
    "                 path=os.path.join(external, \"pdc_network_2022-08-31-45-3D\"),\n",
    "                 output=\"network_output_network-synapses_cell_ids_current_injection_dardel_2022-09-21-13-30-00_p1.hdf5\") \n",
    "e.add_experiment(name=\"45_p1_p2\",\n",
    "                 color=\"red\",\n",
    "                 label=\"2500 ms stimulation\",\n",
    "                 network=\"network-synapses.hdf5\",\n",
    "                 path=os.path.join(external, \"pdc_network_2022-08-31-45-3D\"),\n",
    "                 output=\"network_output_network-synapses_cell_ids_current_injection_dardel_2022-09-21-13-30-08_p1_p2.hdf5\")  \n",
    "e.add_experiment(name=\"90_p1\",\n",
    "                 color=\"black\",\n",
    "                 label=\"2500 ms stimulation\",\n",
    "                 network=\"network-synapses.hdf5\",\n",
    "                 path=os.path.join(external, \"pdc_network_2022-08-31-90-3D\"),\n",
    "                 output=\"network_output_network-synapses_cell_ids_current_injection_dardel_2022-09-21-13-31-13_p1.hdf5\")\n",
    "\n",
    "e.add_experiment(name=\"90_p1_p2\",\n",
    "                 color=\"red\",\n",
    "                 label=\"2500 ms stimulation\",\n",
    "                 network=\"network-synapses.hdf5\",\n",
    "                 path=os.path.join(external, \"pdc_network_2022-08-31-90-3D\"),\n",
    "                 output=\"network_output_network-synapses_cell_ids_current_injection_dardel_2022-09-21-13-31-13_p1_p2.hdf5\")\n"
   ]
  },
  {
   "cell_type": "code",
   "execution_count": null,
   "id": "cb1f02b5-91e0-4340-b2f1-a49461aa7370",
   "metadata": {},
   "outputs": [],
   "source": [
    "sl = LoadSimulations(experiments=e)\n",
    "sl.load_network_file(load_synapses=False)"
   ]
  },
  {
   "cell_type": "code",
   "execution_count": null,
   "id": "bc43d524-dd4a-4b2a-a97e-d2f6226b9923",
   "metadata": {},
   "outputs": [],
   "source": [
    "%%time\n",
    "neuron_type = \"dSPN\"\n",
    "specific_trace_ids = sl.get_population_units(neuron_type=neuron_type, population_unit=1)\n",
    "dendritic_voltage = dendrite_voltage(data_obj=sl, neuron_type=neuron_type, specific_trace_ids=specific_trace_ids, interval=[0, 3], dt_step=0.5)\n",
    "average_dendritic_voltages = average_dendritic_voltage(dvoltage=dendritic_voltage)"
   ]
  },
  {
   "cell_type": "code",
   "execution_count": null,
   "id": "5925f0cb-d933-4a95-a785-0a89ca05e18b",
   "metadata": {
    "scrolled": true,
    "tags": []
   },
   "outputs": [],
   "source": [
    "import matplotlib.pyplot as plt\n",
    "for p, v in average_dendritic_voltages['0_p1'].items():\n",
    "    plt.figure()\n",
    "    plt.plot(v)"
   ]
  },
  {
   "cell_type": "code",
   "execution_count": null,
   "id": "b6627685-def4-4e21-8c64-7757780714e5",
   "metadata": {},
   "outputs": [],
   "source": [
    "## More suitable for synaptic drive simulations"
   ]
  },
  {
   "cell_type": "code",
   "execution_count": null,
   "id": "fda58f26-71fa-4364-8223-21090b0b43e2",
   "metadata": {},
   "outputs": [],
   "source": []
  }
 ],
 "metadata": {
  "kernelspec": {
   "display_name": "Python 3",
   "language": "python",
   "name": "python3"
  },
  "language_info": {
   "codemirror_mode": {
    "name": "ipython",
    "version": 3
   },
   "file_extension": ".py",
   "mimetype": "text/x-python",
   "name": "python",
   "nbconvert_exporter": "python",
   "pygments_lexer": "ipython3",
   "version": "3.7.10"
  }
 },
 "nbformat": 4,
 "nbformat_minor": 5
}
