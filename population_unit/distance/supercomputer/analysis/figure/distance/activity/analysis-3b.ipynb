{
 "cells": [
  {
   "cell_type": "code",
   "execution_count": 1,
   "id": "de0ebe19-0895-4ee6-a272-39b1971408a4",
   "metadata": {},
   "outputs": [],
   "source": [
    "import sys\n",
    "import os\n",
    "sys.path.append(os.environ[\"CODE_REPOSITORY\"])\n",
    "from code_repository.hotones.thetools import *\n",
    "import matplotlib.pyplot as plt\n",
    "from snudda.utils.load import SnuddaLoad"
   ]
  },
  {
   "cell_type": "code",
   "execution_count": 2,
   "id": "a67e8830-1327-477f-862a-ea106d79c3ca",
   "metadata": {},
   "outputs": [],
   "source": [
    "external = os.path.join(\"/media\",\"jofrony\",\"2TB\", \"dardel\",\"current_bgd2\",\"population_unit\", \"distance\", \"supercomputer\", \"networks\")"
   ]
  },
  {
   "cell_type": "code",
   "execution_count": 3,
   "id": "1130da21-3c39-4808-87e1-e7bfc29c8ecd",
   "metadata": {},
   "outputs": [],
   "source": [
    "folder = \"frequency\""
   ]
  },
  {
   "cell_type": "code",
   "execution_count": 4,
   "id": "566e0125-4550-46c0-b58e-bca762d97eaf",
   "metadata": {},
   "outputs": [],
   "source": [
    "parameters = {\"start\": 0.5, \"end\": 2.5}"
   ]
  },
  {
   "cell_type": "code",
   "execution_count": 5,
   "id": "c40ff855-bdd4-4809-a0f5-a200e4a8af2c",
   "metadata": {},
   "outputs": [],
   "source": [
    "e = Experiments()\n",
    "e.add_experiment(name=\"0_p1\",\n",
    "                 color=\"black\",\n",
    "                 label=\"2500 ms stimulation\",\n",
    "                 network=\"network-synapses.hdf5\",\n",
    "                 path=os.path.join(external, \"pdc_network_2022-08-31\"),\n",
    "                 output=\"network_output_network-synapses_cell_ids_current_injection_dardel_2022-10-01-16-03-12_p1.hdf5\")\n",
    "e.add_experiment(name=\"0_p1_p2\",\n",
    "                 color=\"red\",\n",
    "                 label=\"2500 ms stimulation\",\n",
    "                 network=\"network-synapses.hdf5\",\n",
    "                 path=os.path.join(external, \"pdc_network_2022-08-31\"),\n",
    "                 output=\"network_output_network-synapses_cell_ids_current_injection_dardel_2022-10-01-16-03-32_p1_p2.hdf5\")\n",
    "e.add_experiment(name=\"45_p1\",\n",
    "                 color=\"black\",\n",
    "                 label=\"2500 ms stimulation\",\n",
    "                 network=\"network-synapses.hdf5\",\n",
    "                 path=os.path.join(external, \"pdc_network_2022-08-31-45-3D\"),\n",
    "                 output=\"network_output_network-synapses_cell_ids_current_injection_dardel_2022-09-21-13-30-00_p1.hdf5\") \n",
    "e.add_experiment(name=\"45_p1_p2\",\n",
    "                 color=\"red\",\n",
    "                 label=\"2500 ms stimulation\",\n",
    "                 network=\"network-synapses.hdf5\",\n",
    "                 path=os.path.join(external, \"pdc_network_2022-08-31-45-3D\"),\n",
    "                 output=\"network_output_network-synapses_cell_ids_current_injection_dardel_2022-09-21-13-30-08_p1_p2.hdf5\")  \n",
    "e.add_experiment(name=\"90_p1\",\n",
    "                 color=\"black\",\n",
    "                 label=\"2500 ms stimulation\",\n",
    "                 network=\"network-synapses.hdf5\",\n",
    "                 path=os.path.join(external, \"pdc_network_2022-08-31-90-3D\"),\n",
    "                 output=\"network_output_network-synapses_cell_ids_current_injection_dardel_2022-09-21-13-31-13_p1.hdf5\")\n",
    "\n",
    "e.add_experiment(name=\"90_p1_p2\",\n",
    "                 color=\"red\",\n",
    "                 label=\"2500 ms stimulation\",\n",
    "                 network=\"network-synapses.hdf5\",\n",
    "                 path=os.path.join(external, \"pdc_network_2022-08-31-90-3D\"),\n",
    "                 output=\"network_output_network-synapses_cell_ids_current_injection_dardel_2022-09-21-13-31-13_p1_p2.hdf5\")\n"
   ]
  },
  {
   "cell_type": "code",
   "execution_count": 6,
   "id": "c1316dd3-faed-4eed-a057-7cc3c1571934",
   "metadata": {},
   "outputs": [
    {
     "name": "stdout",
     "output_type": "stream",
     "text": [
      "Loading 40000 neurons with 35040256 synapses and 2531 gap junctions\n",
      "Loading /media/jofrony/2TB/dardel/current_bgd2/population_unit/distance/supercomputer/networks/pdc_network_2022-08-31/simulation/network_output_network-synapses_cell_ids_current_injection_dardel_2022-10-01-16-03-12_p1.hdf5\n",
      "Loading 40000 neurons with 35040256 synapses and 2531 gap junctions\n",
      "Loading /media/jofrony/2TB/dardel/current_bgd2/population_unit/distance/supercomputer/networks/pdc_network_2022-08-31/simulation/network_output_network-synapses_cell_ids_current_injection_dardel_2022-10-01-16-03-32_p1_p2.hdf5\n",
      "Loading 40000 neurons with 35040256 synapses and 2531 gap junctions\n",
      "Loading /media/jofrony/2TB/dardel/current_bgd2/population_unit/distance/supercomputer/networks/pdc_network_2022-08-31-45-3D/simulation/network_output_network-synapses_cell_ids_current_injection_dardel_2022-09-21-13-30-00_p1.hdf5\n",
      "Loading 40000 neurons with 35040256 synapses and 2531 gap junctions\n",
      "Loading /media/jofrony/2TB/dardel/current_bgd2/population_unit/distance/supercomputer/networks/pdc_network_2022-08-31-45-3D/simulation/network_output_network-synapses_cell_ids_current_injection_dardel_2022-09-21-13-30-08_p1_p2.hdf5\n",
      "Loading 40000 neurons with 35040256 synapses and 2531 gap junctions\n",
      "Loading /media/jofrony/2TB/dardel/current_bgd2/population_unit/distance/supercomputer/networks/pdc_network_2022-08-31-90-3D/simulation/network_output_network-synapses_cell_ids_current_injection_dardel_2022-09-21-13-31-13_p1.hdf5\n",
      "Loading 40000 neurons with 35040256 synapses and 2531 gap junctions\n",
      "Loading /media/jofrony/2TB/dardel/current_bgd2/population_unit/distance/supercomputer/networks/pdc_network_2022-08-31-90-3D/simulation/network_output_network-synapses_cell_ids_current_injection_dardel_2022-09-21-13-31-13_p1_p2.hdf5\n"
     ]
    }
   ],
   "source": [
    "sl = LoadSimulations(experiments=e)\n",
    "sl.load_network_file(load_synapses=False)"
   ]
  },
  {
   "cell_type": "code",
   "execution_count": 7,
   "id": "ff322ce8-4b68-4063-8372-37fe7843bfe9",
   "metadata": {},
   "outputs": [
    {
     "name": "stdout",
     "output_type": "stream",
     "text": [
      "CPU times: user 3.55 s, sys: 472 ms, total: 4.02 s\n",
      "Wall time: 28.2 s\n"
     ]
    }
   ],
   "source": [
    "%%time\n",
    "neuron_type = \"dSPN\"\n",
    "specific_trace_ids = sl.get_population_units(neuron_type=neuron_type, population_unit=1)\n",
    "frequency_analysis_dict_dspn = frequency_analysis(data_obj=sl, neuron_type=neuron_type, trace_ids=specific_trace_ids, parameters=parameters)\n"
   ]
  },
  {
   "cell_type": "code",
   "execution_count": 8,
   "id": "eed36fec-1190-45ae-89cb-0dcbf67ebc3e",
   "metadata": {},
   "outputs": [
    {
     "name": "stdout",
     "output_type": "stream",
     "text": [
      "CPU times: user 3.8 s, sys: 529 ms, total: 4.33 s\n",
      "Wall time: 28.8 s\n"
     ]
    }
   ],
   "source": [
    "%%time\n",
    "neuron_type = \"iSPN\"\n",
    "specific_trace_ids = sl.get_population_units(neuron_type=neuron_type, population_unit=1)\n",
    "frequency_analysis_dict_ispn = frequency_analysis(data_obj=sl, neuron_type=neuron_type, trace_ids=specific_trace_ids, parameters=parameters)\n"
   ]
  },
  {
   "cell_type": "code",
   "execution_count": 9,
   "id": "9af3582e-866d-4a30-93c6-2e39e7e3a9cf",
   "metadata": {},
   "outputs": [],
   "source": [
    "frequency_analysis_dict = {i : dict() for i in [*e.experiments.keys()]}"
   ]
  },
  {
   "cell_type": "code",
   "execution_count": 10,
   "id": "35746f43-06fc-4110-aaf4-37834089a5fc",
   "metadata": {},
   "outputs": [],
   "source": [
    "for v, k in frequency_analysis_dict_dspn.items():\n",
    "    frequency_analysis_dict[v].update(k)"
   ]
  },
  {
   "cell_type": "code",
   "execution_count": 11,
   "id": "556a0b12-9224-4eec-8693-4f1a8f214132",
   "metadata": {},
   "outputs": [],
   "source": [
    "for v, k in frequency_analysis_dict_ispn.items():\n",
    "    frequency_analysis_dict[v].update(k)"
   ]
  },
  {
   "cell_type": "code",
   "execution_count": 12,
   "id": "93f3c8b5-820e-4711-a782-7a4f66f250eb",
   "metadata": {},
   "outputs": [],
   "source": [
    "colors = {\"0_p1\": \"black\",\n",
    "         \"45_p1\": \"green\",\n",
    "         \"90_p1\": \"blue\",\n",
    "         \"0_p1_p2\": \"black\",\n",
    "         \"45_p1_p2\": \"green\" ,\n",
    "         \"90_p1_p2\": \"blue\"}\n",
    "bins=10"
   ]
  },
  {
   "cell_type": "code",
   "execution_count": 13,
   "id": "8f732b7b-08f3-4693-934a-315af0a4bf79",
   "metadata": {},
   "outputs": [
    {
     "data": {
      "image/png": "[encoded data removed]",
      "text/plain": [
       "<Figure size 432x288 with 1 Axes>"
      ]
     },
     "metadata": {
      "needs_background": "light"
     },
     "output_type": "display_data"
    }
   ],
   "source": [
    "fig_name = f\"{neuron_type}_above_0Hz\"\n",
    "plot_histogram_frequency(frequency_dict=frequency_analysis_dict, experiment_names=e,\n",
    "                         fig_name=fig_name, \n",
    "                         colors=colors,bins=bins,\n",
    "                         parameters={plt.xlim: (0,40)},\n",
    "                         folder=folder, save=True)"
   ]
  },
  {
   "cell_type": "code",
   "execution_count": 14,
   "id": "db69d005-5d40-4149-844c-19a347c939c5",
   "metadata": {},
   "outputs": [
    {
     "data": {
      "image/png": "[encoded data removed]",
      "text/plain": [
       "<Figure size 432x288 with 1 Axes>"
      ]
     },
     "metadata": {
      "needs_background": "light"
     },
     "output_type": "display_data"
    }
   ],
   "source": [
    "fig_name = f\"{neuron_type}_above_0Hz\"\n",
    "plot_histogram_frequency_step(frequency_dict=frequency_analysis_dict, experiment_names=e,\n",
    "                         fig_name=fig_name, \n",
    "                         colors=colors,bins=bins,\n",
    "                         parameters={plt.xlim: (0,40)},\n",
    "                         folder=folder, save=True)"
   ]
  },
  {
   "cell_type": "code",
   "execution_count": 27,
   "id": "22e99590-9f73-4099-a1aa-74867dd6a0c8",
   "metadata": {},
   "outputs": [],
   "source": [
    "import pandas as pd\n",
    "import seaborn as sns\n",
    "d = {\"distance\": list(), \"response\": list()}\n",
    "tmps = dict()\n",
    "for distance in [0,45,90]:\n",
    "    tmps.update({distance: list()})\n",
    "    for ids in frequency_analysis_dict[f\"{distance}_p1\"]:\n",
    "        d[\"distance\"].append(distance)\n",
    "        diff = frequency_analysis_dict[f\"{distance}_p1_p2\"][ids] - frequency_analysis_dict[f\"{distance}_p1\"][ids]\n",
    "        tmps[distance].append(diff)\n",
    "        d[\"response\"].append(diff)\n",
    "df = pd.DataFrame(data=d)"
   ]
  },
  {
   "cell_type": "code",
   "execution_count": 34,
   "id": "6e144da9-3768-41b0-8ab3-159963ab678f",
   "metadata": {},
   "outputs": [
    {
     "data": {
      "text/plain": [
       "(array([-10.,  -8.,  -6.,  -4.,  -2.,   0.,   2.,   4.]),\n",
       " [Text(0, 0, ''),\n",
       "  Text(0, 0, ''),\n",
       "  Text(0, 0, ''),\n",
       "  Text(0, 0, ''),\n",
       "  Text(0, 0, ''),\n",
       "  Text(0, 0, ''),\n",
       "  Text(0, 0, ''),\n",
       "  Text(0, 0, '')])"
      ]
     },
     "execution_count": 34,
     "metadata": {},
     "output_type": "execute_result"
    },
    {
     "data": {
      "image/png": "[encoded data removed]",
      "text/plain": [
       "<Figure size 576x432 with 1 Axes>"
      ]
     },
     "metadata": {
      "needs_background": "light"
     },
     "output_type": "display_data"
    }
   ],
   "source": [
    "csfont = {\"fontname\": \"Arial\", 'fontsize': 16}\n",
    "colors = {0: \"black\",\n",
    "         45: \"green\" ,\n",
    "         90: \"blue\"}\n",
    "plt.figure(figsize=(8, 6))\n",
    "sns.violinplot(x=\"distance\", y=\"response\", data=df,palette=colors)\n",
    "sns.stripplot(x=\"distance\", y=\"response\", data=df,\n",
    "              color=\"black\", edgecolor=\"gray\")\n",
    "\n",
    "plt.ylabel(\"Frequency change (Hz)\", **csfont)\n",
    "plt.yticks(fontsize=14)"
   ]
  },
  {
   "cell_type": "code",
   "execution_count": 15,
   "id": "db0b1ff7-f540-4a50-865e-27900479215f",
   "metadata": {},
   "outputs": [],
   "source": [
    "mean_frequency_dict = mean_frequency(dictionary=frequency_analysis_dict, parameters={\"interval\": [1,60]})"
   ]
  },
  {
   "cell_type": "code",
   "execution_count": 16,
   "id": "b896d04a-65a9-41c7-9698-90fa89439412",
   "metadata": {},
   "outputs": [],
   "source": [
    "colors = {\"0_p1\": \"black\",\n",
    "         \"45_p1\": \"green\",\n",
    "         \"90_p1\": \"blue\",\n",
    "         \"0_p1_p2\": \"black\",\n",
    "         \"45_p1_p2\": \"green\" ,\n",
    "         \"90_p1_p2\": \"blue\"}\n",
    "bins=10"
   ]
  },
  {
   "cell_type": "code",
   "execution_count": 17,
   "id": "206e6424-62d8-41f6-aa90-10c1bfe5d92e",
   "metadata": {},
   "outputs": [
    {
     "data": {
      "image/png": "[encoded data removed]",
      "text/plain": [
       "<Figure size 432x288 with 1 Axes>"
      ]
     },
     "metadata": {
      "needs_background": "light"
     },
     "output_type": "display_data"
    }
   ],
   "source": [
    "plot_mean_frequency(mean_frequency_dict = mean_frequency_dict, folder=folder,colors=colors, experiment_names=e)"
   ]
  },
  {
   "cell_type": "code",
   "execution_count": 18,
   "id": "7dfbc1f6-7d5b-4380-babc-ca638714a4db",
   "metadata": {},
   "outputs": [],
   "source": [
    "parameters = dict(pairs=list())\n",
    "for distance in [0,45,90]:\n",
    "    parameters[\"pairs\"].append([f\"{distance}_p1\", f\"{distance}_p1_p2\", f\"{distance}\"])\n",
    "change = change_mean_frequency(dictionary=mean_frequency_dict, parameters=parameters)"
   ]
  },
  {
   "cell_type": "code",
   "execution_count": 19,
   "id": "f683afd9-edaa-44ea-9da2-2b7c0308d12f",
   "metadata": {},
   "outputs": [],
   "source": [
    "colors = {\"0\": \"black\",\n",
    "         \"45\": \"green\" ,\n",
    "         \"90\": \"blue\"}"
   ]
  },
  {
   "cell_type": "code",
   "execution_count": 20,
   "id": "813dc8b7-7668-4273-8bc9-7c8604461fbd",
   "metadata": {},
   "outputs": [],
   "source": [
    "customize={plt.ylim:(-0.6,0)}"
   ]
  },
  {
   "cell_type": "code",
   "execution_count": 21,
   "id": "0b33f05a-1899-4c40-87bf-c7e116f0f9c0",
   "metadata": {},
   "outputs": [],
   "source": [
    "fig_name=\"SPN_response\""
   ]
  },
  {
   "cell_type": "code",
   "execution_count": 22,
   "id": "1072716c-233e-476a-abf3-7a34713fa053",
   "metadata": {},
   "outputs": [
    {
     "data": {
      "image/png": "[encoded data removed]",
      "text/plain": [
       "<Figure size 432x288 with 1 Axes>"
      ]
     },
     "metadata": {
      "needs_background": "light"
     },
     "output_type": "display_data"
    }
   ],
   "source": [
    "plot_change_mean_frequency(change_mean_frequency_dict = change, folder=folder,colors=colors, experiment_names=[\"0\", \"45\", \"90\"], save=True,fig_name=fig_name,customize=customize)"
   ]
  },
  {
   "cell_type": "code",
   "execution_count": null,
   "id": "4f50ae74-8fd8-4880-8c8e-7ba81f1e48bb",
   "metadata": {},
   "outputs": [],
   "source": []
  }
 ],
 "metadata": {
  "kernelspec": {
   "display_name": "Python 3",
   "language": "python",
   "name": "python3"
  },
  "language_info": {
   "codemirror_mode": {
    "name": "ipython",
    "version": 3
   },
   "file_extension": ".py",
   "mimetype": "text/x-python",
   "name": "python",
   "nbconvert_exporter": "python",
   "pygments_lexer": "ipython3",
   "version": "3.7.10"
  }
 },
 "nbformat": 4,
 "nbformat_minor": 5
}
