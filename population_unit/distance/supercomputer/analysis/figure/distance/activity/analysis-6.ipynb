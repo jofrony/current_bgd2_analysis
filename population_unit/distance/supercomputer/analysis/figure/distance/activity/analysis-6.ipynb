{
 "cells": [
  {
   "cell_type": "code",
   "execution_count": 1,
   "id": "65c5cb7f-3395-4827-bc5c-38544ca75a3b",
   "metadata": {},
   "outputs": [],
   "source": [
    "import sys\n",
    "import os\n",
    "sys.path.append(os.environ[\"CODE_REPOSITORY\"])\n",
    "from code_repository.hotones.thetools import *\n",
    "import matplotlib.pyplot as plt\n",
    "from snudda.utils.load import SnuddaLoad"
   ]
  },
  {
   "cell_type": "code",
   "execution_count": 2,
   "id": "88b93d3d-22aa-4718-b4e3-e7ca880723f9",
   "metadata": {},
   "outputs": [],
   "source": [
    "external = os.path.join(\"/media\",\"jofrony\",\"2TB\",\"dardel\",\"current_bgd2\",\"population_unit\", \"distance\", \"supercomputer\", \"networks\")"
   ]
  },
  {
   "cell_type": "code",
   "execution_count": 3,
   "id": "a4389e98-7dee-45cb-8d15-20733d0ceb70",
   "metadata": {},
   "outputs": [],
   "source": [
    "repository = os.path.join(\"/home\",\"jofrony\",\"Documents\",\"Repositories\",\"current_bgd2\", \n",
    "                          \"population_unit\",\"distance\",\"supercomputer\",\"networks\")"
   ]
  },
  {
   "cell_type": "code",
   "execution_count": 4,
   "id": "643731ec-6be0-42ec-89d4-6b34345404f2",
   "metadata": {},
   "outputs": [],
   "source": [
    "folder = \"connectivity_distance\""
   ]
  },
  {
   "cell_type": "code",
   "execution_count": 5,
   "id": "f3ccbaf1-3c61-4656-b301-2297d7e6d793",
   "metadata": {},
   "outputs": [],
   "source": [
    "e = Experiments()\n",
    "\n",
    "e.add_experiment(name=\"0_p1_p2\",\n",
    "                 color=\"red\",\n",
    "                 label=\"2500 ms stimulation\",\n",
    "                 network=\"network-synapses.hdf5\",\n",
    "                 path=os.path.join(external, \"pdc_network_2022-08-31\"),\n",
    "                 output=\"network_output_network-synapses_cell_ids_current_injection_dardel_2022-10-01-16-03-32_p1_p2.hdf5\")\n",
    "\n",
    "e.add_experiment(name=\"45_p1_p2\",\n",
    "                 color=\"red\",\n",
    "                 label=\"2500 ms stimulation\",\n",
    "                 network=\"network-synapses.hdf5\",\n",
    "                 path=os.path.join(external, \"pdc_network_2022-08-31-45-3D\"),\n",
    "                 output=\"network_output_network-synapses_cell_ids_current_injection_dardel_2022-09-21-13-30-08_p1_p2.hdf5\")  \n",
    "\n",
    "\n",
    "e.add_experiment(name=\"90_p1_p2\",\n",
    "                 color=\"red\",\n",
    "                 label=\"2500 ms stimulation\",\n",
    "                 network=\"network-synapses.hdf5\",\n",
    "                 path=os.path.join(external, \"pdc_network_2022-08-31-90-3D\"),\n",
    "                 output=\"network_output_network-synapses_cell_ids_current_injection_dardel_2022-09-21-13-31-13_p1_p2.hdf5\")\n"
   ]
  },
  {
   "cell_type": "code",
   "execution_count": 6,
   "id": "a4a8b465-a672-4340-bb4f-93dc1f2feba5",
   "metadata": {
    "scrolled": true,
    "tags": []
   },
   "outputs": [
    {
     "name": "stdout",
     "output_type": "stream",
     "text": [
      "Loading /media/jofrony/2TB/dardel/current_bgd2/population_unit/distance/supercomputer/networks/pdc_network_2022-08-31/simulation/network_output_network-synapses_cell_ids_current_injection_dardel_2022-10-01-16-03-32_p1_p2.hdf5\n",
      "Loading /media/jofrony/2TB/dardel/current_bgd2/population_unit/distance/supercomputer/networks/pdc_network_2022-08-31-45-3D/simulation/network_output_network-synapses_cell_ids_current_injection_dardel_2022-09-21-13-30-08_p1_p2.hdf5\n",
      "Loading /media/jofrony/2TB/dardel/current_bgd2/population_unit/distance/supercomputer/networks/pdc_network_2022-08-31-90-3D/simulation/network_output_network-synapses_cell_ids_current_injection_dardel_2022-09-21-13-31-13_p1_p2.hdf5\n",
      "Loading 40000 neurons with 35040256 synapses and 2531 gap junctions\n",
      "Loading 40000 neurons with 35040256 synapses and 2531 gap junctions\n",
      "Loading 40000 neurons with 35040256 synapses and 2531 gap junctions\n"
     ]
    }
   ],
   "source": [
    "sl = LoadSimulations(experiments=e)\n",
    "sl.load_network_file(load_synapses=True)"
   ]
  },
  {
   "cell_type": "code",
   "execution_count": 7,
   "id": "6b02fa01-66f4-4582-abd3-0dd86b5f7cbe",
   "metadata": {},
   "outputs": [
    {
     "name": "stdout",
     "output_type": "stream",
     "text": [
      "CPU times: user 3.25 s, sys: 34.4 ms, total: 3.28 s\n",
      "Wall time: 3.39 s\n"
     ]
    }
   ],
   "source": [
    "%%time\n",
    "neuron_type = \"dSPN\"\n",
    "result_dictionary = connectivity_distance_analysis(data_obj=sl, pre=[\"dSPN\", \"iSPN\", \"FS\"], post=neuron_type, max_post=300)\n"
   ]
  },
  {
   "cell_type": "code",
   "execution_count": 12,
   "id": "48449796-78f7-42cb-9623-5033f1845dc9",
   "metadata": {},
   "outputs": [
    {
     "data": {
      "image/png": "[encoded data removed]",
      "text/plain": [
       "<Figure size 432x288 with 1 Axes>"
      ]
     },
     "metadata": {
      "needs_background": "light"
     },
     "output_type": "display_data"
    },
    {
     "data": {
      "image/png": "[encoded data removed]",
      "text/plain": [
       "<Figure size 432x288 with 1 Axes>"
      ]
     },
     "metadata": {
      "needs_background": "light"
     },
     "output_type": "display_data"
    },
    {
     "data": {
      "image/png": "[encoded data removed]",
      "text/plain": [
       "<Figure size 432x288 with 1 Axes>"
      ]
     },
     "metadata": {
      "needs_background": "light"
     },
     "output_type": "display_data"
    }
   ],
   "source": [
    "import numpy as np\n",
    "for e in result_dictionary:\n",
    "    plt.figure()\n",
    "    plt.title(e)\n",
    "    weights = np.ones_like(result_dictionary[e][\"within\"])/len(result_dictionary[e][\"within\"])\n",
    "    plt.hist(np.array(result_dictionary[e][\"within\"]) * 1e6, bins=100, color=\"black\", histtype=u'step', lw=2, weights=weights)\n",
    "    weights = np.ones_like(result_dictionary[e][\"between\"])/len(result_dictionary[e][\"between\"])\n",
    "    plt.hist(np.array(result_dictionary[e][\"between\"]) * 1e6, bins=100, color=\"red\", histtype=u'step', lw=2, weights=weights)\n",
    "    plt.xlim((0,600))\n",
    "    plt.show()"
   ]
  },
  {
   "cell_type": "code",
   "execution_count": null,
   "id": "6ff6c6d7-001b-4ac6-8e74-b0bbf0c9dbca",
   "metadata": {},
   "outputs": [],
   "source": []
  }
 ],
 "metadata": {
  "kernelspec": {
   "display_name": "Python 3",
   "language": "python",
   "name": "python3"
  },
  "language_info": {
   "codemirror_mode": {
    "name": "ipython",
    "version": 3
   },
   "file_extension": ".py",
   "mimetype": "text/x-python",
   "name": "python",
   "nbconvert_exporter": "python",
   "pygments_lexer": "ipython3",
   "version": "3.7.10"
  }
 },
 "nbformat": 4,
 "nbformat_minor": 5
}
