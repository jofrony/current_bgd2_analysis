{
 "cells": [
  {
   "cell_type": "code",
   "execution_count": 22,
   "id": "4c6d5e2c-55a7-45ee-888f-ce7e55255295",
   "metadata": {},
   "outputs": [],
   "source": [
    "import sys\n",
    "import os\n",
    "sys.path.append(os.environ[\"CODE_REPOSITORY\"])\n",
    "from code_repository.hotones.thetools import *\n",
    "from snudda.utils.load import SnuddaLoad"
   ]
  },
  {
   "cell_type": "code",
   "execution_count": 23,
   "id": "7f41f1c7-9a3a-4f5a-98d8-da919f0ce88e",
   "metadata": {},
   "outputs": [
    {
     "name": "stdout",
     "output_type": "stream",
     "text": [
      "Loading 40000 neurons with 35040256 synapses and 2531 gap junctions\n",
      "Loading /media/jofrony/2TB/dardel/current_bgd2/population_unit/complete_network/supercomputer/networks/pdc_network_2022-08-31-p0125/simulation/network_output_network-synapses_cell_ids_current_injection_dardel_2022-09-21-13-44-09_p1.hdf5\n",
      "Loading 40000 neurons with 35040256 synapses and 2531 gap junctions\n",
      "Loading /media/jofrony/2TB/dardel/current_bgd2/population_unit/complete_network/supercomputer/networks/pdc_network_2022-08-31-p0125/simulation/network_output_network-synapses_cell_ids_current_injection_dardel_2022-09-21-13-44-12_p1_p2.hdf5\n",
      "Loading 40000 neurons with 35040256 synapses and 2531 gap junctions\n",
      "Loading /media/jofrony/2TB/dardel/current_bgd2/population_unit/complete_network/supercomputer/networks/pdc_network_2022-08-31-p025/simulation/network_output_network-synapses_cell_ids_current_injection_dardel_2022-09-21-13-45-19_p1.hdf5\n",
      "Loading 40000 neurons with 35040256 synapses and 2531 gap junctions\n",
      "Loading /media/jofrony/2TB/dardel/current_bgd2/population_unit/complete_network/supercomputer/networks/pdc_network_2022-08-31-p025/simulation/network_output_network-synapses_cell_ids_current_injection_dardel_2022-09-21-13-45-26_p1_p2.hdf5\n",
      "Loading 40000 neurons with 35040256 synapses and 2531 gap junctions\n",
      "Loading /media/jofrony/2TB/dardel/current_bgd2/population_unit/complete_network/supercomputer/networks/pdc_network_2022-08-31-p05/simulation/network_output_network-synapses_cell_ids_current_injection_dardel_2022-09-21-13-46-27_p1.hdf5\n",
      "Loading 40000 neurons with 35040256 synapses and 2531 gap junctions\n",
      "Loading /media/jofrony/2TB/dardel/current_bgd2/population_unit/complete_network/supercomputer/networks/pdc_network_2022-08-31-p05/simulation/network_output_network-synapses_cell_ids_current_injection_dardel_2022-09-21-13-46-40_p1_p2.hdf5\n"
     ]
    }
   ],
   "source": [
    "\n",
    "external = os.path.join(\"/media\", \"jofrony\", \"2TB\", \"dardel\", \"current_bgd2\", \"population_unit\", \"complete_network\",\n",
    "                        \"supercomputer\", \"networks\")\n",
    "\n",
    "e = Experiments()\n",
    "e.add_experiment(name=\"p0125_p1\",\n",
    "                 color=\"black\",\n",
    "                 label=\"p=0.125\",\n",
    "                 network=\"network-synapses.hdf5\",\n",
    "                 path=os.path.join(external, \"pdc_network_2022-08-31-p0125\"),\n",
    "                 output=\"network_output_network-synapses_cell_ids_current_injection_dardel_2022-09-21-13-44-09_p1.hdf5\")\n",
    "e.add_experiment(name=\"p0125_p1_p2\",\n",
    "                 color=\"black\",\n",
    "                 label=\"p=0.125\",\n",
    "                 network=\"network-synapses.hdf5\",\n",
    "                 path=os.path.join(external, \"pdc_network_2022-08-31-p0125\"),\n",
    "                 output=\"network_output_network-synapses_cell_ids_current_injection_dardel_2022-09-21-13-44-12_p1_p2.hdf5\")\n",
    "e.add_experiment(name=\"p025_p1\",\n",
    "                 color=\"blue\",\n",
    "                 label=\"p=0.25\",\n",
    "                 network=\"network-synapses.hdf5\",\n",
    "                 path=os.path.join(external, \"pdc_network_2022-08-31-p025\"),\n",
    "                 output=\"network_output_network-synapses_cell_ids_current_injection_dardel_2022-09-21-13-45-19_p1.hdf5\")\n",
    "e.add_experiment(name=\"p025_p1_p2\",\n",
    "                 color=\"blue\",\n",
    "                 label=\"p=0.25\",\n",
    "                 network=\"network-synapses.hdf5\",\n",
    "                 path=os.path.join(external, \"pdc_network_2022-08-31-p025\"),\n",
    "                 output=\"network_output_network-synapses_cell_ids_current_injection_dardel_2022-09-21-13-45-26_p1_p2.hdf5\")\n",
    "e.add_experiment(name=\"p05_p1\",\n",
    "                 color=\"green\",\n",
    "                 label=\"p=0.5\",\n",
    "                 network=\"network-synapses.hdf5\",\n",
    "                 path=os.path.join(external, \"pdc_network_2022-08-31-p05\"),\n",
    "                 output=\"network_output_network-synapses_cell_ids_current_injection_dardel_2022-09-21-13-46-27_p1.hdf5\")\n",
    "e.add_experiment(name=\"p05_p1_p2\",\n",
    "                 color=\"green\",\n",
    "                 label=\"p=0.5\",\n",
    "                 network=\"network-synapses.hdf5\",\n",
    "                 path=os.path.join(external, \"pdc_network_2022-08-31-p05\"),\n",
    "                 output=\"network_output_network-synapses_cell_ids_current_injection_dardel_2022-09-21-13-46-40_p1_p2.hdf5\")\n",
    "\n",
    "sl = LoadSimulations(experiments=e)\n",
    "sl.load_network_file(load_synapses=True)\n"
   ]
  },
  {
   "cell_type": "code",
   "execution_count": 24,
   "id": "d5558abd-2825-479b-9d72-fff3d78a3ba5",
   "metadata": {},
   "outputs": [
    {
     "name": "stdout",
     "output_type": "stream",
     "text": [
      "CPU times: user 4min 50s, sys: 16.7 s, total: 5min 7s\n",
      "Wall time: 12min 33s\n"
     ]
    }
   ],
   "source": [
    "%%time\n",
    "neuron_type = \"dSPN\"\n",
    "specific_trace_ids = sl.get_population_units(neuron_type=neuron_type, population_unit=1)\n",
    "\n",
    "depolarisation_blocked = depolarisation_block(data_obj=sl, specific_trace_ids=specific_trace_ids)\n"
   ]
  },
  {
   "cell_type": "code",
   "execution_count": 25,
   "id": "2302f0ae-1631-4d2a-a780-faaa0a8f0358",
   "metadata": {},
   "outputs": [
    {
     "name": "stdout",
     "output_type": "stream",
     "text": [
      "CPU times: user 2min 54s, sys: 32.9 s, total: 3min 27s\n",
      "Wall time: 4min 3s\n"
     ]
    }
   ],
   "source": [
    "%%time\n",
    "neuron_type = \"dSPN\"\n",
    "connectivity = connectivity_analysis(data_obj=sl, pre=[\"dSPN\", \"iSPN\", \"FS\"], post=neuron_type, max_post=100)"
   ]
  },
  {
   "cell_type": "code",
   "execution_count": 26,
   "id": "3350ffa6-1386-434d-bfcb-07cb7fe65a8b",
   "metadata": {},
   "outputs": [
    {
     "name": "stdout",
     "output_type": "stream",
     "text": [
      "CPU times: user 1min 15s, sys: 9.86 s, total: 1min 25s\n",
      "Wall time: 9min 45s\n"
     ]
    }
   ],
   "source": [
    "%%time\n",
    "neuron_type = \"dSPN\"\n",
    "specific_trace_ids = sl.get_population_units(neuron_type=neuron_type, population_unit=1)\n",
    "frequency_analysis_dict_dspn = frequency_analysis(data_obj=sl, neuron_type=neuron_type, trace_ids=specific_trace_ids, parameters={\"start\": 0.5, \"end\": 2.5})\n"
   ]
  },
  {
   "cell_type": "code",
   "execution_count": 27,
   "id": "1af71df5-cc35-4c19-94b3-35962967f1f0",
   "metadata": {},
   "outputs": [],
   "source": [
    "neuron_type = \"dSPN\"\n",
    "specific_trace_ids = sl.get_population_units(neuron_type=neuron_type, population_unit=1)"
   ]
  },
  {
   "cell_type": "code",
   "execution_count": null,
   "id": "f373c71f-757d-4f71-9938-05d2158f515f",
   "metadata": {},
   "outputs": [],
   "source": []
  },
  {
   "cell_type": "code",
   "execution_count": 28,
   "id": "022819ae-9f39-47f6-8271-1eee14b10985",
   "metadata": {},
   "outputs": [
    {
     "name": "stdout",
     "output_type": "stream",
     "text": [
      "CPU times: user 19 ms, sys: 0 ns, total: 19 ms\n",
      "Wall time: 30.2 ms\n"
     ]
    }
   ],
   "source": [
    "%%time\n",
    "frequency_analysis_dict = {f\"p{i}\" : dict() for i in [\"0125\",\"025\",\"05\"]}\n",
    "import matplotlib.pyplot as plt\n",
    "for k in frequency_analysis_dict:\n",
    "    control = f\"{k}_p1\"\n",
    "    p1p2 =  f\"{k}_p1_p2\"\n",
    "    d = sl.get_data(name=control)\n",
    "    d1 = sl.get_data(name=p1p2)\n",
    "    ids = specific_trace_ids[control]\n",
    "    for i in ids:\n",
    "        if frequency_analysis_dict_dspn[control][i] > 0 and frequency_analysis_dict_dspn[p1p2][i] > 0:\n",
    "            diff = frequency_analysis_dict_dspn[p1p2][i] - frequency_analysis_dict_dspn[control][i]\n",
    "            frequency_analysis_dict[k].update({i: diff})\n",
    "            if False:\n",
    "                plt.figure()\n",
    "                plt.title(f\"{diff} Hz\")\n",
    "                v = d.get_voltage(neuron_id=i)\n",
    "                plt.plot(v,c=\"black\")\n",
    "                v1 = d1.get_voltage(neuron_id=i)\n",
    "                plt.plot(v1,c=\"red\")\n",
    "                plt.show()\n",
    "        \n",
    "    "
   ]
  },
  {
   "cell_type": "code",
   "execution_count": 29,
   "id": "940e8511-0f54-46f7-ad0e-2ce98aeaed79",
   "metadata": {},
   "outputs": [],
   "source": [
    "os = dict()\n",
    "us = dict()\n",
    "for ks in [\"p0125\",\"p025\", \"p05\"]:\n",
    "    o = dict()\n",
    "    u = dict()\n",
    "    for i in frequency_analysis_dict[ks]:\n",
    "\n",
    "        if i in connectivity[0][f\"{ks}_p1\"] and not(depolarisation_blocked[f\"{ks}_p1_p2\"][i]):\n",
    "\n",
    "            sums=0\n",
    "            diffs = frequency_analysis_dict[ks][i]\n",
    "            for r, k in connectivity[0][f\"{ks}_p1\"][i].items():\n",
    "                sums+=k\n",
    "\n",
    "            if sums > 500 and diffs < -10:\n",
    "                u.update({i: dict(num_synapses=sums,diff_Hz=diffs)})\n",
    "\n",
    "            o.update({i: dict(num_synapses=sums,diff_Hz=diffs)})\n",
    "    os.update({ks: o})\n",
    "    us.update({ks: u})\n",
    "    "
   ]
  },
  {
   "cell_type": "code",
   "execution_count": 34,
   "id": "9273e792-6e39-4d13-ae37-dd6e94273ffc",
   "metadata": {},
   "outputs": [
    {
     "data": {
      "image/png": "[encoded data removed]",
      "text/plain": [
       "<Figure size 432x288 with 1 Axes>"
      ]
     },
     "metadata": {
      "needs_background": "light"
     },
     "output_type": "display_data"
    }
   ],
   "source": [
    "import numpy as np\n",
    "\n",
    "cs = {\"p0125\":\"black\",\"p025\": \"blue\",\"p05\":\"purple\"}\n",
    "for k in [\"p0125\",\"p025\",\"p05\"]:\n",
    "    x = list()\n",
    "    y = list()\n",
    "    for i in os[k]:\n",
    "        plt.scatter([os[k][i][\"num_synapses\"]],[os[k][i][\"diff_Hz\"]], c=cs[k],alpha=0.4)\n",
    "        x.append(os[k][i][\"num_synapses\"])\n",
    "        y.append(os[k][i][\"diff_Hz\"])\n",
    "        if i in u:\n",
    "            plt.scatter([us[k][i][\"num_synapses\"]],[us[k][i][\"diff_Hz\"]], c=cs[k],alpha=0.4)\n",
    "    a, b = np.polyfit(x, y, 1)\n",
    "\n",
    "    #add points to plot\n",
    "    x = np.array(x)\n",
    "    #add line of best fit to plot\n",
    "    plt.plot(x, a*x+b, c=cs[k])\n",
    "plt.ylabel(\"Number of synapses\")\n",
    "plt.xlabel(\"Change in frequency (Hz)\")\n",
    "plt.savefig(\"Num_synapse_Frequency.svg\")"
   ]
  },
  {
   "cell_type": "code",
   "execution_count": 61,
   "id": "94342109-8a32-4f7d-aef8-2770b1b42725",
   "metadata": {},
   "outputs": [
    {
     "name": "stdout",
     "output_type": "stream",
     "text": [
      "CPU times: user 35.6 s, sys: 3.63 s, total: 39.2 s\n",
      "Wall time: 39.2 s\n"
     ]
    }
   ],
   "source": [
    "%%time\n",
    "e_tmps = dict()\n",
    "for e in [\"p0125\",\"p025\",\"p05\"]:\n",
    "    tmps = list()\n",
    "    synapses = sl.experiments[f\"{e}_p1\"][\"network_structure\"].data[\"synapses\"]\n",
    "    for s in [*os[e].keys()]:\n",
    "        presynaptic = np.where(synapses.T[1] == s)\n",
    "        \n",
    "        tmps.append(len(presynaptic[0]))\n",
    "    e_tmps.update({e: tmps})      \n",
    "    \n",
    "        \n"
   ]
  },
  {
   "cell_type": "code",
   "execution_count": 62,
   "id": "3db55903-7cef-4826-bc97-ab804c04cec4",
   "metadata": {},
   "outputs": [
    {
     "data": {
      "image/png": "[encoded data removed]",
      "text/plain": [
       "<Figure size 432x288 with 1 Axes>"
      ]
     },
     "metadata": {
      "needs_background": "light"
     },
     "output_type": "display_data"
    }
   ],
   "source": [
    "for e in e_tmps:\n",
    "    plt.hist(e_tmps[e],histtype=\"step\")"
   ]
  },
  {
   "cell_type": "code",
   "execution_count": 63,
   "id": "8e0d0ac6-08a1-4a04-a7af-6a0224710e54",
   "metadata": {},
   "outputs": [
    {
     "name": "stdout",
     "output_type": "stream",
     "text": [
      "CPU times: user 35.4 s, sys: 3.23 s, total: 38.7 s\n",
      "Wall time: 38.7 s\n"
     ]
    }
   ],
   "source": [
    "%%time\n",
    "e_tmps = dict()\n",
    "for e in [\"p0125\",\"p025\",\"p05\"]:\n",
    "    tmps = list()\n",
    "    synapses = sl.experiments[f\"{e}_p1\"][\"network_structure\"].data[\"synapses\"]\n",
    "    for s in [*os[e].keys()]:\n",
    "        presynaptic = np.where(synapses.T[1] == s)\n",
    "        if len(presynaptic[0]) > 1500:\n",
    "            tmps.append(s)\n",
    "    e_tmps.update({e: tmps})      \n",
    "    \n",
    "        \n"
   ]
  },
  {
   "cell_type": "code",
   "execution_count": 64,
   "id": "80fcf66c-6a28-4925-aa71-8dd898ceae77",
   "metadata": {},
   "outputs": [
    {
     "data": {
      "image/png": "[encoded data removed]",
      "text/plain": [
       "<Figure size 432x288 with 1 Axes>"
      ]
     },
     "metadata": {
      "needs_background": "light"
     },
     "output_type": "display_data"
    }
   ],
   "source": [
    "import numpy as np\n",
    "\n",
    "cs = {\"p0125\":\"black\",\"p025\": \"blue\",\"p05\":\"purple\"}\n",
    "for k in [\"p0125\",\"p025\",\"p05\"]:\n",
    "    x = list()\n",
    "    y = list()\n",
    "    for i in os[k]:\n",
    "        \n",
    "        if i in e_tmps[f\"{k}\"]:\n",
    "            plt.scatter([os[k][i][\"num_synapses\"]],[os[k][i][\"diff_Hz\"]], c=cs[k],alpha=0.4)\n",
    "            x.append(os[k][i][\"num_synapses\"])\n",
    "            y.append(os[k][i][\"diff_Hz\"])\n",
    "            if i in u:\n",
    "                plt.scatter([us[k][i][\"num_synapses\"]],[us[k][i][\"diff_Hz\"]], c=cs[k],alpha=0.4)\n",
    "    a, b = np.polyfit(x, y, 1)\n",
    "\n",
    "    #add points to plot\n",
    "    x = np.array(x)\n",
    "    #add line of best fit to plot\n",
    "    plt.plot(x, a*x+b, c=cs[k])\n",
    "plt.ylabel(\"Number of synapses\")\n",
    "plt.xlabel(\"Change in frequency (Hz)\")\n",
    "plt.savefig(\"Num_synapse_Frequency.svg\")"
   ]
  },
  {
   "cell_type": "code",
   "execution_count": null,
   "id": "1a685bf6-fa04-4e7e-8d1a-a39de785787f",
   "metadata": {},
   "outputs": [],
   "source": []
  }
 ],
 "metadata": {
  "kernelspec": {
   "display_name": "Python 3 (ipykernel)",
   "language": "python",
   "name": "python3"
  },
  "language_info": {
   "codemirror_mode": {
    "name": "ipython",
    "version": 3
   },
   "file_extension": ".py",
   "mimetype": "text/x-python",
   "name": "python",
   "nbconvert_exporter": "python",
   "pygments_lexer": "ipython3",
   "version": "3.8.11"
  }
 },
 "nbformat": 4,
 "nbformat_minor": 5
}
