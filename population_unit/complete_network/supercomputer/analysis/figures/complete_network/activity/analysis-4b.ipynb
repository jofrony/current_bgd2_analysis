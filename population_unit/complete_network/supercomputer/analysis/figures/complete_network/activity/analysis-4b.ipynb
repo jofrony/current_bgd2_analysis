{
 "cells": [
  {
   "cell_type": "code",
   "execution_count": 1,
   "id": "fd579780-c60a-46cb-bf37-ad1ace10cfe1",
   "metadata": {},
   "outputs": [],
   "source": [
    "import sys\n",
    "import os\n",
    "sys.path.append(os.environ[\"CODE_REPOSITORY\"])\n",
    "from code_repository.hotones.thetools import *\n",
    "import matplotlib.pyplot as plt\n",
    "from snudda.utils.load import SnuddaLoad"
   ]
  },
  {
   "cell_type": "code",
   "execution_count": 2,
   "id": "a796ea6c-3ee0-439d-b9c6-f3c8b51ab336",
   "metadata": {},
   "outputs": [],
   "source": [
    "external = os.path.join(\"/media\",\"jofrony\", \"2TB\", \"dardel\",\"current_bgd2\",\"population_unit\", \"complete_network\", \"supercomputer\", \"networks\")"
   ]
  },
  {
   "cell_type": "code",
   "execution_count": 3,
   "id": "b418f7c8-3ea6-443a-bf05-f15eff4107a5",
   "metadata": {},
   "outputs": [],
   "source": [
    "folder = \"connectivity\""
   ]
  },
  {
   "cell_type": "code",
   "execution_count": 4,
   "id": "8a168b8c-95f0-4978-ad39-c9c3984da6d7",
   "metadata": {},
   "outputs": [],
   "source": [
    "e = Experiments()\n",
    "e.add_experiment(name=\"p0125\",\n",
    "                 color=\"black\",\n",
    "                 label=\"p=0.125\",\n",
    "                 network=\"network-synapses.hdf5\",\n",
    "                 path=os.path.join(external, \"pdc_network_2022-08-31-p0125\"),\n",
    "                 output=\"network_output_network-synapses_cell_ids_current_injection_dardel_2022-09-21-13-44-09_p1.hdf5\")\n",
    "e.add_experiment(name=\"p025\",\n",
    "                 color=\"blue\",\n",
    "                 label=\"p=0.25\",\n",
    "                 network=\"network-synapses.hdf5\",\n",
    "                 path=os.path.join(external, \"pdc_network_2022-08-31-p025\"),\n",
    "                 output=\"network_output_network-synapses_cell_ids_current_injection_dardel_2022-09-21-13-45-19_p1.hdf5\")\n",
    "e.add_experiment(name=\"p05\",\n",
    "                 color=\"green\",\n",
    "                 label=\"p=0.5\",\n",
    "                 network=\"network-synapses.hdf5\",\n",
    "                 path=os.path.join(external, \"pdc_network_2022-08-31-p05\"),\n",
    "                 output=\"network_output_network-synapses_cell_ids_current_injection_dardel_2022-09-21-13-46-27_p1.hdf5\")"
   ]
  },
  {
   "cell_type": "code",
   "execution_count": 5,
   "id": "cfc5d465-f4ae-43b1-b652-e4787a389b32",
   "metadata": {},
   "outputs": [
    {
     "name": "stdout",
     "output_type": "stream",
     "text": [
      "Loading 40000 neurons with 35040256 synapses and 2531 gap junctions\n",
      "Loading /media/jofrony/2TB/dardel/current_bgd2/population_unit/complete_network/supercomputer/networks/pdc_network_2022-08-31-p0125/simulation/network_output_network-synapses_cell_ids_current_injection_dardel_2022-09-21-13-44-09_p1.hdf5\n",
      "Loading 40000 neurons with 35040256 synapses and 2531 gap junctions\n",
      "Loading /media/jofrony/2TB/dardel/current_bgd2/population_unit/complete_network/supercomputer/networks/pdc_network_2022-08-31-p025/simulation/network_output_network-synapses_cell_ids_current_injection_dardel_2022-09-21-13-45-19_p1.hdf5\n",
      "Loading 40000 neurons with 35040256 synapses and 2531 gap junctions\n",
      "Loading /media/jofrony/2TB/dardel/current_bgd2/population_unit/complete_network/supercomputer/networks/pdc_network_2022-08-31-p05/simulation/network_output_network-synapses_cell_ids_current_injection_dardel_2022-09-21-13-46-27_p1.hdf5\n"
     ]
    }
   ],
   "source": [
    "sl = LoadSimulations(experiments=e)\n",
    "sl.load_network_file(load_synapses=True)"
   ]
  },
  {
   "cell_type": "code",
   "execution_count": 6,
   "id": "4479bb0a-db0e-4184-8d5e-8d2feb9b268e",
   "metadata": {},
   "outputs": [],
   "source": [
    "colors = [\"grey\",\"green\" ,\"blue\"]"
   ]
  },
  {
   "cell_type": "code",
   "execution_count": 7,
   "id": "4f0fa84e-8910-4663-a820-aedc0e77f60c",
   "metadata": {},
   "outputs": [
    {
     "name": "stdout",
     "output_type": "stream",
     "text": [
      "CPU times: user 4min 43s, sys: 22.2 s, total: 5min 5s\n",
      "Wall time: 5min 6s\n"
     ]
    }
   ],
   "source": [
    "%%time\n",
    "neuron_type = \"dSPN\"\n",
    "connectivity_dspn = connectivity_analysis(data_obj=sl, pre=[\"dSPN\", \"iSPN\", \"FS\"], post=neuron_type, max_post=300)"
   ]
  },
  {
   "cell_type": "code",
   "execution_count": 18,
   "id": "97925ed0-6eed-4291-b067-506a88fd0686",
   "metadata": {},
   "outputs": [],
   "source": [
    "tmp = [3236,\n",
    " 3368,\n",
    " 3487,\n",
    " 4155,\n",
    " 4156,\n",
    " 4395,\n",
    " 5259,\n",
    " 5672,\n",
    " 5674,\n",
    " 7300,\n",
    " 7576,\n",
    " 8319,\n",
    " 9121,\n",
    " 9618,\n",
    " 11679,\n",
    " 11723,\n",
    " 13166,\n",
    " 13554,\n",
    " 15201,\n",
    " 15433,\n",
    " 15660,\n",
    " 15905,\n",
    " 17966,\n",
    " 18595,\n",
    " 18596,\n",
    " 18913,\n",
    " 18972,\n",
    " 27606,\n",
    " 30862,\n",
    " 32120,\n",
    " 33637,\n",
    " 33681,\n",
    " 35413,\n",
    " 36603,\n",
    " 39127]"
   ]
  },
  {
   "cell_type": "code",
   "execution_count": 19,
   "id": "cb388dda-b0ec-41eb-9e48-654cf1d1e0b6",
   "metadata": {},
   "outputs": [
    {
     "name": "stdout",
     "output_type": "stream",
     "text": [
      "3368\n"
     ]
    }
   ],
   "source": [
    "for t in tmp:\n",
    "    if t in connectivity_dspn['p05'].keys():\n",
    "        print(t)"
   ]
  },
  {
   "cell_type": "code",
   "execution_count": 23,
   "id": "6453e5e6-f19a-4aec-ac5d-9d9bd883006f",
   "metadata": {},
   "outputs": [
    {
     "data": {
      "text/plain": [
       "679"
      ]
     },
     "execution_count": 23,
     "metadata": {},
     "output_type": "execute_result"
    }
   ],
   "source": [
    "sum([*connectivity_dspn['p05'][3368].values()])"
   ]
  },
  {
   "cell_type": "code",
   "execution_count": 8,
   "id": "fccd1fc4-d01c-43c7-85a4-39d2f02a1c4e",
   "metadata": {},
   "outputs": [
    {
     "name": "stdout",
     "output_type": "stream",
     "text": [
      "CPU times: user 4min 35s, sys: 38.1 s, total: 5min 13s\n",
      "Wall time: 5min 13s\n"
     ]
    }
   ],
   "source": [
    "%%time\n",
    "neuron_type = \"iSPN\"\n",
    "connectivity_ispn = connectivity_analysis(data_obj=sl, pre=[\"dSPN\", \"iSPN\", \"FS\"], post=neuron_type, max_post=300)"
   ]
  },
  {
   "cell_type": "code",
   "execution_count": 9,
   "id": "94af2616-4c58-4c62-8f95-2cbbf86b587a",
   "metadata": {},
   "outputs": [],
   "source": [
    "connectivity = {i : dict() for i in [*e.experiments.keys()]}"
   ]
  },
  {
   "cell_type": "code",
   "execution_count": 10,
   "id": "655e08cd-a704-46ee-b517-026e8f970f0d",
   "metadata": {},
   "outputs": [],
   "source": [
    "for v, k in connectivity_dspn.items():\n",
    "    connectivity[v].update(k)"
   ]
  },
  {
   "cell_type": "code",
   "execution_count": 11,
   "id": "6c6de7b1-5f66-484d-8f17-3b6497a4b039",
   "metadata": {},
   "outputs": [],
   "source": [
    "for v, k in connectivity_ispn.items():\n",
    "    connectivity[v].update(k)"
   ]
  },
  {
   "cell_type": "code",
   "execution_count": 12,
   "id": "ee102207-89bb-494a-abb6-dc03d2ef6174",
   "metadata": {},
   "outputs": [],
   "source": [
    "customize = {plt.ylim:(0,140)}"
   ]
  },
  {
   "cell_type": "code",
   "execution_count": 13,
   "id": "ad458b41-aa27-426d-aee3-abf9020c8f4a",
   "metadata": {},
   "outputs": [],
   "source": [
    "name = \"synapses_incoming_all_SPN\""
   ]
  },
  {
   "cell_type": "code",
   "execution_count": null,
   "id": "0b4f4b84-d957-47d2-820b-6615ca561565",
   "metadata": {},
   "outputs": [],
   "source": []
  },
  {
   "cell_type": "code",
   "execution_count": 21,
   "id": "196f15fd-7cb3-4a75-9925-e4ff9034865d",
   "metadata": {},
   "outputs": [],
   "source": [
    "customize = {plt.ylim:(0,400)}"
   ]
  },
  {
   "cell_type": "code",
   "execution_count": 23,
   "id": "e5d7eb85-ac5d-43c6-8743-a30739270dcb",
   "metadata": {},
   "outputs": [
    {
     "data": {
      "image/png": "[encoded data removed]",
      "text/plain": [
       "<Figure size 576x432 with 1 Axes>"
      ]
     },
     "metadata": {
      "needs_background": "light"
     },
     "output_type": "display_data"
    }
   ],
   "source": [
    "plot_synapses_violin(connectivity, experiment_names=e, colors=colors, name=name, folder=folder, save=True, customize=customize)"
   ]
  },
  {
   "cell_type": "code",
   "execution_count": null,
   "id": "ef7c3ef7-bac5-4527-9fcd-6e8c027dff98",
   "metadata": {},
   "outputs": [],
   "source": []
  }
 ],
 "metadata": {
  "kernelspec": {
   "display_name": "Python 3",
   "language": "python",
   "name": "python3"
  },
  "language_info": {
   "codemirror_mode": {
    "name": "ipython",
    "version": 3
   },
   "file_extension": ".py",
   "mimetype": "text/x-python",
   "name": "python",
   "nbconvert_exporter": "python",
   "pygments_lexer": "ipython3",
   "version": "3.7.10"
  }
 },
 "nbformat": 4,
 "nbformat_minor": 5
}
