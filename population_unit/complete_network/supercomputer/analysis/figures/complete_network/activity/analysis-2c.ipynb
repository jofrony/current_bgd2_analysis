{
 "cells": [
  {
   "cell_type": "code",
   "execution_count": 1,
   "id": "4e53ff28-5f42-40b8-9582-8ca3739ef9b1",
   "metadata": {},
   "outputs": [],
   "source": [
    "import sys\n",
    "import os\n",
    "sys.path.append(os.environ[\"CODE_REPOSITORY\"])\n",
    "from code_repository.hotones.thetools import *\n",
    "from snudda.utils.load import SnuddaLoad"
   ]
  },
  {
   "cell_type": "code",
   "execution_count": 2,
   "id": "82682906-be53-4ddf-8941-ec089f6b6b3c",
   "metadata": {},
   "outputs": [],
   "source": [
    "external = os.path.join(\"/media\",\"jofrony\", \"2TB\", \"dardel\",\"current_bgd2\",\"population_unit\", \"complete_network\", \"supercomputer\", \"networks\")"
   ]
  },
  {
   "cell_type": "code",
   "execution_count": 3,
   "id": "17dcdd29-6ee1-4827-b26e-8779e67e6138",
   "metadata": {},
   "outputs": [],
   "source": [
    "folder = \"ratio\""
   ]
  },
  {
   "cell_type": "code",
   "execution_count": 4,
   "id": "0d891f6e-e687-40a1-86db-ae5d3872a0bc",
   "metadata": {},
   "outputs": [],
   "source": [
    "e = Experiments()\n",
    "e.add_experiment(name=\"p1\",\n",
    "                 color=\"black\",\n",
    "                 label=\"P1 only\",\n",
    "                 network=\"network-synapses.hdf5\",\n",
    "                 path=os.path.join(external, \"pdc_network_2022-08-31-p0125\"),\n",
    "                 output=\"network_output_network-synapses_cell_ids_current_injection_dardel_2022-09-21-13-44-09_p1.hdf5\")\n",
    "e.add_experiment(name=\"p1_p2\",\n",
    "                 color=\"red\",\n",
    "                 label=\"P1+p2\",\n",
    "                 network=\"network-synapses.hdf5\",\n",
    "                 path=os.path.join(external, \"pdc_network_2022-08-31-p0125\"),\n",
    "                 output=\"network_output_network-synapses_cell_ids_current_injection_dardel_2022-09-21-13-44-12_p1_p2.hdf5\")\n",
    "\n",
    "\n",
    "   "
   ]
  },
  {
   "cell_type": "code",
   "execution_count": 5,
   "id": "101d6281-3d54-47ab-8b36-e3075a5afc94",
   "metadata": {},
   "outputs": [
    {
     "name": "stdout",
     "output_type": "stream",
     "text": [
      "Loading /media/jofrony/2TB/dardel/current_bgd2/population_unit/complete_network/supercomputer/networks/pdc_network_2022-08-31-p0125/simulation/network_output_network-synapses_cell_ids_current_injection_dardel_2022-09-21-13-44-09_p1.hdf5\n",
      "Loading /media/jofrony/2TB/dardel/current_bgd2/population_unit/complete_network/supercomputer/networks/pdc_network_2022-08-31-p0125/simulation/network_output_network-synapses_cell_ids_current_injection_dardel_2022-09-21-13-44-12_p1_p2.hdf5\n",
      "Loading 40000 neurons with 35040256 synapses and 2531 gap junctions\n",
      "Loading 40000 neurons with 35040256 synapses and 2531 gap junctions\n"
     ]
    }
   ],
   "source": [
    "sl = LoadSimulations(experiments=e)\n",
    "sl.load_network_file(load_synapses=False)"
   ]
  },
  {
   "cell_type": "code",
   "execution_count": 6,
   "id": "6ef5147e-9b82-4c1b-ab23-80aa23b7b190",
   "metadata": {},
   "outputs": [
    {
     "name": "stdout",
     "output_type": "stream",
     "text": [
      " Identifying spiking neurons within the network \n",
      "Analysing p1\n",
      "Analysing p1_p2\n",
      "CPU times: user 32 s, sys: 1.53 s, total: 33.6 s\n",
      "Wall time: 1min 16s\n"
     ]
    }
   ],
   "source": [
    "%%time\n",
    "neuron_type = \"dSPN\"\n",
    "specific_trace_ids = sl.get_population_units(neuron_type=neuron_type, population_unit=1)\n",
    "spiking_analysis_dict = spiking_analysis(data_obj=sl, neuron_type=neuron_type, trace_ids=specific_trace_ids)\n"
   ]
  },
  {
   "cell_type": "code",
   "execution_count": 7,
   "id": "609c9450-abf0-4997-b2ba-bfe24c5b6b52",
   "metadata": {},
   "outputs": [],
   "source": [
    "p = calculate_ratio(dictionary=spiking_analysis_dict)\n",
    "n = normalized_prp(dictionary=p, normalized=\"p1\")"
   ]
  },
  {
   "cell_type": "code",
   "execution_count": 8,
   "id": "37ace1a1-9e95-40bd-bb9e-2a1932f205ff",
   "metadata": {},
   "outputs": [
    {
     "data": {
      "image/png": "[encoded data removed]",
      "text/plain": [
       "<Figure size 576x288 with 1 Axes>"
      ]
     },
     "metadata": {
      "needs_background": "light"
     },
     "output_type": "display_data"
    }
   ],
   "source": [
    "plot_ratio_normalized_spiking(ratio_dict=n, experiment_names=e, fig_name=neuron_type, folder=folder, save=True, max_ratio=1.1)"
   ]
  },
  {
   "cell_type": "code",
   "execution_count": 9,
   "id": "25f6680f-6dfc-4c17-92f6-fba6edccbd5f",
   "metadata": {},
   "outputs": [
    {
     "name": "stdout",
     "output_type": "stream",
     "text": [
      " Identifying spiking neurons within the network \n",
      "Analysing p1\n",
      "Analysing p1_p2\n",
      "CPU times: user 32.1 s, sys: 1.56 s, total: 33.6 s\n",
      "Wall time: 1min 12s\n"
     ]
    }
   ],
   "source": [
    "%%time\n",
    "neuron_type = \"iSPN\"\n",
    "specific_trace_ids = sl.get_population_units(neuron_type=neuron_type, population_unit=1)\n",
    "spiking_analysis_dict = spiking_analysis(data_obj=sl, neuron_type=neuron_type, trace_ids=specific_trace_ids)\n"
   ]
  },
  {
   "cell_type": "code",
   "execution_count": 10,
   "id": "b1cd3b07-3aa8-472b-9d24-cabdacc727c1",
   "metadata": {},
   "outputs": [],
   "source": [
    "p = calculate_ratio(dictionary=spiking_analysis_dict)\n",
    "n = normalized_prp(dictionary=p, normalized=\"p1\")"
   ]
  },
  {
   "cell_type": "code",
   "execution_count": 11,
   "id": "0c61c967-d0b5-454c-9eb8-37cf5b49ddaf",
   "metadata": {},
   "outputs": [
    {
     "data": {
      "image/png": "[encoded data removed]",
      "text/plain": [
       "<Figure size 576x288 with 1 Axes>"
      ]
     },
     "metadata": {
      "needs_background": "light"
     },
     "output_type": "display_data"
    }
   ],
   "source": [
    "plot_ratio_normalized_spiking(ratio_dict=n, experiment_names=e, fig_name=neuron_type, folder=folder, save=True, max_ratio=1.1)"
   ]
  },
  {
   "cell_type": "code",
   "execution_count": null,
   "id": "1cfdeac4-c7cb-4612-984b-3fbc7f3321ed",
   "metadata": {},
   "outputs": [],
   "source": []
  }
 ],
 "metadata": {
  "kernelspec": {
   "display_name": "Python 3",
   "language": "python",
   "name": "python3"
  },
  "language_info": {
   "codemirror_mode": {
    "name": "ipython",
    "version": 3
   },
   "file_extension": ".py",
   "mimetype": "text/x-python",
   "name": "python",
   "nbconvert_exporter": "python",
   "pygments_lexer": "ipython3",
   "version": "3.7.10"
  }
 },
 "nbformat": 4,
 "nbformat_minor": 5
}
