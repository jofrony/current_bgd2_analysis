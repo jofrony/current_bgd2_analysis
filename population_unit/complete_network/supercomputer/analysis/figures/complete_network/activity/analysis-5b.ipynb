{
 "cells": [
  {
   "cell_type": "code",
   "execution_count": 1,
   "id": "26f9890a-e716-4fe8-9976-c06e067184c6",
   "metadata": {},
   "outputs": [],
   "source": [
    "import sys\n",
    "import os\n",
    "sys.path.append(os.environ[\"CODE_REPOSITORY\"])\n",
    "from code_repository.hotones.thetools import *\n",
    "import matplotlib.pyplot as plt\n",
    "from snudda.utils.load import SnuddaLoad"
   ]
  },
  {
   "cell_type": "code",
   "execution_count": 2,
   "id": "da27fe6e-a69c-4854-8d2a-3e38bd30435b",
   "metadata": {},
   "outputs": [],
   "source": [
    "external = os.path.join(\"/media\",\"jofrony\",\"2TB\",\"dardel\",\"current_bgd2\",\"population_unit\", \"complete_network\", \"supercomputer\", \"networks\")"
   ]
  },
  {
   "cell_type": "code",
   "execution_count": 3,
   "id": "6fa9d45b-b2b2-484c-8a5e-ab4c297d4b8d",
   "metadata": {},
   "outputs": [],
   "source": [
    "folder = \"frequency\""
   ]
  },
  {
   "cell_type": "code",
   "execution_count": 4,
   "id": "b0660727-0acf-4b33-be60-95e199b835c1",
   "metadata": {},
   "outputs": [],
   "source": [
    "e = Experiments()\n",
    "e.add_experiment(name=\"p0125_p1\",\n",
    "                 color=\"black\",\n",
    "                 label=\"p=0.125\",\n",
    "                 network=\"network-synapses.hdf5\",\n",
    "                 path=os.path.join(external, \"pdc_network_2022-08-31-p0125\"),\n",
    "                 output=\"network_output_network-synapses_cell_ids_current_injection_dardel_2022-09-21-13-44-09_p1.hdf5\")\n",
    "e.add_experiment(name=\"p0125_p1_p2\",\n",
    "                 color=\"black\",\n",
    "                 label=\"p=0.125\",\n",
    "                 network=\"network-synapses.hdf5\",\n",
    "                 path=os.path.join(external, \"pdc_network_2022-08-31-p0125\"),\n",
    "                 output=\"network_output_network-synapses_cell_ids_current_injection_dardel_2022-09-21-13-44-12_p1_p2.hdf5\")\n",
    "e.add_experiment(name=\"p025_p1\",\n",
    "                 color=\"blue\",\n",
    "                 label=\"p=0.25\",\n",
    "                 network=\"network-synapses.hdf5\",\n",
    "                 path=os.path.join(external, \"pdc_network_2022-08-31-p025\"),\n",
    "                 output=\"network_output_network-synapses_cell_ids_current_injection_dardel_2022-09-21-13-45-19_p1.hdf5\")\n",
    "e.add_experiment(name=\"p025_p1_p2\",\n",
    "                 color=\"blue\",\n",
    "                 label=\"p=0.25\",\n",
    "                 network=\"network-synapses.hdf5\",\n",
    "                 path=os.path.join(external, \"pdc_network_2022-08-31-p025\"),\n",
    "                 output=\"network_output_network-synapses_cell_ids_current_injection_dardel_2022-09-21-13-45-26_p1_p2.hdf5\")\n",
    "e.add_experiment(name=\"p05_p1\",\n",
    "                 color=\"green\",\n",
    "                 label=\"p=0.5\",\n",
    "                 network=\"network-synapses.hdf5\",\n",
    "                 path=os.path.join(external, \"pdc_network_2022-08-31-p05\"),\n",
    "                 output=\"network_output_network-synapses_cell_ids_current_injection_dardel_2022-09-21-13-46-27_p1.hdf5\")\n",
    "e.add_experiment(name=\"p05_p1_p2\",\n",
    "                 color=\"green\",\n",
    "                 label=\"p=0.5\",\n",
    "                 network=\"network-synapses.hdf5\",\n",
    "                 path=os.path.join(external, \"pdc_network_2022-08-31-p05\"),\n",
    "                 output=\"network_output_network-synapses_cell_ids_current_injection_dardel_2022-09-21-13-46-40_p1_p2.hdf5\")"
   ]
  },
  {
   "cell_type": "code",
   "execution_count": 5,
   "id": "29d8b9e0-fa1c-4486-a5da-1c0b09788aa6",
   "metadata": {},
   "outputs": [
    {
     "name": "stdout",
     "output_type": "stream",
     "text": [
      "Loading 40000 neurons with 35040256 synapses and 2531 gap junctions\n",
      "Loading /media/jofrony/2TB/dardel/current_bgd2/population_unit/complete_network/supercomputer/networks/pdc_network_2022-08-31-p0125/simulation/network_output_network-synapses_cell_ids_current_injection_dardel_2022-09-21-13-44-09_p1.hdf5\n",
      "Loading 40000 neurons with 35040256 synapses and 2531 gap junctions\n",
      "Loading /media/jofrony/2TB/dardel/current_bgd2/population_unit/complete_network/supercomputer/networks/pdc_network_2022-08-31-p0125/simulation/network_output_network-synapses_cell_ids_current_injection_dardel_2022-09-21-13-44-12_p1_p2.hdf5\n",
      "Loading 40000 neurons with 35040256 synapses and 2531 gap junctions\n",
      "Loading /media/jofrony/2TB/dardel/current_bgd2/population_unit/complete_network/supercomputer/networks/pdc_network_2022-08-31-p025/simulation/network_output_network-synapses_cell_ids_current_injection_dardel_2022-09-21-13-45-19_p1.hdf5\n",
      "Loading 40000 neurons with 35040256 synapses and 2531 gap junctions\n",
      "Loading /media/jofrony/2TB/dardel/current_bgd2/population_unit/complete_network/supercomputer/networks/pdc_network_2022-08-31-p025/simulation/network_output_network-synapses_cell_ids_current_injection_dardel_2022-09-21-13-45-26_p1_p2.hdf5\n",
      "Loading 40000 neurons with 35040256 synapses and 2531 gap junctions\n",
      "Loading /media/jofrony/2TB/dardel/current_bgd2/population_unit/complete_network/supercomputer/networks/pdc_network_2022-08-31-p05/simulation/network_output_network-synapses_cell_ids_current_injection_dardel_2022-09-21-13-46-27_p1.hdf5\n",
      "Loading 40000 neurons with 35040256 synapses and 2531 gap junctions\n",
      "Loading /media/jofrony/2TB/dardel/current_bgd2/population_unit/complete_network/supercomputer/networks/pdc_network_2022-08-31-p05/simulation/network_output_network-synapses_cell_ids_current_injection_dardel_2022-09-21-13-46-40_p1_p2.hdf5\n"
     ]
    }
   ],
   "source": [
    "sl = LoadSimulations(experiments=e)\n",
    "sl.load_network_file(load_synapses=False)"
   ]
  },
  {
   "cell_type": "code",
   "execution_count": 6,
   "id": "282fdf5e-e646-495c-bb9c-8701247a60ca",
   "metadata": {},
   "outputs": [
    {
     "name": "stdout",
     "output_type": "stream",
     "text": [
      "CPU times: user 1min 28s, sys: 9.43 s, total: 1min 38s\n",
      "Wall time: 15min 1s\n"
     ]
    }
   ],
   "source": [
    "%%time\n",
    "neuron_type = \"dSPN\"\n",
    "specific_trace_ids = sl.get_population_units(neuron_type=neuron_type, population_unit=1)\n",
    "frequency_analysis_dict_dspn = frequency_analysis(data_obj=sl, neuron_type=neuron_type, trace_ids=specific_trace_ids, parameters={\"start\": 0.5, \"end\": 2.5})\n"
   ]
  },
  {
   "cell_type": "code",
   "execution_count": 7,
   "id": "3dd4a4d8-89cc-4863-9ada-c5c8da1e5644",
   "metadata": {},
   "outputs": [
    {
     "name": "stdout",
     "output_type": "stream",
     "text": [
      "CPU times: user 1min 29s, sys: 10 s, total: 1min 39s\n",
      "Wall time: 9min 33s\n"
     ]
    }
   ],
   "source": [
    "%%time\n",
    "neuron_type = \"iSPN\"\n",
    "specific_trace_ids = sl.get_population_units(neuron_type=neuron_type, population_unit=1)\n",
    "frequency_analysis_dict_ispn = frequency_analysis(data_obj=sl, neuron_type=neuron_type, trace_ids=specific_trace_ids, parameters={\"start\": 0.5, \"end\": 2.5})\n"
   ]
  },
  {
   "cell_type": "code",
   "execution_count": 8,
   "id": "b9521584-7f3c-4263-b2f5-de94daedb775",
   "metadata": {},
   "outputs": [],
   "source": [
    "frequency_analysis_dict = {i : dict() for i in [*e.experiments.keys()]}"
   ]
  },
  {
   "cell_type": "code",
   "execution_count": 9,
   "id": "6cabdaf1-84f1-4569-b0f0-d3d70e9e9eb2",
   "metadata": {},
   "outputs": [],
   "source": [
    "for v, k in frequency_analysis_dict_dspn.items():\n",
    "    frequency_analysis_dict[v].update(k)"
   ]
  },
  {
   "cell_type": "code",
   "execution_count": 10,
   "id": "6c3365f8-d73c-4880-8bcf-46b741629e4d",
   "metadata": {},
   "outputs": [],
   "source": [
    "for v, k in frequency_analysis_dict_ispn.items():\n",
    "    frequency_analysis_dict[v].update(k)"
   ]
  },
  {
   "cell_type": "code",
   "execution_count": 11,
   "id": "0a518a3f-e5b5-49a2-a6f8-8114dfc4a1c7",
   "metadata": {},
   "outputs": [],
   "source": [
    "colors = {\"p0125_p1\": \"black\",\n",
    "         \"p025_p1\": \"green\",\n",
    "         \"p05_p1\": \"blue\",\n",
    "         \"p0125_p1_p2\": \"black\",\n",
    "         \"p025_p1_p2\": \"green\" ,\n",
    "         \"p05_p1_p2\": \"blue\"}\n",
    "bins=10"
   ]
  },
  {
   "cell_type": "code",
   "execution_count": 12,
   "id": "4119a063-3bfd-4c29-8c68-6b4f519134c1",
   "metadata": {},
   "outputs": [
    {
     "data": {
      "image/png": "[encoded data removed]",
      "text/plain": [
       "<Figure size 432x288 with 1 Axes>"
      ]
     },
     "metadata": {
      "needs_background": "light"
     },
     "output_type": "display_data"
    }
   ],
   "source": [
    "fig_name = f\"{neuron_type}_above_0Hz\"\n",
    "plot_histogram_frequency(frequency_dict=frequency_analysis_dict, experiment_names=e,\n",
    "                         fig_name=fig_name, \n",
    "                         colors=colors,bins=bins,\n",
    "                         parameters={plt.xlim: (0,40)},\n",
    "                         folder=folder, save=True)"
   ]
  },
  {
   "cell_type": "code",
   "execution_count": 13,
   "id": "d188142e-8478-4efb-9968-0fc47c456194",
   "metadata": {},
   "outputs": [
    {
     "data": {
      "image/png": "[encoded data removed]",
      "text/plain": [
       "<Figure size 432x288 with 1 Axes>"
      ]
     },
     "metadata": {
      "needs_background": "light"
     },
     "output_type": "display_data"
    }
   ],
   "source": [
    "fig_name = f\"{neuron_type}_above_0Hz\"\n",
    "plot_histogram_frequency_step(frequency_dict=frequency_analysis_dict, experiment_names=e,\n",
    "                         fig_name=fig_name, \n",
    "                         colors=colors,bins=bins,\n",
    "                         parameters={plt.xlim: (0,40)},\n",
    "                         folder=folder, save=True)"
   ]
  },
  {
   "cell_type": "code",
   "execution_count": 14,
   "id": "9d13af4f-31d3-4809-ac04-d33a4a4433e6",
   "metadata": {},
   "outputs": [],
   "source": [
    "mean_frequency_dict = mean_frequency(dictionary=frequency_analysis_dict, parameters={\"interval\": [0,60]})"
   ]
  },
  {
   "cell_type": "code",
   "execution_count": 15,
   "id": "d0101eb4-f57d-48a5-b343-fb6bcbd57b51",
   "metadata": {},
   "outputs": [
    {
     "data": {
      "image/png": "[encoded data removed]",
      "text/plain": [
       "<Figure size 432x288 with 1 Axes>"
      ]
     },
     "metadata": {
      "needs_background": "light"
     },
     "output_type": "display_data"
    }
   ],
   "source": [
    "plot_mean_frequency(mean_frequency_dict = mean_frequency_dict, folder=folder,colors=colors, experiment_names=e)"
   ]
  },
  {
   "cell_type": "code",
   "execution_count": 16,
   "id": "d75226e0-c485-4f6a-9fab-d577af764e21",
   "metadata": {},
   "outputs": [],
   "source": [
    "parameters = dict(pairs=list())\n",
    "for p in [\"0125\",\"025\",\"05\"]:\n",
    "    parameters[\"pairs\"].append([f\"p{p}_p1\", f\"p{p}_p1_p2\", f\"p{p}\"])\n",
    "change = change_mean_frequency(dictionary=mean_frequency_dict, parameters=parameters)"
   ]
  },
  {
   "cell_type": "code",
   "execution_count": 17,
   "id": "8d61f153-9afa-44a3-84fa-91560b497c66",
   "metadata": {},
   "outputs": [],
   "source": [
    "colors = {\"p0125\": \"black\",\n",
    "         \"p025\": \"green\" ,\n",
    "         \"p05\": \"blue\"}"
   ]
  },
  {
   "cell_type": "code",
   "execution_count": 18,
   "id": "77e04c4b-679b-4017-8ccb-535c2e67c6aa",
   "metadata": {},
   "outputs": [],
   "source": [
    "customize = {plt.ylim:(-2.5,0)}"
   ]
  },
  {
   "cell_type": "code",
   "execution_count": 19,
   "id": "ec912102-6927-4ed9-8f44-d17fc5a78afc",
   "metadata": {},
   "outputs": [],
   "source": [
    "fig_name = \"activity_SPN\""
   ]
  },
  {
   "cell_type": "code",
   "execution_count": 20,
   "id": "8beb1320-03db-486f-9197-a3c7c0c8ff9c",
   "metadata": {},
   "outputs": [
    {
     "data": {
      "image/png": "[encoded data removed]",
      "text/plain": [
       "<Figure size 432x288 with 1 Axes>"
      ]
     },
     "metadata": {
      "needs_background": "light"
     },
     "output_type": "display_data"
    }
   ],
   "source": [
    "plot_change_mean_frequency(change_mean_frequency_dict = change, folder=folder,colors=colors, experiment_names=[\"p0125\", \"p025\", \"p05\"],fig_name=fig_name, save=True, customize=customize)"
   ]
  },
  {
   "cell_type": "code",
   "execution_count": null,
   "id": "469eab37-1891-4b96-a6ea-4c1026c0f250",
   "metadata": {},
   "outputs": [],
   "source": []
  },
  {
   "cell_type": "code",
   "execution_count": 21,
   "id": "8a7a3faf-c860-49df-bd80-3e6b69f2910f",
   "metadata": {},
   "outputs": [
    {
     "ename": "KeyError",
     "evalue": "'0_p1'",
     "output_type": "error",
     "traceback": [
      "\u001b[0;31m---------------------------------------------------------------------------\u001b[0m",
      "\u001b[0;31mKeyError\u001b[0m                                  Traceback (most recent call last)",
      "\u001b[0;32m<ipython-input-21-7e57b86132e0>\u001b[0m in \u001b[0;36m<module>\u001b[0;34m\u001b[0m\n\u001b[1;32m      5\u001b[0m \u001b[0;32mfor\u001b[0m \u001b[0mdistance\u001b[0m \u001b[0;32min\u001b[0m \u001b[0;34m[\u001b[0m\u001b[0;36m0\u001b[0m\u001b[0;34m,\u001b[0m\u001b[0;36m45\u001b[0m\u001b[0;34m,\u001b[0m\u001b[0;36m90\u001b[0m\u001b[0;34m]\u001b[0m\u001b[0;34m:\u001b[0m\u001b[0;34m\u001b[0m\u001b[0;34m\u001b[0m\u001b[0m\n\u001b[1;32m      6\u001b[0m     \u001b[0mtmps\u001b[0m\u001b[0;34m.\u001b[0m\u001b[0mupdate\u001b[0m\u001b[0;34m(\u001b[0m\u001b[0;34m{\u001b[0m\u001b[0mdistance\u001b[0m\u001b[0;34m:\u001b[0m \u001b[0mlist\u001b[0m\u001b[0;34m(\u001b[0m\u001b[0;34m)\u001b[0m\u001b[0;34m}\u001b[0m\u001b[0;34m)\u001b[0m\u001b[0;34m\u001b[0m\u001b[0;34m\u001b[0m\u001b[0m\n\u001b[0;32m----> 7\u001b[0;31m     \u001b[0;32mfor\u001b[0m \u001b[0mids\u001b[0m \u001b[0;32min\u001b[0m \u001b[0mfrequency_analysis_dict\u001b[0m\u001b[0;34m[\u001b[0m\u001b[0;34mf\"{distance}_p1\"\u001b[0m\u001b[0;34m]\u001b[0m\u001b[0;34m:\u001b[0m\u001b[0;34m\u001b[0m\u001b[0;34m\u001b[0m\u001b[0m\n\u001b[0m\u001b[1;32m      8\u001b[0m         \u001b[0md\u001b[0m\u001b[0;34m[\u001b[0m\u001b[0;34m\"distance\"\u001b[0m\u001b[0;34m]\u001b[0m\u001b[0;34m.\u001b[0m\u001b[0mappend\u001b[0m\u001b[0;34m(\u001b[0m\u001b[0mdistance\u001b[0m\u001b[0;34m)\u001b[0m\u001b[0;34m\u001b[0m\u001b[0;34m\u001b[0m\u001b[0m\n\u001b[1;32m      9\u001b[0m         \u001b[0mdiff\u001b[0m \u001b[0;34m=\u001b[0m \u001b[0mfrequency_analysis_dict\u001b[0m\u001b[0;34m[\u001b[0m\u001b[0;34mf\"{distance}_p1_p2\"\u001b[0m\u001b[0;34m]\u001b[0m\u001b[0;34m[\u001b[0m\u001b[0mids\u001b[0m\u001b[0;34m]\u001b[0m \u001b[0;34m-\u001b[0m \u001b[0mfrequency_analysis_dict\u001b[0m\u001b[0;34m[\u001b[0m\u001b[0;34mf\"{distance}_p1\"\u001b[0m\u001b[0;34m]\u001b[0m\u001b[0;34m[\u001b[0m\u001b[0mids\u001b[0m\u001b[0;34m]\u001b[0m\u001b[0;34m\u001b[0m\u001b[0;34m\u001b[0m\u001b[0m\n",
      "\u001b[0;31mKeyError\u001b[0m: '0_p1'"
     ]
    }
   ],
   "source": [
    "import pandas as pd\n",
    "import seaborn as sns\n",
    "d = {\"distance\": list(), \"response\": list()}\n",
    "tmps = dict()\n",
    "for distance in [\"0125\",\"025\",\"05\"]:\n",
    "    tmps.update({distance: list()})\n",
    "    for ids in frequency_analysis_dict[f\"p{distance}_p1\"]:\n",
    "        d[\"distance\"].append(distance)\n",
    "        diff = frequency_analysis_dict[f\"p{distance}_p1_p2\"][ids] - frequency_analysis_dict[f\"p{distance}_p1\"][ids]\n",
    "        tmps[distance].append(diff)\n",
    "        d[\"response\"].append(diff)\n",
    "df = pd.DataFrame(data=d)"
   ]
  },
  {
   "cell_type": "code",
   "execution_count": null,
   "id": "0b632c6b-39c6-4a02-bc82-eb0ef4121e9c",
   "metadata": {},
   "outputs": [],
   "source": [
    "csfont = {\"fontname\": \"Arial\", 'fontsize': 16}\n",
    "colors = {0: \"black\",\n",
    "         45: \"green\" ,\n",
    "         90: \"blue\"}\n",
    "plt.figure(figsize=(8, 6))\n",
    "sns.violinplot(x=\"distance\", y=\"response\", data=df,palette=colors)\n",
    "sns.stripplot(x=\"distance\", y=\"response\", data=df,\n",
    "              color=\"black\", edgecolor=\"gray\")\n",
    "\n",
    "plt.ylabel(\"Frequency change (Hz)\", **csfont)\n",
    "plt.yticks(fontsize=14)"
   ]
  },
  {
   "cell_type": "code",
   "execution_count": null,
   "id": "4752cee2-0e1a-4fa7-82f4-f2af0cd8c1ae",
   "metadata": {},
   "outputs": [],
   "source": []
  }
 ],
 "metadata": {
  "kernelspec": {
   "display_name": "Python 3",
   "language": "python",
   "name": "python3"
  },
  "language_info": {
   "codemirror_mode": {
    "name": "ipython",
    "version": 3
   },
   "file_extension": ".py",
   "mimetype": "text/x-python",
   "name": "python",
   "nbconvert_exporter": "python",
   "pygments_lexer": "ipython3",
   "version": "3.7.10"
  }
 },
 "nbformat": 4,
 "nbformat_minor": 5
}
