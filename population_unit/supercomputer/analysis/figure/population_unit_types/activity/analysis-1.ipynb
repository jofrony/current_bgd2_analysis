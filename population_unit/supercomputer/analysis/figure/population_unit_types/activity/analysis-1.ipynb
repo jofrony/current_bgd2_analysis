{
 "cells": [
  {
   "cell_type": "code",
   "execution_count": 1,
   "id": "843efbd7-7628-473d-9912-5dee9e264f88",
   "metadata": {},
   "outputs": [],
   "source": [
    "import sys\n",
    "import os\n",
    "sys.path.append(os.environ[\"CODE_REPOSITORY\"])\n",
    "from code_repository.hotones.thetools import *\n",
    "from snudda.utils.load import SnuddaLoad"
   ]
  },
  {
   "cell_type": "code",
   "execution_count": 2,
   "id": "9119415e-7817-4847-ab17-10fc94bc928b",
   "metadata": {},
   "outputs": [],
   "source": [
    "group = \"distance\""
   ]
  },
  {
   "cell_type": "code",
   "execution_count": 3,
   "id": "66a95f13-bb0f-4da2-b346-9701d92a723b",
   "metadata": {},
   "outputs": [],
   "source": [
    "external = os.path.join(\"/media\",\"jofrony\",\"2TB\",\"dardel\",\"current_bgd2\",\"population_unit\", group, \"supercomputer\", \"networks\")"
   ]
  },
  {
   "cell_type": "code",
   "execution_count": 4,
   "id": "970debed-c9c3-40cf-bcb4-f467e253feba",
   "metadata": {},
   "outputs": [],
   "source": [
    "e = Experiments()\n",
    "e.add_experiment(name=\"0_p1\",\n",
    "                 color=\"black\",\n",
    "                 label=\"2500 ms stimulation\",\n",
    "                 network=\"network-synapses.hdf5\",\n",
    "                 path=os.path.join(external, \"pdc_network_2022-08-31\"),\n",
    "                 output=\"network_output_network-synapses_cell_ids_current_injection_dardel_2022-10-01-16-03-12_p1.hdf5\")\n",
    "e.add_experiment(name=\"0_p1_p2\",\n",
    "                 color=\"red\",\n",
    "                 label=\"2500 ms stimulation\",\n",
    "                 network=\"network-synapses.hdf5\",\n",
    "                 path=os.path.join(external, \"pdc_network_2022-08-31\"),\n",
    "                 output=\"network_output_network-synapses_cell_ids_current_injection_dardel_2022-10-01-16-03-32_p1_p2.hdf5\")\n",
    "e.add_experiment(name=\"45_p1\",\n",
    "                 color=\"black\",\n",
    "                 label=\"2500 ms stimulation\",\n",
    "                 network=\"network-synapses.hdf5\",\n",
    "                 path=os.path.join(external, \"pdc_network_2022-08-31-45-3D\"),\n",
    "                 output=\"network_output_network-synapses_cell_ids_current_injection_dardel_2022-09-21-13-30-00_p1.hdf5\") \n",
    "e.add_experiment(name=\"45_p1_p2\",\n",
    "                 color=\"red\",\n",
    "                 label=\"2500 ms stimulation\",\n",
    "                 network=\"network-synapses.hdf5\",\n",
    "                 path=os.path.join(external, \"pdc_network_2022-08-31-45-3D\"),\n",
    "                 output=\"network_output_network-synapses_cell_ids_current_injection_dardel_2022-09-21-13-30-08_p1_p2.hdf5\")  \n",
    "e.add_experiment(name=\"90_p1\",\n",
    "                 color=\"black\",\n",
    "                 label=\"2500 ms stimulation\",\n",
    "                 network=\"network-synapses.hdf5\",\n",
    "                 path=os.path.join(external, \"pdc_network_2022-08-31-90-3D\"),\n",
    "                 output=\"network_output_network-synapses_cell_ids_current_injection_dardel_2022-09-21-13-31-13_p1.hdf5\")\n",
    "\n",
    "e.add_experiment(name=\"90_p1_p2\",\n",
    "                 color=\"red\",\n",
    "                 label=\"2500 ms stimulation\",\n",
    "                 network=\"network-synapses.hdf5\",\n",
    "                 path=os.path.join(external, \"pdc_network_2022-08-31-90-3D\"),\n",
    "                 output=\"network_output_network-synapses_cell_ids_current_injection_dardel_2022-09-21-13-31-13_p1_p2.hdf5\")\n"
   ]
  },
  {
   "cell_type": "code",
   "execution_count": 5,
   "id": "16e7e78c-d957-4211-943e-6f4474625408",
   "metadata": {},
   "outputs": [
    {
     "name": "stdout",
     "output_type": "stream",
     "text": [
      "Loading 40000 neurons with 35040256 synapses and 2531 gap junctions\n",
      "Loading /media/jofrony/2TB/dardel/current_bgd2/population_unit/distance/supercomputer/networks/pdc_network_2022-08-31/simulation/network_output_network-synapses_cell_ids_current_injection_dardel_2022-10-01-16-03-12_p1.hdf5\n",
      "Loading 40000 neurons with 35040256 synapses and 2531 gap junctions\n",
      "Loading /media/jofrony/2TB/dardel/current_bgd2/population_unit/distance/supercomputer/networks/pdc_network_2022-08-31/simulation/network_output_network-synapses_cell_ids_current_injection_dardel_2022-10-01-16-03-32_p1_p2.hdf5\n",
      "Loading 40000 neurons with 35040256 synapses and 2531 gap junctions\n",
      "Loading /media/jofrony/2TB/dardel/current_bgd2/population_unit/distance/supercomputer/networks/pdc_network_2022-08-31-45-3D/simulation/network_output_network-synapses_cell_ids_current_injection_dardel_2022-09-21-13-30-00_p1.hdf5\n",
      "Loading 40000 neurons with 35040256 synapses and 2531 gap junctions\n",
      "Loading /media/jofrony/2TB/dardel/current_bgd2/population_unit/distance/supercomputer/networks/pdc_network_2022-08-31-45-3D/simulation/network_output_network-synapses_cell_ids_current_injection_dardel_2022-09-21-13-30-08_p1_p2.hdf5\n",
      "Loading 40000 neurons with 35040256 synapses and 2531 gap junctions\n",
      "Loading /media/jofrony/2TB/dardel/current_bgd2/population_unit/distance/supercomputer/networks/pdc_network_2022-08-31-90-3D/simulation/network_output_network-synapses_cell_ids_current_injection_dardel_2022-09-21-13-31-13_p1.hdf5\n",
      "Loading 40000 neurons with 35040256 synapses and 2531 gap junctions\n",
      "Loading /media/jofrony/2TB/dardel/current_bgd2/population_unit/distance/supercomputer/networks/pdc_network_2022-08-31-90-3D/simulation/network_output_network-synapses_cell_ids_current_injection_dardel_2022-09-21-13-31-13_p1_p2.hdf5\n"
     ]
    }
   ],
   "source": [
    "sl = LoadSimulations(experiments=e)\n",
    "sl.load_network_file(load_synapses=True)"
   ]
  },
  {
   "cell_type": "code",
   "execution_count": 6,
   "id": "413dd041-88b2-4e55-bf54-38aa787986d6",
   "metadata": {
    "scrolled": true,
    "tags": []
   },
   "outputs": [
    {
     "data": {
      "text/plain": [
       "{'0_p1': array([ 8249,  8255,  8269,  8460,  8463,  8476, 10517, 10532, 10598,\n",
       "        10602, 10603, 10605, 10610, 10611, 10613, 10614, 10617, 10618,\n",
       "        10623, 10665, 10677, 11916, 11922, 11927, 11931, 11941, 14073,\n",
       "        14183, 14184, 14192, 14252, 14254, 14255, 14257, 14268, 14329,\n",
       "        14335, 14383, 14390, 14392, 14393, 14394, 14401, 14440, 15484,\n",
       "        15489, 15490, 15492, 15495, 15502, 15507, 15592, 15594, 15607,\n",
       "        15696, 17328, 17346, 17461, 17463, 17468, 17471, 17504, 17555,\n",
       "        17557, 17559, 17560, 17561, 17572, 17576, 17577, 17578, 17579,\n",
       "        17580, 18823, 18824, 18825, 18829, 18833, 18839, 18842, 18846,\n",
       "        18853, 18899, 18913, 18921, 18922, 18923, 18955, 18957, 18959,\n",
       "        18960, 18963, 18965, 18966, 18968, 18973, 18978, 18980, 19021,\n",
       "        19022, 19023, 19029, 19036, 19039, 19042, 19045, 19047, 19082,\n",
       "        19090, 19093, 19095, 19096, 19106, 19107, 19188, 22066, 22069,\n",
       "        22076, 22093, 22235, 22250, 22291, 24567, 24568, 24569, 24570,\n",
       "        24571, 24572, 24573, 24580, 24585, 24588, 24592, 24594, 24595,\n",
       "        24598, 24599, 24600, 24603, 24644, 24650, 24665, 27538, 27540,\n",
       "        27542, 28348, 28349, 28350, 28352, 28363, 28366, 28369, 28373,\n",
       "        28374, 28377, 28378, 28417, 28419, 28423, 30753]),\n",
       " '0_p1_p2': array([ 8249,  8255,  8269,  8460,  8463,  8476, 10517, 10532, 10598,\n",
       "        10602, 10603, 10605, 10610, 10611, 10613, 10614, 10617, 10618,\n",
       "        10623, 10665, 10677, 11916, 11922, 11927, 11931, 11941, 14073,\n",
       "        14183, 14184, 14192, 14252, 14254, 14255, 14257, 14268, 14329,\n",
       "        14335, 14383, 14390, 14392, 14393, 14394, 14401, 14440, 15484,\n",
       "        15489, 15490, 15492, 15495, 15502, 15507, 15592, 15594, 15607,\n",
       "        15696, 17328, 17346, 17461, 17463, 17468, 17471, 17504, 17555,\n",
       "        17557, 17559, 17560, 17561, 17572, 17576, 17577, 17578, 17579,\n",
       "        17580, 18823, 18824, 18825, 18829, 18833, 18839, 18842, 18846,\n",
       "        18853, 18899, 18913, 18921, 18922, 18923, 18955, 18957, 18959,\n",
       "        18960, 18963, 18965, 18966, 18968, 18973, 18978, 18980, 19021,\n",
       "        19022, 19023, 19029, 19036, 19039, 19042, 19045, 19047, 19082,\n",
       "        19090, 19093, 19095, 19096, 19106, 19107, 19188, 22066, 22069,\n",
       "        22076, 22093, 22235, 22250, 22291, 24567, 24568, 24569, 24570,\n",
       "        24571, 24572, 24573, 24580, 24585, 24588, 24592, 24594, 24595,\n",
       "        24598, 24599, 24600, 24603, 24644, 24650, 24665, 27538, 27540,\n",
       "        27542, 28348, 28349, 28350, 28352, 28363, 28366, 28369, 28373,\n",
       "        28374, 28377, 28378, 28417, 28419, 28423, 30753]),\n",
       " '45_p1': array([ 3358,  3362,  3375,  4325,  4343,  7621,  7623,  7626,  7632,\n",
       "         7634,  7639,  7642,  7648,  7649,  7685,  7687,  7697,  7699,\n",
       "         7700,  7705,  7761,  7820,  7822,  7828,  7829,  7835,  8188,\n",
       "         8212,  8217,  8219,  8248,  8250,  8251,  8253,  8254,  8257,\n",
       "         8260,  8267,  8268,  8304,  8309,  8313,  8314,  8321,  8353,\n",
       "         8354,  8364,  8459,  8460,  8461,  8462,  8464,  8470,  8471,\n",
       "         8472,  8473,  8475,  8476,  8477,  8485, 10396, 10403, 10405,\n",
       "        10409, 10422, 10464, 10517, 10519, 10528, 10529, 10531, 10532,\n",
       "        10534, 10536, 10538, 10541, 10542, 10596, 10607, 10609, 10610,\n",
       "        10611, 10612, 10618, 10622, 10654, 10657, 10658, 10660, 10663,\n",
       "        10664, 10675, 10681, 11224, 11916, 11925, 11929, 11938, 11941,\n",
       "        14011, 14021, 14185, 14186, 14191, 14193, 14205, 14207, 14208,\n",
       "        14210, 14212, 14268, 14269, 14321, 14348, 14383, 14394, 14396,\n",
       "        15434, 15435, 15497, 15498, 15500, 15502, 15504, 15506, 15508,\n",
       "        15509, 15510, 15594, 15595, 15609, 15610, 15613, 17329, 17337,\n",
       "        17340, 17344, 17454, 17455, 17471, 17515, 17520, 17577, 17578,\n",
       "        17579, 18823, 18839, 18842, 18843, 18856, 18898, 18899, 18901,\n",
       "        18903, 18904, 18905, 18910, 18911, 18912, 18915, 18917, 18922,\n",
       "        18960, 18962, 18966, 18972, 19035, 19036, 19088, 19094, 19107,\n",
       "        22095, 24569, 24589, 24592, 24598, 24599]),\n",
       " '45_p1_p2': array([ 3358,  3362,  3375,  4325,  4343,  7621,  7623,  7626,  7632,\n",
       "         7634,  7639,  7642,  7648,  7649,  7685,  7687,  7697,  7699,\n",
       "         7700,  7705,  7761,  7820,  7822,  7828,  7829,  7835,  8188,\n",
       "         8212,  8217,  8219,  8248,  8250,  8251,  8253,  8254,  8257,\n",
       "         8260,  8267,  8268,  8304,  8309,  8313,  8314,  8321,  8353,\n",
       "         8354,  8364,  8459,  8460,  8461,  8462,  8464,  8470,  8471,\n",
       "         8472,  8473,  8475,  8476,  8477,  8485, 10396, 10403, 10405,\n",
       "        10409, 10422, 10464, 10517, 10519, 10528, 10529, 10531, 10532,\n",
       "        10534, 10536, 10538, 10541, 10542, 10596, 10607, 10609, 10610,\n",
       "        10611, 10612, 10618, 10622, 10654, 10657, 10658, 10660, 10663,\n",
       "        10664, 10675, 10681, 11224, 11916, 11925, 11929, 11938, 11941,\n",
       "        14011, 14021, 14185, 14186, 14191, 14193, 14205, 14207, 14208,\n",
       "        14210, 14212, 14268, 14269, 14321, 14348, 14383, 14394, 14396,\n",
       "        15434, 15435, 15497, 15498, 15500, 15502, 15504, 15506, 15508,\n",
       "        15509, 15510, 15594, 15595, 15609, 15610, 15613, 17329, 17337,\n",
       "        17340, 17344, 17454, 17455, 17471, 17515, 17520, 17577, 17578,\n",
       "        17579, 18823, 18839, 18842, 18843, 18856, 18898, 18899, 18901,\n",
       "        18903, 18904, 18905, 18910, 18911, 18912, 18915, 18917, 18922,\n",
       "        18960, 18962, 18966, 18972, 19035, 19036, 19088, 19094, 19107,\n",
       "        22095, 24569, 24589, 24592, 24598, 24599]),\n",
       " '90_p1': array([ 1469,  2164,  2165,  2167,  2171,  2174,  2175,  2180,  2185,\n",
       "         2709,  3214,  3226,  3231,  3232,  3235,  3237,  3244,  3351,\n",
       "         3361,  3365,  3368,  3760,  4208,  4210,  4228,  4232,  4246,\n",
       "         4251,  4252,  4340,  4341,  5560,  5880,  5885,  6845,  6858,\n",
       "         6860,  7576,  7588,  7622,  7623,  7624,  7625,  7626,  7628,\n",
       "         7631,  7632,  7633,  7637,  7639,  7640,  7642,  7645,  7649,\n",
       "         7681,  7682,  7685,  7701,  7702,  7708,  7810,  7815,  7829,\n",
       "         7831,  8188,  8195,  8197,  8202,  8207,  8209,  8210,  8218,\n",
       "         8219,  8252,  8254,  8255,  8266,  8267,  8302,  8311,  8312,\n",
       "         8315,  8316,  8317,  8346,  8349,  8352,  8353,  8355,  8356,\n",
       "         8358,  8360,  8361,  8364,  8414,  8461,  8463,  8466,  8476,\n",
       "         8478,  8482,  8483, 10393, 10396, 10403, 10404, 10408, 10416,\n",
       "        10418, 10420, 10421, 10422, 10455, 10468, 10522, 10603, 10605,\n",
       "        10607, 10618, 10620, 10654, 10655, 10657, 10660, 10665, 10666,\n",
       "        10668, 10675, 10677, 10681, 11920, 11925, 11932, 14028, 14187,\n",
       "        14208, 14210, 14382, 14393, 14395, 14396, 14399, 15446, 15486,\n",
       "        15488, 15493, 15498, 15501, 15504, 17325, 17335, 17344, 17345,\n",
       "        17351, 17580, 18901, 18905, 18910, 18912, 18914, 18916, 18923]),\n",
       " '90_p1_p2': array([ 1469,  2164,  2165,  2167,  2171,  2174,  2175,  2180,  2185,\n",
       "         2709,  3214,  3226,  3231,  3232,  3235,  3237,  3244,  3351,\n",
       "         3361,  3365,  3368,  3760,  4208,  4210,  4228,  4232,  4246,\n",
       "         4251,  4252,  4340,  4341,  5560,  5880,  5885,  6845,  6858,\n",
       "         6860,  7576,  7588,  7622,  7623,  7624,  7625,  7626,  7628,\n",
       "         7631,  7632,  7633,  7637,  7639,  7640,  7642,  7645,  7649,\n",
       "         7681,  7682,  7685,  7701,  7702,  7708,  7810,  7815,  7829,\n",
       "         7831,  8188,  8195,  8197,  8202,  8207,  8209,  8210,  8218,\n",
       "         8219,  8252,  8254,  8255,  8266,  8267,  8302,  8311,  8312,\n",
       "         8315,  8316,  8317,  8346,  8349,  8352,  8353,  8355,  8356,\n",
       "         8358,  8360,  8361,  8364,  8414,  8461,  8463,  8466,  8476,\n",
       "         8478,  8482,  8483, 10393, 10396, 10403, 10404, 10408, 10416,\n",
       "        10418, 10420, 10421, 10422, 10455, 10468, 10522, 10603, 10605,\n",
       "        10607, 10618, 10620, 10654, 10655, 10657, 10660, 10665, 10666,\n",
       "        10668, 10675, 10677, 10681, 11920, 11925, 11932, 14028, 14187,\n",
       "        14208, 14210, 14382, 14393, 14395, 14396, 14399, 15446, 15486,\n",
       "        15488, 15493, 15498, 15501, 15504, 17325, 17335, 17344, 17345,\n",
       "        17351, 17580, 18901, 18905, 18910, 18912, 18914, 18916, 18923])}"
      ]
     },
     "execution_count": 6,
     "metadata": {},
     "output_type": "execute_result"
    }
   ],
   "source": [
    "neuron_type = \"dSPN\"\n",
    "specific_trace_ids = sl.get_population_units(neuron_type=neuron_type, population_unit=1)\n",
    "specific_trace_ids = {k: v[::1] for k, v in specific_trace_ids.items()}\n",
    "specific_trace_ids"
   ]
  },
  {
   "cell_type": "code",
   "execution_count": 7,
   "id": "e7dca981-9838-4154-80e7-c2592beab4b1",
   "metadata": {},
   "outputs": [],
   "source": [
    "max_post = specific_trace_ids[\"0_p1\"].size"
   ]
  },
  {
   "cell_type": "code",
   "execution_count": 8,
   "id": "4ad75c73-baba-456d-8c4c-c3e6137998f1",
   "metadata": {},
   "outputs": [
    {
     "name": "stdout",
     "output_type": "stream",
     "text": [
      "CPU times: user 8min 57s, sys: 1min 26s, total: 10min 24s\n",
      "Wall time: 14min 32s\n"
     ]
    }
   ],
   "source": [
    "%%time\n",
    "depolarisation_blocked = depolarisation_block(data_obj=sl, specific_trace_ids=specific_trace_ids)\n",
    "connectivity,_,_ = connectivity_analysis(data_obj=sl, pre=[\"dSPN\", \"iSPN\", \"FS\"], post=neuron_type, max_post=max_post, \n",
    "                                     test_populations=specific_trace_ids)\n",
    "frequency_analysis_dict_dspn = frequency_analysis(data_obj=sl, neuron_type=neuron_type, \n",
    "                                                  trace_ids=specific_trace_ids, parameters={\"start\": 0.5, \"end\": 2.5})"
   ]
  },
  {
   "cell_type": "code",
   "execution_count": 9,
   "id": "3817b001-2e39-483a-8e87-0cc9cdde6f9b",
   "metadata": {},
   "outputs": [
    {
     "name": "stdout",
     "output_type": "stream",
     "text": [
      "CPU times: user 4.38 ms, sys: 59 µs, total: 4.44 ms\n",
      "Wall time: 5.9 ms\n"
     ]
    }
   ],
   "source": [
    "%%time\n",
    "frequency_analysis_dict = {f\"{i}\" : dict() for i in [\"0\",\"45\",\"90\"]}\n",
    "import matplotlib.pyplot as plt\n",
    "for k in frequency_analysis_dict:\n",
    "    control = f\"{k}_p1\"\n",
    "    p1p2 =  f\"{k}_p1_p2\"\n",
    "    d = sl.get_data(name=control)\n",
    "    d1 = sl.get_data(name=p1p2)\n",
    "    ids = specific_trace_ids[control]\n",
    "    for i in ids:\n",
    "        if frequency_analysis_dict_dspn[control][i] > 0 and frequency_analysis_dict_dspn[p1p2][i] > 0:\n",
    "            diff = frequency_analysis_dict_dspn[p1p2][i] - frequency_analysis_dict_dspn[control][i]\n",
    "            frequency_analysis_dict[k].update({i: diff})\n",
    "            if False:\n",
    "                plt.figure()\n",
    "                plt.title(f\"{diff} Hz\")\n",
    "                v = d.get_voltage(neuron_id=i)\n",
    "                plt.plot(v,c=\"black\")\n",
    "                v1 = d1.get_voltage(neuron_id=i)\n",
    "                plt.plot(v1,c=\"red\")\n",
    "                plt.show()\n",
    "        "
   ]
  },
  {
   "cell_type": "code",
   "execution_count": 10,
   "id": "de9cd398-89e6-43c5-920d-3dc9d1225ae4",
   "metadata": {},
   "outputs": [],
   "source": [
    "do_feature=False"
   ]
  },
  {
   "cell_type": "code",
   "execution_count": 11,
   "id": "77b18899-123c-4f62-aa50-91b843ef0a50",
   "metadata": {},
   "outputs": [],
   "source": [
    "os = dict()\n",
    "us = dict()\n",
    "for ks in [\"0\",\"45\", \"90\"]:\n",
    "    o = dict()\n",
    "    u = dict()\n",
    "    for i in frequency_analysis_dict[ks]:\n",
    "\n",
    "        if i in connectivity[f\"{ks}_p1\"] and not(depolarisation_blocked[f\"{ks}_p1_p2\"][i]):\n",
    "\n",
    "            sums=0\n",
    "            diffs = frequency_analysis_dict[ks][i]\n",
    "            for r, k in connectivity[f\"{ks}_p1\"][i].items():\n",
    "                sums+=k\n",
    "\n",
    "            if sums > 500 and diffs < -10 and do_feature:\n",
    "                u.update({i: dict(num_synapses=sums,diff_Hz=diffs)})\n",
    "\n",
    "            o.update({i: dict(num_synapses=sums,diff_Hz=diffs)})\n",
    "    os.update({ks: o})\n",
    "    us.update({ks: u})"
   ]
  },
  {
   "cell_type": "code",
   "execution_count": 12,
   "id": "185ced0a-735a-4900-a6cf-0b2b3218122f",
   "metadata": {},
   "outputs": [
    {
     "data": {
      "image/png": "[encoded data removed]",
      "text/plain": [
       "<Figure size 432x288 with 1 Axes>"
      ]
     },
     "metadata": {
      "needs_background": "light"
     },
     "output_type": "display_data"
    }
   ],
   "source": [
    "import numpy as np\n",
    "\n",
    "cs = {\"0\":\"black\",\"45\": \"blue\",\"90\":\"purple\"}\n",
    "for k in [\"0\",\"45\",\"90\"]:\n",
    "    x = list()\n",
    "    y = list()\n",
    "    for i in os[k]:\n",
    "        plt.scatter([os[k][i][\"num_synapses\"]],[os[k][i][\"diff_Hz\"]], c=cs[k],alpha=0.4)\n",
    "        x.append(os[k][i][\"num_synapses\"])\n",
    "        y.append(os[k][i][\"diff_Hz\"])\n",
    "        if i in u:\n",
    "            plt.scatter([us[k][i][\"num_synapses\"]],[us[k][i][\"diff_Hz\"]], c=cs[k],alpha=0.4)\n",
    "    a, b = np.polyfit(x, y, 1)\n",
    "\n",
    "    #add points to plot\n",
    "    x = np.array(x)\n",
    "    #add line of best fit to plot\n",
    "    plt.plot(x, a*x+b, c=cs[k])\n",
    "plt.xlabel(\"Number of synapses\")\n",
    "plt.ylabel(\"Change in frequency (Hz)\")\n",
    "plt.savefig(\"Num_synapse_Frequency.svg\")"
   ]
  },
  {
   "cell_type": "code",
   "execution_count": 13,
   "id": "f0e31dbd-5827-4c07-8da4-cd53205b3317",
   "metadata": {},
   "outputs": [
    {
     "name": "stdout",
     "output_type": "stream",
     "text": [
      "CPU times: user 1min 26s, sys: 8.81 s, total: 1min 35s\n",
      "Wall time: 2min 9s\n"
     ]
    }
   ],
   "source": [
    "%%time\n",
    "e_tmps = dict()\n",
    "for e in [\"0\",\"45\",\"90\"]:\n",
    "    tmps = list()\n",
    "    synapses = sl.experiments[f\"{e}_p1\"][\"network_structure\"].data[\"synapses\"]\n",
    "    for s in [*os[e].keys()]:\n",
    "        presynaptic = np.where(synapses.T[1] == s)\n",
    "        \n",
    "        tmps.append(len(presynaptic[0]))\n",
    "    e_tmps.update({e: tmps})      \n",
    "    \n",
    "        \n"
   ]
  },
  {
   "cell_type": "code",
   "execution_count": 14,
   "id": "19df7d4c-4ff4-4285-82d1-3c75a6119dfc",
   "metadata": {},
   "outputs": [
    {
     "data": {
      "image/png": "[encoded data removed]",
      "text/plain": [
       "<Figure size 432x288 with 1 Axes>"
      ]
     },
     "metadata": {
      "needs_background": "light"
     },
     "output_type": "display_data"
    }
   ],
   "source": [
    "for e in e_tmps:\n",
    "    plt.hist(e_tmps[e],histtype=\"step\")"
   ]
  },
  {
   "cell_type": "code",
   "execution_count": 15,
   "id": "da78c4e8-4b85-4abc-b3d8-565bcbb3ede5",
   "metadata": {},
   "outputs": [
    {
     "name": "stdout",
     "output_type": "stream",
     "text": [
      "CPU times: user 1min 21s, sys: 2.31 s, total: 1min 24s\n",
      "Wall time: 1min 24s\n"
     ]
    }
   ],
   "source": [
    "%%time\n",
    "e_tmps = dict()\n",
    "for e in [\"0\",\"45\",\"90\"]:\n",
    "    tmps = list()\n",
    "    synapses = sl.experiments[f\"{e}_p1\"][\"network_structure\"].data[\"synapses\"]\n",
    "    for s in [*os[e].keys()]:\n",
    "        presynaptic = np.where(synapses.T[1] == s)\n",
    "        if len(presynaptic[0]) > 1500:\n",
    "            tmps.append(s)\n",
    "    e_tmps.update({e: tmps})      \n",
    "    \n",
    "        \n"
   ]
  },
  {
   "cell_type": "code",
   "execution_count": 16,
   "id": "c7eea165-fd0c-4303-a50b-70b59f271577",
   "metadata": {},
   "outputs": [
    {
     "data": {
      "image/png": "[encoded data removed]",
      "text/plain": [
       "<Figure size 432x288 with 1 Axes>"
      ]
     },
     "metadata": {
      "needs_background": "light"
     },
     "output_type": "display_data"
    }
   ],
   "source": [
    "import numpy as np\n",
    "\n",
    "cs = {\"0\":\"black\",\"45\": \"blue\",\"90\":\"purple\"}\n",
    "for k in [\"0\",\"45\",\"90\"]:\n",
    "    x = list()\n",
    "    y = list()\n",
    "    for i in os[k]:\n",
    "        \n",
    "        if i in e_tmps[f\"{k}\"]:\n",
    "            plt.scatter([os[k][i][\"num_synapses\"]],[os[k][i][\"diff_Hz\"]], c=cs[k],alpha=0.4)\n",
    "            x.append(os[k][i][\"num_synapses\"])\n",
    "            y.append(os[k][i][\"diff_Hz\"])\n",
    "            if i in u:\n",
    "                plt.scatter([us[k][i][\"num_synapses\"]],[us[k][i][\"diff_Hz\"]], c=cs[k],alpha=0.4)\n",
    "    a, b = np.polyfit(x, y, 1)\n",
    "\n",
    "    #add points to plot\n",
    "    x = np.array(x)\n",
    "    #add line of best fit to plot\n",
    "    plt.plot(x, a*x+b, c=cs[k])\n",
    "plt.xlabel(\"Number of synapses\")\n",
    "plt.ylabel(\"Change in frequency (Hz)\")\n",
    "plt.savefig(\"Num_synapse_Frequency.svg\")"
   ]
  },
  {
   "cell_type": "code",
   "execution_count": 17,
   "id": "b80b7001-141d-45d0-9994-e0c7e1624a09",
   "metadata": {},
   "outputs": [],
   "source": [
    "import h5py\n",
    "import os\n",
    "with h5py.File(os.path.join(\"synapses_frequency\",f\"{group}_synapse_frequency.h5\"), 'w') as hf:\n",
    "    \n",
    "    hf_add = hf.create_group(\"depolarisation_blocked\")\n",
    "    for f,data in depolarisation_blocked.items():\n",
    "        grp = hf_add.create_group(f)\n",
    "        for i, true_or_false in data.items():\n",
    "            grp.create_dataset(f\"{i}\", data=np.array([true_or_false]))\n",
    "            \n",
    "    hf_add = hf.create_group(\"connectivity\")\n",
    "    for f,data in connectivity.items():\n",
    "        grp = hf_add.create_group(str(f))\n",
    "        for dest, pre in data.items():\n",
    "            grps = grp.create_group(str(dest))\n",
    "            for i, num in pre.items():\n",
    "                grps.create_dataset(f\"{i}\", data=np.array([num]))\n",
    "            \n",
    "    hf_add = hf.create_group(\"frequency_analysis_dict_dspn\")\n",
    "    for f,data in frequency_analysis_dict_dspn.items():\n",
    "        grp = hf_add.create_group(str(f))\n",
    "        for i, freq in data.items():\n",
    "            grp.create_dataset(f\"{i}\", data=np.array([freq]))\n",
    "            \n",
    "    \n",
    "    hf.close()\n"
   ]
  },
  {
   "cell_type": "code",
   "execution_count": 18,
   "id": "2b992c9c-70ed-4bb6-84dc-37987038c166",
   "metadata": {},
   "outputs": [],
   "source": [
    "with h5py.File(os.path.join(\"synapses_frequency\",f\"{group}_synapses.h5\"), 'w') as f:\n",
    "        \n",
    "    for e in [\"0\",\"45\",\"90\"]:\n",
    "        synapses = sl.experiments[f\"{e}_p1\"][\"network_structure\"].data[\"synapses\"]\n",
    "        f.create_dataset(f\"{e}\", data=synapses)\n",
    "        "
   ]
  },
  {
   "cell_type": "code",
   "execution_count": null,
   "id": "a1a0e5b1-2ee0-4f08-8eba-b2553b2dee46",
   "metadata": {},
   "outputs": [],
   "source": []
  }
 ],
 "metadata": {
  "kernelspec": {
   "display_name": "Python 3",
   "language": "python",
   "name": "python3"
  },
  "language_info": {
   "codemirror_mode": {
    "name": "ipython",
    "version": 3
   },
   "file_extension": ".py",
   "mimetype": "text/x-python",
   "name": "python",
   "nbconvert_exporter": "python",
   "pygments_lexer": "ipython3",
   "version": "3.7.10"
  }
 },
 "nbformat": 4,
 "nbformat_minor": 5
}
