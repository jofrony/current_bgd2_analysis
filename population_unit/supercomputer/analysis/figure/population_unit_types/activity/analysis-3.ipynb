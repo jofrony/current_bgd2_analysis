{
 "cells": [
  {
   "cell_type": "code",
   "execution_count": 1,
   "id": "843efbd7-7628-473d-9912-5dee9e264f88",
   "metadata": {},
   "outputs": [],
   "source": [
    "import sys\n",
    "import os\n",
    "sys.path.append(os.environ[\"CODE_REPOSITORY\"])\n",
    "from code_repository.hotones.thetools import *\n",
    "from snudda.utils.load import SnuddaLoad"
   ]
  },
  {
   "cell_type": "code",
   "execution_count": 2,
   "id": "66a95f13-bb0f-4da2-b346-9701d92a723b",
   "metadata": {},
   "outputs": [],
   "source": [
    "group = \"distance_complete\"\n",
    "external = os.path.join(\"/media\",\"jofrony\", \"2TB\", \"dardel\",\"current_bgd2\",\"population_unit\", \n",
    "                        group, \"supercomputer\", \"networks\")\n"
   ]
  },
  {
   "cell_type": "code",
   "execution_count": 3,
   "id": "970debed-c9c3-40cf-bcb4-f467e253feba",
   "metadata": {},
   "outputs": [],
   "source": [
    "e = Experiments()\n",
    "e.add_experiment(name=\"0_p1\",\n",
    "                 color=\"black\",\n",
    "                 label=\"2500 ms stimulation\",\n",
    "                 network=\"network-synapses.hdf5\",\n",
    "                 path=os.path.join(external, \"pdc_network_2022-10-14\"),\n",
    "                 output=\"network_output_network-synapses_cell_ids_current_injection_dardel_2022-10-13-17-37-42_p1.hdf5\")\n",
    "e.add_experiment(name=\"0_p1_p2\",\n",
    "                 color=\"black\",\n",
    "                 label=\"2500 ms stimulation\",\n",
    "                 network=\"network-synapses.hdf5\",\n",
    "                 path=os.path.join(external, \"pdc_network_2022-10-14\"),\n",
    "                 output=\"network_output_network-synapses_cell_ids_current_injection_dardel_2022-10-13-17-37-42_p1_p2.hdf5\")\n",
    "\n",
    "e.add_experiment(name=\"45_p1\",\n",
    "                 color=\"black\",\n",
    "                 label=\"2500 ms stimulation\",\n",
    "                 network=\"network-synapses.hdf5\",\n",
    "                 path=os.path.join(external, \"pdc_network_2022-10-13\"),\n",
    "                 output=\"network_output_network-synapses_cell_ids_current_injection_dardel_2022-10-13-17-36-57_p1.hdf5\")\n",
    "e.add_experiment(name=\"45_p1_p2\",\n",
    "                 color=\"black\",\n",
    "                 label=\"2500 ms stimulation\",\n",
    "                 network=\"network-synapses.hdf5\",\n",
    "                 path=os.path.join(external, \"pdc_network_2022-10-13\"),\n",
    "                 output=\"network_output_network-synapses_cell_ids_current_injection_dardel_2022-10-13-17-36-57_p1_p2.hdf5\")\n",
    "\n",
    "e.add_experiment(name=\"90_p1\",\n",
    "                 color=\"black\",\n",
    "                 label=\"2500 ms stimulation\",\n",
    "                 network=\"network-synapses.hdf5\",\n",
    "                 path=os.path.join(external, \"pdc_network_2022-10-10\"),\n",
    "                 output=\"network_output_network-synapses_cell_ids_current_injection_dardel_2022-10-12-13-30-26_p1.hdf5\")\n",
    "e.add_experiment(name=\"90_p1_p2\",\n",
    "                 color=\"red\",\n",
    "                 label=\"2500 ms stimulation\",\n",
    "                 network=\"network-synapses.hdf5\",\n",
    "                 path=os.path.join(external, \"pdc_network_2022-10-10\"),\n",
    "                 output=\"network_output_network-synapses_cell_ids_current_injection_dardel_2022-10-12-13-30-26_p1_p2.hdf5\")\n",
    "experiment_list = e"
   ]
  },
  {
   "cell_type": "code",
   "execution_count": 4,
   "id": "16e7e78c-d957-4211-943e-6f4474625408",
   "metadata": {},
   "outputs": [
    {
     "name": "stdout",
     "output_type": "stream",
     "text": [
      "Loading 40000 neurons with 35040256 synapses and 2531 gap junctions\n",
      "Loading /media/jofrony/2TB/dardel/current_bgd2/population_unit/distance_complete/supercomputer/networks/pdc_network_2022-10-14/simulation/network_output_network-synapses_cell_ids_current_injection_dardel_2022-10-13-17-37-42_p1.hdf5\n",
      "Loading 40000 neurons with 35040256 synapses and 2531 gap junctions\n",
      "Loading /media/jofrony/2TB/dardel/current_bgd2/population_unit/distance_complete/supercomputer/networks/pdc_network_2022-10-14/simulation/network_output_network-synapses_cell_ids_current_injection_dardel_2022-10-13-17-37-42_p1_p2.hdf5\n",
      "Loading 40000 neurons with 35040256 synapses and 2531 gap junctions\n",
      "Loading /media/jofrony/2TB/dardel/current_bgd2/population_unit/distance_complete/supercomputer/networks/pdc_network_2022-10-13/simulation/network_output_network-synapses_cell_ids_current_injection_dardel_2022-10-13-17-36-57_p1.hdf5\n",
      "Loading 40000 neurons with 35040256 synapses and 2531 gap junctions\n",
      "Loading /media/jofrony/2TB/dardel/current_bgd2/population_unit/distance_complete/supercomputer/networks/pdc_network_2022-10-13/simulation/network_output_network-synapses_cell_ids_current_injection_dardel_2022-10-13-17-36-57_p1_p2.hdf5\n",
      "Loading 40000 neurons with 35040256 synapses and 2531 gap junctions\n",
      "Loading /media/jofrony/2TB/dardel/current_bgd2/population_unit/distance_complete/supercomputer/networks/pdc_network_2022-10-10/simulation/network_output_network-synapses_cell_ids_current_injection_dardel_2022-10-12-13-30-26_p1.hdf5\n",
      "Loading 40000 neurons with 35040256 synapses and 2531 gap junctions\n",
      "Loading /media/jofrony/2TB/dardel/current_bgd2/population_unit/distance_complete/supercomputer/networks/pdc_network_2022-10-10/simulation/network_output_network-synapses_cell_ids_current_injection_dardel_2022-10-12-13-30-26_p1_p2.hdf5\n"
     ]
    }
   ],
   "source": [
    "sl = LoadSimulations(experiments=e)\n",
    "sl.load_network_file(load_synapses=True)"
   ]
  },
  {
   "cell_type": "code",
   "execution_count": 5,
   "id": "413dd041-88b2-4e55-bf54-38aa787986d6",
   "metadata": {
    "scrolled": true,
    "tags": []
   },
   "outputs": [
    {
     "data": {
      "text/plain": [
       "{'0_p1': array([ 1466,  1567,  2183,  2708,  3236,  3363,  3429,  3762,  4211,\n",
       "         4345,  4880,  5007,  5545,  5679,  5840,  5901,  6107,  6169,\n",
       "         6306,  6493,  6575,  6789,  6850,  6986,  7115,  7184,  7468,\n",
       "         7571,  7592,  7683,  7703,  7812,  8202,  8253,  8309,  8403,\n",
       "         8473,  9849,  9988, 10367, 10460, 10540, 10619, 11038, 11138,\n",
       "        11224, 11353, 11439, 11572, 11670, 11789, 11859, 11922, 12094,\n",
       "        12237, 12712, 13155, 13554, 13646, 13711, 13893, 13964, 14024,\n",
       "        14118, 14203, 14271, 14335, 14401, 14923, 15441, 15555, 15653,\n",
       "        15701, 15852, 15930, 16547, 17395, 17463, 17553, 17668, 17921,\n",
       "        17986, 18605, 18709, 18784, 18892, 18961, 19035, 19159, 19277,\n",
       "        19398, 20097, 20131, 20510, 20616, 20639, 20750, 20947, 21113,\n",
       "        21278, 21348, 21775, 21856, 21927, 22002, 22064, 22229, 22283,\n",
       "        22337, 23627, 23709, 23817, 23840, 24293, 24575, 24603, 24652,\n",
       "        24714, 24852, 24891, 25024, 25535, 25631, 25697, 27095, 27168,\n",
       "        27410, 27536, 27559, 27665, 27883, 28365, 28426, 28535, 28660,\n",
       "        29118, 29186, 29454, 29546, 30570, 30667, 30700, 30807, 31253,\n",
       "        31736, 31867, 31920, 31998, 32126, 33075, 33703, 33781, 33885,\n",
       "        33963, 34029, 34188, 34245, 35189, 35293, 35480, 35915, 36091]),\n",
       " '0_p1_p2': array([ 1466,  1567,  2183,  2708,  3236,  3363,  3429,  3762,  4211,\n",
       "         4345,  4880,  5007,  5545,  5679,  5840,  5901,  6107,  6169,\n",
       "         6306,  6493,  6575,  6789,  6850,  6986,  7115,  7184,  7468,\n",
       "         7571,  7592,  7683,  7703,  7812,  8202,  8253,  8309,  8403,\n",
       "         8473,  9849,  9988, 10367, 10460, 10540, 10619, 11038, 11138,\n",
       "        11224, 11353, 11439, 11572, 11670, 11789, 11859, 11922, 12094,\n",
       "        12237, 12712, 13155, 13554, 13646, 13711, 13893, 13964, 14024,\n",
       "        14118, 14203, 14271, 14335, 14401, 14923, 15441, 15555, 15653,\n",
       "        15701, 15852, 15930, 16547, 17395, 17463, 17553, 17668, 17921,\n",
       "        17986, 18605, 18709, 18784, 18892, 18961, 19035, 19159, 19277,\n",
       "        19398, 20097, 20131, 20510, 20616, 20639, 20750, 20947, 21113,\n",
       "        21278, 21348, 21775, 21856, 21927, 22002, 22064, 22229, 22283,\n",
       "        22337, 23627, 23709, 23817, 23840, 24293, 24575, 24603, 24652,\n",
       "        24714, 24852, 24891, 25024, 25535, 25631, 25697, 27095, 27168,\n",
       "        27410, 27536, 27559, 27665, 27883, 28365, 28426, 28535, 28660,\n",
       "        29118, 29186, 29454, 29546, 30570, 30667, 30700, 30807, 31253,\n",
       "        31736, 31867, 31920, 31998, 32126, 33075, 33703, 33781, 33885,\n",
       "        33963, 34029, 34188, 34245, 35189, 35293, 35480, 35915, 36091]),\n",
       " '45_p1': array([  378,   802,  1032,  1282,  1312,  1467,  1563,  1683,  1784,\n",
       "         1808,  1966,  1982,  2039,  2106,  2128,  2385,  2460,  2532,\n",
       "         2593,  2657,  2766,  2908,  3163,  3217,  3238,  3354,  3409,\n",
       "         3435,  3488,  3556,  3618,  3685,  3767,  3999,  4095,  4145,\n",
       "         4167,  4221,  4254,  4400,  4732,  4796,  4930,  5004,  5481,\n",
       "         5541,  5558,  5617,  5669,  5686,  5772,  5843,  5912,  5967,\n",
       "         6001,  6059,  6115,  6176,  6234,  6308,  6368,  6418,  6448,\n",
       "         6556,  6579,  6719,  6786,  6907,  6942,  7109,  7162,  7178,\n",
       "         7301,  7464,  7480,  7562,  7591,  7683,  7747,  7828,  8247,\n",
       "         8354,  8429,  9766,  9855,  9990, 10258, 10360, 10420, 10603,\n",
       "        10673, 11048, 11093, 11149, 11326, 11416, 11439, 11517, 11646,\n",
       "        11675, 11734, 11843, 11922, 11988, 12165, 12246, 12613, 12750,\n",
       "        13093, 13215, 13616, 13693, 13770, 13899, 13970, 14080, 14252,\n",
       "        14325, 14437, 15224, 15489, 15594, 15701, 15852, 15978, 16306,\n",
       "        17339, 17464, 17518, 17629, 17960, 18595, 18712, 18825, 18956,\n",
       "        19088, 19204, 19356, 19855, 20117, 20508, 20582, 20676, 20934,\n",
       "        20957, 21396, 21846, 21936, 22066, 22148, 22283, 22357, 23652,\n",
       "        23898, 24585, 24640, 24716, 24778, 24888, 25534, 25680, 27174,\n",
       "        27541, 27657, 28420, 28499, 28616, 29124, 30561, 30624, 30766,\n",
       "        31924, 33712, 34014]),\n",
       " '45_p1_p2': array([  378,   802,  1032,  1282,  1312,  1467,  1563,  1683,  1784,\n",
       "         1808,  1966,  1982,  2039,  2106,  2128,  2385,  2460,  2532,\n",
       "         2593,  2657,  2766,  2908,  3163,  3217,  3238,  3354,  3409,\n",
       "         3435,  3488,  3556,  3618,  3685,  3767,  3999,  4095,  4145,\n",
       "         4167,  4221,  4254,  4400,  4732,  4796,  4930,  5004,  5481,\n",
       "         5541,  5558,  5617,  5669,  5686,  5772,  5843,  5912,  5967,\n",
       "         6001,  6059,  6115,  6176,  6234,  6308,  6368,  6418,  6448,\n",
       "         6556,  6579,  6719,  6786,  6907,  6942,  7109,  7162,  7178,\n",
       "         7301,  7464,  7480,  7562,  7591,  7683,  7747,  7828,  8247,\n",
       "         8354,  8429,  9766,  9855,  9990, 10258, 10360, 10420, 10603,\n",
       "        10673, 11048, 11093, 11149, 11326, 11416, 11439, 11517, 11646,\n",
       "        11675, 11734, 11843, 11922, 11988, 12165, 12246, 12613, 12750,\n",
       "        13093, 13215, 13616, 13693, 13770, 13899, 13970, 14080, 14252,\n",
       "        14325, 14437, 15224, 15489, 15594, 15701, 15852, 15978, 16306,\n",
       "        17339, 17464, 17518, 17629, 17960, 18595, 18712, 18825, 18956,\n",
       "        19088, 19204, 19356, 19855, 20117, 20508, 20582, 20676, 20934,\n",
       "        20957, 21396, 21846, 21936, 22066, 22148, 22283, 22357, 23652,\n",
       "        23898, 24585, 24640, 24716, 24778, 24888, 25534, 25680, 27174,\n",
       "        27541, 27657, 28420, 28499, 28616, 29124, 30561, 30624, 30766,\n",
       "        31924, 33712, 34014]),\n",
       " '90_p1': array([  109,   381,   444,   552,   625,   724,   806,   953,  1029,\n",
       "         1148,  1215,  1244,  1295,  1365,  1394,  1475,  1596,  1685,\n",
       "         1792,  1895,  1963,  1989,  2048,  2110,  2207,  2390,  2450,\n",
       "         2526,  2552,  2614,  2661,  2769,  2831,  2958,  3117,  3214,\n",
       "         3244,  3300,  3357,  3405,  3473,  3541,  3599,  3630,  3704,\n",
       "         3763,  3982,  4062,  4143,  4169,  4229,  4335,  4405,  4684,\n",
       "         4737,  4802,  4867,  4921,  4947,  5009,  5479,  5504,  5565,\n",
       "         5621,  5684,  5739,  5842,  5899,  5960,  5997,  6046,  6110,\n",
       "         6168,  6226,  6312,  6417,  6448,  6507,  6567,  6670,  6736,\n",
       "         6795,  6857,  6925,  6999,  7120,  7171,  7235,  7304,  7477,\n",
       "         7578,  7629,  7681,  7749,  7818,  8199,  8247,  8303,  8360,\n",
       "         8422,  9013,  9789,  9861, 10252, 10357, 10409, 10468, 10613,\n",
       "        11033, 11057, 11155, 11221, 11330, 11417, 11441, 11569, 11662,\n",
       "        11725, 11798, 11853, 11924, 11990, 12195, 12260, 12695, 12776,\n",
       "        13168, 13547, 13624, 13687, 13755, 13907, 14028, 14200, 14266,\n",
       "        14351, 14461, 15273, 15557, 15665, 15728, 16090, 17353, 17512,\n",
       "        17919, 18582, 18651, 18782, 18899, 19082, 19189, 19242, 20096,\n",
       "        20681, 20971, 21938, 22092, 22253, 23835, 24592, 24713, 25544,\n",
       "        27618, 28545]),\n",
       " '90_p1_p2': array([  109,   381,   444,   552,   625,   724,   806,   953,  1029,\n",
       "         1148,  1215,  1244,  1295,  1365,  1394,  1475,  1596,  1685,\n",
       "         1792,  1895,  1963,  1989,  2048,  2110,  2207,  2390,  2450,\n",
       "         2526,  2552,  2614,  2661,  2769,  2831,  2958,  3117,  3214,\n",
       "         3244,  3300,  3357,  3405,  3473,  3541,  3599,  3630,  3704,\n",
       "         3763,  3982,  4062,  4143,  4169,  4229,  4335,  4405,  4684,\n",
       "         4737,  4802,  4867,  4921,  4947,  5009,  5479,  5504,  5565,\n",
       "         5621,  5684,  5739,  5842,  5899,  5960,  5997,  6046,  6110,\n",
       "         6168,  6226,  6312,  6417,  6448,  6507,  6567,  6670,  6736,\n",
       "         6795,  6857,  6925,  6999,  7120,  7171,  7235,  7304,  7477,\n",
       "         7578,  7629,  7681,  7749,  7818,  8199,  8247,  8303,  8360,\n",
       "         8422,  9013,  9789,  9861, 10252, 10357, 10409, 10468, 10613,\n",
       "        11033, 11057, 11155, 11221, 11330, 11417, 11441, 11569, 11662,\n",
       "        11725, 11798, 11853, 11924, 11990, 12195, 12260, 12695, 12776,\n",
       "        13168, 13547, 13624, 13687, 13755, 13907, 14028, 14200, 14266,\n",
       "        14351, 14461, 15273, 15557, 15665, 15728, 16090, 17353, 17512,\n",
       "        17919, 18582, 18651, 18782, 18899, 19082, 19189, 19242, 20096,\n",
       "        20681, 20971, 21938, 22092, 22253, 23835, 24592, 24713, 25544,\n",
       "        27618, 28545])}"
      ]
     },
     "execution_count": 5,
     "metadata": {},
     "output_type": "execute_result"
    }
   ],
   "source": [
    "neuron_type = \"dSPN\"\n",
    "specific_trace_ids = sl.get_population_units(neuron_type=neuron_type, population_unit=1)\n",
    "specific_trace_ids = {k: v[::int(len(v)/160)] for k, v in specific_trace_ids.items()}\n",
    "specific_trace_ids"
   ]
  },
  {
   "cell_type": "code",
   "execution_count": 6,
   "id": "e7dca981-9838-4154-80e7-c2592beab4b1",
   "metadata": {},
   "outputs": [],
   "source": [
    "max_post = specific_trace_ids[\"0_p1\"].size"
   ]
  },
  {
   "cell_type": "code",
   "execution_count": 7,
   "id": "4ad75c73-baba-456d-8c4c-c3e6137998f1",
   "metadata": {},
   "outputs": [
    {
     "name": "stdout",
     "output_type": "stream",
     "text": [
      "CPU times: user 6min 1s, sys: 1min 25s, total: 7min 26s\n",
      "Wall time: 10min 3s\n"
     ]
    }
   ],
   "source": [
    "%%time\n",
    "depolarisation_blocked = depolarisation_block(data_obj=sl, specific_trace_ids=specific_trace_ids)\n",
    "connectivity,_,_ = connectivity_analysis(data_obj=sl, pre=[\"dSPN\", \"iSPN\", \"FS\"], post=neuron_type, max_post=max_post, \n",
    "                                     test_populations=specific_trace_ids)\n",
    "frequency_analysis_dict_dspn = frequency_analysis(data_obj=sl, neuron_type=neuron_type, \n",
    "                                                  trace_ids=specific_trace_ids, parameters={\"start\": 0.5, \"end\": 2.5})"
   ]
  },
  {
   "cell_type": "code",
   "execution_count": 8,
   "id": "3817b001-2e39-483a-8e87-0cc9cdde6f9b",
   "metadata": {},
   "outputs": [
    {
     "name": "stdout",
     "output_type": "stream",
     "text": [
      "CPU times: user 2.07 ms, sys: 522 µs, total: 2.59 ms\n",
      "Wall time: 3.7 ms\n"
     ]
    }
   ],
   "source": [
    "%%time\n",
    "frequency_analysis_dict = {f\"{i}\" : dict() for i in [\"0\",\"45\",\"90\"]}\n",
    "import matplotlib.pyplot as plt\n",
    "for k in frequency_analysis_dict:\n",
    "    control = f\"{k}_p1\"\n",
    "    p1p2 =  f\"{k}_p1_p2\"\n",
    "    d = sl.get_data(name=control)\n",
    "    d1 = sl.get_data(name=p1p2)\n",
    "    ids = specific_trace_ids[control]\n",
    "    for i in ids:\n",
    "        if frequency_analysis_dict_dspn[control][i] > 0 and frequency_analysis_dict_dspn[p1p2][i] > 0:\n",
    "            diff = frequency_analysis_dict_dspn[p1p2][i] - frequency_analysis_dict_dspn[control][i]\n",
    "            frequency_analysis_dict[k].update({i: diff})\n",
    "            if False:\n",
    "                plt.figure()\n",
    "                plt.title(f\"{diff} Hz\")\n",
    "                v = d.get_voltage(neuron_id=i)\n",
    "                plt.plot(v,c=\"black\")\n",
    "                v1 = d1.get_voltage(neuron_id=i)\n",
    "                plt.plot(v1,c=\"red\")\n",
    "                plt.show()\n",
    "        "
   ]
  },
  {
   "cell_type": "code",
   "execution_count": 9,
   "id": "de9cd398-89e6-43c5-920d-3dc9d1225ae4",
   "metadata": {},
   "outputs": [],
   "source": [
    "do_feature=False"
   ]
  },
  {
   "cell_type": "code",
   "execution_count": 10,
   "id": "77b18899-123c-4f62-aa50-91b843ef0a50",
   "metadata": {},
   "outputs": [],
   "source": [
    "os = dict()\n",
    "us = dict()\n",
    "for ks in [\"0\",\"45\", \"90\"]:\n",
    "    o = dict()\n",
    "    u = dict()\n",
    "    for i in frequency_analysis_dict[ks]:\n",
    "\n",
    "        if i in connectivity[f\"{ks}_p1\"] and not(depolarisation_blocked[f\"{ks}_p1_p2\"][i]):\n",
    "\n",
    "            sums=0\n",
    "            diffs = frequency_analysis_dict[ks][i]\n",
    "            for r, k in connectivity[f\"{ks}_p1\"][i].items():\n",
    "                sums+=k\n",
    "\n",
    "            if sums > 500 and diffs < -10 and do_feature:\n",
    "                u.update({i: dict(num_synapses=sums,diff_Hz=diffs)})\n",
    "\n",
    "            o.update({i: dict(num_synapses=sums,diff_Hz=diffs)})\n",
    "    os.update({ks: o})\n",
    "    us.update({ks: u})"
   ]
  },
  {
   "cell_type": "code",
   "execution_count": 11,
   "id": "185ced0a-735a-4900-a6cf-0b2b3218122f",
   "metadata": {},
   "outputs": [
    {
     "data": {
      "image/png": "[encoded data removed]",
      "text/plain": [
       "<Figure size 432x288 with 1 Axes>"
      ]
     },
     "metadata": {
      "needs_background": "light"
     },
     "output_type": "display_data"
    }
   ],
   "source": [
    "import numpy as np\n",
    "\n",
    "cs = {\"0\":\"black\",\"45\": \"blue\",\"90\":\"purple\"}\n",
    "for k in [\"0\",\"45\",\"90\"]:\n",
    "    x = list()\n",
    "    y = list()\n",
    "    for i in os[k]:\n",
    "        plt.scatter([os[k][i][\"num_synapses\"]],[os[k][i][\"diff_Hz\"]], c=cs[k],alpha=0.4)\n",
    "        x.append(os[k][i][\"num_synapses\"])\n",
    "        y.append(os[k][i][\"diff_Hz\"])\n",
    "        if i in u:\n",
    "            plt.scatter([us[k][i][\"num_synapses\"]],[us[k][i][\"diff_Hz\"]], c=cs[k],alpha=0.4)\n",
    "    a, b = np.polyfit(x, y, 1)\n",
    "\n",
    "    #add points to plot\n",
    "    x = np.array(x)\n",
    "    #add line of best fit to plot\n",
    "    plt.plot(x, a*x+b, c=cs[k])\n",
    "plt.xlabel(\"Number of synapses\")\n",
    "plt.ylabel(\"Change in frequency (Hz)\")\n",
    "plt.savefig(\"Num_synapse_Frequency.svg\")"
   ]
  },
  {
   "cell_type": "code",
   "execution_count": 12,
   "id": "f0e31dbd-5827-4c07-8da4-cd53205b3317",
   "metadata": {},
   "outputs": [
    {
     "name": "stdout",
     "output_type": "stream",
     "text": [
      "CPU times: user 1min 20s, sys: 7.33 s, total: 1min 27s\n",
      "Wall time: 1min 28s\n"
     ]
    }
   ],
   "source": [
    "%%time\n",
    "e_tmps = dict()\n",
    "for e in [\"0\",\"45\",\"90\"]:\n",
    "    tmps = list()\n",
    "    synapses = sl.experiments[f\"{e}_p1\"][\"network_structure\"].data[\"synapses\"]\n",
    "    for s in [*os[e].keys()]:\n",
    "        presynaptic = np.where(synapses.T[1] == s)\n",
    "        \n",
    "        tmps.append(len(presynaptic[0]))\n",
    "    e_tmps.update({e: tmps})      \n",
    "    \n",
    "        \n"
   ]
  },
  {
   "cell_type": "code",
   "execution_count": 13,
   "id": "19df7d4c-4ff4-4285-82d1-3c75a6119dfc",
   "metadata": {},
   "outputs": [
    {
     "data": {
      "image/png": "[encoded data removed]",
      "text/plain": [
       "<Figure size 432x288 with 1 Axes>"
      ]
     },
     "metadata": {
      "needs_background": "light"
     },
     "output_type": "display_data"
    }
   ],
   "source": [
    "for e in e_tmps:\n",
    "    plt.hist(e_tmps[e],histtype=\"step\")"
   ]
  },
  {
   "cell_type": "code",
   "execution_count": 14,
   "id": "da78c4e8-4b85-4abc-b3d8-565bcbb3ede5",
   "metadata": {},
   "outputs": [
    {
     "name": "stdout",
     "output_type": "stream",
     "text": [
      "CPU times: user 1min 22s, sys: 8.25 s, total: 1min 30s\n",
      "Wall time: 1min 30s\n"
     ]
    }
   ],
   "source": [
    "%%time\n",
    "e_tmps = dict()\n",
    "for e in [\"0\",\"45\",\"90\"]:\n",
    "    tmps = list()\n",
    "    synapses = sl.experiments[f\"{e}_p1\"][\"network_structure\"].data[\"synapses\"]\n",
    "    for s in [*os[e].keys()]:\n",
    "        presynaptic = np.where(synapses.T[1] == s)\n",
    "        if len(presynaptic[0]) > 2000:\n",
    "            tmps.append(s)\n",
    "    e_tmps.update({e: tmps})      \n",
    "    \n",
    "        \n"
   ]
  },
  {
   "cell_type": "code",
   "execution_count": 15,
   "id": "c7eea165-fd0c-4303-a50b-70b59f271577",
   "metadata": {},
   "outputs": [
    {
     "data": {
      "image/png": "[encoded data removed]",
      "text/plain": [
       "<Figure size 432x288 with 1 Axes>"
      ]
     },
     "metadata": {
      "needs_background": "light"
     },
     "output_type": "display_data"
    }
   ],
   "source": [
    "import numpy as np\n",
    "\n",
    "cs = {\"0\":\"black\",\"45\": \"blue\",\"90\":\"purple\"}\n",
    "for k in [\"0\",\"45\",\"90\"]:\n",
    "    x = list()\n",
    "    y = list()\n",
    "    for i in os[k]:\n",
    "        \n",
    "        if i in e_tmps[f\"{k}\"]:\n",
    "            plt.scatter([os[k][i][\"num_synapses\"]],[os[k][i][\"diff_Hz\"]], c=cs[k],alpha=0.4)\n",
    "            x.append(os[k][i][\"num_synapses\"])\n",
    "            y.append(os[k][i][\"diff_Hz\"])\n",
    "            if i in u:\n",
    "                plt.scatter([us[k][i][\"num_synapses\"]],[us[k][i][\"diff_Hz\"]], c=cs[k],alpha=0.4)\n",
    "    a, b = np.polyfit(x, y, 1)\n",
    "\n",
    "    #add points to plot\n",
    "    x = np.array(x)\n",
    "    #add line of best fit to plot\n",
    "    plt.plot(x, a*x+b, c=cs[k])\n",
    "plt.xlabel(\"Number of synapses\")\n",
    "plt.ylabel(\"Change in frequency (Hz)\")\n",
    "plt.savefig(\"Num_synapse_Frequency.svg\")"
   ]
  },
  {
   "cell_type": "code",
   "execution_count": 16,
   "id": "21e53a70-4b9c-4dbe-ad7c-e85b865a77ab",
   "metadata": {},
   "outputs": [],
   "source": [
    "import h5py\n",
    "import os\n",
    "with h5py.File(os.path.join(\"synapses_frequency\",f\"{group}_synapse_frequency.h5\"), 'w') as hf:\n",
    "    \n",
    "    hf_add = hf.create_group(\"depolarisation_blocked\")\n",
    "    for f,data in depolarisation_blocked.items():\n",
    "        grp = hf_add.create_group(f)\n",
    "        for i, true_or_false in data.items():\n",
    "            grp.create_dataset(f\"{i}\", data=np.array([true_or_false]))\n",
    "            \n",
    "    hf_add = hf.create_group(\"connectivity\")\n",
    "    for f,data in connectivity.items():\n",
    "        grp = hf_add.create_group(str(f))\n",
    "        for dest, pre in data.items():\n",
    "            grps = grp.create_group(str(dest))\n",
    "            for i, num in pre.items():\n",
    "                grps.create_dataset(f\"{i}\", data=np.array([num]))\n",
    "            \n",
    "    hf_add = hf.create_group(\"frequency_analysis_dict_dspn\")\n",
    "    for f,data in frequency_analysis_dict_dspn.items():\n",
    "        grp = hf_add.create_group(str(f))\n",
    "        for i, freq in data.items():\n",
    "            grp.create_dataset(f\"{i}\", data=np.array([freq]))\n",
    "            \n",
    "    \n",
    "    hf.close()\n"
   ]
  },
  {
   "cell_type": "code",
   "execution_count": 17,
   "id": "65e8a559-c515-45b0-b1df-b252edba351d",
   "metadata": {},
   "outputs": [],
   "source": [
    "with h5py.File(os.path.join(\"synapses_frequency\",f\"{group}_synapses.h5\"), 'w') as f:\n",
    "        \n",
    "    for e in [\"0\",\"45\",\"90\"]:\n",
    "        synapses = sl.experiments[f\"{e}_p1\"][\"network_structure\"].data[\"synapses\"]\n",
    "        f.create_dataset(f\"{e}\", data=synapses)\n",
    "        "
   ]
  }
 ],
 "metadata": {
  "kernelspec": {
   "display_name": "Python 3",
   "language": "python",
   "name": "python3"
  },
  "language_info": {
   "codemirror_mode": {
    "name": "ipython",
    "version": 3
   },
   "file_extension": ".py",
   "mimetype": "text/x-python",
   "name": "python",
   "nbconvert_exporter": "python",
   "pygments_lexer": "ipython3",
   "version": "3.7.10"
  }
 },
 "nbformat": 4,
 "nbformat_minor": 5
}
