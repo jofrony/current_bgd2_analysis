{
 "cells": [
  {
   "cell_type": "code",
   "execution_count": 1,
   "id": "843efbd7-7628-473d-9912-5dee9e264f88",
   "metadata": {},
   "outputs": [],
   "source": [
    "import sys\n",
    "import os\n",
    "sys.path.append(os.environ[\"CODE_REPOSITORY\"])\n",
    "from code_repository.hotones.thetools import *\n",
    "from snudda.utils.load import SnuddaLoad"
   ]
  },
  {
   "cell_type": "code",
   "execution_count": 2,
   "id": "4db2b207-eded-4ff7-b7a9-63bf42c79bbc",
   "metadata": {},
   "outputs": [],
   "source": [
    "group = \"complete_network\""
   ]
  },
  {
   "cell_type": "code",
   "execution_count": 3,
   "id": "66a95f13-bb0f-4da2-b346-9701d92a723b",
   "metadata": {},
   "outputs": [],
   "source": [
    "external = os.path.join(\"/media\",\"jofrony\",\"2TB\",\"dardel\",\"current_bgd2\",\"population_unit\", group, \"supercomputer\", \"networks\")"
   ]
  },
  {
   "cell_type": "code",
   "execution_count": 4,
   "id": "970debed-c9c3-40cf-bcb4-f467e253feba",
   "metadata": {},
   "outputs": [],
   "source": [
    "e = Experiments()\n",
    "e.add_experiment(name=\"p0125_p1\",\n",
    "                 color=\"black\",\n",
    "                 label=\"p=0.125\",\n",
    "                 network=\"network-synapses.hdf5\",\n",
    "                 path=os.path.join(external, \"pdc_network_2022-08-31-p0125\"),\n",
    "                 output=\"network_output_network-synapses_cell_ids_current_injection_dardel_2022-09-21-13-44-09_p1.hdf5\")\n",
    "e.add_experiment(name=\"p0125_p1_p2\",\n",
    "                 color=\"black\",\n",
    "                 label=\"p=0.125\",\n",
    "                 network=\"network-synapses.hdf5\",\n",
    "                 path=os.path.join(external, \"pdc_network_2022-08-31-p0125\"),\n",
    "                 output=\"network_output_network-synapses_cell_ids_current_injection_dardel_2022-09-21-13-44-12_p1_p2.hdf5\")\n",
    "e.add_experiment(name=\"p025_p1\",\n",
    "                 color=\"blue\",\n",
    "                 label=\"p=0.25\",\n",
    "                 network=\"network-synapses.hdf5\",\n",
    "                 path=os.path.join(external, \"pdc_network_2022-08-31-p025\"),\n",
    "                 output=\"network_output_network-synapses_cell_ids_current_injection_dardel_2022-09-21-13-45-19_p1.hdf5\")\n",
    "e.add_experiment(name=\"p025_p1_p2\",\n",
    "                 color=\"blue\",\n",
    "                 label=\"p=0.25\",\n",
    "                 network=\"network-synapses.hdf5\",\n",
    "                 path=os.path.join(external, \"pdc_network_2022-08-31-p025\"),\n",
    "                 output=\"network_output_network-synapses_cell_ids_current_injection_dardel_2022-09-21-13-45-26_p1_p2.hdf5\")\n",
    "e.add_experiment(name=\"p05_p1\",\n",
    "                 color=\"green\",\n",
    "                 label=\"p=0.5\",\n",
    "                 network=\"network-synapses.hdf5\",\n",
    "                 path=os.path.join(external, \"pdc_network_2022-08-31-p05\"),\n",
    "                 output=\"network_output_network-synapses_cell_ids_current_injection_dardel_2022-09-21-13-46-27_p1.hdf5\")\n",
    "e.add_experiment(name=\"p05_p1_p2\",\n",
    "                 color=\"green\",\n",
    "                 label=\"p=0.5\",\n",
    "                 network=\"network-synapses.hdf5\",\n",
    "                 path=os.path.join(external, \"pdc_network_2022-08-31-p05\"),\n",
    "                 output=\"network_output_network-synapses_cell_ids_current_injection_dardel_2022-09-21-13-46-40_p1_p2.hdf5\")"
   ]
  },
  {
   "cell_type": "code",
   "execution_count": 5,
   "id": "16e7e78c-d957-4211-943e-6f4474625408",
   "metadata": {},
   "outputs": [
    {
     "name": "stdout",
     "output_type": "stream",
     "text": [
      "Loading 40000 neurons with 35040256 synapses and 2531 gap junctions\n",
      "Loading /media/jofrony/2TB/dardel/current_bgd2/population_unit/complete_network/supercomputer/networks/pdc_network_2022-08-31-p0125/simulation/network_output_network-synapses_cell_ids_current_injection_dardel_2022-09-21-13-44-09_p1.hdf5\n",
      "Loading 40000 neurons with 35040256 synapses and 2531 gap junctions\n",
      "Loading /media/jofrony/2TB/dardel/current_bgd2/population_unit/complete_network/supercomputer/networks/pdc_network_2022-08-31-p0125/simulation/network_output_network-synapses_cell_ids_current_injection_dardel_2022-09-21-13-44-12_p1_p2.hdf5\n",
      "Loading 40000 neurons with 35040256 synapses and 2531 gap junctions\n",
      "Loading /media/jofrony/2TB/dardel/current_bgd2/population_unit/complete_network/supercomputer/networks/pdc_network_2022-08-31-p025/simulation/network_output_network-synapses_cell_ids_current_injection_dardel_2022-09-21-13-45-19_p1.hdf5\n",
      "Loading 40000 neurons with 35040256 synapses and 2531 gap junctions\n",
      "Loading /media/jofrony/2TB/dardel/current_bgd2/population_unit/complete_network/supercomputer/networks/pdc_network_2022-08-31-p025/simulation/network_output_network-synapses_cell_ids_current_injection_dardel_2022-09-21-13-45-26_p1_p2.hdf5\n",
      "Loading 40000 neurons with 35040256 synapses and 2531 gap junctions\n",
      "Loading /media/jofrony/2TB/dardel/current_bgd2/population_unit/complete_network/supercomputer/networks/pdc_network_2022-08-31-p05/simulation/network_output_network-synapses_cell_ids_current_injection_dardel_2022-09-21-13-46-27_p1.hdf5\n",
      "Loading 40000 neurons with 35040256 synapses and 2531 gap junctions\n",
      "Loading /media/jofrony/2TB/dardel/current_bgd2/population_unit/complete_network/supercomputer/networks/pdc_network_2022-08-31-p05/simulation/network_output_network-synapses_cell_ids_current_injection_dardel_2022-09-21-13-46-40_p1_p2.hdf5\n"
     ]
    }
   ],
   "source": [
    "sl = LoadSimulations(experiments=e)\n",
    "sl.load_network_file(load_synapses=True)"
   ]
  },
  {
   "cell_type": "code",
   "execution_count": 6,
   "id": "413dd041-88b2-4e55-bf54-38aa787986d6",
   "metadata": {
    "scrolled": true,
    "tags": []
   },
   "outputs": [
    {
     "data": {
      "text/plain": [
       "{'p0125_p1': array([   12,   241,   497,   782,   951,  1252,  1464,  1780,  1976,\n",
       "         2217,  2346,  2521,  2901,  3156,  3549,  3762,  3902,  4103,\n",
       "         4431,  4793,  4942,  5184,  5494,  5684,  6003,  6220,  6514,\n",
       "         6778,  6935,  7177,  7309,  7481,  7685,  7878,  8248,  8473,\n",
       "         8788,  9011,  9411,  9730,  9907, 10243, 10476, 10712, 10850,\n",
       "        11047, 11352, 11572, 11791, 11931, 12099, 12344, 12577, 12758,\n",
       "        13085, 13257, 13482, 13697, 13969, 14255, 14586, 14690, 15125,\n",
       "        15438, 15666, 15841, 16097, 16232, 16485, 16776, 17131, 17398,\n",
       "        17715, 17977, 18415, 18605, 18824, 19090, 19401, 19694, 19944,\n",
       "        20193, 20567, 20807, 20949, 21277, 21471, 21701, 21938, 22231,\n",
       "        22442, 22818, 23083, 23270, 23477, 23774, 24205, 24443, 24655,\n",
       "        24980, 25223, 25416, 25670, 25840, 26012, 26244, 26498, 26724,\n",
       "        26926, 27119, 27373, 27666, 27840, 28097, 28415, 28693, 28910,\n",
       "        29047, 29237, 29382, 29703, 29850, 30146, 30372, 30667, 30884,\n",
       "        31207, 31470, 31856, 32055, 32334, 32543, 32871, 33206, 33519,\n",
       "        33789, 34022, 34349, 34572, 34771, 34985, 35200, 35533, 35841,\n",
       "        36071, 36246, 36435, 36613, 36800, 36948, 37242, 37572, 37748,\n",
       "        37981, 38188, 38405, 38573, 38706, 38968, 39212, 39426, 39678]),\n",
       " 'p0125_p1_p2': array([   12,   241,   497,   782,   951,  1252,  1464,  1780,  1976,\n",
       "         2217,  2346,  2521,  2901,  3156,  3549,  3762,  3902,  4103,\n",
       "         4431,  4793,  4942,  5184,  5494,  5684,  6003,  6220,  6514,\n",
       "         6778,  6935,  7177,  7309,  7481,  7685,  7878,  8248,  8473,\n",
       "         8788,  9011,  9411,  9730,  9907, 10243, 10476, 10712, 10850,\n",
       "        11047, 11352, 11572, 11791, 11931, 12099, 12344, 12577, 12758,\n",
       "        13085, 13257, 13482, 13697, 13969, 14255, 14586, 14690, 15125,\n",
       "        15438, 15666, 15841, 16097, 16232, 16485, 16776, 17131, 17398,\n",
       "        17715, 17977, 18415, 18605, 18824, 19090, 19401, 19694, 19944,\n",
       "        20193, 20567, 20807, 20949, 21277, 21471, 21701, 21938, 22231,\n",
       "        22442, 22818, 23083, 23270, 23477, 23774, 24205, 24443, 24655,\n",
       "        24980, 25223, 25416, 25670, 25840, 26012, 26244, 26498, 26724,\n",
       "        26926, 27119, 27373, 27666, 27840, 28097, 28415, 28693, 28910,\n",
       "        29047, 29237, 29382, 29703, 29850, 30146, 30372, 30667, 30884,\n",
       "        31207, 31470, 31856, 32055, 32334, 32543, 32871, 33206, 33519,\n",
       "        33789, 34022, 34349, 34572, 34771, 34985, 35200, 35533, 35841,\n",
       "        36071, 36246, 36435, 36613, 36800, 36948, 37242, 37572, 37748,\n",
       "        37981, 38188, 38405, 38573, 38706, 38968, 39212, 39426, 39678]),\n",
       " 'p025_p1': array([    4,   182,   383,   608,   789,   964,  1221,  1469,  1719,\n",
       "         1902,  2121,  2358,  2651,  2960,  3172,  3417,  3677,  3888,\n",
       "         4084,  4480,  4756,  5010,  5223,  5422,  5665,  5954,  6215,\n",
       "         6450,  6727,  6932,  7193,  7436,  7638,  7767,  8048,  8315,\n",
       "         8618,  8891,  9198,  9508,  9844, 10048, 10412, 10673, 10851,\n",
       "        11144, 11368, 11565, 11845, 12049, 12392, 12516, 12694, 12981,\n",
       "        13172, 13425, 13712, 13967, 14190, 14394, 14669, 14932, 15272,\n",
       "        15506, 15780, 16022, 16290, 16510, 16855, 17131, 17298, 17508,\n",
       "        17781, 18028, 18338, 18590, 18823, 19096, 19359, 19543, 19777,\n",
       "        20037, 20239, 20563, 20755, 20941, 21246, 21492, 21704, 21929,\n",
       "        22232, 22442, 22658, 22876, 23019, 23320, 23582, 23822, 24126,\n",
       "        24429, 24638, 24860, 25026, 25290, 25529, 25834, 26041, 26362,\n",
       "        26551, 26809, 27094, 27183, 27542, 27740, 27932, 28264, 28543,\n",
       "        28832, 29043, 29368, 29617, 29884, 30193, 30384, 30632, 30887,\n",
       "        31253, 31470, 31689, 31943, 32208, 32452, 32768, 32927, 33144,\n",
       "        33444, 33692, 33904, 34204, 34479, 34775, 34991, 35338, 35572,\n",
       "        35768, 36017, 36239, 36438, 36737, 36992, 37293, 37635, 37928,\n",
       "        38122, 38380, 38569, 38863, 39081, 39436, 39689, 39875]),\n",
       " 'p025_p1_p2': array([    4,   182,   383,   608,   789,   964,  1221,  1469,  1719,\n",
       "         1902,  2121,  2358,  2651,  2960,  3172,  3417,  3677,  3888,\n",
       "         4084,  4480,  4756,  5010,  5223,  5422,  5665,  5954,  6215,\n",
       "         6450,  6727,  6932,  7193,  7436,  7638,  7767,  8048,  8315,\n",
       "         8618,  8891,  9198,  9508,  9844, 10048, 10412, 10673, 10851,\n",
       "        11144, 11368, 11565, 11845, 12049, 12392, 12516, 12694, 12981,\n",
       "        13172, 13425, 13712, 13967, 14190, 14394, 14669, 14932, 15272,\n",
       "        15506, 15780, 16022, 16290, 16510, 16855, 17131, 17298, 17508,\n",
       "        17781, 18028, 18338, 18590, 18823, 19096, 19359, 19543, 19777,\n",
       "        20037, 20239, 20563, 20755, 20941, 21246, 21492, 21704, 21929,\n",
       "        22232, 22442, 22658, 22876, 23019, 23320, 23582, 23822, 24126,\n",
       "        24429, 24638, 24860, 25026, 25290, 25529, 25834, 26041, 26362,\n",
       "        26551, 26809, 27094, 27183, 27542, 27740, 27932, 28264, 28543,\n",
       "        28832, 29043, 29368, 29617, 29884, 30193, 30384, 30632, 30887,\n",
       "        31253, 31470, 31689, 31943, 32208, 32452, 32768, 32927, 33144,\n",
       "        33444, 33692, 33904, 34204, 34479, 34775, 34991, 35338, 35572,\n",
       "        35768, 36017, 36239, 36438, 36737, 36992, 37293, 37635, 37928,\n",
       "        38122, 38380, 38569, 38863, 39081, 39436, 39689, 39875]),\n",
       " 'p05_p1': array([    4,   224,   503,   782,   974,  1224,  1381,  1674,  1871,\n",
       "         2060,  2328,  2521,  2768,  3017,  3235,  3473,  3712,  3913,\n",
       "         4168,  4440,  4692,  4890,  5131,  5413,  5680,  5960,  6170,\n",
       "         6425,  6661,  6914,  7127,  7387,  7570,  7744,  7982,  8218,\n",
       "         8510,  8799,  9058,  9408,  9736,  9988, 10254, 10531, 10809,\n",
       "        10991, 11259, 11441, 11731, 11941, 12184, 12411, 12597, 12815,\n",
       "        13074, 13267, 13502, 13781, 14029, 14321, 14524, 14807, 15074,\n",
       "        15287, 15554, 15776, 15981, 16224, 16479, 16694, 17010, 17208,\n",
       "        17404, 17651, 17867, 18149, 18366, 18591, 18833, 19095, 19451,\n",
       "        19631, 19927, 20162, 20380, 20641, 20875, 21162, 21409, 21707,\n",
       "        21924, 22189, 22433, 22664, 22866, 23093, 23343, 23585, 23835,\n",
       "        24068, 24378, 24595, 24869, 25087, 25354, 25619, 25897, 26202,\n",
       "        26442, 26741, 26992, 27183, 27466, 27727, 27922, 28241, 28479,\n",
       "        28775, 28990, 29238, 29467, 29730, 30009, 30250, 30509, 30700,\n",
       "        31007, 31283, 31504, 31747, 32038, 32274, 32586, 32875, 33106,\n",
       "        33392, 33582, 33787, 34024, 34241, 34471, 34706, 34924, 35229,\n",
       "        35481, 35693, 35914, 36176, 36393, 36660, 36922, 37164, 37349,\n",
       "        37572, 37863, 38107, 38349, 38560, 38838, 39067, 39367, 39607,\n",
       "        39856]),\n",
       " 'p05_p1_p2': array([    4,   224,   503,   782,   974,  1224,  1381,  1674,  1871,\n",
       "         2060,  2328,  2521,  2768,  3017,  3235,  3473,  3712,  3913,\n",
       "         4168,  4440,  4692,  4890,  5131,  5413,  5680,  5960,  6170,\n",
       "         6425,  6661,  6914,  7127,  7387,  7570,  7744,  7982,  8218,\n",
       "         8510,  8799,  9058,  9408,  9736,  9988, 10254, 10531, 10809,\n",
       "        10991, 11259, 11441, 11731, 11941, 12184, 12411, 12597, 12815,\n",
       "        13074, 13267, 13502, 13781, 14029, 14321, 14524, 14807, 15074,\n",
       "        15287, 15554, 15776, 15981, 16224, 16479, 16694, 17010, 17208,\n",
       "        17404, 17651, 17867, 18149, 18366, 18591, 18833, 19095, 19451,\n",
       "        19631, 19927, 20162, 20380, 20641, 20875, 21162, 21409, 21707,\n",
       "        21924, 22189, 22433, 22664, 22866, 23093, 23343, 23585, 23835,\n",
       "        24068, 24378, 24595, 24869, 25087, 25354, 25619, 25897, 26202,\n",
       "        26442, 26741, 26992, 27183, 27466, 27727, 27922, 28241, 28479,\n",
       "        28775, 28990, 29238, 29467, 29730, 30009, 30250, 30509, 30700,\n",
       "        31007, 31283, 31504, 31747, 32038, 32274, 32586, 32875, 33106,\n",
       "        33392, 33582, 33787, 34024, 34241, 34471, 34706, 34924, 35229,\n",
       "        35481, 35693, 35914, 36176, 36393, 36660, 36922, 37164, 37349,\n",
       "        37572, 37863, 38107, 38349, 38560, 38838, 39067, 39367, 39607,\n",
       "        39856])}"
      ]
     },
     "execution_count": 6,
     "metadata": {},
     "output_type": "execute_result"
    }
   ],
   "source": [
    "neuron_type = \"dSPN\"\n",
    "specific_trace_ids = sl.get_population_units(neuron_type=neuron_type, population_unit=1)\n",
    "specific_trace_ids = {k: v[::int(len(v)/160)] for k, v in specific_trace_ids.items()}\n",
    "specific_trace_ids"
   ]
  },
  {
   "cell_type": "code",
   "execution_count": 7,
   "id": "e7dca981-9838-4154-80e7-c2592beab4b1",
   "metadata": {},
   "outputs": [
    {
     "data": {
      "text/plain": [
       "161"
      ]
     },
     "execution_count": 7,
     "metadata": {},
     "output_type": "execute_result"
    }
   ],
   "source": [
    "max_post = specific_trace_ids[\"p0125_p1\"].size - 1\n",
    "max_post"
   ]
  },
  {
   "cell_type": "code",
   "execution_count": 8,
   "id": "4ad75c73-baba-456d-8c4c-c3e6137998f1",
   "metadata": {},
   "outputs": [
    {
     "name": "stdout",
     "output_type": "stream",
     "text": [
      "CPU times: user 5min 55s, sys: 1min 6s, total: 7min 1s\n",
      "Wall time: 8min 17s\n"
     ]
    }
   ],
   "source": [
    "%%time\n",
    "depolarisation_blocked = depolarisation_block(data_obj=sl, specific_trace_ids=specific_trace_ids)\n",
    "connectivity,_,_ = connectivity_analysis(data_obj=sl, pre=[\"dSPN\", \"iSPN\", \"FS\"], post=neuron_type, max_post=max_post, \n",
    "                                     test_populations=specific_trace_ids)\n",
    "frequency_analysis_dict_dspn = frequency_analysis(data_obj=sl, neuron_type=neuron_type, \n",
    "                                                  trace_ids=specific_trace_ids, parameters={\"start\": 0.5, \"end\": 2.5})"
   ]
  },
  {
   "cell_type": "code",
   "execution_count": 9,
   "id": "3817b001-2e39-483a-8e87-0cc9cdde6f9b",
   "metadata": {},
   "outputs": [
    {
     "name": "stdout",
     "output_type": "stream",
     "text": [
      "CPU times: user 4.13 ms, sys: 0 ns, total: 4.13 ms\n",
      "Wall time: 4.3 ms\n"
     ]
    }
   ],
   "source": [
    "%%time\n",
    "frequency_analysis_dict = {f\"{i}\" : dict() for i in [\"p0125\",\"p025\",\"p05\"]}\n",
    "import matplotlib.pyplot as plt\n",
    "for k in frequency_analysis_dict:\n",
    "    control = f\"{k}_p1\"\n",
    "    p1p2 =  f\"{k}_p1_p2\"\n",
    "    d = sl.get_data(name=control)\n",
    "    d1 = sl.get_data(name=p1p2)\n",
    "    ids = specific_trace_ids[control]\n",
    "    for i in ids:\n",
    "        if frequency_analysis_dict_dspn[control][i] > 0 and frequency_analysis_dict_dspn[p1p2][i] > 0:\n",
    "            diff = frequency_analysis_dict_dspn[p1p2][i] - frequency_analysis_dict_dspn[control][i]\n",
    "            frequency_analysis_dict[k].update({i: diff})\n",
    "            if False:\n",
    "                plt.figure()\n",
    "                plt.title(f\"{diff} Hz\")\n",
    "                v = d.get_voltage(neuron_id=i)\n",
    "                plt.plot(v,c=\"black\")\n",
    "                v1 = d1.get_voltage(neuron_id=i)\n",
    "                plt.plot(v1,c=\"red\")\n",
    "                plt.show()\n",
    "        "
   ]
  },
  {
   "cell_type": "code",
   "execution_count": 10,
   "id": "de9cd398-89e6-43c5-920d-3dc9d1225ae4",
   "metadata": {},
   "outputs": [],
   "source": [
    "do_feature=False"
   ]
  },
  {
   "cell_type": "code",
   "execution_count": 11,
   "id": "77b18899-123c-4f62-aa50-91b843ef0a50",
   "metadata": {},
   "outputs": [],
   "source": [
    "os = dict()\n",
    "us = dict()\n",
    "for ks in [\"p0125\",\"p025\", \"p05\"]:\n",
    "    o = dict()\n",
    "    u = dict()\n",
    "    for i in frequency_analysis_dict[ks]:\n",
    "\n",
    "        if i in connectivity[f\"{ks}_p1\"] and not(depolarisation_blocked[f\"{ks}_p1_p2\"][i]):\n",
    "\n",
    "            sums=0\n",
    "            diffs = frequency_analysis_dict[ks][i]\n",
    "            for r, k in connectivity[f\"{ks}_p1\"][i].items():\n",
    "                sums+=k\n",
    "\n",
    "            if sums > 500 and diffs < -10 and do_feature:\n",
    "                u.update({i: dict(num_synapses=sums,diff_Hz=diffs)})\n",
    "\n",
    "            o.update({i: dict(num_synapses=sums,diff_Hz=diffs)})\n",
    "    os.update({ks: o})\n",
    "    us.update({ks: u})"
   ]
  },
  {
   "cell_type": "code",
   "execution_count": 12,
   "id": "185ced0a-735a-4900-a6cf-0b2b3218122f",
   "metadata": {},
   "outputs": [
    {
     "data": {
      "image/png": "[encoded data removed]",
      "text/plain": [
       "<Figure size 432x288 with 1 Axes>"
      ]
     },
     "metadata": {
      "needs_background": "light"
     },
     "output_type": "display_data"
    }
   ],
   "source": [
    "import numpy as np\n",
    "\n",
    "cs = {\"p05\":\"black\",\"p025\": \"blue\",\"p0125\":\"purple\"}\n",
    "for k in [\"p0125\",\"p025\",\"p05\"]:\n",
    "    x = list()\n",
    "    y = list()\n",
    "    for i in os[k]:\n",
    "        plt.scatter([os[k][i][\"num_synapses\"]],[os[k][i][\"diff_Hz\"]], c=cs[k],alpha=0.4)\n",
    "        x.append(os[k][i][\"num_synapses\"])\n",
    "        y.append(os[k][i][\"diff_Hz\"])\n",
    "        if i in u:\n",
    "            plt.scatter([us[k][i][\"num_synapses\"]],[us[k][i][\"diff_Hz\"]], c=cs[k],alpha=0.4)\n",
    "    a, b = np.polyfit(x, y, 1)\n",
    "\n",
    "    #add points to plot\n",
    "    x = np.array(x)\n",
    "    #add line of best fit to plot\n",
    "    plt.plot(x, a*x+b, c=cs[k])\n",
    "plt.xlabel(\"Number of synapses\")\n",
    "plt.ylabel(\"Change in frequency (Hz)\")\n",
    "plt.savefig(\"Num_synapse_Frequency.svg\")"
   ]
  },
  {
   "cell_type": "code",
   "execution_count": 13,
   "id": "f0e31dbd-5827-4c07-8da4-cd53205b3317",
   "metadata": {},
   "outputs": [
    {
     "name": "stdout",
     "output_type": "stream",
     "text": [
      "CPU times: user 1min 16s, sys: 4.32 s, total: 1min 21s\n",
      "Wall time: 1min 21s\n"
     ]
    }
   ],
   "source": [
    "%%time\n",
    "e_tmps = dict()\n",
    "for e in [\"p0125\",\"p025\",\"p05\"]:\n",
    "    tmps = list()\n",
    "    synapses = sl.experiments[f\"{e}_p1\"][\"network_structure\"].data[\"synapses\"]\n",
    "    for s in [*os[e].keys()]:\n",
    "        presynaptic = np.where(synapses.T[1] == s)\n",
    "        \n",
    "        tmps.append(len(presynaptic[0]))\n",
    "    e_tmps.update({e: tmps})      \n",
    "    \n",
    "        \n"
   ]
  },
  {
   "cell_type": "code",
   "execution_count": 14,
   "id": "19df7d4c-4ff4-4285-82d1-3c75a6119dfc",
   "metadata": {},
   "outputs": [
    {
     "data": {
      "image/png": "[encoded data removed]",
      "text/plain": [
       "<Figure size 432x288 with 1 Axes>"
      ]
     },
     "metadata": {
      "needs_background": "light"
     },
     "output_type": "display_data"
    }
   ],
   "source": [
    "for e in e_tmps:\n",
    "    plt.hist(e_tmps[e],histtype=\"step\")"
   ]
  },
  {
   "cell_type": "code",
   "execution_count": 15,
   "id": "da78c4e8-4b85-4abc-b3d8-565bcbb3ede5",
   "metadata": {},
   "outputs": [
    {
     "name": "stdout",
     "output_type": "stream",
     "text": [
      "CPU times: user 1min 18s, sys: 4.8 s, total: 1min 23s\n",
      "Wall time: 1min 23s\n"
     ]
    }
   ],
   "source": [
    "%%time\n",
    "e_tmps = dict()\n",
    "for e in [\"p0125\",\"p025\",\"p05\"]:\n",
    "    tmps = list()\n",
    "    synapses = sl.experiments[f\"{e}_p1\"][\"network_structure\"].data[\"synapses\"]\n",
    "    for s in [*os[e].keys()]:\n",
    "        presynaptic = np.where(synapses.T[1] == s)\n",
    "        if len(presynaptic[0]) > 1500:\n",
    "            tmps.append(s)\n",
    "    e_tmps.update({e: tmps})      \n",
    "    \n",
    "        \n"
   ]
  },
  {
   "cell_type": "code",
   "execution_count": 16,
   "id": "c7eea165-fd0c-4303-a50b-70b59f271577",
   "metadata": {},
   "outputs": [
    {
     "data": {
      "image/png": "[encoded data removed]",
      "text/plain": [
       "<Figure size 432x288 with 1 Axes>"
      ]
     },
     "metadata": {
      "needs_background": "light"
     },
     "output_type": "display_data"
    }
   ],
   "source": [
    "import numpy as np\n",
    "\n",
    "cs = {\"p05\":\"black\",\"p025\": \"blue\",\"p0125\":\"purple\"}\n",
    "for k in [\"p0125\",\"p025\",\"p05\"]:\n",
    "    x = list()\n",
    "    y = list()\n",
    "    for i in os[k]:\n",
    "        \n",
    "        if i in e_tmps[f\"{k}\"]:\n",
    "            plt.scatter([os[k][i][\"num_synapses\"]],[os[k][i][\"diff_Hz\"]], c=cs[k],alpha=0.4)\n",
    "            x.append(os[k][i][\"num_synapses\"])\n",
    "            y.append(os[k][i][\"diff_Hz\"])\n",
    "            if i in u:\n",
    "                plt.scatter([us[k][i][\"num_synapses\"]],[us[k][i][\"diff_Hz\"]], c=cs[k],alpha=0.4)\n",
    "    a, b = np.polyfit(x, y, 1)\n",
    "\n",
    "    #add points to plot\n",
    "    x = np.array(x)\n",
    "    #add line of best fit to plot\n",
    "    plt.plot(x, a*x+b, c=cs[k])\n",
    "plt.xlabel(\"Number of synapses\")\n",
    "plt.ylabel(\"Change in frequency (Hz)\")\n",
    "plt.savefig(\"Num_synapse_Frequency.svg\")"
   ]
  },
  {
   "cell_type": "code",
   "execution_count": 17,
   "id": "70dbbc24-f53e-4cd9-81c0-fabe66a848df",
   "metadata": {},
   "outputs": [],
   "source": [
    "import h5py\n",
    "import os\n",
    "with h5py.File(os.path.join(\"synapses_frequency\",f\"{group}_synapse_frequency.h5\"), 'w') as hf:\n",
    "    \n",
    "    hf_add = hf.create_group(\"depolarisation_blocked\")\n",
    "    for f,data in depolarisation_blocked.items():\n",
    "        grp = hf_add.create_group(f)\n",
    "        for i, true_or_false in data.items():\n",
    "            grp.create_dataset(f\"{i}\", data=np.array([true_or_false]))\n",
    "            \n",
    "    hf_add = hf.create_group(\"connectivity\")\n",
    "    for f,data in connectivity.items():\n",
    "        grp = hf_add.create_group(str(f))\n",
    "        for dest, pre in data.items():\n",
    "            grps = grp.create_group(str(dest))\n",
    "            for i, num in pre.items():\n",
    "                grps.create_dataset(f\"{i}\", data=np.array([num]))\n",
    "            \n",
    "    hf_add = hf.create_group(\"frequency_analysis_dict_dspn\")\n",
    "    for f,data in frequency_analysis_dict_dspn.items():\n",
    "        grp = hf_add.create_group(str(f))\n",
    "        for i, freq in data.items():\n",
    "            grp.create_dataset(f\"{i}\", data=np.array([freq]))\n",
    "            \n",
    "    \n",
    "    hf.close()\n"
   ]
  },
  {
   "cell_type": "code",
   "execution_count": 18,
   "id": "b07b33ff-f5af-4493-b352-dab9154269bd",
   "metadata": {},
   "outputs": [],
   "source": [
    "with h5py.File(os.path.join(\"synapses_frequency\",f\"{group}_synapses.h5\"), 'w') as f:\n",
    "        \n",
    "    for e in [\"p0125\",\"p025\", \"p05\"]:\n",
    "        synapses = sl.experiments[f\"{e}_p1\"][\"network_structure\"].data[\"synapses\"]\n",
    "        f.create_dataset(f\"{e}\", data=synapses)\n",
    "        "
   ]
  },
  {
   "cell_type": "code",
   "execution_count": null,
   "id": "554ea9a7-8c8c-4920-9bc1-8eaa652982a1",
   "metadata": {},
   "outputs": [],
   "source": []
  }
 ],
 "metadata": {
  "kernelspec": {
   "display_name": "Python 3",
   "language": "python",
   "name": "python3"
  },
  "language_info": {
   "codemirror_mode": {
    "name": "ipython",
    "version": 3
   },
   "file_extension": ".py",
   "mimetype": "text/x-python",
   "name": "python",
   "nbconvert_exporter": "python",
   "pygments_lexer": "ipython3",
   "version": "3.7.10"
  }
 },
 "nbformat": 4,
 "nbformat_minor": 5
}
