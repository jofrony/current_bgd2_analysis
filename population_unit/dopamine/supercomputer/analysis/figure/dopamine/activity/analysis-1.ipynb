{
 "cells": [
  {
   "cell_type": "code",
   "execution_count": null,
   "id": "b4d4534a-8fa5-4a82-9bd1-762ad9758ee4",
   "metadata": {},
   "outputs": [],
   "source": []
  },
  {
   "cell_type": "code",
   "execution_count": null,
   "id": "d1715454-3375-4537-8e08-ec86ead9da83",
   "metadata": {},
   "outputs": [],
   "source": [
    "import sys\n",
    "import os\n",
    "sys.path.append(os.environ[\"CODE_REPOSITORY\"])\n",
    "from code_repository.hotones.thetools import *\n",
    "from snudda.utils.load import SnuddaLoad\n",
    "import numpy as np"
   ]
  },
  {
   "cell_type": "code",
   "execution_count": null,
   "id": "daafd92f-2ef6-49f2-bdfe-1dfa9cdf36b4",
   "metadata": {},
   "outputs": [],
   "source": [
    "external = os.path.join(\"/media\",\"jofrony\", \"2TB\", \"dardel\",\"current_bgd2\",\"population_unit\", \"dopamine\", \"supercomputer\", \"networks\")"
   ]
  },
  {
   "cell_type": "code",
   "execution_count": null,
   "id": "63c87b71-ddf6-4b0e-b446-0cddacf61866",
   "metadata": {},
   "outputs": [],
   "source": [
    "folder = \"voltage_traces\""
   ]
  },
  {
   "cell_type": "code",
   "execution_count": null,
   "id": "5f724b23-687a-46ba-8aea-22c349529675",
   "metadata": {},
   "outputs": [],
   "source": [
    "e = Experiments()\n",
    "e.add_experiment(name=\"p1_noDA\",\n",
    "                 color=\"black\",\n",
    "                 label=\"2500 ms stimulation\",\n",
    "                 network=\"network-synapses.hdf5\",\n",
    "                 path=os.path.join(external, \"pdc_network_2022-11-27\"),\n",
    "                 output=\"network_output_external-input-dardel-2022-11-28-10-21-49-p1_no_DA.hdf5\")\n",
    "e.add_experiment(name=\"p1_DA\",\n",
    "                 color=\"red\",\n",
    "                 label=\"2500 ms stimulation\",\n",
    "                 network=\"network-synapses.hdf5\",\n",
    "                 path=os.path.join(external, \"pdc_network_2022-11-27\"),\n",
    "                 output=\"network_output_external-input-dardel-2022-11-28-10-21-49-p1_dopamine_modulation_with_receptors_method_alpha_background_tstart_500_tonic_0.2_gmax_increase_0.8_tau_500.hdf5\")\n",
    "\n",
    "\n",
    "\n",
    "   "
   ]
  },
  {
   "cell_type": "code",
   "execution_count": null,
   "id": "57af7d5b-ea7e-49f4-ba95-67efb839633c",
   "metadata": {},
   "outputs": [],
   "source": [
    "sl = LoadSimulations(experiments=e)\n",
    "sl.load_network_file(load_synapses=False)"
   ]
  },
  {
   "cell_type": "code",
   "execution_count": null,
   "id": "0a8cb432-0395-42af-bede-4dd7242d5b12",
   "metadata": {
    "scrolled": true,
    "tags": []
   },
   "outputs": [],
   "source": [
    "neuron_type = \"dSPN\"\n",
    "specific_trace_ids = sl.get_population_units(neuron_type=\"dSPN\", population_unit=1)\n",
    "plot_traces(data_obj=sl,\n",
    "            neuron_type=neuron_type,\n",
    "            specific_trace_ids=specific_trace_ids,\n",
    "            show_plot=False,\n",
    "            folder=folder)"
   ]
  },
  {
   "cell_type": "code",
   "execution_count": null,
   "id": "738097a5-d00b-476b-b5bc-0f8297c3ec2d",
   "metadata": {
    "scrolled": true,
    "tags": []
   },
   "outputs": [],
   "source": [
    "neuron_type = \"iSPN\"\n",
    "specific_trace_ids = sl.get_population_units(neuron_type=neuron_type, population_unit=1)\n",
    "s = {k: np.array(r[:20]) for k, r in specific_trace_ids.items()}\n",
    "plot_traces(data_obj=sl,\n",
    "            neuron_type=neuron_type,\n",
    "            specific_trace_ids=specific_trace_ids,\n",
    "            show_plot=False,\n",
    "            folder=folder)"
   ]
  },
  {
   "cell_type": "code",
   "execution_count": null,
   "id": "ef0f1b3a-0eed-4d00-a5b1-39e39c0263d0",
   "metadata": {
    "scrolled": true,
    "tags": []
   },
   "outputs": [],
   "source": [
    "neuron_type = \"FS\"\n",
    "specific_trace_ids = sl.get_population_units(neuron_type=neuron_type, population_unit=1)\n",
    "plot_traces(data_obj=sl,\n",
    "            neuron_type=neuron_type,\n",
    "            specific_trace_ids=specific_trace_ids,\n",
    "            show_plot=False,\n",
    "            folder=folder)"
   ]
  },
  {
   "cell_type": "code",
   "execution_count": null,
   "id": "d829a8bb-8e15-4635-b59a-00692299b270",
   "metadata": {},
   "outputs": [],
   "source": []
  }
 ],
 "metadata": {
  "kernelspec": {
   "display_name": "Python 3",
   "language": "python",
   "name": "python3"
  },
  "language_info": {
   "codemirror_mode": {
    "name": "ipython",
    "version": 3
   },
   "file_extension": ".py",
   "mimetype": "text/x-python",
   "name": "python",
   "nbconvert_exporter": "python",
   "pygments_lexer": "ipython3",
   "version": "3.7.10"
  }
 },
 "nbformat": 4,
 "nbformat_minor": 5
}
