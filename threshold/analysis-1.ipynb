{
 "cells": [
  {
   "cell_type": "code",
   "execution_count": 2,
   "id": "85c70eb0-5fa9-40cd-b8fb-3ac9ddf2b967",
   "metadata": {},
   "outputs": [],
   "source": [
    "import os \n",
    "import glob\n",
    "import json\n",
    "import matplotlib.pyplot as plt"
   ]
  },
  {
   "cell_type": "code",
   "execution_count": 3,
   "id": "28b2c80f-03db-4017-abe8-e1fdf68886ce",
   "metadata": {
    "scrolled": true,
    "tags": []
   },
   "outputs": [
    {
     "name": "stdout",
     "output_type": "stream",
     "text": [
      "dspn\n",
      "dspn\n",
      "ispn\n",
      "dspn\n",
      "dspn\n",
      "ispn\n",
      "ispn\n",
      "ispn\n"
     ]
    }
   ],
   "source": [
    "source_global = os.path.join(\"/home\",\"jofrony\",\"Dropbox\",\"Admin\", \"Current\",\"bgmod\",\"models\",\"optim\",\"HBP-2021Q4\")\n",
    "nucleus = \"striatum\"\n",
    "tmp= dict(dspn=list(),ispn=list())\n",
    "tmp2= dict(dspn=list(),ispn=list())\n",
    "for source in glob.glob(os.path.join(source_global,\"*\")):\n",
    "    name = os.path.basename(source).split(\"-\")[1]\n",
    "    print(name)\n",
    "    \n",
    "    with open(os.path.join(source, \"val_models.json\")) as f:\n",
    "        b = json.load(f)\n",
    "    \n",
    "    vrheo = list()\n",
    "    for k in b:\n",
    "        diff = k[\"iv_curve\"][\"volt\"][-1] - k[\"iv_curve\"][\"volt\"][-2]\n",
    "        i_diff = k[\"iv_curve\"][\"stim\"][-1] - k[\"iv_curve\"][\"stim\"][-2]\n",
    "        \n",
    "        average = (k[\"id_curve\"][\"stim\"][0] - k[\"iv_curve\"][\"stim\"][-1])/2 \n",
    " \n",
    "        actual_rheo = k[\"iv_curve\"][\"volt\"][-1] + diff*average/i_diff\n",
    "        vrheo.append(actual_rheo)\n",
    "        \n",
    "    tmp[name] = tmp[name] + [k[\"iv_curve\"][\"volt\"][-1]for k in b]\n",
    "    tmp2[name] = tmp2[name] + vrheo"
   ]
  },
  {
   "cell_type": "code",
   "execution_count": 4,
   "id": "72381f0f-1568-439f-a69d-6a5aab3f3297",
   "metadata": {},
   "outputs": [
    {
     "data": {
      "text/plain": [
       "(array([ 4.,  5.,  6., 18., 58., 26., 13.,  2.,  7.,  5.]),\n",
       " array([-72.03269738, -69.85613231, -67.67956724, -65.50300218,\n",
       "        -63.32643711, -61.14987204, -58.97330698, -56.79674191,\n",
       "        -54.62017684, -52.44361178, -50.26704671]),\n",
       " <BarContainer object of 10 artists>)"
      ]
     },
     "execution_count": 4,
     "metadata": {},
     "output_type": "execute_result"
    },
    {
     "data": {
      "image/png": "[encoded data removed]",
      "text/plain": [
       "<Figure size 432x288 with 1 Axes>"
      ]
     },
     "metadata": {
      "needs_background": "light"
     },
     "output_type": "display_data"
    }
   ],
   "source": [
    "plt.hist(tmp[\"dspn\"])\n",
    "plt.hist(tmp2[\"dspn\"])"
   ]
  },
  {
   "cell_type": "code",
   "execution_count": 5,
   "id": "17e0d51a-cf6e-4bae-a926-7d1de4f9f97a",
   "metadata": {},
   "outputs": [
    {
     "data": {
      "text/plain": [
       "(array([ 2., 39., 21., 24., 30., 26., 23., 10.,  4.,  3.]),\n",
       " array([-67.29099725, -65.71909791, -64.14719857, -62.57529924,\n",
       "        -61.0033999 , -59.43150056, -57.85960123, -56.28770189,\n",
       "        -54.71580256, -53.14390322, -51.57200388]),\n",
       " <BarContainer object of 10 artists>)"
      ]
     },
     "execution_count": 5,
     "metadata": {},
     "output_type": "execute_result"
    },
    {
     "data": {
      "image/png": "[encoded data removed]",
      "text/plain": [
       "<Figure size 432x288 with 1 Axes>"
      ]
     },
     "metadata": {
      "needs_background": "light"
     },
     "output_type": "display_data"
    }
   ],
   "source": [
    "plt.hist(tmp[\"ispn\"])\n",
    "plt.hist(tmp2[\"ispn\"])"
   ]
  },
  {
   "cell_type": "code",
   "execution_count": null,
   "id": "549cf5dc-d367-4825-8b8b-f8f6f0f9158d",
   "metadata": {},
   "outputs": [],
   "source": []
  },
  {
   "cell_type": "code",
   "execution_count": 23,
   "id": "26d0a30b-bf6e-4b8f-b718-8a6efc472d9d",
   "metadata": {},
   "outputs": [],
   "source": [
    "import sys\n",
    "import os\n",
    "import glob\n",
    "import json\n",
    "sys.path.append(\"/home/jofrony/Documents/Repositories/BasalGangliaData/\")\n",
    "bgd = \"/home/jofrony/Documents/Repositories/BasalGangliaData/data/neurons/striatum\"\n",
    "source_global = \"/home/jofrony/Dropbox/Models/Microcircuit/HBP-2022Q2/*\"\n",
    "duration = 2"
   ]
  },
  {
   "cell_type": "code",
   "execution_count": 24,
   "id": "67c8f181-07ee-4017-a3b3-908aaeec7ca6",
   "metadata": {},
   "outputs": [],
   "source": [
    "for source in glob.glob(source_global):\n",
    "    print(source)\n",
    "    basename = os.path.basename(source)\n",
    "    if \"dspn\" in basename:\n",
    "        neuron_type = \"dspn\"\n",
    "    elif \"ispn\" in basename:\n",
    "        neuron_type = \"ispn\"\n",
    "    meta = json.load(open(os.path.join(bgd,neuron_type, basename, \"meta.json\")))\n",
    "    var_model = json.load(open(os.path.join(source, \"var_models.json\")))\n",
    "    val_model = json.load(open(os.path.join(source, \"val_models.json\")))\n",
    "    morph_dict = json.load(open(os.path.join(bgd,neuron_type, basename, \"morphology\", \"morphology_hash_filename.json\")))\n",
    "    parameter_dict = json.load(open(os.path.join(bgd,neuron_type, basename, \"temp\", \"parameters_hash_id.json\")))\n",
    "    \n",
    "    inv_map_parameter = {v: k for k, v in parameter_dict.items()}\n",
    "    inv_map_morph = {v: k for k, v in morph_dict.items()}\n",
    "    \n",
    "    temp = dict()\n",
    "    \n",
    "    for v in val_model:\n",
    "        \n",
    "        \n",
    "        for vr in var_model:\n",
    "            \n",
    "            if v[\"morph\"] == vr[\"morph\"] and v[\"par\"] == vr[\"par\"]:\n",
    "                m = inv_map_morph[v[\"morph\"]]\n",
    "                p = inv_map_parameter[v[\"par\"]]\n",
    "                stimulation = vr['stim']\n",
    "                tmp_stim = dict(sp_stim=list(),v_stim=list())\n",
    "                tmp = dict(frequency=list(),voltage=list())\n",
    "                for i, r in enumerate(vr[\"feat\"]):\n",
    "                    \n",
    "                    if r[\"Spikecount\"][0] > 0:\n",
    "                        tmp_stim['sp_stim'].append(stimulation[i] * 1e-12)\n",
    "                        tmp[\"frequency\"].append(r[\"Spikecount\"][0] / duration)\n",
    "                    \n",
    "                    if \"steady_state_voltage_stimend\" in r:\n",
    "                        tmp_stim['v_stim'].append(stimulation[i] * 1e-12)\n",
    "                        tmp[\"voltage\"].append(r[\"steady_state_voltage_stimend\"][0])\n",
    "     \n",
    "                if p in temp.keys():\n",
    "                    d = {\"spikes\": dict(current=tmp_stim[\"sp_stim\"], frequency=tmp[\"frequency\"]),\n",
    "                        \"voltage\": dict(current=tmp_stim[\"v_stim\"],voltage=tmp[\"voltage\"])}\n",
    "                    temp[p].update({m : d})\n",
    "                else:\n",
    "                    d = {\"spikes\": dict(current=tmp_stim[\"sp_stim\"], frequency=tmp[\"frequency\"]),\n",
    "                        \"voltage\": dict(current=tmp_stim[\"v_stim\"],voltage=tmp[\"voltage\"])}\n",
    "                    temp.update({p : {m : d}})\n",
    "            \n",
    "    os.makedirs(os.path.join(\"temp\", neuron_type, basename), exist_ok=True)\n",
    "    \n",
    "    with open(os.path.join(\"temp\", neuron_type, basename, \"if_info.json\"), \"w\") as f:\n",
    "        json.dump(temp, f, indent=4, sort_keys=True)"
   ]
  },
  {
   "cell_type": "code",
   "execution_count": 25,
   "id": "de40e1cd-5fa0-4b68-9260-fc4b0065c046",
   "metadata": {},
   "outputs": [
    {
     "name": "stdout",
     "output_type": "stream",
     "text": [
      "dspn\n",
      "dspn\n",
      "dspn\n",
      "dspn\n",
      "ispn\n",
      "ispn\n",
      "ispn\n",
      "ispn\n"
     ]
    }
   ],
   "source": [
    "threshold=dict(dspn=list(),ispn=list())\n",
    "threshold_v=dict(dspn=list(),ispn=list())\n",
    "tmp_path = os.path.join(\"temp\")\n",
    "tmp= dict(dspn=list(),ispn=list())\n",
    "for g in glob.glob(os.path.join(tmp_path, \"*\")):\n",
    "    for f in glob.glob(os.path.join(g, \"*\")):\n",
    "        name = os.path.basename(f).split(\"-\")[1]\n",
    "        print(name)\n",
    "\n",
    "        with open(os.path.join(f, \"if_info.json\")) as f:\n",
    "            d = json.load(f)\n",
    "        \n",
    "        rheos = list()\n",
    "        for p in d:\n",
    "            for m in d[p]:\n",
    "                v = d[p][m][\"voltage\"][\"voltage\"][-1]\n",
    "                rheos.append(v)\n",
    "                \n",
    "                if v > -60:\n",
    "                    threshold[name].append([p,m])\n",
    "                    threshold_v[name].append(v)\n",
    "                \n",
    "        tmp[name] = tmp[name] + rheos\n",
    "        "
   ]
  },
  {
   "cell_type": "code",
   "execution_count": 26,
   "id": "05ef9a20-da0b-4fe4-a874-d2b4a11976ca",
   "metadata": {},
   "outputs": [
    {
     "data": {
      "text/plain": [
       "(array([3., 2., 2., 2., 2., 1., 1., 1., 1., 3.]),\n",
       " array([-59.95629226, -59.30946619, -58.66264012, -58.01581405,\n",
       "        -57.36898797, -56.7221619 , -56.07533583, -55.42850976,\n",
       "        -54.78168368, -54.13485761, -53.48803154]),\n",
       " <BarContainer object of 10 artists>)"
      ]
     },
     "execution_count": 26,
     "metadata": {},
     "output_type": "execute_result"
    },
    {
     "data": {
      "image/png": "[encoded data removed]",
      "text/plain": [
       "<Figure size 432x288 with 1 Axes>"
      ]
     },
     "metadata": {
      "needs_background": "light"
     },
     "output_type": "display_data"
    }
   ],
   "source": [
    "plt.hist(threshold_v[\"dspn\"])"
   ]
  },
  {
   "cell_type": "code",
   "execution_count": 27,
   "id": "ab83caf3-557e-4362-83e4-296f24cceade",
   "metadata": {},
   "outputs": [
    {
     "data": {
      "text/plain": [
       "(array([8., 8., 8., 3., 0., 4., 1., 1., 0., 2.]),\n",
       " array([-59.95033174, -59.4360672 , -58.92180265, -58.40753811,\n",
       "        -57.89327357, -57.37900903, -56.86474449, -56.35047995,\n",
       "        -55.8362154 , -55.32195086, -54.80768632]),\n",
       " <BarContainer object of 10 artists>)"
      ]
     },
     "execution_count": 27,
     "metadata": {},
     "output_type": "execute_result"
    },
    {
     "data": {
      "image/png": "[encoded data removed]",
      "text/plain": [
       "<Figure size 432x288 with 1 Axes>"
      ]
     },
     "metadata": {
      "needs_background": "light"
     },
     "output_type": "display_data"
    }
   ],
   "source": [
    "plt.hist(threshold_v[\"ispn\"])"
   ]
  },
  {
   "cell_type": "code",
   "execution_count": 22,
   "id": "3958ab19-f782-4225-8611-af45f4709c89",
   "metadata": {},
   "outputs": [],
   "source": [
    "with open(\"/home/jofrony/Documents/Repositories/current_bgd2/threshold/local/networks/striatum/above_threshold.json\", \"w\") as f:\n",
    "    json.dump(threshold, f)"
   ]
  },
  {
   "cell_type": "code",
   "execution_count": 48,
   "id": "7277a9f0-4de3-4fc5-9c38-af26989b2919",
   "metadata": {},
   "outputs": [
    {
     "data": {
      "text/plain": [
       "(array([ 4.,  4.,  6., 10., 45., 44., 15.,  6.,  5.,  5.]),\n",
       " array([-74.19161386, -72.12125563, -70.0508974 , -67.98053917,\n",
       "        -65.91018093, -63.8398227 , -61.76946447, -59.69910624,\n",
       "        -57.628748  , -55.55838977, -53.48803154]),\n",
       " <BarContainer object of 10 artists>)"
      ]
     },
     "execution_count": 48,
     "metadata": {},
     "output_type": "execute_result"
    },
    {
     "data": {
      "image/png": "[encoded data removed]",
      "text/plain": [
       "<Figure size 432x288 with 1 Axes>"
      ]
     },
     "metadata": {
      "needs_background": "light"
     },
     "output_type": "display_data"
    }
   ],
   "source": [
    "plt.hist(tmp[\"dspn\"])\n",
    "#plt.hist(tmp2[\"dspn\"])"
   ]
  },
  {
   "cell_type": "code",
   "execution_count": 50,
   "id": "4c784b13-2994-463e-acb3-af569775744f",
   "metadata": {},
   "outputs": [
    {
     "data": {
      "text/plain": [
       "(array([ 3., 39., 23., 23., 28., 22., 25., 11.,  5.,  3.]),\n",
       " array([-68.56175552, -67.1863486 , -65.81094168, -64.43553476,\n",
       "        -63.06012784, -61.68472092, -60.309314  , -58.93390708,\n",
       "        -57.55850016, -56.18309324, -54.80768632]),\n",
       " <BarContainer object of 10 artists>)"
      ]
     },
     "execution_count": 50,
     "metadata": {},
     "output_type": "execute_result"
    },
    {
     "data": {
      "image/png": "[encoded data removed]",
      "text/plain": [
       "<Figure size 432x288 with 1 Axes>"
      ]
     },
     "metadata": {
      "needs_background": "light"
     },
     "output_type": "display_data"
    }
   ],
   "source": [
    "plt.hist(tmp[\"ispn\"])\n",
    "#plt.hist(tmp2[\"ispn\"])"
   ]
  },
  {
   "cell_type": "code",
   "execution_count": null,
   "id": "7a98eb81-a303-4d86-b84f-b2306126477d",
   "metadata": {},
   "outputs": [],
   "source": []
  }
 ],
 "metadata": {
  "kernelspec": {
   "display_name": "Python 3",
   "language": "python",
   "name": "python3"
  },
  "language_info": {
   "codemirror_mode": {
    "name": "ipython",
    "version": 3
   },
   "file_extension": ".py",
   "mimetype": "text/x-python",
   "name": "python",
   "nbconvert_exporter": "python",
   "pygments_lexer": "ipython3",
   "version": "3.7.10"
  }
 },
 "nbformat": 4,
 "nbformat_minor": 5
}
